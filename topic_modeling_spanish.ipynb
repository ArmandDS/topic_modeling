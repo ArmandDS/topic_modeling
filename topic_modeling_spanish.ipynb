{
  "nbformat": 4,
  "nbformat_minor": 0,
  "metadata": {
    "colab": {
      "name": "topic_modeling_spanish.ipynb",
      "version": "0.3.2",
      "provenance": [],
      "collapsed_sections": [],
      "machine_shape": "hm",
      "include_colab_link": true
    },
    "kernelspec": {
      "name": "python3",
      "display_name": "Python 3"
    },
    "accelerator": "GPU"
  },
  "cells": [
    {
      "cell_type": "markdown",
      "metadata": {
        "id": "view-in-github",
        "colab_type": "text"
      },
      "source": [
        "<a href=\"https://colab.research.google.com/github/ArmandDS/topic_modeling/blob/master/topic_modeling_spanish.ipynb\" target=\"_parent\"><img src=\"https://colab.research.google.com/assets/colab-badge.svg\" alt=\"Open In Colab\"/></a>"
      ]
    },
    {
      "cell_type": "markdown",
      "metadata": {
        "id": "zbQv8f_tjWq4",
        "colab_type": "text"
      },
      "source": [
        "In this article we will implementing topics model with gensim, topic models are \n",
        "probabilistic models which contains information about topics in the\n",
        "text. A topic is like theme, or in other words underlying ideas represented in text. \n",
        "For example, we are working with a corpus of **spanish newspaper articles**,\n",
        "possible topics would be  politics, conflicts, elections and so on."
      ]
    },
    {
      "cell_type": "markdown",
      "metadata": {
        "id": "V0UBlkyp_gme",
        "colab_type": "text"
      },
      "source": [
        "#### Load the libraries"
      ]
    },
    {
      "cell_type": "code",
      "metadata": {
        "id": "ui5Uo0hn_eGm",
        "colab_type": "code",
        "colab": {}
      },
      "source": [
        "import pandas as pd\n",
        "import numpy as np\n",
        "import re\n",
        "import nltk\n",
        "from nltk.stem import WordNetLemmatizer\n",
        "from nltk import word_tokenize\n",
        "from nltk.corpus import stopwords\n",
        "import string\n",
        "import matplotlib.pyplot as plt\n",
        "import gensim\n",
        "import numpy as np\n",
        "from gensim.models import CoherenceModel, LdaModel, LsiModel, HdpModel\n",
        "from gensim.models.wrappers import LdaMallet\n",
        "from gensim.corpora import Dictionary\n"
      ],
      "execution_count": 0,
      "outputs": []
    },
    {
      "cell_type": "markdown",
      "metadata": {
        "id": "SBS3r7AFAEtg",
        "colab_type": "text"
      },
      "source": [
        "### Connect to drive to get the data"
      ]
    },
    {
      "cell_type": "code",
      "metadata": {
        "id": "6kQ04dhh_zVj",
        "colab_type": "code",
        "outputId": "4bf49b74-48a2-436c-afb4-bd1ebe40354e",
        "colab": {
          "base_uri": "https://localhost:8080/",
          "height": 122
        }
      },
      "source": [
        "from google.colab import drive\n",
        "drive.mount('/content/gdrive')"
      ],
      "execution_count": 6,
      "outputs": [
        {
          "output_type": "stream",
          "text": [
            "Go to this URL in a browser: https://accounts.google.com/o/oauth2/auth?client_id=947318989803-6bn6qk8qdgf4n4g3pfee6491hc0brc4i.apps.googleusercontent.com&redirect_uri=urn%3Aietf%3Awg%3Aoauth%3A2.0%3Aoob&scope=email%20https%3A%2F%2Fwww.googleapis.com%2Fauth%2Fdocs.test%20https%3A%2F%2Fwww.googleapis.com%2Fauth%2Fdrive%20https%3A%2F%2Fwww.googleapis.com%2Fauth%2Fdrive.photos.readonly%20https%3A%2F%2Fwww.googleapis.com%2Fauth%2Fpeopleapi.readonly&response_type=code\n",
            "\n",
            "Enter your authorization code:\n",
            "··········\n",
            "Mounted at /content/gdrive\n"
          ],
          "name": "stdout"
        }
      ]
    },
    {
      "cell_type": "code",
      "metadata": {
        "id": "550zxhdVCl6y",
        "colab_type": "code",
        "outputId": "8e6c130a-bccd-47e4-c00d-d8c22ff325ce",
        "colab": {
          "base_uri": "https://localhost:8080/",
          "height": 162
        }
      },
      "source": [
        "df_news = pd.read_csv(\"/content/gdrive/My Drive/text_summarization/df_news_20minutos.csv\")\n",
        "df_news.head(2)"
      ],
      "execution_count": 7,
      "outputs": [
        {
          "output_type": "execute_result",
          "data": {
            "text/html": [
              "<div>\n",
              "<style scoped>\n",
              "    .dataframe tbody tr th:only-of-type {\n",
              "        vertical-align: middle;\n",
              "    }\n",
              "\n",
              "    .dataframe tbody tr th {\n",
              "        vertical-align: top;\n",
              "    }\n",
              "\n",
              "    .dataframe thead th {\n",
              "        text-align: right;\n",
              "    }\n",
              "</style>\n",
              "<table border=\"1\" class=\"dataframe\">\n",
              "  <thead>\n",
              "    <tr style=\"text-align: right;\">\n",
              "      <th></th>\n",
              "      <th>Unnamed: 0</th>\n",
              "      <th>title</th>\n",
              "      <th>summary</th>\n",
              "      <th>text</th>\n",
              "      <th>link</th>\n",
              "      <th>date</th>\n",
              "    </tr>\n",
              "  </thead>\n",
              "  <tbody>\n",
              "    <tr>\n",
              "      <th>0</th>\n",
              "      <td>0</td>\n",
              "      <td>Trump acusa a Twitter de \"sesgo\": \"Antes ganab...</td>\n",
              "      <td>\"Debería tener millones y millones de seguido...</td>\n",
              "      <td>El presidente estadounidense, Donald Trump, s...</td>\n",
              "      <td>https://www.20minutos.es/noticia/3700999/0/tru...</td>\n",
              "      <td>2019-07-12</td>\n",
              "    </tr>\n",
              "    <tr>\n",
              "      <th>1</th>\n",
              "      <td>1</td>\n",
              "      <td>El Gobierno de Venezuela y la oposición crean ...</td>\n",
              "      <td>Las dos partes comenzaron esta semana una neg...</td>\n",
              "      <td>El gobernador del estado venezolano de Mirand...</td>\n",
              "      <td>https://www.20minutos.es/noticia/3701008/0/ven...</td>\n",
              "      <td>2019-07-12</td>\n",
              "    </tr>\n",
              "  </tbody>\n",
              "</table>\n",
              "</div>"
            ],
            "text/plain": [
              "   Unnamed: 0  ...        date\n",
              "0           0  ...  2019-07-12\n",
              "1           1  ...  2019-07-12\n",
              "\n",
              "[2 rows x 6 columns]"
            ]
          },
          "metadata": {
            "tags": []
          },
          "execution_count": 7
        }
      ]
    },
    {
      "cell_type": "code",
      "metadata": {
        "id": "SX-drtppC9nB",
        "colab_type": "code",
        "outputId": "a2871abe-4212-4079-cc0e-0fb2738baaf0",
        "colab": {
          "base_uri": "https://localhost:8080/",
          "height": 34
        }
      },
      "source": [
        "df_news.drop('Unnamed: 0', inplace=True, axis=1)\n",
        "df_news.dropna(inplace=True)\n",
        "df_news.shape"
      ],
      "execution_count": 8,
      "outputs": [
        {
          "output_type": "execute_result",
          "data": {
            "text/plain": [
              "(46898, 5)"
            ]
          },
          "metadata": {
            "tags": []
          },
          "execution_count": 8
        }
      ]
    },
    {
      "cell_type": "code",
      "metadata": {
        "id": "crAQ4bxTUa80",
        "colab_type": "code",
        "outputId": "beceaf10-772a-477d-951d-6fdd4cb1d10d",
        "colab": {
          "base_uri": "https://localhost:8080/",
          "height": 289
        }
      },
      "source": [
        "df_news.head()"
      ],
      "execution_count": 9,
      "outputs": [
        {
          "output_type": "execute_result",
          "data": {
            "text/html": [
              "<div>\n",
              "<style scoped>\n",
              "    .dataframe tbody tr th:only-of-type {\n",
              "        vertical-align: middle;\n",
              "    }\n",
              "\n",
              "    .dataframe tbody tr th {\n",
              "        vertical-align: top;\n",
              "    }\n",
              "\n",
              "    .dataframe thead th {\n",
              "        text-align: right;\n",
              "    }\n",
              "</style>\n",
              "<table border=\"1\" class=\"dataframe\">\n",
              "  <thead>\n",
              "    <tr style=\"text-align: right;\">\n",
              "      <th></th>\n",
              "      <th>title</th>\n",
              "      <th>summary</th>\n",
              "      <th>text</th>\n",
              "      <th>link</th>\n",
              "      <th>date</th>\n",
              "    </tr>\n",
              "  </thead>\n",
              "  <tbody>\n",
              "    <tr>\n",
              "      <th>0</th>\n",
              "      <td>Trump acusa a Twitter de \"sesgo\": \"Antes ganab...</td>\n",
              "      <td>\"Debería tener millones y millones de seguido...</td>\n",
              "      <td>El presidente estadounidense, Donald Trump, s...</td>\n",
              "      <td>https://www.20minutos.es/noticia/3700999/0/tru...</td>\n",
              "      <td>2019-07-12</td>\n",
              "    </tr>\n",
              "    <tr>\n",
              "      <th>1</th>\n",
              "      <td>El Gobierno de Venezuela y la oposición crean ...</td>\n",
              "      <td>Las dos partes comenzaron esta semana una neg...</td>\n",
              "      <td>El gobernador del estado venezolano de Mirand...</td>\n",
              "      <td>https://www.20minutos.es/noticia/3701008/0/ven...</td>\n",
              "      <td>2019-07-12</td>\n",
              "    </tr>\n",
              "    <tr>\n",
              "      <th>2</th>\n",
              "      <td>Mueren más de cien niños en dos meses por sara...</td>\n",
              "      <td>El brote afecta a un campo de desplazados en ...</td>\n",
              "      <td>Las autoridades de la República Democrática d...</td>\n",
              "      <td>https://www.20minutos.es/noticia/3701012/0/mue...</td>\n",
              "      <td>2019-07-12</td>\n",
              "    </tr>\n",
              "    <tr>\n",
              "      <th>3</th>\n",
              "      <td>El Gobierno de Japón pide perdón por discrimin...</td>\n",
              "      <td>El primer ministro ofrece una \"sincera discul...</td>\n",
              "      <td>El primer ministro nipón, Shinzo Abe, pidió e...</td>\n",
              "      <td>https://www.20minutos.es/noticia/3701021/0/jap...</td>\n",
              "      <td>2019-07-12</td>\n",
              "    </tr>\n",
              "    <tr>\n",
              "      <th>4</th>\n",
              "      <td>Espectacular abordaje de la Guardia Costera de...</td>\n",
              "      <td>En el vídeo difundido por la Guardia Costera,...</td>\n",
              "      <td>La Guardia Costera de EE UU ha interceptado u...</td>\n",
              "      <td>https://www.20minutos.es/noticia/3701079/0/gua...</td>\n",
              "      <td>2019-07-12</td>\n",
              "    </tr>\n",
              "  </tbody>\n",
              "</table>\n",
              "</div>"
            ],
            "text/plain": [
              "                                               title  ...        date\n",
              "0  Trump acusa a Twitter de \"sesgo\": \"Antes ganab...  ...  2019-07-12\n",
              "1  El Gobierno de Venezuela y la oposición crean ...  ...  2019-07-12\n",
              "2  Mueren más de cien niños en dos meses por sara...  ...  2019-07-12\n",
              "3  El Gobierno de Japón pide perdón por discrimin...  ...  2019-07-12\n",
              "4  Espectacular abordaje de la Guardia Costera de...  ...  2019-07-12\n",
              "\n",
              "[5 rows x 5 columns]"
            ]
          },
          "metadata": {
            "tags": []
          },
          "execution_count": 9
        }
      ]
    },
    {
      "cell_type": "code",
      "metadata": {
        "id": "bflY9AU1Vbh5",
        "colab_type": "code",
        "outputId": "e02e8a64-4434-4162-f679-59f8b2592513",
        "colab": {
          "base_uri": "https://localhost:8080/",
          "height": 187
        }
      },
      "source": [
        "df_news.info()"
      ],
      "execution_count": 10,
      "outputs": [
        {
          "output_type": "stream",
          "text": [
            "<class 'pandas.core.frame.DataFrame'>\n",
            "Int64Index: 46898 entries, 0 to 47029\n",
            "Data columns (total 5 columns):\n",
            "title      46898 non-null object\n",
            "summary    46898 non-null object\n",
            "text       46898 non-null object\n",
            "link       46898 non-null object\n",
            "date       46898 non-null object\n",
            "dtypes: object(5)\n",
            "memory usage: 2.1+ MB\n"
          ],
          "name": "stdout"
        }
      ]
    },
    {
      "cell_type": "markdown",
      "metadata": {
        "id": "F6qwR5CAahLp",
        "colab_type": "text"
      },
      "source": [
        "#Data Preprocessing"
      ]
    },
    {
      "cell_type": "markdown",
      "metadata": {
        "id": "wbCEhthGasEn",
        "colab_type": "text"
      },
      "source": [
        "We defined a list of custom words to be exclude from our dataset"
      ]
    },
    {
      "cell_type": "code",
      "metadata": {
        "id": "ZeVWKQH4kylR",
        "colab_type": "code",
        "colab": {}
      },
      "source": [
        "black_list = ['más', 'mas', 'unir', 'paises', 'pais', 'espa', 'no', 'os', 'a', 'compa', 'acompa', 'off', 'and', 'grecia', 'the','it', 'to',\n",
        "              'd',  'et',  'dame',  'il',  'dans', 'that',  'as',   'for',  'it',  'elections',  'would',  'this',  'with', 'york', 'obama', 'chavez', 'gadafi']"
      ],
      "execution_count": 0,
      "outputs": []
    },
    {
      "cell_type": "markdown",
      "metadata": {
        "id": "h8EP2Md3FcQr",
        "colab_type": "text"
      },
      "source": [
        "Create the cleaner function to clean the spanish text, remove non alpha numeric characters, remove duplicate, remove spanish accutes, remove digits"
      ]
    },
    {
      "cell_type": "code",
      "metadata": {
        "id": "H_7Un4fSFbdC",
        "colab_type": "code",
        "colab": {}
      },
      "source": [
        "def cleaner(word):\n",
        "  word = re.sub(r'((http|https)\\:\\/\\/)?[a-zA-Z0-9\\.\\/\\?\\:@\\-_=#]+\\.([a-zA-Z]){2,6}([a-zA-Z0-9\\.\\&\\/\\?\\:@\\-_=#])*', '', word, flags=re.MULTILINE)\n",
        "  word = re.sub(r'(?::|;|=)(?:-)?(?:\\)|\\(|D|P)', \"\", word)\n",
        "  word = re.sub(r'ee.uu', 'eeuu', word)\n",
        "  word = re.sub(r'\\#\\.', '', word)\n",
        "  word = re.sub(r'\\n', '', word)\n",
        "  word = re.sub(r',', '', word)\n",
        "  word = re.sub(r'\\-', ' ', word)\n",
        "  word = re.sub(r'\\.{3}', ' ', word)\n",
        "  word = re.sub(r'a{2,}', 'a', word)\n",
        "  word = re.sub(r'é{2,}', 'é', word)\n",
        "  word = re.sub(r'i{2,}', 'i', word)\n",
        "  word = re.sub(r'ja{2,}', 'ja', word) \n",
        "  word = re.sub(r'á', 'a', word)\n",
        "  word = re.sub(r'é', 'e', word)\n",
        "  word = re.sub(r'í', 'i', word)\n",
        "  word = re.sub(r'ó', 'o', word)\n",
        "  word = re.sub(r'ú', 'u', word)  \n",
        "  word = re.sub('[^a-zA-Z]', ' ', word)\n",
        "  list_word_clean = []\n",
        "  for w1 in word.split(\" \"):\n",
        "    if  w1.lower() not in stopwords:\n",
        "      list_word_clean.append(w1.lower())\n",
        "\n",
        "  bigram_list = bigram[list_word_clean]\n",
        "  out_text = lemmatization(\" \".join(bigram_list))\n",
        "  return out_text"
      ],
      "execution_count": 0,
      "outputs": []
    },
    {
      "cell_type": "markdown",
      "metadata": {
        "id": "vmgAfhN6bWrR",
        "colab_type": "text"
      },
      "source": [
        "Create the function for select **only nouns** for our data, this way we are removing adverb, adjetives, verbs, etc. This is doing with spacy"
      ]
    },
    {
      "cell_type": "code",
      "metadata": {
        "id": "RJPNgE-_xlTA",
        "colab_type": "code",
        "colab": {}
      },
      "source": [
        "def lemmatization(texts, allowed_postags=['NOUN']):\n",
        "    texts_out = [ token.text for token in nlp(texts) if token.pos_ in \n",
        "                 allowed_postags and token.text not in black_list and len(token.text)>2]\n",
        "    return texts_out"
      ],
      "execution_count": 0,
      "outputs": []
    },
    {
      "cell_type": "markdown",
      "metadata": {
        "id": "VR4lwjXE_A4E",
        "colab_type": "text"
      },
      "source": [
        ""
      ]
    },
    {
      "cell_type": "markdown",
      "metadata": {
        "id": "3wMjzGX9bscx",
        "colab_type": "text"
      },
      "source": [
        "For gensim we need a list of text, so we need do convert the dataframe to list"
      ]
    },
    {
      "cell_type": "code",
      "metadata": {
        "id": "IZhWiKxY4Gx2",
        "colab_type": "code",
        "outputId": "0de89bb9-dc2e-470e-d996-40992ae55e5c",
        "colab": {
          "base_uri": "https://localhost:8080/",
          "height": 34
        }
      },
      "source": [
        "len(df_news.text.to_list())"
      ],
      "execution_count": 14,
      "outputs": [
        {
          "output_type": "execute_result",
          "data": {
            "text/plain": [
              "46898"
            ]
          },
          "metadata": {
            "tags": []
          },
          "execution_count": 14
        }
      ]
    },
    {
      "cell_type": "markdown",
      "metadata": {
        "id": "sttvo4cjb3Xw",
        "colab_type": "text"
      },
      "source": [
        "Then we look for bigram in our data, i.e pair of words that together have more meanful for our model"
      ]
    },
    {
      "cell_type": "code",
      "metadata": {
        "id": "mPvcc00U4Cf1",
        "colab_type": "code",
        "outputId": "dd9573fc-c873-4dde-c384-429868c4bd75",
        "colab": {
          "base_uri": "https://localhost:8080/",
          "height": 51
        }
      },
      "source": [
        "%%time\n",
        "bigram = gensim.models.Phrases(df_news.text.to_list()) "
      ],
      "execution_count": 15,
      "outputs": [
        {
          "output_type": "stream",
          "text": [
            "CPU times: user 2min 46s, sys: 21 ms, total: 2min 46s\n",
            "Wall time: 2min 46s\n"
          ],
          "name": "stdout"
        }
      ]
    },
    {
      "cell_type": "markdown",
      "metadata": {
        "id": "WtXW9eY2cW0S",
        "colab_type": "text"
      },
      "source": [
        "Let's examine some output"
      ]
    },
    {
      "cell_type": "code",
      "metadata": {
        "id": "mz_o4wsC45S4",
        "colab_type": "code",
        "outputId": "a963fc8a-63db-4a83-f27a-2db511b7f689",
        "colab": {
          "base_uri": "https://localhost:8080/",
          "height": 1000
        }
      },
      "source": [
        "bigram[df_news.text.to_list()[20000].split()]"
      ],
      "execution_count": 16,
      "outputs": [
        {
          "output_type": "stream",
          "text": [
            "/usr/local/lib/python3.6/dist-packages/gensim/models/phrases.py:598: UserWarning: For a faster implementation, use the gensim.models.phrases.Phraser class\n",
            "  warnings.warn(\"For a faster implementation, use the gensim.models.phrases.Phraser class\")\n"
          ],
          "name": "stderr"
        },
        {
          "output_type": "execute_result",
          "data": {
            "text/plain": [
              "['La',\n",
              " 'Policía',\n",
              " 'italiana',\n",
              " 'ha',\n",
              " 'detenido',\n",
              " 'este',\n",
              " 'martes',\n",
              " 'a',\n",
              " 'ocho',\n",
              " 'personas;',\n",
              " 'tres',\n",
              " 'marroquíes,',\n",
              " 'un',\n",
              " 'sirio',\n",
              " 'y',\n",
              " 'cuatro',\n",
              " 'libios,',\n",
              " 'acusados',\n",
              " 'de',\n",
              " 'ser',\n",
              " 'los',\n",
              " 'presuntos',\n",
              " 'traficantes',\n",
              " 'que',\n",
              " 'viajaban',\n",
              " 'en',\n",
              " 'el',\n",
              " 'barco',\n",
              " 'donde',\n",
              " 'encontraron',\n",
              " 'a',\n",
              " '49',\n",
              " 'inmigrantes',\n",
              " 'muertos',\n",
              " 'el',\n",
              " 'pasado',\n",
              " '15',\n",
              " 'de',\n",
              " 'agosto,',\n",
              " 'ha',\n",
              " 'informado',\n",
              " 'la',\n",
              " 'fiscalía',\n",
              " 'de',\n",
              " 'Catania',\n",
              " '(Sicilia).',\n",
              " 'Los',\n",
              " 'detenidos,',\n",
              " 'de',\n",
              " 'entre',\n",
              " '18',\n",
              " 'y',\n",
              " '30',\n",
              " 'años,',\n",
              " 'acusados',\n",
              " 'de',\n",
              " 'inmigración',\n",
              " 'clandestina',\n",
              " 'y',\n",
              " 'homicidio,',\n",
              " 'han',\n",
              " 'sido',\n",
              " 'reconocidos',\n",
              " 'por',\n",
              " 'algunas',\n",
              " 'de',\n",
              " 'las',\n",
              " '300',\n",
              " 'personas',\n",
              " 'que',\n",
              " 'viajaban',\n",
              " 'en',\n",
              " 'esta',\n",
              " 'nave,',\n",
              " 'como',\n",
              " 'la',\n",
              " 'tripulación',\n",
              " 'encargada',\n",
              " 'de',\n",
              " 'conducirles',\n",
              " 'desde',\n",
              " 'Libia',\n",
              " 'a',\n",
              " 'las',\n",
              " 'costas',\n",
              " 'italianas,',\n",
              " 'añade',\n",
              " 'el',\n",
              " 'comunicado',\n",
              " 'de',\n",
              " 'la',\n",
              " 'fiscalía',\n",
              " 'siciliana.',\n",
              " 'Los',\n",
              " 'cadáveres',\n",
              " 'fueron',\n",
              " 'hallados,',\n",
              " 'el',\n",
              " 'pasado',\n",
              " 'sábado',\n",
              " 'por',\n",
              " 'la',\n",
              " 'Marina',\n",
              " 'Militar',\n",
              " 'italiana,',\n",
              " 'hacinados',\n",
              " 'en',\n",
              " 'las',\n",
              " 'bodegas',\n",
              " 'de',\n",
              " 'una',\n",
              " 'embarcación',\n",
              " 'en',\n",
              " 'la',\n",
              " 'que',\n",
              " 'iban',\n",
              " 'con',\n",
              " 'otros',\n",
              " '312',\n",
              " 'inmigrantes',\n",
              " 'a',\n",
              " '21',\n",
              " 'millas',\n",
              " 'de',\n",
              " 'la',\n",
              " 'costa',\n",
              " 'de',\n",
              " 'Libia.',\n",
              " 'El',\n",
              " 'barco,',\n",
              " 'que',\n",
              " 'según',\n",
              " 'los',\n",
              " 'testimonios',\n",
              " 'zarpó',\n",
              " 'del',\n",
              " 'puerto',\n",
              " 'de',\n",
              " 'Zuwara,',\n",
              " 'fue',\n",
              " 'localizado',\n",
              " 'por',\n",
              " 'la',\n",
              " 'Marina',\n",
              " 'italiana.',\n",
              " 'Posteriormente,',\n",
              " 'los',\n",
              " '312',\n",
              " 'supervivientes',\n",
              " 'y',\n",
              " 'los',\n",
              " '49',\n",
              " 'cuerpos',\n",
              " 'sin',\n",
              " 'vida',\n",
              " 'fueron',\n",
              " 'trasladados',\n",
              " 'a',\n",
              " 'la',\n",
              " 'nave',\n",
              " 'noruega',\n",
              " \"'Siem\",\n",
              " \"Pilot',\",\n",
              " 'que',\n",
              " 'participa',\n",
              " 'en',\n",
              " 'el',\n",
              " 'marco',\n",
              " 'de',\n",
              " 'la',\n",
              " 'operación',\n",
              " 'europea',\n",
              " 'Tritón,',\n",
              " 'y',\n",
              " 'que',\n",
              " 'atracó',\n",
              " 'este',\n",
              " 'lunes',\n",
              " 'en',\n",
              " 'el',\n",
              " 'puerto',\n",
              " 'de',\n",
              " 'Catania.',\n",
              " 'Pegándoles',\n",
              " 'con',\n",
              " 'cinturones,',\n",
              " 'bastones,',\n",
              " 'con',\n",
              " 'patadas',\n",
              " 'y',\n",
              " 'puñetazosLos',\n",
              " 'supervivientes',\n",
              " 'han',\n",
              " 'indicado',\n",
              " 'que',\n",
              " 'un',\n",
              " 'marroquí',\n",
              " 'identificado',\n",
              " 'como',\n",
              " 'Ayooub',\n",
              " 'Harboob',\n",
              " 'era',\n",
              " 'el',\n",
              " 'patrón,',\n",
              " 'mientras',\n",
              " 'que',\n",
              " 'el',\n",
              " 'resto',\n",
              " 'se',\n",
              " 'ocupaba',\n",
              " 'de',\n",
              " '\"dar',\n",
              " 'agua\"',\n",
              " 'y',\n",
              " '\"mantener',\n",
              " 'el',\n",
              " 'orden\"',\n",
              " 'entre',\n",
              " 'los',\n",
              " 'inmigrantes',\n",
              " 'debido',\n",
              " 'al',\n",
              " 'elevado',\n",
              " 'número',\n",
              " 'que',\n",
              " 'viajaba',\n",
              " 'sobre',\n",
              " '13',\n",
              " 'metros',\n",
              " 'de',\n",
              " 'eslora.',\n",
              " 'La',\n",
              " 'primera',\n",
              " 'hipótesis',\n",
              " 'que',\n",
              " 'estudia',\n",
              " 'la',\n",
              " 'fiscalía',\n",
              " 'tras',\n",
              " 'recoger',\n",
              " 'los',\n",
              " 'testimonios',\n",
              " 'es',\n",
              " 'que',\n",
              " 'la',\n",
              " 'causa',\n",
              " 'de',\n",
              " 'los',\n",
              " 'inmigrantes',\n",
              " 'fallecidos',\n",
              " 'fue',\n",
              " 'la',\n",
              " '\"falta',\n",
              " 'de',\n",
              " 'aire',\n",
              " 'y',\n",
              " 'la',\n",
              " 'exhalación',\n",
              " 'del',\n",
              " 'humo',\n",
              " 'del',\n",
              " 'motor\".',\n",
              " 'Asimismo,',\n",
              " 'los',\n",
              " 'supervivientes',\n",
              " 'explicaron',\n",
              " 'cómo',\n",
              " 'los',\n",
              " 'traficantes',\n",
              " 'les',\n",
              " 'impidieron',\n",
              " 'salir',\n",
              " 'de',\n",
              " 'ésta',\n",
              " '\"pegándoles',\n",
              " 'con',\n",
              " 'cinturones,',\n",
              " 'bastones,',\n",
              " 'con',\n",
              " 'patadas',\n",
              " 'y',\n",
              " 'puñetazos\".',\n",
              " 'Las',\n",
              " '312',\n",
              " 'personas',\n",
              " 'con',\n",
              " 'vida',\n",
              " 'han',\n",
              " 'sido',\n",
              " 'acompañadas',\n",
              " 'a',\n",
              " 'distintos',\n",
              " 'centros',\n",
              " 'de',\n",
              " 'acogida',\n",
              " 'del',\n",
              " 'país,',\n",
              " 'mientras',\n",
              " 'que',\n",
              " 'las',\n",
              " '49',\n",
              " 'muertas',\n",
              " 'serán',\n",
              " 'enterradas',\n",
              " 'en',\n",
              " 'varios',\n",
              " 'cementerios',\n",
              " 'sicilianos.',\n",
              " 'El',\n",
              " 'Ayuntamiento',\n",
              " 'de',\n",
              " 'Catania',\n",
              " 'decretó',\n",
              " 'para',\n",
              " 'hoy',\n",
              " 'martes',\n",
              " 'una',\n",
              " 'jornada',\n",
              " 'de',\n",
              " 'luto',\n",
              " 'por',\n",
              " 'la',\n",
              " 'muerte',\n",
              " 'de',\n",
              " 'estos',\n",
              " 'inmigrantes.',\n",
              " 'Ayer,',\n",
              " 'cancelaron',\n",
              " 'los',\n",
              " 'fuegos',\n",
              " 'artificiales',\n",
              " 'previstos',\n",
              " 'por',\n",
              " 'las',\n",
              " 'fiestas,',\n",
              " 'y',\n",
              " 'en',\n",
              " 'su',\n",
              " 'lugar',\n",
              " 'soltaron',\n",
              " '49',\n",
              " 'globos',\n",
              " 'blancos',\n",
              " 'como',\n",
              " 'recuerdo',\n",
              " 'de',\n",
              " 'las',\n",
              " 'víctimas.']"
            ]
          },
          "metadata": {
            "tags": []
          },
          "execution_count": 16
        }
      ]
    },
    {
      "cell_type": "code",
      "metadata": {
        "id": "kJzcwy4ORHD1",
        "colab_type": "code",
        "outputId": "689b6dc6-ab0a-490d-8700-ac5f1096cb0c",
        "colab": {
          "base_uri": "https://localhost:8080/",
          "height": 102
        }
      },
      "source": [
        "import nltk\n",
        "nltk.download('stopwords')\n",
        "nltk.download('punkt')\n"
      ],
      "execution_count": 17,
      "outputs": [
        {
          "output_type": "stream",
          "text": [
            "[nltk_data] Downloading package stopwords to /root/nltk_data...\n",
            "[nltk_data]   Unzipping corpora/stopwords.zip.\n",
            "[nltk_data] Downloading package punkt to /root/nltk_data...\n",
            "[nltk_data]   Unzipping tokenizers/punkt.zip.\n"
          ],
          "name": "stdout"
        },
        {
          "output_type": "execute_result",
          "data": {
            "text/plain": [
              "True"
            ]
          },
          "metadata": {
            "tags": []
          },
          "execution_count": 17
        }
      ]
    },
    {
      "cell_type": "code",
      "metadata": {
        "id": "pLssTi3sRbnI",
        "colab_type": "code",
        "colab": {}
      },
      "source": [
        "from nltk import word_tokenize\n",
        "from nltk.corpus import stopwords\n",
        "stop = set(stopwords.words('spanish'))\n",
        "\n",
        "additional_stopwords=set(black_list)\n",
        "\n",
        "stopwords = stop.union(additional_stopwords)"
      ],
      "execution_count": 0,
      "outputs": []
    },
    {
      "cell_type": "markdown",
      "metadata": {
        "id": "_myg8aFowQ-Y",
        "colab_type": "text"
      },
      "source": [
        "We are using Spacy For lemmatize spanish words"
      ]
    },
    {
      "cell_type": "code",
      "metadata": {
        "id": "HciZjXBfwbXM",
        "colab_type": "code",
        "outputId": "15c4c7c2-a97e-4c33-9922-7922d5410abe",
        "colab": {
          "base_uri": "https://localhost:8080/",
          "height": 241
        }
      },
      "source": [
        "!python -m spacy download es_core_news_md"
      ],
      "execution_count": 19,
      "outputs": [
        {
          "output_type": "stream",
          "text": [
            "Collecting es_core_news_md==2.1.0 from https://github.com/explosion/spacy-models/releases/download/es_core_news_md-2.1.0/es_core_news_md-2.1.0.tar.gz#egg=es_core_news_md==2.1.0\n",
            "\u001b[?25l  Downloading https://github.com/explosion/spacy-models/releases/download/es_core_news_md-2.1.0/es_core_news_md-2.1.0.tar.gz (73.4MB)\n",
            "\u001b[K     |████████████████████████████████| 73.4MB 106.7MB/s \n",
            "\u001b[?25hBuilding wheels for collected packages: es-core-news-md\n",
            "  Building wheel for es-core-news-md (setup.py) ... \u001b[?25l\u001b[?25hdone\n",
            "  Created wheel for es-core-news-md: filename=es_core_news_md-2.1.0-cp36-none-any.whl size=74602272 sha256=5593dd2852f639dc6a2c9eb537d1fd5f4691634475d02ff417be990ef122ea0c\n",
            "  Stored in directory: /tmp/pip-ephem-wheel-cache-mlf20pf6/wheels/20/f7/6b/7a1ba56f009b05386d123ea088b56635594a046acd5cfdd2a2\n",
            "Successfully built es-core-news-md\n",
            "Installing collected packages: es-core-news-md\n",
            "Successfully installed es-core-news-md-2.1.0\n",
            "\u001b[38;5;2m✔ Download and installation successful\u001b[0m\n",
            "You can now load the model via spacy.load('es_core_news_md')\n"
          ],
          "name": "stdout"
        }
      ]
    },
    {
      "cell_type": "code",
      "metadata": {
        "id": "U_VvsxoSwjo3",
        "colab_type": "code",
        "colab": {}
      },
      "source": [
        "import spacy\n",
        "nlp = spacy.load('/usr/local/lib/python3.6/dist-packages/es_core_news_md/es_core_news_md-2.1.0')"
      ],
      "execution_count": 0,
      "outputs": []
    },
    {
      "cell_type": "markdown",
      "metadata": {
        "id": "846CnLGadRmo",
        "colab_type": "text"
      },
      "source": [
        "Now let's test the cleaner function:"
      ]
    },
    {
      "cell_type": "code",
      "metadata": {
        "id": "yDBAXRQuOnOG",
        "colab_type": "code",
        "outputId": "a034c4d9-a10d-4db3-a60c-8435eeaa8935",
        "colab": {
          "base_uri": "https://localhost:8080/",
          "height": 54
        }
      },
      "source": [
        "df_news.text[0]"
      ],
      "execution_count": 21,
      "outputs": [
        {
          "output_type": "execute_result",
          "data": {
            "text/plain": [
              "' El presidente estadounidense, Donald Trump, se quejó este jueves de lo que percibe como una pérdida de seguidores y de influencia de sus mensajes diarios en Twitter, y acusó a esa red social y otros gigantes de Internet de mostrar un \"sesgo terrible\" contra las ideas conservadoras. Durante una \"cumbre sobre redes sociales\" llena de activistas conservadores, Trump aseguró que invitará a representantes de esas compañías a reunirse con él en algún momento de las próximas semanas para airear de nuevo sus quejas contra Google, Twitter, Facebook y otros gigantes de Internet. \"No tengo ninguna duda de que debería tener millones y millones de seguidores, pero nos bloquean\", denunció Trump durante la cumbre, celebrada en la sala Este de la Casa Blanca. El mandatario, que tiene casi 62 millones de seguidores en Twitter, se quejó de que ese número fluctúa, algo que probablemente se deba a que la red social efectúa en ocasiones purgas para eliminar cuentas falsas o bots, lo que también ha llevado a perder seguidores, por ejemplo, al expresidente Barack Obama. \"La gente viene y me dice, \\'señor, no puedo seguirle\\'. Hacen que sea absolutamente imposible. No vamos a permitirlo\", advirtió Trump. \"Antes me costaba pocos días reunir 100.000 seguidores, pero ahora me cuesta diez veces más\", lamentó. Trump, un presidente que ha convertido Twitter en una de las herramientas más poderosa de su Gobierno, describió a la red social como una \"máquina de escribir\" en la que pone a prueba los mensajes que luego planea distribuir por otros medios. \"Si incluyo [un anuncio] en un comunicado, no va a ningún lado, si lo pongo en una red social, es como una explosión\", aseguró. \"[Antes] solía mirar [cómo ganaba seguidores], subía como un cohete cuando ponía una de mis lindezas. ¿Recuerdan cuando dije que me espiaban? Fue como un cohete\", subrayó Trump, pero se quejó de que ahora esa cifra crece \"muy lentamente\". También justificó las faltas de ortografía o de gramática que a menudo le llevan a eliminar tuits y volverlos a publicar corregidos. \"Soy bueno en ortografía, pero los dedos no son tan buenos como el cerebro\", señaló. El mandatario agradeció a los asistentes a la cumbre —la gran mayoría activistas conservadores que le defienden en las redes, como el dúo de afroamericanas \"Diamond and Silk\"— por \"desafiar a los guardianes de los medios de comunicación\". \"Ustedes se comunican directamente con nuestros ciudadanos, sin tener que pasar por el filtro de los medios de comunicación falsos\", celebró. Trump aseguró que no pretende \"limitar la libertad de expresión\", pero no considera que lo que escribe la prensa que le cubre merezca ese tipo de protección, garantizada en la Constitución estadounidense. \"No creo que [lo que publican] los medios de comunicación generalistas sea libertad de expresión porque están muy sesgados\", zanjó. También aprovechó para referirse a las primarias demócratas y para acusar a algunos de los aspirantes de ese partido de rozar el \"comunismo\", y sentenció: \"Este país va a ir o bien en una dirección, o bien en la dirección que ha tomado Venezuela\".'"
            ]
          },
          "metadata": {
            "tags": []
          },
          "execution_count": 21
        }
      ]
    },
    {
      "cell_type": "code",
      "metadata": {
        "id": "2vyiSwQjPCox",
        "colab_type": "code",
        "outputId": "6577c4eb-29d3-46f8-c5a2-15fbc10576d4",
        "colab": {
          "base_uri": "https://localhost:8080/",
          "height": 1000
        }
      },
      "source": [
        "cleaner(df_news.text[0])\n"
      ],
      "execution_count": 22,
      "outputs": [
        {
          "output_type": "stream",
          "text": [
            "/usr/local/lib/python3.6/dist-packages/gensim/models/phrases.py:598: UserWarning: For a faster implementation, use the gensim.models.phrases.Phraser class\n",
            "  warnings.warn(\"For a faster implementation, use the gensim.models.phrases.Phraser class\")\n"
          ],
          "name": "stderr"
        },
        {
          "output_type": "execute_result",
          "data": {
            "text/plain": [
              "['presidente',\n",
              " 'trump',\n",
              " 'quejo',\n",
              " 'jueves',\n",
              " 'seguidores',\n",
              " 'influencia',\n",
              " 'mensajes',\n",
              " 'red',\n",
              " 'internet',\n",
              " 'sesgo',\n",
              " 'ideas',\n",
              " 'cumbre',\n",
              " 'redes',\n",
              " 'activistas',\n",
              " 'trump',\n",
              " 'representantes',\n",
              " 'momento',\n",
              " 'semanas',\n",
              " 'quejas',\n",
              " 'facebook',\n",
              " 'internet',\n",
              " 'duda',\n",
              " 'millones',\n",
              " 'millones',\n",
              " 'trump',\n",
              " 'cumbre',\n",
              " 'sala',\n",
              " 'casa',\n",
              " 'mandatario',\n",
              " 'millones',\n",
              " 'seguidores',\n",
              " 'twitter',\n",
              " 'quejo',\n",
              " 'red',\n",
              " 'ocasiones',\n",
              " 'cuentas',\n",
              " 'bots',\n",
              " 'seguidores',\n",
              " 'ejemplo',\n",
              " 'gente',\n",
              " 'advirtio',\n",
              " 'trump',\n",
              " 'seguidores',\n",
              " 'veces',\n",
              " 'trump',\n",
              " 'presidente',\n",
              " 'herramientas',\n",
              " 'gobierno',\n",
              " 'red',\n",
              " 'prueba',\n",
              " 'mensajes',\n",
              " 'medios',\n",
              " 'anuncio',\n",
              " 'red',\n",
              " 'seguidores',\n",
              " 'subia',\n",
              " 'lindezas',\n",
              " 'cohete',\n",
              " 'trump',\n",
              " 'quejo',\n",
              " 'cifra',\n",
              " 'tambien',\n",
              " 'faltas',\n",
              " 'menudo',\n",
              " 'tuits',\n",
              " 'corregidos',\n",
              " 'ortografia',\n",
              " 'cerebro',\n",
              " 'mandatario',\n",
              " 'asistentes',\n",
              " 'cumbre',\n",
              " 'activistas',\n",
              " 'redes',\n",
              " 'duo',\n",
              " 'diamond',\n",
              " 'guardianes',\n",
              " 'medios',\n",
              " 'ciudadanos',\n",
              " 'filtro',\n",
              " 'medios',\n",
              " 'trump',\n",
              " 'libertad',\n",
              " 'prensa',\n",
              " 'tipo',\n",
              " 'constitucion',\n",
              " 'medios',\n",
              " 'generalistas',\n",
              " 'libertad',\n",
              " 'partido',\n",
              " 'comunismo',\n",
              " 'direccion',\n",
              " 'direccion',\n",
              " 'venezuela']"
            ]
          },
          "metadata": {
            "tags": []
          },
          "execution_count": 22
        }
      ]
    },
    {
      "cell_type": "markdown",
      "metadata": {
        "id": "3FqIi24ISgK2",
        "colab_type": "text"
      },
      "source": [
        "The Cleaner function work properly"
      ]
    },
    {
      "cell_type": "markdown",
      "metadata": {
        "id": "yjMX0qS4SmUR",
        "colab_type": "text"
      },
      "source": [
        "##### Let's clean all the text"
      ]
    },
    {
      "cell_type": "code",
      "metadata": {
        "id": "TBDM5Caomutj",
        "colab_type": "code",
        "colab": {}
      },
      "source": [
        "df_news['text2'] = df_news['text']"
      ],
      "execution_count": 0,
      "outputs": []
    },
    {
      "cell_type": "code",
      "metadata": {
        "colab_type": "code",
        "id": "t2NvS8p5Lfof",
        "outputId": "8415a6a0-dc0c-4197-b19c-75c6820d1ad1",
        "colab": {
          "base_uri": "https://localhost:8080/",
          "height": 85
        }
      },
      "source": [
        "%%time\n",
        "df_news['text'] = df_news['text'].apply(cleaner)"
      ],
      "execution_count": 24,
      "outputs": [
        {
          "output_type": "stream",
          "text": [
            "/usr/local/lib/python3.6/dist-packages/gensim/models/phrases.py:598: UserWarning: For a faster implementation, use the gensim.models.phrases.Phraser class\n",
            "  warnings.warn(\"For a faster implementation, use the gensim.models.phrases.Phraser class\")\n"
          ],
          "name": "stderr"
        },
        {
          "output_type": "stream",
          "text": [
            "CPU times: user 30min 47s, sys: 28.1 s, total: 31min 15s\n",
            "Wall time: 31min 15s\n"
          ],
          "name": "stdout"
        }
      ]
    },
    {
      "cell_type": "markdown",
      "metadata": {
        "id": "7egM0YZzRS9r",
        "colab_type": "text"
      },
      "source": [
        "Now we need to build the *corpus* and the *dictionary* that gensim need to work, to do that we need to pass a list of list of tokens"
      ]
    },
    {
      "cell_type": "code",
      "metadata": {
        "id": "DZmxTdsYTV35",
        "colab_type": "code",
        "colab": {}
      },
      "source": [
        "dictionary = Dictionary(df_news['text'].to_list())\n",
        "dictionary.compactify()\n",
        "# Filter extremes\n",
        "dictionary.filter_extremes(no_below=2, no_above=0.97, keep_n=None)\n",
        "dictionary.compactify()\n",
        "\n",
        "corpus = [dictionary.doc2bow(text) for text in df_news['text'].to_list()]"
      ],
      "execution_count": 0,
      "outputs": []
    },
    {
      "cell_type": "markdown",
      "metadata": {
        "id": "NgV46EUdSu0n",
        "colab_type": "text"
      },
      "source": [
        "# Now let's do the modeling part"
      ]
    },
    {
      "cell_type": "markdown",
      "metadata": {
        "id": "GWsxgxE8-YWC",
        "colab_type": "text"
      },
      "source": [
        "We are comparing 3 topic modeling algorithm Latent Dirichlet Allocation (LDA), Latent\n",
        "semantic analysis (LSA), Hierarchical Dirichlet Process\n",
        "(HDP),in order to evaluate topic models we will be using **topic coherence**, which is a measure of how\n",
        "interpretable topics are for human beings."
      ]
    },
    {
      "cell_type": "markdown",
      "metadata": {
        "id": "YwiwW86Man80",
        "colab_type": "text"
      },
      "source": [
        " ## Hierarchical Dirichlet process Model"
      ]
    },
    {
      "cell_type": "code",
      "metadata": {
        "id": "opxvCwJcbIs9",
        "colab_type": "code",
        "colab": {}
      },
      "source": [
        "hdpmodel = HdpModel(corpus=corpus, id2word=dictionary, random_state= 30)"
      ],
      "execution_count": 0,
      "outputs": []
    },
    {
      "cell_type": "markdown",
      "metadata": {
        "id": "KON8iJfmS-f7",
        "colab_type": "text"
      },
      "source": [
        "and the topics of this model:"
      ]
    },
    {
      "cell_type": "code",
      "metadata": {
        "id": "ewKUhhpgjo8g",
        "colab_type": "code",
        "colab": {}
      },
      "source": [
        "def display_topics(model, model_type=\"lda\"):\n",
        "  for topic_idx, topic in enumerate(model.print_topics()):\n",
        "    print (\"Topic %d:\" % (topic_idx))\n",
        "    if model_type== \"hdp\":\n",
        "      print (\" \".join(re.findall( r'\\*(.[^\\*-S]+).?', topic[1])), \"\\n\")\n",
        "    else:\n",
        "      print (\" \".join(re.findall( r'\\\"(.[^\"]+).?', topic[1])), \"\\n\")\n",
        "    \n",
        "\n"
      ],
      "execution_count": 0,
      "outputs": []
    },
    {
      "cell_type": "code",
      "metadata": {
        "id": "-1pogQLHbSl9",
        "colab_type": "code",
        "outputId": "94002da5-32a7-4c25-b5ac-29b23b8e5959",
        "colab": {
          "base_uri": "https://localhost:8080/",
          "height": 1000
        }
      },
      "source": [
        "# hdpmodel.show_topics() \n",
        "\n",
        "display_topics(hdpmodel, model_type=\"hdp\")"
      ],
      "execution_count": 28,
      "outputs": [
        {
          "output_type": "stream",
          "text": [
            "Topic 0:\n",
            "gobierno  presidente  personas  ministro  millones  parte  partido  acuerdo  seguridad  elecciones \n",
            "\n",
            "Topic 1:\n",
            "personas  ciudad  seguridad  autoridades  gobierno  parte  policia  millones  zona  grupo \n",
            "\n",
            "Topic 2:\n",
            "presidente  gobierno  personas  seguridad  parte  trump  ministro  fuerzas  millones  autoridades \n",
            "\n",
            "Topic 3:\n",
            "gobierno  presidente  personas  caso  parte  ministro  policia  millones  seguridad  autoridades \n",
            "\n",
            "Topic 4:\n",
            "personas  policia  autoridades  mujer  ciudad  despues  parte  lugar  hombre  momento \n",
            "\n",
            "Topic 5:\n",
            "personas  policia  autoridades  ciudad  zona  hora  lugar  momento  mujer  hombre \n",
            "\n",
            "Topic 6:\n",
            "presidente  gobierno  caso  partido  personas  grupo  autoridades  ministro  euros  parte \n",
            "\n",
            "Topic 7:\n",
            "personas  kilometros  policia  ciudad  zona  autoridades  hora  muerte  momento  horas \n",
            "\n",
            "Topic 8:\n",
            "personas  autoridades  acuerdo  gobierno  parte  momento  caso  presidente  policia  millones \n",
            "\n",
            "Topic 9:\n",
            "partido  presidente  grupo  gobierno  elecciones  ministro  votos  parlamento  personas  mayo \n",
            "\n",
            "Topic 10:\n",
            "personas  caso  policia  mujer  hombre  autoridades  presidente  seguridad  momento  despues \n",
            "\n",
            "Topic 11:\n",
            "presidente  casa  acuerdo  ministro  personas  gobierno  partido  derechos  justicia  informe \n",
            "\n",
            "Topic 12:\n",
            "est  pas  pour  espagne  par  sont  jeunes  mais  une  qui \n",
            "\n",
            "Topic 13:\n",
            "vida  colegio  presidente  parte  policia  caso  muerte  parlamento  grupo  historia \n",
            "\n",
            "Topic 14:\n",
            "trump  presidente  millones  ciudad  ministro  gobierno  acuerdo  jueves  parte  casa \n",
            "\n",
            "Topic 15:\n",
            "trump  acuerdo  presidente  casa  mayo  martes  gobierno  washington  lunes  julio \n",
            "\n",
            "Topic 16:\n",
            "ministro  may  partido  gobierno  julio  puesto  lider  carrera  theresa  junio \n",
            "\n",
            "Topic 17:\n",
            "gobierno  trip  traveling  parte  presidente  their  such  union  ministro  crisis \n",
            "\n",
            "Topic 18:\n",
            "trump  presidente  investigacion  gobierno  congreso  informe  parte  centro  autoridades  departamento \n",
            "\n",
            "Topic 19:\n",
            "may  ministro  partido  ministra  acuerdo  ataques  brexit  comunicado  junio  vez \n",
            "\n"
          ],
          "name": "stdout"
        }
      ]
    },
    {
      "cell_type": "markdown",
      "metadata": {
        "id": "jd3LspvVUEXj",
        "colab_type": "text"
      },
      "source": [
        "as we could see there are 20 topics, however is kind of dificult to interpret or follow, so we decide to move to another model.\n",
        "\n",
        "\n",
        "\n"
      ]
    },
    {
      "cell_type": "code",
      "metadata": {
        "id": "4J2IIPqHVTzZ",
        "colab_type": "code",
        "colab": {}
      },
      "source": [
        "def evaluate_graph(dictionary, corpus, texts, limit, model):\n",
        "    \"\"\"\n",
        "    Function to display num_topics - LDA graph using c_v coherence\n",
        "    \n",
        "    Parameters:\n",
        "    ----------\n",
        "    dictionary : Gensim dictionary\n",
        "    corpus : Gensim corpus\n",
        "    limit : topic limit\n",
        "    \n",
        "    Returns:\n",
        "    -------\n",
        "    lm_list : List of LDA topic models\n",
        "    c_v : Coherence values corresponding to the LDA model with respective number of topics\n",
        "    \"\"\"\n",
        "    c_v = []\n",
        "    lm_list = []\n",
        "    for num_topics in range(1, limit):\n",
        "        if model == 'lsi':\n",
        "          lm = LsiModel(corpus=corpus, num_topics=num_topics, id2word=dictionary)\n",
        "        else:\n",
        "          lm = LdaModel(corpus=corpus, num_topics=num_topics, id2word=dictionary)\n",
        "        lm_list.append(lm)\n",
        "        cm = CoherenceModel(model=lm, texts=texts, dictionary=dictionary, coherence='c_v')\n",
        "        c_v.append(cm.get_coherence())\n",
        "        \n",
        "    # Show graph\n",
        "    x = range(1, limit)\n",
        "    plt.plot(x, c_v)\n",
        "    plt.xlabel(\"num_topics\")\n",
        "    plt.ylabel(\"Coherence score\")\n",
        "    plt.legend((\"c_v\"), loc='best')\n",
        "    plt.show()\n",
        "    \n",
        "    return lm_list, c_v"
      ],
      "execution_count": 0,
      "outputs": []
    },
    {
      "cell_type": "markdown",
      "metadata": {
        "id": "hse2o99bZ8wi",
        "colab_type": "text"
      },
      "source": [
        "##LSI MODEL"
      ]
    },
    {
      "cell_type": "code",
      "metadata": {
        "id": "HFQCfc9VcmT7",
        "colab_type": "code",
        "colab": {}
      },
      "source": [
        "lsimodel = LsiModel(corpus=corpus, num_topics=10, id2word=dictionary)"
      ],
      "execution_count": 0,
      "outputs": []
    },
    {
      "cell_type": "code",
      "metadata": {
        "id": "yfrJmKuLaUrg",
        "colab_type": "code",
        "outputId": "b7add73d-8ca9-41fb-b93f-eb4de56773dc",
        "colab": {
          "base_uri": "https://localhost:8080/",
          "height": 527
        }
      },
      "source": [
        "display_topics(lsimodel)  # Showing the topics"
      ],
      "execution_count": 31,
      "outputs": [
        {
          "output_type": "stream",
          "text": [
            "Topic 0:\n",
            "presidente gobierno personas ministro seguridad parte atentados venezuela policia trump \n",
            "\n",
            "Topic 1:\n",
            "presidente atentados venezuela trump personas policia gobierno elecciones juan seguridad \n",
            "\n",
            "Topic 2:\n",
            "millones trump atentados presidente gobierno euros acuerdo venezuela parte paris \n",
            "\n",
            "Topic 3:\n",
            "trump venezuela gobierno juan millones nicolas votos elecciones casa clinton \n",
            "\n",
            "Topic 4:\n",
            "personas atentados ministro partido gobierno accidente acuerdo venezuela avion paris \n",
            "\n",
            "Topic 5:\n",
            "accidente avion alpes millones personas ministro vuelo familiares horas partido \n",
            "\n",
            "Topic 6:\n",
            "millones partido elecciones presidente personas euros atentados votos policia ataque \n",
            "\n",
            "Topic 7:\n",
            "millones personas seguridad acuerdo partido gobierno elecciones ataque trump armas \n",
            "\n",
            "Topic 8:\n",
            "personas presidente mujeres bruselas caso acuerdo venezuela partido mujer libertad \n",
            "\n",
            "Topic 9:\n",
            "bruselas presidente aeropuerto gobierno trump marzo venezuela atentados metro martes \n",
            "\n"
          ],
          "name": "stdout"
        }
      ]
    },
    {
      "cell_type": "markdown",
      "metadata": {
        "id": "t-Bt22W-r1ZO",
        "colab_type": "text"
      },
      "source": [
        "It seen that with 10 topics there is some themes with keywords related to: trump, venezuela, police, electiones, terrorism; still is a little difficult to gt some insight, because of this we are trying to select the best number of topics by iterate over a range of values and looking the coherence "
      ]
    },
    {
      "cell_type": "code",
      "metadata": {
        "id": "dtXS4IfIVYIJ",
        "colab_type": "code",
        "outputId": "916f153b-dc7d-4484-8a62-b9be3a788328",
        "colab": {
          "base_uri": "https://localhost:8080/",
          "height": 318
        }
      },
      "source": [
        "%%time\n",
        "lmlist_lsi, c_v = evaluate_graph(dictionary=dictionary, corpus=corpus, texts=df_news['text'].to_list(), limit=21, model= \"lsi\")"
      ],
      "execution_count": 32,
      "outputs": [
        {
          "output_type": "display_data",
          "data": {
            "image/png": "[encoded data removed]",
            "text/plain": [
              "<Figure size 432x288 with 1 Axes>"
            ]
          },
          "metadata": {
            "tags": []
          }
        },
        {
          "output_type": "stream",
          "text": [
            "CPU times: user 6min 40s, sys: 1min 50s, total: 8min 31s\n",
            "Wall time: 9min 42s\n"
          ],
          "name": "stdout"
        }
      ]
    },
    {
      "cell_type": "markdown",
      "metadata": {
        "id": "kmzyPFWiw63V",
        "colab_type": "text"
      },
      "source": [
        "According to the coherence the best number of topics are between 3-7, however you must select the topics using both the coherence and visual inspection.\n"
      ]
    },
    {
      "cell_type": "code",
      "metadata": {
        "id": "TczLrG1ZRL4_",
        "colab_type": "code",
        "colab": {
          "base_uri": "https://localhost:8080/",
          "height": 170
        },
        "outputId": "97713743-960a-4570-b917-63cd2437b058"
      },
      "source": [
        "display_topics(lmlist_lsi[2])"
      ],
      "execution_count": 56,
      "outputs": [
        {
          "output_type": "stream",
          "text": [
            "Topic 0:\n",
            "presidente gobierno personas ministro seguridad atentados parte venezuela trump policia \n",
            "\n",
            "Topic 1:\n",
            "presidente atentados venezuela trump policia personas gobierno juan paris ataques \n",
            "\n",
            "Topic 2:\n",
            "trump venezuela gobierno juan nicolas casa clinton votos noviembre elecciones \n",
            "\n"
          ],
          "name": "stdout"
        }
      ]
    },
    {
      "cell_type": "markdown",
      "metadata": {
        "id": "v6ty9sFNyRyG",
        "colab_type": "text"
      },
      "source": [
        "Now, Let's try another model"
      ]
    },
    {
      "cell_type": "markdown",
      "metadata": {
        "id": "earp2d28dz3a",
        "colab_type": "text"
      },
      "source": [
        "## Latent Dirichlet Allocation Model"
      ]
    },
    {
      "cell_type": "code",
      "metadata": {
        "id": "wiI55UzIdnUN",
        "colab_type": "code",
        "colab": {}
      },
      "source": [
        "ldamodel = LdaModel(corpus=corpus, num_topics=10, id2word=dictionary)"
      ],
      "execution_count": 0,
      "outputs": []
    },
    {
      "cell_type": "code",
      "metadata": {
        "id": "fjAbhPAMd7_B",
        "colab_type": "code",
        "outputId": "6128b18b-dcda-4960-8e98-ab2fa440b5de",
        "colab": {
          "base_uri": "https://localhost:8080/",
          "height": 527
        }
      },
      "source": [
        "\n",
        "display_topics(ldamodel)"
      ],
      "execution_count": 34,
      "outputs": [
        {
          "output_type": "stream",
          "text": [
            "Topic 0:\n",
            "agua personas tierra terremoto kilometros salud grados estudio zona metros \n",
            "\n",
            "Topic 1:\n",
            "ciudad personas policia autoridades horas hora aeropuerto noche mineros servicio \n",
            "\n",
            "Topic 2:\n",
            "mundo mujeres vida papa universidad personas vez mujer iglesia trabajo \n",
            "\n",
            "Topic 3:\n",
            "gobierno ministro ley partido parlamento acuerdo union reforma diputados consejo \n",
            "\n",
            "Topic 4:\n",
            "personas policia ciudad fuentes seguridad zona autoridades lugar centro horas \n",
            "\n",
            "Topic 5:\n",
            "millones euros dolares gobierno medidas crisis parte empresas dinero sector \n",
            "\n",
            "Topic 6:\n",
            "seguridad huelga avion tropas vuelos soldados mision gobierno aviones aeropuerto \n",
            "\n",
            "Topic 7:\n",
            "gobierno presidente fuerzas seguridad protestas pueblo consejo parte grupo paz \n",
            "\n",
            "Topic 8:\n",
            "presidente partido ministro elecciones gobierno casa domingo candidato cumbre jefe \n",
            "\n",
            "Topic 9:\n",
            "caso muerte mujer justicia juez familia tribunal casa despues juicio \n",
            "\n"
          ],
          "name": "stdout"
        }
      ]
    },
    {
      "cell_type": "markdown",
      "metadata": {
        "id": "2cywaW1QsJ8N",
        "colab_type": "text"
      },
      "source": [
        "Find out the optimal number of topics for the LDA model based on the coherence metric:"
      ]
    },
    {
      "cell_type": "code",
      "metadata": {
        "id": "Rd651y6mWpTF",
        "colab_type": "code",
        "outputId": "18376c3d-d18a-465e-d115-9b2b55c02005",
        "colab": {
          "base_uri": "https://localhost:8080/",
          "height": 318
        }
      },
      "source": [
        "%%time\n",
        "lmlist, c_v = evaluate_graph(dictionary=dictionary, corpus=corpus, texts=df_news['text'].to_list(), limit=21, model= \"lda\")"
      ],
      "execution_count": 35,
      "outputs": [
        {
          "output_type": "display_data",
          "data": {
            "image/png": "[encoded data removed]",
            "text/plain": [
              "<Figure size 432x288 with 1 Axes>"
            ]
          },
          "metadata": {
            "tags": []
          }
        },
        {
          "output_type": "stream",
          "text": [
            "CPU times: user 12min 35s, sys: 1min 14s, total: 13min 50s\n",
            "Wall time: 22min 45s\n"
          ],
          "name": "stdout"
        }
      ]
    },
    {
      "cell_type": "markdown",
      "metadata": {
        "id": "P0T4UJGmyiLp",
        "colab_type": "text"
      },
      "source": [
        "For this model it seems that  9 or 18, again we must to check the keywords too."
      ]
    },
    {
      "cell_type": "markdown",
      "metadata": {
        "id": "S6S88TE0eslU",
        "colab_type": "text"
      },
      "source": [
        "### Comparing the Model Coherence of the Best Models"
      ]
    },
    {
      "cell_type": "markdown",
      "metadata": {
        "id": "6dnp010Wz6Xo",
        "colab_type": "text"
      },
      "source": [
        "we made 3 models, now let's compare each other's  coherence"
      ]
    },
    {
      "cell_type": "code",
      "metadata": {
        "id": "s0bosG67ev6L",
        "colab_type": "code",
        "colab": {}
      },
      "source": [
        "\n",
        "ldamodel = lmlist[11]\n",
        "lsimodel = lmlist_lsi[2]\n",
        "\n",
        "lsitopics = [[word for word, prob in topic] for topicid, topic in lsimodel.show_topics(formatted=False)]\n",
        "\n",
        "hdptopics = [[word for word, prob in topic] for topicid, topic in hdpmodel.show_topics(formatted=False)]\n",
        "\n",
        "ldatopics = [[word for word, prob in topic] for topicid, topic in ldamodel.show_topics(formatted=False)]"
      ],
      "execution_count": 0,
      "outputs": []
    },
    {
      "cell_type": "code",
      "metadata": {
        "id": "IP5GpYG1e4nT",
        "colab_type": "code",
        "colab": {}
      },
      "source": [
        "lsi_coherence = CoherenceModel(topics=lsitopics[:10], texts=df_news['text'].to_list(), dictionary=dictionary, window_size=10).get_coherence()\n",
        "\n",
        "hdp_coherence = CoherenceModel(topics=hdptopics[:10], texts=df_news['text'].to_list(), dictionary=dictionary, window_size=10).get_coherence()\n",
        "\n",
        "lda_coherence = CoherenceModel(topics=ldatopics, texts=df_news['text'].to_list(), dictionary=dictionary, window_size=10).get_coherence()"
      ],
      "execution_count": 0,
      "outputs": []
    },
    {
      "cell_type": "code",
      "metadata": {
        "id": "XntcwwKufZTp",
        "colab_type": "code",
        "colab": {
          "base_uri": "https://localhost:8080/",
          "height": 287
        },
        "outputId": "7278380a-d093-4908-a44a-0ba94a2d7aac"
      },
      "source": [
        "import seaborn as sns\n",
        "\n",
        "coherences = [lsi_coherence, hdp_coherence, lda_coherence]\n",
        "n = len(coherences)\n",
        "x = ['lsi_coherence','hdp_coherence', 'lda_coherence']\n",
        "sns.barplot(x, coherences)\n"
      ],
      "execution_count": 59,
      "outputs": [
        {
          "output_type": "execute_result",
          "data": {
            "text/plain": [
              "<matplotlib.axes._subplots.AxesSubplot at 0x7f3ddbb4eba8>"
            ]
          },
          "metadata": {
            "tags": []
          },
          "execution_count": 59
        },
        {
          "output_type": "display_data",
          "data": {
            "image/png": "[encoded data removed]",
            "text/plain": [
              "<Figure size 432x288 with 1 Axes>"
            ]
          },
          "metadata": {
            "tags": []
          }
        }
      ]
    },
    {
      "cell_type": "markdown",
      "metadata": {
        "id": "bXKu-wAoFMRY",
        "colab_type": "text"
      },
      "source": [
        "We can see that the **LdaModel** model **with 8 topics** has the higher value of\n",
        "coherence"
      ]
    },
    {
      "cell_type": "markdown",
      "metadata": {
        "id": "B5Ii_TedVNHq",
        "colab_type": "text"
      },
      "source": [
        "Examine the keyword to get the topics of the best model"
      ]
    },
    {
      "cell_type": "code",
      "metadata": {
        "id": "qtOtsGxHuD8W",
        "colab_type": "code",
        "colab": {
          "base_uri": "https://localhost:8080/",
          "height": 629
        },
        "outputId": "841b40c9-401d-4e5e-a6bc-cf6e1d7a7169"
      },
      "source": [
        "\n",
        "display_topics(ldamodel)"
      ],
      "execution_count": 60,
      "outputs": [
        {
          "output_type": "stream",
          "text": [
            "Topic 0:\n",
            "derechos humanos muerte guerra tribunal juez caso libertad personas juicio \n",
            "\n",
            "Topic 1:\n",
            "estudio tierra universidad mundo agua investigadores cambio expertos corea sistema \n",
            "\n",
            "Topic 2:\n",
            "policia hombre casa mujer muerte familia hospital autoridades caso despues \n",
            "\n",
            "Topic 3:\n",
            "presidente gobierno ministro justicia mubarak pueblo presos venezuela jefe caso \n",
            "\n",
            "Topic 4:\n",
            "mujeres mundo mujer papa vida iglesia matrimonio caso hombres casos \n",
            "\n",
            "Topic 5:\n",
            "personas metros rescate zona autoridades isla mar kilometros agua horas \n",
            "\n",
            "Topic 6:\n",
            "partido presidente elecciones votos gobierno candidato comicios partidos domingo ministro \n",
            "\n",
            "Topic 7:\n",
            "personas seguridad fuerzas ciudad ataque policia fuentes grupo ataques protestas \n",
            "\n",
            "Topic 8:\n",
            "millones euros gobierno dolares medidas crisis parte empresas trabajo sector \n",
            "\n",
            "Topic 9:\n",
            "personas terremoto ayuda ciudad seismo zonas zona millones agua muertos \n",
            "\n",
            "Topic 10:\n",
            "gobierno presidente ministro consejo acuerdo seguridad parte paz union asuntos \n",
            "\n",
            "Topic 11:\n",
            "aeropuerto avion accidente vuelos pasajeros horas vuelo seguridad autoridades personas \n",
            "\n"
          ],
          "name": "stdout"
        }
      ]
    },
    {
      "cell_type": "markdown",
      "metadata": {
        "id": "23tYxCUIchga",
        "colab_type": "text"
      },
      "source": [
        "It looks like the topics are:\n",
        "* Topic 0: is about trials (justice)\n",
        "* Topic 1: is like nature studies\n",
        "* Topic 2: is about violence (against women maybe?)\n",
        "* Topic 3: protest and disturb (like venezuelan case)\n",
        "* Topic 4: is about life and family\n",
        "* Topic 5: sea disasters\n",
        "* Topic 6: elections\n",
        "* Topic 7: is about terrorism\n",
        "* Topic 8: is about economic crisis\n",
        "* Topic 9: is like seism studies\n",
        "* Topic 10: is about peacy treaty\n",
        "* Topic 11: airport and security\n"
      ]
    },
    {
      "cell_type": "markdown",
      "metadata": {
        "id": "v0aL-yqAFzUS",
        "colab_type": "text"
      },
      "source": [
        "Let´s check the keyword when we selecting another number of topics (14)"
      ]
    },
    {
      "cell_type": "code",
      "metadata": {
        "id": "AGXxaEtVudnc",
        "colab_type": "code",
        "colab": {}
      },
      "source": [
        "ldamodel_16 =lmlist[16]\n"
      ],
      "execution_count": 0,
      "outputs": []
    },
    {
      "cell_type": "code",
      "metadata": {
        "id": "aS3QJ5KV5z_c",
        "colab_type": "code",
        "colab": {
          "base_uri": "https://localhost:8080/",
          "height": 680
        },
        "outputId": "1d87fea1-bfa5-476a-e472-a7e585bd8cf3"
      },
      "source": [
        "display_topics(ldamodel_16)"
      ],
      "execution_count": 41,
      "outputs": [
        {
          "output_type": "stream",
          "text": [
            "Topic 0:\n",
            "presidente casa washington congreso barack informacion documentos inteligencia seguridad programa \n",
            "\n",
            "Topic 1:\n",
            "gobierno ministro partido parlamento union acuerdo crisis presidente consejo parte \n",
            "\n",
            "Topic 2:\n",
            "millones euros dolares gobierno ley dinero empresas medidas parte proyecto \n",
            "\n",
            "Topic 3:\n",
            "personas ciudad centro policia seguridad plaza lugar autoridades atentado edificio \n",
            "\n",
            "Topic 4:\n",
            "partido elecciones votos candidato presidente comicios domingo victoria resultados vuelta \n",
            "\n",
            "Topic 5:\n",
            "fuerzas seguridad ataque grupo soldados ataques ciudad guerra personas gobierno \n",
            "\n",
            "Topic 6:\n",
            "mujer familia vida padre madre hijo hijos casa hospital mundo \n",
            "\n",
            "Topic 7:\n",
            "policia muerte personas hombre autoridades caso mujer asesinato agentes juez \n",
            "\n",
            "Topic 8:\n",
            "estudio millones mundo informe personas agua datos salud nivel parte \n",
            "\n",
            "Topic 9:\n",
            "mujeres papa iglesia casos caso abusos personas parte derechos matrimonio \n",
            "\n",
            "Topic 10:\n",
            "presidente gobierno seguridad paz ministro consejo acuerdo parte asuntos naciones \n",
            "\n",
            "Topic 11:\n",
            "presidente gobierno protestas pueblo derechos libertad justicia proceso humanos venezuela \n",
            "\n",
            "Topic 12:\n",
            "personas zona kilometros autoridades horas metros rescate tierra hora agua \n",
            "\n"
          ],
          "name": "stdout"
        }
      ]
    },
    {
      "cell_type": "markdown",
      "metadata": {
        "id": "u2clSiIF1yHy",
        "colab_type": "text"
      },
      "source": [
        "# Classifiying all documents"
      ]
    },
    {
      "cell_type": "markdown",
      "metadata": {
        "id": "_sLVX03-1_GB",
        "colab_type": "text"
      },
      "source": [
        "now that we have been select the best model and topics number, is time to assign a topic to each document, means **cluster** according to the topics"
      ]
    },
    {
      "cell_type": "code",
      "metadata": {
        "id": "9fojFPHKW204",
        "colab_type": "code",
        "colab": {}
      },
      "source": [
        "def format_topics_sentences(ldamodel=0, corpus=corpus, texts=0):\n",
        "    # Init output\n",
        "    sent_topics_df = pd.DataFrame()-n\n",
        "\n",
        "    # Get main topic in each document\n",
        "    for i, row in enumerate(ldamodel[corpus]):\n",
        "        row = sorted(row, key=lambda x: (x[1]), reverse=True)\n",
        "        # Get the Dominant topic, Perc Contribution and Keywords for each document\n",
        "        for j, (topic_num, prop_topic) in enumerate(row):\n",
        "            if j == 0:  # => dominant topic\n",
        "                wp = ldamodel.show_topic(topic_num)\n",
        "                topic_keywords = \", \".join([word for word, prop in wp])\n",
        "                sent_topics_df = sent_topics_df.append(pd.Series([int(topic_num), round(prop_topic,4), topic_keywords]), ignore_index=True)\n",
        "            else:\n",
        "                break\n",
        "    sent_topics_df.columns = ['Dominant_Topic', 'Perc_Contribution', 'Topic_Keywords']\n",
        "\n",
        "    # Add original text to the end of the output\n",
        "    contents = pd.Series(texts)\n",
        "    sent_topics_df = pd.concat([sent_topics_df, contents], axis=1)\n",
        "    return(sent_topics_df)\n",
        "\n",
        "\n",
        "df_topic_sents_keywords = format_topics_sentences(ldamodel, corpus=corpus, texts=df_news['text'].to_list())\n",
        "\n"
      ],
      "execution_count": 0,
      "outputs": []
    },
    {
      "cell_type": "code",
      "metadata": {
        "id": "E8FofLvzYmTP",
        "colab_type": "code",
        "colab": {
          "base_uri": "https://localhost:8080/",
          "height": 359
        },
        "outputId": "1f5226b4-02cf-4243-e7a1-ab89ddb707b5"
      },
      "source": [
        "# Format\n",
        "df_dominant_topic = df_topic_sents_keywords.reset_index()\n",
        "df_dominant_topic.columns = ['Document_No', 'Dominant_Topic', 'Topic_Perc_Contrib', 'Keywords', 'Text']\n",
        "\n",
        "# Show\n",
        "df_dominant_topic.head(10)"
      ],
      "execution_count": 66,
      "outputs": [
        {
          "output_type": "execute_result",
          "data": {
            "text/html": [
              "<div>\n",
              "<style scoped>\n",
              "    .dataframe tbody tr th:only-of-type {\n",
              "        vertical-align: middle;\n",
              "    }\n",
              "\n",
              "    .dataframe tbody tr th {\n",
              "        vertical-align: top;\n",
              "    }\n",
              "\n",
              "    .dataframe thead th {\n",
              "        text-align: right;\n",
              "    }\n",
              "</style>\n",
              "<table border=\"1\" class=\"dataframe\">\n",
              "  <thead>\n",
              "    <tr style=\"text-align: right;\">\n",
              "      <th></th>\n",
              "      <th>Document_No</th>\n",
              "      <th>Dominant_Topic</th>\n",
              "      <th>Topic_Perc_Contrib</th>\n",
              "      <th>Keywords</th>\n",
              "      <th>Text</th>\n",
              "    </tr>\n",
              "  </thead>\n",
              "  <tbody>\n",
              "    <tr>\n",
              "      <th>0</th>\n",
              "      <td>0</td>\n",
              "      <td>6.0</td>\n",
              "      <td>0.5252</td>\n",
              "      <td>partido, presidente, elecciones, votos, gobier...</td>\n",
              "      <td>[presidente, trump, quejo, jueves, seguidores,...</td>\n",
              "    </tr>\n",
              "    <tr>\n",
              "      <th>1</th>\n",
              "      <td>1</td>\n",
              "      <td>10.0</td>\n",
              "      <td>0.6767</td>\n",
              "      <td>gobierno, presidente, ministro, consejo, acuer...</td>\n",
              "      <td>[gobernador, hector, conversaciones, gobierno,...</td>\n",
              "    </tr>\n",
              "    <tr>\n",
              "      <th>2</th>\n",
              "      <td>2</td>\n",
              "      <td>9.0</td>\n",
              "      <td>0.4595</td>\n",
              "      <td>personas, terremoto, ayuda, ciudad, seismo, zo...</td>\n",
              "      <td>[autoridades, congo, jueves, muerte, centenar,...</td>\n",
              "    </tr>\n",
              "    <tr>\n",
              "      <th>3</th>\n",
              "      <td>3</td>\n",
              "      <td>8.0</td>\n",
              "      <td>0.3184</td>\n",
              "      <td>millones, euros, gobierno, dolares, medidas, c...</td>\n",
              "      <td>[ministro, shinzo, abe, viernes, disculpas, fa...</td>\n",
              "    </tr>\n",
              "    <tr>\n",
              "      <th>4</th>\n",
              "      <td>4</td>\n",
              "      <td>5.0</td>\n",
              "      <td>0.3357</td>\n",
              "      <td>personas, metros, rescate, zona, autoridades, ...</td>\n",
              "      <td>[guardia, submarino, kilos, aguas, abordaje, s...</td>\n",
              "    </tr>\n",
              "    <tr>\n",
              "      <th>5</th>\n",
              "      <td>5</td>\n",
              "      <td>2.0</td>\n",
              "      <td>0.5224</td>\n",
              "      <td>policia, hombre, casa, mujer, muerte, familia,...</td>\n",
              "      <td>[condado, ohio, sentencia, profesora, contacto...</td>\n",
              "    </tr>\n",
              "    <tr>\n",
              "      <th>6</th>\n",
              "      <td>6</td>\n",
              "      <td>10.0</td>\n",
              "      <td>0.6356</td>\n",
              "      <td>gobierno, presidente, ministro, consejo, acuer...</td>\n",
              "      <td>[gobierno, kyriakos, viernes, presidente, parl...</td>\n",
              "    </tr>\n",
              "    <tr>\n",
              "      <th>7</th>\n",
              "      <td>7</td>\n",
              "      <td>3.0</td>\n",
              "      <td>0.4092</td>\n",
              "      <td>presidente, gobierno, ministro, justicia, muba...</td>\n",
              "      <td>[barco, watch, carola, inmigrantes, viernes, q...</td>\n",
              "    </tr>\n",
              "    <tr>\n",
              "      <th>8</th>\n",
              "      <td>8</td>\n",
              "      <td>5.0</td>\n",
              "      <td>0.3907</td>\n",
              "      <td>personas, metros, rescate, zona, autoridades, ...</td>\n",
              "      <td>[policia, viernes, tripulantes, grace, capitan...</td>\n",
              "    </tr>\n",
              "    <tr>\n",
              "      <th>9</th>\n",
              "      <td>9</td>\n",
              "      <td>6.0</td>\n",
              "      <td>0.5685</td>\n",
              "      <td>partido, presidente, elecciones, votos, gobier...</td>\n",
              "      <td>[presidente, trump, viernes, gobierno, domingo...</td>\n",
              "    </tr>\n",
              "  </tbody>\n",
              "</table>\n",
              "</div>"
            ],
            "text/plain": [
              "   Document_No  ...                                               Text\n",
              "0            0  ...  [presidente, trump, quejo, jueves, seguidores,...\n",
              "1            1  ...  [gobernador, hector, conversaciones, gobierno,...\n",
              "2            2  ...  [autoridades, congo, jueves, muerte, centenar,...\n",
              "3            3  ...  [ministro, shinzo, abe, viernes, disculpas, fa...\n",
              "4            4  ...  [guardia, submarino, kilos, aguas, abordaje, s...\n",
              "5            5  ...  [condado, ohio, sentencia, profesora, contacto...\n",
              "6            6  ...  [gobierno, kyriakos, viernes, presidente, parl...\n",
              "7            7  ...  [barco, watch, carola, inmigrantes, viernes, q...\n",
              "8            8  ...  [policia, viernes, tripulantes, grace, capitan...\n",
              "9            9  ...  [presidente, trump, viernes, gobierno, domingo...\n",
              "\n",
              "[10 rows x 5 columns]"
            ]
          },
          "metadata": {
            "tags": []
          },
          "execution_count": 66
        }
      ]
    },
    {
      "cell_type": "markdown",
      "metadata": {
        "id": "9vtBDBQKkzmK",
        "colab_type": "text"
      },
      "source": [
        "We selected the ldamodel with 12 topics and asigned a dominant topic to each document, now let map each topic with a label "
      ]
    },
    {
      "cell_type": "markdown",
      "metadata": {
        "id": "z8f8u5UJlQJ8",
        "colab_type": "text"
      },
      "source": [
        "first let's create the dictionary"
      ]
    },
    {
      "cell_type": "code",
      "metadata": {
        "id": "I27y-Pd-lXL8",
        "colab_type": "code",
        "colab": {}
      },
      "source": [
        "label_dicc = {0:'trials', 1:'nature', 2:'violence', 3: 'protest', 4:'life_family', 5:'sea_disasters', 6:'elections', \n",
        "              7:'terrorism', 8:'economic_crisis', 9: 'seism', 10:'peacy_treaty', 11:'airport_security'}"
      ],
      "execution_count": 0,
      "outputs": []
    },
    {
      "cell_type": "code",
      "metadata": {
        "id": "qUspHFcPopTz",
        "colab_type": "code",
        "colab": {}
      },
      "source": [
        "df_dominant_topic['Dominant_Topic'] = df_dominant_topic['Dominant_Topic'].astype('int64')\n"
      ],
      "execution_count": 0,
      "outputs": []
    },
    {
      "cell_type": "code",
      "metadata": {
        "id": "o9XM5yHgnmg5",
        "colab_type": "code",
        "colab": {
          "base_uri": "https://localhost:8080/",
          "height": 359
        },
        "outputId": "1d89e87e-a9e1-401e-edd1-63457a7f50c4"
      },
      "source": [
        "df_dominant_topic['Dominant_Topic'] = df_dominant_topic['Dominant_Topic'].map(label_dicc)\n",
        "df_dominant_topic.head(10)"
      ],
      "execution_count": 69,
      "outputs": [
        {
          "output_type": "execute_result",
          "data": {
            "text/html": [
              "<div>\n",
              "<style scoped>\n",
              "    .dataframe tbody tr th:only-of-type {\n",
              "        vertical-align: middle;\n",
              "    }\n",
              "\n",
              "    .dataframe tbody tr th {\n",
              "        vertical-align: top;\n",
              "    }\n",
              "\n",
              "    .dataframe thead th {\n",
              "        text-align: right;\n",
              "    }\n",
              "</style>\n",
              "<table border=\"1\" class=\"dataframe\">\n",
              "  <thead>\n",
              "    <tr style=\"text-align: right;\">\n",
              "      <th></th>\n",
              "      <th>Document_No</th>\n",
              "      <th>Dominant_Topic</th>\n",
              "      <th>Topic_Perc_Contrib</th>\n",
              "      <th>Keywords</th>\n",
              "      <th>Text</th>\n",
              "    </tr>\n",
              "  </thead>\n",
              "  <tbody>\n",
              "    <tr>\n",
              "      <th>0</th>\n",
              "      <td>0</td>\n",
              "      <td>elections</td>\n",
              "      <td>0.5252</td>\n",
              "      <td>partido, presidente, elecciones, votos, gobier...</td>\n",
              "      <td>[presidente, trump, quejo, jueves, seguidores,...</td>\n",
              "    </tr>\n",
              "    <tr>\n",
              "      <th>1</th>\n",
              "      <td>1</td>\n",
              "      <td>peacy_treaty</td>\n",
              "      <td>0.6767</td>\n",
              "      <td>gobierno, presidente, ministro, consejo, acuer...</td>\n",
              "      <td>[gobernador, hector, conversaciones, gobierno,...</td>\n",
              "    </tr>\n",
              "    <tr>\n",
              "      <th>2</th>\n",
              "      <td>2</td>\n",
              "      <td>seism</td>\n",
              "      <td>0.4595</td>\n",
              "      <td>personas, terremoto, ayuda, ciudad, seismo, zo...</td>\n",
              "      <td>[autoridades, congo, jueves, muerte, centenar,...</td>\n",
              "    </tr>\n",
              "    <tr>\n",
              "      <th>3</th>\n",
              "      <td>3</td>\n",
              "      <td>economic_crisis</td>\n",
              "      <td>0.3184</td>\n",
              "      <td>millones, euros, gobierno, dolares, medidas, c...</td>\n",
              "      <td>[ministro, shinzo, abe, viernes, disculpas, fa...</td>\n",
              "    </tr>\n",
              "    <tr>\n",
              "      <th>4</th>\n",
              "      <td>4</td>\n",
              "      <td>sea_disasters</td>\n",
              "      <td>0.3357</td>\n",
              "      <td>personas, metros, rescate, zona, autoridades, ...</td>\n",
              "      <td>[guardia, submarino, kilos, aguas, abordaje, s...</td>\n",
              "    </tr>\n",
              "    <tr>\n",
              "      <th>5</th>\n",
              "      <td>5</td>\n",
              "      <td>violence</td>\n",
              "      <td>0.5224</td>\n",
              "      <td>policia, hombre, casa, mujer, muerte, familia,...</td>\n",
              "      <td>[condado, ohio, sentencia, profesora, contacto...</td>\n",
              "    </tr>\n",
              "    <tr>\n",
              "      <th>6</th>\n",
              "      <td>6</td>\n",
              "      <td>peacy_treaty</td>\n",
              "      <td>0.6356</td>\n",
              "      <td>gobierno, presidente, ministro, consejo, acuer...</td>\n",
              "      <td>[gobierno, kyriakos, viernes, presidente, parl...</td>\n",
              "    </tr>\n",
              "    <tr>\n",
              "      <th>7</th>\n",
              "      <td>7</td>\n",
              "      <td>protest</td>\n",
              "      <td>0.4092</td>\n",
              "      <td>presidente, gobierno, ministro, justicia, muba...</td>\n",
              "      <td>[barco, watch, carola, inmigrantes, viernes, q...</td>\n",
              "    </tr>\n",
              "    <tr>\n",
              "      <th>8</th>\n",
              "      <td>8</td>\n",
              "      <td>sea_disasters</td>\n",
              "      <td>0.3907</td>\n",
              "      <td>personas, metros, rescate, zona, autoridades, ...</td>\n",
              "      <td>[policia, viernes, tripulantes, grace, capitan...</td>\n",
              "    </tr>\n",
              "    <tr>\n",
              "      <th>9</th>\n",
              "      <td>9</td>\n",
              "      <td>elections</td>\n",
              "      <td>0.5685</td>\n",
              "      <td>partido, presidente, elecciones, votos, gobier...</td>\n",
              "      <td>[presidente, trump, viernes, gobierno, domingo...</td>\n",
              "    </tr>\n",
              "  </tbody>\n",
              "</table>\n",
              "</div>"
            ],
            "text/plain": [
              "   Document_No  ...                                               Text\n",
              "0            0  ...  [presidente, trump, quejo, jueves, seguidores,...\n",
              "1            1  ...  [gobernador, hector, conversaciones, gobierno,...\n",
              "2            2  ...  [autoridades, congo, jueves, muerte, centenar,...\n",
              "3            3  ...  [ministro, shinzo, abe, viernes, disculpas, fa...\n",
              "4            4  ...  [guardia, submarino, kilos, aguas, abordaje, s...\n",
              "5            5  ...  [condado, ohio, sentencia, profesora, contacto...\n",
              "6            6  ...  [gobierno, kyriakos, viernes, presidente, parl...\n",
              "7            7  ...  [barco, watch, carola, inmigrantes, viernes, q...\n",
              "8            8  ...  [policia, viernes, tripulantes, grace, capitan...\n",
              "9            9  ...  [presidente, trump, viernes, gobierno, domingo...\n",
              "\n",
              "[10 rows x 5 columns]"
            ]
          },
          "metadata": {
            "tags": []
          },
          "execution_count": 69
        }
      ]
    },
    {
      "cell_type": "code",
      "metadata": {
        "id": "in5E52W3pl_k",
        "colab_type": "code",
        "colab": {}
      },
      "source": [
        "df_news['labels'] = df_dominant_topic['Dominant_Topic']\n"
      ],
      "execution_count": 0,
      "outputs": []
    },
    {
      "cell_type": "markdown",
      "metadata": {
        "id": "mA35orWWqQMt",
        "colab_type": "text"
      },
      "source": [
        "Let's examine some text and its topics"
      ]
    },
    {
      "cell_type": "code",
      "metadata": {
        "id": "7cHF6NEHkHYh",
        "colab_type": "code",
        "colab": {
          "base_uri": "https://localhost:8080/",
          "height": 335
        },
        "outputId": "8141df9c-6d26-4d3d-d6d9-9643da78a7c7"
      },
      "source": [
        "df_news[['text2', 'labels']].head(10)"
      ],
      "execution_count": 74,
      "outputs": [
        {
          "output_type": "execute_result",
          "data": {
            "text/html": [
              "<div>\n",
              "<style scoped>\n",
              "    .dataframe tbody tr th:only-of-type {\n",
              "        vertical-align: middle;\n",
              "    }\n",
              "\n",
              "    .dataframe tbody tr th {\n",
              "        vertical-align: top;\n",
              "    }\n",
              "\n",
              "    .dataframe thead th {\n",
              "        text-align: right;\n",
              "    }\n",
              "</style>\n",
              "<table border=\"1\" class=\"dataframe\">\n",
              "  <thead>\n",
              "    <tr style=\"text-align: right;\">\n",
              "      <th></th>\n",
              "      <th>text2</th>\n",
              "      <th>labels</th>\n",
              "    </tr>\n",
              "  </thead>\n",
              "  <tbody>\n",
              "    <tr>\n",
              "      <th>0</th>\n",
              "      <td>El presidente estadounidense, Donald Trump, s...</td>\n",
              "      <td>elections</td>\n",
              "    </tr>\n",
              "    <tr>\n",
              "      <th>1</th>\n",
              "      <td>El gobernador del estado venezolano de Mirand...</td>\n",
              "      <td>peacy_treaty</td>\n",
              "    </tr>\n",
              "    <tr>\n",
              "      <th>2</th>\n",
              "      <td>Las autoridades de la República Democrática d...</td>\n",
              "      <td>seism</td>\n",
              "    </tr>\n",
              "    <tr>\n",
              "      <th>3</th>\n",
              "      <td>El primer ministro nipón, Shinzo Abe, pidió e...</td>\n",
              "      <td>economic_crisis</td>\n",
              "    </tr>\n",
              "    <tr>\n",
              "      <th>4</th>\n",
              "      <td>La Guardia Costera de EE UU ha interceptado u...</td>\n",
              "      <td>sea_disasters</td>\n",
              "    </tr>\n",
              "    <tr>\n",
              "      <th>5</th>\n",
              "      <td>Una jueza del condado de Hamilton (Ohio, EE U...</td>\n",
              "      <td>violence</td>\n",
              "    </tr>\n",
              "    <tr>\n",
              "      <th>6</th>\n",
              "      <td>El nuevo Gobierno griego del conservador Kyri...</td>\n",
              "      <td>peacy_treaty</td>\n",
              "    </tr>\n",
              "    <tr>\n",
              "      <th>7</th>\n",
              "      <td>La capitana del barco humanitario Sea Watch 3...</td>\n",
              "      <td>protest</td>\n",
              "    </tr>\n",
              "    <tr>\n",
              "      <th>8</th>\n",
              "      <td>La Policía de Gibraltar ha detenido este vier...</td>\n",
              "      <td>sea_disasters</td>\n",
              "    </tr>\n",
              "    <tr>\n",
              "      <th>9</th>\n",
              "      <td>El presidente de Estados Unidos, Donald Trump...</td>\n",
              "      <td>elections</td>\n",
              "    </tr>\n",
              "  </tbody>\n",
              "</table>\n",
              "</div>"
            ],
            "text/plain": [
              "                                               text2           labels\n",
              "0   El presidente estadounidense, Donald Trump, s...        elections\n",
              "1   El gobernador del estado venezolano de Mirand...     peacy_treaty\n",
              "2   Las autoridades de la República Democrática d...            seism\n",
              "3   El primer ministro nipón, Shinzo Abe, pidió e...  economic_crisis\n",
              "4   La Guardia Costera de EE UU ha interceptado u...    sea_disasters\n",
              "5   Una jueza del condado de Hamilton (Ohio, EE U...         violence\n",
              "6   El nuevo Gobierno griego del conservador Kyri...     peacy_treaty\n",
              "7   La capitana del barco humanitario Sea Watch 3...          protest\n",
              "8   La Policía de Gibraltar ha detenido este vier...    sea_disasters\n",
              "9   El presidente de Estados Unidos, Donald Trump...        elections"
            ]
          },
          "metadata": {
            "tags": []
          },
          "execution_count": 74
        }
      ]
    },
    {
      "cell_type": "code",
      "metadata": {
        "id": "sgkBFTYbqID0",
        "colab_type": "code",
        "colab": {
          "base_uri": "https://localhost:8080/",
          "height": 115
        },
        "outputId": "cb7ce341-6c49-48c3-eb15-cccb8a5ea902"
      },
      "source": [
        "df_news[ df_news['labels'] == 'family'].head().text2"
      ],
      "execution_count": 48,
      "outputs": [
        {
          "output_type": "execute_result",
          "data": {
            "text/plain": [
              "5      Una jueza del condado de Hamilton (Ohio, EE U...\n",
              "7      La capitana del barco humanitario Sea Watch 3...\n",
              "10     Un bebé de un año ha muerto en la localidad f...\n",
              "12     Una mujer de Nueva York denunció este miércol...\n",
              "14     El fiscal general venezolano, Tarek Saab, inf...\n",
              "Name: text2, dtype: object"
            ]
          },
          "metadata": {
            "tags": []
          },
          "execution_count": 48
        }
      ]
    },
    {
      "cell_type": "markdown",
      "metadata": {
        "id": "dCc6-oIo6BMw",
        "colab_type": "text"
      },
      "source": [
        "### let's see the distribution of topics\n"
      ]
    },
    {
      "cell_type": "code",
      "metadata": {
        "id": "VOitT-s10yv5",
        "colab_type": "code",
        "colab": {
          "base_uri": "https://localhost:8080/",
          "height": 337
        },
        "outputId": "16a4b62a-dd36-4607-a55b-ad77f80acf65"
      },
      "source": [
        "ax = df_dominant_topic['Dominant_Topic'].value_counts().plot(kind='bar')\n",
        "plt.show()"
      ],
      "execution_count": 75,
      "outputs": [
        {
          "output_type": "display_data",
          "data": {
            "image/png": "[encoded data removed]",
            "text/plain": [
              "<Figure size 432x288 with 1 Axes>"
            ]
          },
          "metadata": {
            "tags": []
          }
        }
      ]
    },
    {
      "cell_type": "markdown",
      "metadata": {
        "id": "Jh0l7ngJ6J12",
        "colab_type": "text"
      },
      "source": [
        "The topis are almost balanced, so we are good"
      ]
    },
    {
      "cell_type": "markdown",
      "metadata": {
        "id": "AcWRIAWTWhl7",
        "colab_type": "text"
      },
      "source": [
        "finally that we have our models set up, as well as analyzed, we can go\n",
        "ahead to visualizing them."
      ]
    },
    {
      "cell_type": "code",
      "metadata": {
        "id": "Jv3PFRwBs-gT",
        "colab_type": "code",
        "colab": {
          "base_uri": "https://localhost:8080/",
          "height": 521
        },
        "outputId": "6749bc00-2549-4857-d0bd-df8540c8accd"
      },
      "source": [
        "!pip install pyLDAvis"
      ],
      "execution_count": 50,
      "outputs": [
        {
          "output_type": "stream",
          "text": [
            "Collecting pyLDAvis\n",
            "\u001b[?25l  Downloading https://files.pythonhosted.org/packages/a5/3a/af82e070a8a96e13217c8f362f9a73e82d61ac8fff3a2561946a97f96266/pyLDAvis-2.1.2.tar.gz (1.6MB)\n",
            "\r\u001b[K     |▏                               | 10kB 14.5MB/s eta 0:00:01\r\u001b[K     |▍                               | 20kB 1.8MB/s eta 0:00:01\r\u001b[K     |▋                               | 30kB 2.6MB/s eta 0:00:01\r\u001b[K     |▉                               | 40kB 1.7MB/s eta 0:00:01\r\u001b[K     |█                               | 51kB 2.1MB/s eta 0:00:01\r\u001b[K     |█▏                              | 61kB 2.5MB/s eta 0:00:01\r\u001b[K     |█▍                              | 71kB 2.9MB/s eta 0:00:01\r\u001b[K     |█▋                              | 81kB 2.3MB/s eta 0:00:01\r\u001b[K     |█▉                              | 92kB 2.5MB/s eta 0:00:01\r\u001b[K     |██                              | 102kB 2.8MB/s eta 0:00:01\r\u001b[K     |██▎                             | 112kB 2.8MB/s eta 0:00:01\r\u001b[K     |██▍                             | 122kB 2.8MB/s eta 0:00:01\r\u001b[K     |██▋                             | 133kB 2.8MB/s eta 0:00:01\r\u001b[K     |██▉                             | 143kB 2.8MB/s eta 0:00:01\r\u001b[K     |███                             | 153kB 2.8MB/s eta 0:00:01\r\u001b[K     |███▎                            | 163kB 2.8MB/s eta 0:00:01\r\u001b[K     |███▌                            | 174kB 2.8MB/s eta 0:00:01\r\u001b[K     |███▋                            | 184kB 2.8MB/s eta 0:00:01\r\u001b[K     |███▉                            | 194kB 2.8MB/s eta 0:00:01\r\u001b[K     |████                            | 204kB 2.8MB/s eta 0:00:01\r\u001b[K     |████▎                           | 215kB 2.8MB/s eta 0:00:01\r\u001b[K     |████▌                           | 225kB 2.8MB/s eta 0:00:01\r\u001b[K     |████▊                           | 235kB 2.8MB/s eta 0:00:01\r\u001b[K     |████▉                           | 245kB 2.8MB/s eta 0:00:01\r\u001b[K     |█████                           | 256kB 2.8MB/s eta 0:00:01\r\u001b[K     |█████▎                          | 266kB 2.8MB/s eta 0:00:01\r\u001b[K     |█████▌                          | 276kB 2.8MB/s eta 0:00:01\r\u001b[K     |█████▊                          | 286kB 2.8MB/s eta 0:00:01\r\u001b[K     |█████▉                          | 296kB 2.8MB/s eta 0:00:01\r\u001b[K     |██████                          | 307kB 2.8MB/s eta 0:00:01\r\u001b[K     |██████▎                         | 317kB 2.8MB/s eta 0:00:01\r\u001b[K     |██████▌                         | 327kB 2.8MB/s eta 0:00:01\r\u001b[K     |██████▊                         | 337kB 2.8MB/s eta 0:00:01\r\u001b[K     |███████                         | 348kB 2.8MB/s eta 0:00:01\r\u001b[K     |███████                         | 358kB 2.8MB/s eta 0:00:01\r\u001b[K     |███████▎                        | 368kB 2.8MB/s eta 0:00:01\r\u001b[K     |███████▌                        | 378kB 2.8MB/s eta 0:00:01\r\u001b[K     |███████▊                        | 389kB 2.8MB/s eta 0:00:01\r\u001b[K     |████████                        | 399kB 2.8MB/s eta 0:00:01\r\u001b[K     |████████▏                       | 409kB 2.8MB/s eta 0:00:01\r\u001b[K     |████████▎                       | 419kB 2.8MB/s eta 0:00:01\r\u001b[K     |████████▌                       | 430kB 2.8MB/s eta 0:00:01\r\u001b[K     |████████▊                       | 440kB 2.8MB/s eta 0:00:01\r\u001b[K     |█████████                       | 450kB 2.8MB/s eta 0:00:01\r\u001b[K     |█████████▏                      | 460kB 2.8MB/s eta 0:00:01\r\u001b[K     |█████████▍                      | 471kB 2.8MB/s eta 0:00:01\r\u001b[K     |█████████▌                      | 481kB 2.8MB/s eta 0:00:01\r\u001b[K     |█████████▊                      | 491kB 2.8MB/s eta 0:00:01\r\u001b[K     |██████████                      | 501kB 2.8MB/s eta 0:00:01\r\u001b[K     |██████████▏                     | 512kB 2.8MB/s eta 0:00:01\r\u001b[K     |██████████▍                     | 522kB 2.8MB/s eta 0:00:01\r\u001b[K     |██████████▋                     | 532kB 2.8MB/s eta 0:00:01\r\u001b[K     |██████████▊                     | 542kB 2.8MB/s eta 0:00:01\r\u001b[K     |███████████                     | 552kB 2.8MB/s eta 0:00:01\r\u001b[K     |███████████▏                    | 563kB 2.8MB/s eta 0:00:01\r\u001b[K     |███████████▍                    | 573kB 2.8MB/s eta 0:00:01\r\u001b[K     |███████████▋                    | 583kB 2.8MB/s eta 0:00:01\r\u001b[K     |███████████▊                    | 593kB 2.8MB/s eta 0:00:01\r\u001b[K     |████████████                    | 604kB 2.8MB/s eta 0:00:01\r\u001b[K     |████████████▏                   | 614kB 2.8MB/s eta 0:00:01\r\u001b[K     |████████████▍                   | 624kB 2.8MB/s eta 0:00:01\r\u001b[K     |████████████▋                   | 634kB 2.8MB/s eta 0:00:01\r\u001b[K     |████████████▉                   | 645kB 2.8MB/s eta 0:00:01\r\u001b[K     |█████████████                   | 655kB 2.8MB/s eta 0:00:01\r\u001b[K     |█████████████▏                  | 665kB 2.8MB/s eta 0:00:01\r\u001b[K     |█████████████▍                  | 675kB 2.8MB/s eta 0:00:01\r\u001b[K     |█████████████▋                  | 686kB 2.8MB/s eta 0:00:01\r\u001b[K     |█████████████▉                  | 696kB 2.8MB/s eta 0:00:01\r\u001b[K     |██████████████                  | 706kB 2.8MB/s eta 0:00:01\r\u001b[K     |██████████████▏                 | 716kB 2.8MB/s eta 0:00:01\r\u001b[K     |██████████████▍                 | 727kB 2.8MB/s eta 0:00:01\r\u001b[K     |██████████████▋                 | 737kB 2.8MB/s eta 0:00:01\r\u001b[K     |██████████████▉                 | 747kB 2.8MB/s eta 0:00:01\r\u001b[K     |███████████████                 | 757kB 2.8MB/s eta 0:00:01\r\u001b[K     |███████████████▎                | 768kB 2.8MB/s eta 0:00:01\r\u001b[K     |███████████████▍                | 778kB 2.8MB/s eta 0:00:01\r\u001b[K     |███████████████▋                | 788kB 2.8MB/s eta 0:00:01\r\u001b[K     |███████████████▉                | 798kB 2.8MB/s eta 0:00:01\r\u001b[K     |████████████████                | 808kB 2.8MB/s eta 0:00:01\r\u001b[K     |████████████████▎               | 819kB 2.8MB/s eta 0:00:01\r\u001b[K     |████████████████▌               | 829kB 2.8MB/s eta 0:00:01\r\u001b[K     |████████████████▋               | 839kB 2.8MB/s eta 0:00:01\r\u001b[K     |████████████████▉               | 849kB 2.8MB/s eta 0:00:01\r\u001b[K     |█████████████████               | 860kB 2.8MB/s eta 0:00:01\r\u001b[K     |█████████████████▎              | 870kB 2.8MB/s eta 0:00:01\r\u001b[K     |█████████████████▌              | 880kB 2.8MB/s eta 0:00:01\r\u001b[K     |█████████████████▋              | 890kB 2.8MB/s eta 0:00:01\r\u001b[K     |█████████████████▉              | 901kB 2.8MB/s eta 0:00:01\r\u001b[K     |██████████████████              | 911kB 2.8MB/s eta 0:00:01\r\u001b[K     |██████████████████▎             | 921kB 2.8MB/s eta 0:00:01\r\u001b[K     |██████████████████▌             | 931kB 2.8MB/s eta 0:00:01\r\u001b[K     |██████████████████▊             | 942kB 2.8MB/s eta 0:00:01\r\u001b[K     |██████████████████▉             | 952kB 2.8MB/s eta 0:00:01\r\u001b[K     |███████████████████             | 962kB 2.8MB/s eta 0:00:01\r\u001b[K     |███████████████████▎            | 972kB 2.8MB/s eta 0:00:01\r\u001b[K     |███████████████████▌            | 983kB 2.8MB/s eta 0:00:01\r\u001b[K     |███████████████████▊            | 993kB 2.8MB/s eta 0:00:01\r\u001b[K     |████████████████████            | 1.0MB 2.8MB/s eta 0:00:01\r\u001b[K     |████████████████████            | 1.0MB 2.8MB/s eta 0:00:01\r\u001b[K     |████████████████████▎           | 1.0MB 2.8MB/s eta 0:00:01\r\u001b[K     |████████████████████▌           | 1.0MB 2.8MB/s eta 0:00:01\r\u001b[K     |████████████████████▊           | 1.0MB 2.8MB/s eta 0:00:01\r\u001b[K     |█████████████████████           | 1.1MB 2.8MB/s eta 0:00:01\r\u001b[K     |█████████████████████▏          | 1.1MB 2.8MB/s eta 0:00:01\r\u001b[K     |█████████████████████▎          | 1.1MB 2.8MB/s eta 0:00:01\r\u001b[K     |█████████████████████▌          | 1.1MB 2.8MB/s eta 0:00:01\r\u001b[K     |█████████████████████▊          | 1.1MB 2.8MB/s eta 0:00:01\r\u001b[K     |██████████████████████          | 1.1MB 2.8MB/s eta 0:00:01\r\u001b[K     |██████████████████████▏         | 1.1MB 2.8MB/s eta 0:00:01\r\u001b[K     |██████████████████████▍         | 1.1MB 2.8MB/s eta 0:00:01\r\u001b[K     |██████████████████████▌         | 1.1MB 2.8MB/s eta 0:00:01\r\u001b[K     |██████████████████████▊         | 1.1MB 2.8MB/s eta 0:00:01\r\u001b[K     |███████████████████████         | 1.2MB 2.8MB/s eta 0:00:01\r\u001b[K     |███████████████████████▏        | 1.2MB 2.8MB/s eta 0:00:01\r\u001b[K     |███████████████████████▍        | 1.2MB 2.8MB/s eta 0:00:01\r\u001b[K     |███████████████████████▌        | 1.2MB 2.8MB/s eta 0:00:01\r\u001b[K     |███████████████████████▊        | 1.2MB 2.8MB/s eta 0:00:01\r\u001b[K     |████████████████████████        | 1.2MB 2.8MB/s eta 0:00:01\r\u001b[K     |████████████████████████▏       | 1.2MB 2.8MB/s eta 0:00:01\r\u001b[K     |████████████████████████▍       | 1.2MB 2.8MB/s eta 0:00:01\r\u001b[K     |████████████████████████▋       | 1.2MB 2.8MB/s eta 0:00:01\r\u001b[K     |████████████████████████▊       | 1.2MB 2.8MB/s eta 0:00:01\r\u001b[K     |█████████████████████████       | 1.3MB 2.8MB/s eta 0:00:01\r\u001b[K     |█████████████████████████▏      | 1.3MB 2.8MB/s eta 0:00:01\r\u001b[K     |█████████████████████████▍      | 1.3MB 2.8MB/s eta 0:00:01\r\u001b[K     |█████████████████████████▋      | 1.3MB 2.8MB/s eta 0:00:01\r\u001b[K     |█████████████████████████▉      | 1.3MB 2.8MB/s eta 0:00:01\r\u001b[K     |██████████████████████████      | 1.3MB 2.8MB/s eta 0:00:01\r\u001b[K     |██████████████████████████▏     | 1.3MB 2.8MB/s eta 0:00:01\r\u001b[K     |██████████████████████████▍     | 1.3MB 2.8MB/s eta 0:00:01\r\u001b[K     |██████████████████████████▋     | 1.3MB 2.8MB/s eta 0:00:01\r\u001b[K     |██████████████████████████▉     | 1.4MB 2.8MB/s eta 0:00:01\r\u001b[K     |███████████████████████████     | 1.4MB 2.8MB/s eta 0:00:01\r\u001b[K     |███████████████████████████▏    | 1.4MB 2.8MB/s eta 0:00:01\r\u001b[K     |███████████████████████████▍    | 1.4MB 2.8MB/s eta 0:00:01\r\u001b[K     |███████████████████████████▋    | 1.4MB 2.8MB/s eta 0:00:01\r\u001b[K     |███████████████████████████▉    | 1.4MB 2.8MB/s eta 0:00:01\r\u001b[K     |████████████████████████████    | 1.4MB 2.8MB/s eta 0:00:01\r\u001b[K     |████████████████████████████▏   | 1.4MB 2.8MB/s eta 0:00:01\r\u001b[K     |████████████████████████████▍   | 1.4MB 2.8MB/s eta 0:00:01\r\u001b[K     |████████████████████████████▋   | 1.4MB 2.8MB/s eta 0:00:01\r\u001b[K     |████████████████████████████▉   | 1.5MB 2.8MB/s eta 0:00:01\r\u001b[K     |█████████████████████████████   | 1.5MB 2.8MB/s eta 0:00:01\r\u001b[K     |█████████████████████████████▎  | 1.5MB 2.8MB/s eta 0:00:01\r\u001b[K     |█████████████████████████████▍  | 1.5MB 2.8MB/s eta 0:00:01\r\u001b[K     |█████████████████████████████▋  | 1.5MB 2.8MB/s eta 0:00:01\r\u001b[K     |█████████████████████████████▉  | 1.5MB 2.8MB/s eta 0:00:01\r\u001b[K     |██████████████████████████████  | 1.5MB 2.8MB/s eta 0:00:01\r\u001b[K     |██████████████████████████████▎ | 1.5MB 2.8MB/s eta 0:00:01\r\u001b[K     |██████████████████████████████▌ | 1.5MB 2.8MB/s eta 0:00:01\r\u001b[K     |██████████████████████████████▋ | 1.5MB 2.8MB/s eta 0:00:01\r\u001b[K     |██████████████████████████████▉ | 1.6MB 2.8MB/s eta 0:00:01\r\u001b[K     |███████████████████████████████ | 1.6MB 2.8MB/s eta 0:00:01\r\u001b[K     |███████████████████████████████▎| 1.6MB 2.8MB/s eta 0:00:01\r\u001b[K     |███████████████████████████████▌| 1.6MB 2.8MB/s eta 0:00:01\r\u001b[K     |███████████████████████████████▊| 1.6MB 2.8MB/s eta 0:00:01\r\u001b[K     |███████████████████████████████▉| 1.6MB 2.8MB/s eta 0:00:01\r\u001b[K     |████████████████████████████████| 1.6MB 2.8MB/s \n",
            "\u001b[?25hRequirement already satisfied: wheel>=0.23.0 in /usr/local/lib/python3.6/dist-packages (from pyLDAvis) (0.33.6)\n",
            "Requirement already satisfied: numpy>=1.9.2 in /usr/local/lib/python3.6/dist-packages (from pyLDAvis) (1.16.5)\n",
            "Requirement already satisfied: scipy>=0.18.0 in /usr/local/lib/python3.6/dist-packages (from pyLDAvis) (1.3.1)\n",
            "Requirement already satisfied: pandas>=0.17.0 in /usr/local/lib/python3.6/dist-packages (from pyLDAvis) (0.24.2)\n",
            "Requirement already satisfied: joblib>=0.8.4 in /usr/local/lib/python3.6/dist-packages (from pyLDAvis) (0.13.2)\n",
            "Requirement already satisfied: jinja2>=2.7.2 in /usr/local/lib/python3.6/dist-packages (from pyLDAvis) (2.10.1)\n",
            "Requirement already satisfied: numexpr in /usr/local/lib/python3.6/dist-packages (from pyLDAvis) (2.7.0)\n",
            "Requirement already satisfied: pytest in /usr/local/lib/python3.6/dist-packages (from pyLDAvis) (3.6.4)\n",
            "Requirement already satisfied: future in /usr/local/lib/python3.6/dist-packages (from pyLDAvis) (0.16.0)\n",
            "Collecting funcy (from pyLDAvis)\n",
            "  Downloading https://files.pythonhosted.org/packages/eb/3a/fc8323f913e8a9c6f33f7203547f8a2171223da5ed965f2541dafb10aa09/funcy-1.13-py2.py3-none-any.whl\n",
            "Requirement already satisfied: pytz>=2011k in /usr/local/lib/python3.6/dist-packages (from pandas>=0.17.0->pyLDAvis) (2018.9)\n",
            "Requirement already satisfied: python-dateutil>=2.5.0 in /usr/local/lib/python3.6/dist-packages (from pandas>=0.17.0->pyLDAvis) (2.5.3)\n",
            "Requirement already satisfied: MarkupSafe>=0.23 in /usr/local/lib/python3.6/dist-packages (from jinja2>=2.7.2->pyLDAvis) (1.1.1)\n",
            "Requirement already satisfied: atomicwrites>=1.0 in /usr/local/lib/python3.6/dist-packages (from pytest->pyLDAvis) (1.3.0)\n",
            "Requirement already satisfied: setuptools in /usr/local/lib/python3.6/dist-packages (from pytest->pyLDAvis) (41.2.0)\n",
            "Requirement already satisfied: six>=1.10.0 in /usr/local/lib/python3.6/dist-packages (from pytest->pyLDAvis) (1.12.0)\n",
            "Requirement already satisfied: attrs>=17.4.0 in /usr/local/lib/python3.6/dist-packages (from pytest->pyLDAvis) (19.1.0)\n",
            "Requirement already satisfied: more-itertools>=4.0.0 in /usr/local/lib/python3.6/dist-packages (from pytest->pyLDAvis) (7.2.0)\n",
            "Requirement already satisfied: py>=1.5.0 in /usr/local/lib/python3.6/dist-packages (from pytest->pyLDAvis) (1.8.0)\n",
            "Requirement already satisfied: pluggy<0.8,>=0.5 in /usr/local/lib/python3.6/dist-packages (from pytest->pyLDAvis) (0.7.1)\n",
            "Building wheels for collected packages: pyLDAvis\n",
            "  Building wheel for pyLDAvis (setup.py) ... \u001b[?25l\u001b[?25hdone\n",
            "  Created wheel for pyLDAvis: filename=pyLDAvis-2.1.2-py2.py3-none-any.whl size=97711 sha256=92c312b5ac7db0b39960145bda19f138176d167cc43be944e15963af9fb0347f\n",
            "  Stored in directory: /root/.cache/pip/wheels/98/71/24/513a99e58bb6b8465bae4d2d5e9dba8f0bef8179e3051ac414\n",
            "Successfully built pyLDAvis\n",
            "Installing collected packages: funcy, pyLDAvis\n",
            "Successfully installed funcy-1.13 pyLDAvis-2.1.2\n"
          ],
          "name": "stdout"
        }
      ]
    },
    {
      "cell_type": "code",
      "metadata": {
        "id": "jXpx66NTd1uT",
        "colab_type": "code",
        "colab": {}
      },
      "source": [
        "import pyLDAvis\n",
        "\n",
        "pyLDAvis.enable_notebook()"
      ],
      "execution_count": 0,
      "outputs": []
    },
    {
      "cell_type": "code",
      "metadata": {
        "id": "diu2MLik41sf",
        "colab_type": "code",
        "colab": {
          "base_uri": "https://localhost:8080/",
          "height": 991
        },
        "outputId": "078af8ba-2310-4875-c8de-e24a06ee6340"
      },
      "source": [
        "# %%time\n",
        "import pyLDAvis.gensim\n",
        "pyLDAvis.gensim.prepare(ldamodel, corpus, dictionary)"
      ],
      "execution_count": 78,
      "outputs": [
        {
          "output_type": "stream",
          "text": [
            "/usr/local/lib/python3.6/dist-packages/pyLDAvis/_prepare.py:257: FutureWarning: Sorting because non-concatenation axis is not aligned. A future version\n",
            "of pandas will change to not sort by default.\n",
            "\n",
            "To accept the future behavior, pass 'sort=False'.\n",
            "\n",
            "To retain the current behavior and silence the warning, pass 'sort=True'.\n",
            "\n",
            "  return pd.concat([default_term_info] + list(topic_dfs))\n"
          ],
          "name": "stderr"
        },
        {
          "output_type": "execute_result",
          "data": {
            "text/html": [
              "\n",
              "<link rel=\"stylesheet\" type=\"text/css\" href=\"https://cdn.rawgit.com/bmabey/pyLDAvis/files/ldavis.v1.0.0.css\">\n",
              "\n",
              "\n",
              "<div id=\"ldavis_el1411399036466159769594658638\"></div>\n",
              "<script type=\"text/javascript\">\n",
              "\n",
              "var ldavis_el1411399036466159769594658638_data = {\"mdsDat\": {\"x\": [0.16461577693737886, -0.09499683392587661, 0.08171666239774676, 0.20989495211356465, -0.04636471619214842, 0.05070717505768469, 0.05381046922490242, 0.1508735042909307, -0.18860422510762645, -0.15096658186092465, -0.06790955065746539, -0.16277663227816616], \"y\": [-0.0392995078452781, 0.15072343703103636, -0.17247493569067526, -0.02919042007185402, 0.17544591835823684, 0.04155761471473057, 0.08389859244364314, 0.09594315664452732, -0.0037630562803551097, -0.07783648464116466, -0.221783849991875, -0.003220464670972061], \"topics\": [1, 2, 3, 4, 5, 6, 7, 8, 9, 10, 11, 12], \"cluster\": [1, 1, 1, 1, 1, 1, 1, 1, 1, 1, 1, 1], \"Freq\": [15.09286117553711, 11.203744888305664, 10.792635917663574, 9.424135208129883, 9.15520191192627, 7.767629623413086, 7.560818672180176, 7.2096781730651855, 6.2903337478637695, 5.600894927978516, 5.066352844238281, 4.835712909698486]}, \"tinfo\": {\"Category\": [\"Default\", \"Default\", \"Default\", \"Default\", \"Default\", \"Default\", \"Default\", \"Default\", \"Default\", \"Default\", \"Default\", \"Default\", \"Default\", \"Default\", \"Default\", \"Default\", \"Default\", \"Default\", \"Default\", \"Default\", \"Default\", \"Default\", \"Default\", \"Default\", \"Default\", \"Default\", \"Default\", \"Default\", \"Default\", \"Default\", \"Topic1\", \"Topic1\", \"Topic1\", \"Topic1\", \"Topic1\", \"Topic1\", \"Topic1\", \"Topic1\", \"Topic1\", \"Topic1\", \"Topic1\", \"Topic1\", \"Topic1\", \"Topic1\", \"Topic1\", \"Topic1\", \"Topic1\", \"Topic1\", \"Topic1\", \"Topic1\", \"Topic1\", \"Topic1\", \"Topic1\", \"Topic1\", \"Topic1\", \"Topic1\", \"Topic1\", \"Topic1\", \"Topic1\", \"Topic1\", \"Topic1\", \"Topic1\", \"Topic1\", \"Topic1\", \"Topic1\", \"Topic1\", \"Topic1\", \"Topic1\", \"Topic1\", \"Topic1\", \"Topic1\", \"Topic1\", \"Topic1\", \"Topic1\", \"Topic1\", \"Topic1\", \"Topic1\", \"Topic1\", \"Topic1\", \"Topic1\", \"Topic1\", \"Topic1\", \"Topic1\", \"Topic1\", \"Topic1\", \"Topic1\", \"Topic1\", \"Topic1\", \"Topic1\", \"Topic1\", \"Topic1\", \"Topic1\", \"Topic1\", \"Topic1\", \"Topic1\", \"Topic1\", \"Topic1\", \"Topic1\", \"Topic1\", \"Topic1\", \"Topic1\", \"Topic1\", \"Topic1\", \"Topic1\", \"Topic1\", \"Topic1\", \"Topic1\", \"Topic1\", \"Topic1\", \"Topic1\", \"Topic1\", \"Topic1\", \"Topic1\", \"Topic1\", \"Topic1\", \"Topic1\", \"Topic2\", \"Topic2\", \"Topic2\", \"Topic2\", \"Topic2\", \"Topic2\", \"Topic2\", \"Topic2\", \"Topic2\", \"Topic2\", \"Topic2\", \"Topic2\", \"Topic2\", \"Topic2\", \"Topic2\", \"Topic2\", \"Topic2\", \"Topic2\", \"Topic2\", \"Topic2\", \"Topic2\", \"Topic2\", \"Topic2\", \"Topic2\", \"Topic2\", \"Topic2\", \"Topic2\", \"Topic2\", \"Topic2\", \"Topic2\", \"Topic2\", \"Topic2\", \"Topic2\", \"Topic2\", \"Topic2\", \"Topic2\", \"Topic2\", \"Topic2\", \"Topic2\", \"Topic2\", \"Topic2\", \"Topic2\", \"Topic2\", \"Topic2\", \"Topic2\", \"Topic2\", \"Topic2\", \"Topic2\", \"Topic2\", \"Topic2\", \"Topic2\", \"Topic2\", \"Topic2\", \"Topic2\", \"Topic2\", \"Topic2\", \"Topic2\", \"Topic2\", \"Topic2\", \"Topic2\", \"Topic2\", \"Topic2\", \"Topic2\", \"Topic2\", \"Topic2\", \"Topic2\", \"Topic2\", \"Topic2\", \"Topic2\", \"Topic2\", \"Topic2\", \"Topic2\", \"Topic2\", \"Topic2\", \"Topic2\", \"Topic2\", \"Topic2\", \"Topic2\", \"Topic2\", \"Topic2\", \"Topic2\", \"Topic2\", \"Topic2\", \"Topic2\", \"Topic2\", \"Topic3\", \"Topic3\", \"Topic3\", \"Topic3\", \"Topic3\", \"Topic3\", \"Topic3\", \"Topic3\", \"Topic3\", \"Topic3\", \"Topic3\", \"Topic3\", \"Topic3\", \"Topic3\", \"Topic3\", \"Topic3\", \"Topic3\", \"Topic3\", \"Topic3\", \"Topic3\", \"Topic3\", \"Topic3\", \"Topic3\", \"Topic3\", \"Topic3\", \"Topic3\", \"Topic3\", \"Topic3\", \"Topic3\", \"Topic3\", \"Topic3\", \"Topic3\", \"Topic3\", \"Topic3\", \"Topic3\", \"Topic3\", \"Topic3\", \"Topic3\", \"Topic3\", \"Topic3\", \"Topic3\", \"Topic3\", \"Topic3\", \"Topic3\", \"Topic3\", \"Topic3\", \"Topic3\", \"Topic3\", \"Topic3\", \"Topic3\", \"Topic3\", \"Topic3\", \"Topic3\", \"Topic3\", \"Topic3\", \"Topic3\", \"Topic3\", \"Topic3\", \"Topic3\", \"Topic3\", \"Topic3\", \"Topic3\", \"Topic3\", \"Topic3\", \"Topic3\", \"Topic3\", \"Topic3\", \"Topic3\", \"Topic3\", \"Topic3\", \"Topic3\", \"Topic3\", \"Topic3\", \"Topic3\", \"Topic3\", \"Topic3\", \"Topic3\", \"Topic3\", \"Topic3\", \"Topic3\", \"Topic3\", \"Topic3\", \"Topic3\", \"Topic3\", \"Topic3\", \"Topic3\", \"Topic3\", \"Topic4\", \"Topic4\", \"Topic4\", \"Topic4\", \"Topic4\", \"Topic4\", \"Topic4\", \"Topic4\", \"Topic4\", \"Topic4\", \"Topic4\", \"Topic4\", \"Topic4\", \"Topic4\", \"Topic4\", \"Topic4\", \"Topic4\", \"Topic4\", \"Topic4\", \"Topic4\", \"Topic4\", \"Topic4\", \"Topic4\", \"Topic4\", \"Topic4\", \"Topic4\", \"Topic4\", \"Topic4\", \"Topic4\", \"Topic4\", \"Topic4\", \"Topic4\", \"Topic4\", \"Topic4\", \"Topic4\", \"Topic4\", \"Topic4\", \"Topic4\", \"Topic4\", \"Topic4\", \"Topic4\", \"Topic4\", \"Topic4\", \"Topic4\", \"Topic4\", \"Topic4\", \"Topic4\", \"Topic4\", \"Topic4\", \"Topic4\", \"Topic4\", \"Topic4\", \"Topic4\", \"Topic4\", \"Topic4\", \"Topic4\", \"Topic4\", \"Topic4\", \"Topic4\", \"Topic4\", \"Topic4\", \"Topic4\", \"Topic4\", \"Topic4\", \"Topic4\", \"Topic4\", \"Topic4\", \"Topic4\", \"Topic4\", \"Topic4\", \"Topic4\", \"Topic4\", \"Topic4\", \"Topic4\", \"Topic4\", \"Topic4\", \"Topic4\", \"Topic5\", \"Topic5\", \"Topic5\", \"Topic5\", \"Topic5\", \"Topic5\", \"Topic5\", \"Topic5\", \"Topic5\", \"Topic5\", \"Topic5\", \"Topic5\", \"Topic5\", \"Topic5\", \"Topic5\", \"Topic5\", \"Topic5\", \"Topic5\", \"Topic5\", \"Topic5\", \"Topic5\", \"Topic5\", \"Topic5\", \"Topic5\", \"Topic5\", \"Topic5\", \"Topic5\", \"Topic5\", \"Topic5\", \"Topic5\", \"Topic5\", \"Topic5\", \"Topic5\", \"Topic5\", \"Topic5\", \"Topic5\", \"Topic5\", \"Topic5\", \"Topic5\", \"Topic5\", \"Topic5\", \"Topic5\", \"Topic5\", \"Topic5\", \"Topic5\", \"Topic5\", \"Topic5\", \"Topic5\", \"Topic5\", \"Topic5\", \"Topic5\", \"Topic5\", \"Topic5\", \"Topic5\", \"Topic5\", \"Topic5\", \"Topic5\", \"Topic5\", \"Topic5\", \"Topic5\", \"Topic5\", \"Topic5\", \"Topic5\", \"Topic5\", \"Topic5\", \"Topic5\", \"Topic5\", \"Topic5\", \"Topic5\", \"Topic5\", \"Topic5\", \"Topic5\", \"Topic5\", \"Topic5\", \"Topic5\", \"Topic5\", \"Topic5\", \"Topic5\", \"Topic5\", \"Topic5\", \"Topic5\", \"Topic5\", \"Topic5\", \"Topic5\", \"Topic5\", \"Topic5\", \"Topic5\", \"Topic6\", \"Topic6\", \"Topic6\", \"Topic6\", \"Topic6\", \"Topic6\", \"Topic6\", \"Topic6\", \"Topic6\", \"Topic6\", \"Topic6\", \"Topic6\", \"Topic6\", \"Topic6\", \"Topic6\", \"Topic6\", \"Topic6\", \"Topic6\", \"Topic6\", \"Topic6\", \"Topic6\", \"Topic6\", \"Topic6\", \"Topic6\", \"Topic6\", \"Topic6\", \"Topic6\", \"Topic6\", \"Topic6\", \"Topic6\", \"Topic6\", \"Topic6\", \"Topic6\", \"Topic6\", \"Topic6\", \"Topic6\", \"Topic6\", \"Topic6\", \"Topic6\", \"Topic6\", \"Topic6\", \"Topic6\", \"Topic6\", \"Topic6\", \"Topic6\", \"Topic6\", \"Topic6\", \"Topic6\", \"Topic6\", \"Topic6\", \"Topic6\", \"Topic6\", \"Topic6\", \"Topic6\", \"Topic6\", \"Topic6\", \"Topic6\", \"Topic6\", \"Topic6\", \"Topic6\", \"Topic6\", \"Topic6\", \"Topic6\", \"Topic6\", \"Topic6\", \"Topic6\", \"Topic6\", \"Topic6\", \"Topic6\", \"Topic6\", \"Topic6\", \"Topic6\", \"Topic6\", \"Topic6\", \"Topic7\", \"Topic7\", \"Topic7\", \"Topic7\", \"Topic7\", \"Topic7\", \"Topic7\", \"Topic7\", \"Topic7\", \"Topic7\", \"Topic7\", \"Topic7\", \"Topic7\", \"Topic7\", \"Topic7\", \"Topic7\", \"Topic7\", \"Topic7\", \"Topic7\", \"Topic7\", \"Topic7\", \"Topic7\", \"Topic7\", \"Topic7\", \"Topic7\", \"Topic7\", \"Topic7\", \"Topic7\", \"Topic7\", \"Topic7\", \"Topic7\", \"Topic7\", \"Topic7\", \"Topic7\", \"Topic7\", \"Topic7\", \"Topic7\", \"Topic7\", \"Topic7\", \"Topic7\", \"Topic7\", \"Topic7\", \"Topic7\", \"Topic7\", \"Topic7\", \"Topic7\", \"Topic7\", \"Topic7\", \"Topic7\", \"Topic7\", \"Topic7\", \"Topic7\", \"Topic7\", \"Topic7\", \"Topic7\", \"Topic7\", \"Topic7\", \"Topic7\", \"Topic7\", \"Topic7\", \"Topic7\", \"Topic7\", \"Topic7\", \"Topic7\", \"Topic7\", \"Topic7\", \"Topic7\", \"Topic7\", \"Topic7\", \"Topic7\", \"Topic7\", \"Topic7\", \"Topic7\", \"Topic7\", \"Topic7\", \"Topic7\", \"Topic7\", \"Topic7\", \"Topic7\", \"Topic7\", \"Topic7\", \"Topic7\", \"Topic7\", \"Topic7\", \"Topic7\", \"Topic8\", \"Topic8\", \"Topic8\", \"Topic8\", \"Topic8\", \"Topic8\", \"Topic8\", \"Topic8\", \"Topic8\", \"Topic8\", \"Topic8\", \"Topic8\", \"Topic8\", \"Topic8\", \"Topic8\", \"Topic8\", \"Topic8\", \"Topic8\", \"Topic8\", \"Topic8\", \"Topic8\", \"Topic8\", \"Topic8\", \"Topic8\", \"Topic8\", \"Topic8\", \"Topic8\", \"Topic8\", \"Topic8\", \"Topic8\", \"Topic8\", \"Topic8\", \"Topic8\", \"Topic8\", \"Topic8\", \"Topic8\", \"Topic8\", \"Topic8\", \"Topic8\", \"Topic8\", \"Topic8\", \"Topic8\", \"Topic8\", \"Topic8\", \"Topic8\", \"Topic8\", \"Topic8\", \"Topic8\", \"Topic8\", \"Topic8\", \"Topic8\", \"Topic8\", \"Topic8\", \"Topic8\", \"Topic8\", \"Topic8\", \"Topic8\", \"Topic8\", \"Topic8\", \"Topic8\", \"Topic8\", \"Topic8\", \"Topic8\", \"Topic8\", \"Topic8\", \"Topic8\", \"Topic8\", \"Topic8\", \"Topic8\", \"Topic8\", \"Topic8\", \"Topic8\", \"Topic8\", \"Topic8\", \"Topic8\", \"Topic8\", \"Topic8\", \"Topic8\", \"Topic8\", \"Topic8\", \"Topic8\", \"Topic8\", \"Topic8\", \"Topic9\", \"Topic9\", \"Topic9\", \"Topic9\", \"Topic9\", \"Topic9\", \"Topic9\", \"Topic9\", \"Topic9\", \"Topic9\", \"Topic9\", \"Topic9\", \"Topic9\", \"Topic9\", \"Topic9\", \"Topic9\", \"Topic9\", \"Topic9\", \"Topic9\", \"Topic9\", \"Topic9\", \"Topic9\", \"Topic9\", \"Topic9\", \"Topic9\", \"Topic9\", \"Topic9\", \"Topic9\", \"Topic9\", \"Topic9\", \"Topic9\", \"Topic9\", \"Topic9\", \"Topic9\", \"Topic9\", \"Topic9\", \"Topic9\", \"Topic9\", \"Topic9\", \"Topic9\", \"Topic9\", \"Topic9\", \"Topic9\", \"Topic9\", \"Topic9\", \"Topic9\", \"Topic9\", \"Topic9\", \"Topic9\", \"Topic9\", \"Topic9\", \"Topic9\", \"Topic9\", \"Topic9\", \"Topic9\", \"Topic9\", \"Topic9\", \"Topic9\", \"Topic9\", \"Topic9\", \"Topic9\", \"Topic9\", \"Topic9\", \"Topic9\", \"Topic9\", \"Topic9\", \"Topic9\", \"Topic9\", \"Topic9\", \"Topic9\", \"Topic9\", \"Topic9\", \"Topic9\", \"Topic9\", \"Topic9\", \"Topic9\", \"Topic9\", \"Topic9\", \"Topic9\", \"Topic9\", \"Topic9\", \"Topic9\", \"Topic10\", \"Topic10\", \"Topic10\", \"Topic10\", \"Topic10\", \"Topic10\", \"Topic10\", \"Topic10\", \"Topic10\", \"Topic10\", \"Topic10\", \"Topic10\", \"Topic10\", \"Topic10\", \"Topic10\", \"Topic10\", \"Topic10\", \"Topic10\", \"Topic10\", \"Topic10\", \"Topic10\", \"Topic10\", \"Topic10\", \"Topic10\", \"Topic10\", \"Topic10\", \"Topic10\", \"Topic10\", \"Topic10\", \"Topic10\", \"Topic10\", \"Topic10\", \"Topic10\", \"Topic10\", \"Topic10\", \"Topic10\", \"Topic10\", \"Topic10\", \"Topic10\", \"Topic10\", \"Topic10\", \"Topic10\", \"Topic10\", \"Topic10\", \"Topic10\", \"Topic10\", \"Topic10\", \"Topic10\", \"Topic10\", \"Topic10\", \"Topic10\", \"Topic10\", \"Topic10\", \"Topic10\", \"Topic10\", \"Topic10\", \"Topic10\", \"Topic10\", \"Topic10\", \"Topic10\", \"Topic10\", \"Topic10\", \"Topic10\", \"Topic10\", \"Topic10\", \"Topic10\", \"Topic10\", \"Topic10\", \"Topic10\", \"Topic10\", \"Topic10\", \"Topic10\", \"Topic10\", \"Topic10\", \"Topic10\", \"Topic11\", \"Topic11\", \"Topic11\", \"Topic11\", \"Topic11\", \"Topic11\", \"Topic11\", \"Topic11\", \"Topic11\", \"Topic11\", \"Topic11\", \"Topic11\", \"Topic11\", \"Topic11\", \"Topic11\", \"Topic11\", \"Topic11\", \"Topic11\", \"Topic11\", \"Topic11\", \"Topic11\", \"Topic11\", \"Topic11\", \"Topic11\", \"Topic11\", \"Topic11\", \"Topic11\", \"Topic11\", \"Topic11\", \"Topic11\", \"Topic11\", \"Topic11\", \"Topic11\", \"Topic11\", \"Topic11\", \"Topic11\", \"Topic11\", \"Topic11\", \"Topic11\", \"Topic11\", \"Topic11\", \"Topic11\", \"Topic11\", \"Topic11\", \"Topic11\", \"Topic11\", \"Topic11\", \"Topic11\", \"Topic11\", \"Topic11\", \"Topic11\", \"Topic11\", \"Topic11\", \"Topic11\", \"Topic11\", \"Topic11\", \"Topic11\", \"Topic11\", \"Topic11\", \"Topic11\", \"Topic11\", \"Topic11\", \"Topic11\", \"Topic11\", \"Topic11\", \"Topic11\", \"Topic11\", \"Topic11\", \"Topic11\", \"Topic11\", \"Topic11\", \"Topic11\", \"Topic11\", \"Topic11\", \"Topic11\", \"Topic11\", \"Topic12\", \"Topic12\", \"Topic12\", \"Topic12\", \"Topic12\", \"Topic12\", \"Topic12\", \"Topic12\", \"Topic12\", \"Topic12\", \"Topic12\", \"Topic12\", \"Topic12\", \"Topic12\", \"Topic12\", \"Topic12\", \"Topic12\", \"Topic12\", \"Topic12\", \"Topic12\", \"Topic12\", \"Topic12\", \"Topic12\", \"Topic12\", \"Topic12\", \"Topic12\", \"Topic12\", \"Topic12\", \"Topic12\", \"Topic12\", \"Topic12\", \"Topic12\", \"Topic12\", \"Topic12\", \"Topic12\", \"Topic12\", \"Topic12\", \"Topic12\", \"Topic12\", \"Topic12\", \"Topic12\", \"Topic12\", \"Topic12\", \"Topic12\", \"Topic12\", \"Topic12\", \"Topic12\", \"Topic12\", \"Topic12\", \"Topic12\", \"Topic12\", \"Topic12\", \"Topic12\", \"Topic12\", \"Topic12\", \"Topic12\", \"Topic12\", \"Topic12\", \"Topic12\", \"Topic12\", \"Topic12\", \"Topic12\", \"Topic12\", \"Topic12\", \"Topic12\", \"Topic12\", \"Topic12\", \"Topic12\", \"Topic12\", \"Topic12\"], \"Freq\": [37172.0, 15402.0, 21162.0, 10230.0, 30382.0, 13790.0, 10019.0, 13704.0, 39332.0, 7521.0, 7960.0, 21484.0, 15885.0, 4092.0, 7686.0, 23000.0, 4611.0, 3319.0, 10630.0, 7389.0, 4632.0, 3431.0, 10689.0, 15894.0, 9437.0, 4979.0, 5137.0, 3646.0, 3213.0, 6633.0, 239.2644805908203, 272.3395690917969, 243.21531677246094, 204.42147827148438, 239.99130249023438, 204.14785766601562, 179.59115600585938, 172.50099182128906, 189.460693359375, 161.42494201660156, 154.34043884277344, 161.08767700195312, 179.18881225585938, 140.88473510742188, 171.8071746826172, 756.4933471679688, 120.50788879394531, 118.71825408935547, 118.0357437133789, 111.65057373046875, 107.08856201171875, 106.86448669433594, 136.71774291992188, 108.80646514892578, 99.8361587524414, 99.55852508544922, 397.15679931640625, 156.31251525878906, 98.59896850585938, 95.04673767089844, 2256.2099609375, 224.72677612304688, 184.87216186523438, 3213.291259765625, 299.1819763183594, 238.21669006347656, 3352.81494140625, 850.735107421875, 2139.486083984375, 394.2896728515625, 508.2096862792969, 1166.7376708984375, 7849.599609375, 2987.25341796875, 1930.217041015625, 4730.94482421875, 1647.7469482421875, 1006.6834716796875, 564.4768676757812, 1442.3450927734375, 4028.418212890625, 1072.482666015625, 6943.0400390625, 1315.2437744140625, 12085.6806640625, 4275.1279296875, 19138.04296875, 3113.68408203125, 975.4287109375, 937.2028198242188, 1599.1263427734375, 2281.876220703125, 14563.5654296875, 2559.831787109375, 2407.556396484375, 1200.6826171875, 1561.30078125, 4024.568115234375, 3252.64794921875, 2730.318115234375, 3276.276123046875, 3156.561279296875, 2850.542724609375, 5549.69970703125, 3075.398681640625, 5541.61376953125, 3188.8681640625, 3094.182861328125, 3045.584228515625, 2748.97802734375, 2746.57568359375, 3038.708251953125, 2778.717041015625, 2704.266845703125, 2819.59912109375, 2747.1708984375, 663.2764282226562, 295.0878601074219, 267.3175964355469, 180.98678588867188, 158.81182861328125, 148.0876922607422, 144.47117614746094, 138.33349609375, 118.24490356445312, 240.06333923339844, 112.43919372558594, 114.53821563720703, 113.83527374267578, 103.44200134277344, 134.88330078125, 98.24182891845703, 107.03036499023438, 90.55854034423828, 86.8590087890625, 79.69605255126953, 77.70063781738281, 76.43602752685547, 91.05936431884766, 71.8366928100586, 146.3808135986328, 71.68771362304688, 71.33011627197266, 125.62774658203125, 68.53250122070312, 68.39164733886719, 1284.02099609375, 551.9569091796875, 228.69326782226562, 126.19432830810547, 1512.9881591796875, 506.8409118652344, 3180.92626953125, 2143.1279296875, 212.4546661376953, 1108.480712890625, 2225.23681640625, 1271.48193359375, 436.8034973144531, 590.0892333984375, 2442.069580078125, 1904.92138671875, 412.13482666015625, 657.2498168945312, 5608.54296875, 1402.6610107421875, 1093.323486328125, 3946.967529296875, 373.39959716796875, 3319.904541015625, 823.9105834960938, 9067.5283203125, 3060.40478515625, 1671.843017578125, 1695.7215576171875, 3867.206298828125, 8280.556640625, 1724.7274169921875, 2049.2861328125, 9174.3583984375, 2421.950439453125, 3055.03173828125, 10794.9619140625, 5539.072265625, 1313.214599609375, 4891.357421875, 4889.45068359375, 2257.91455078125, 2617.157958984375, 3529.169677734375, 3480.550048828125, 2591.146484375, 3271.975341796875, 3152.2216796875, 2995.97705078125, 2899.5107421875, 2894.54345703125, 2914.072021484375, 2597.190673828125, 2474.3076171875, 2263.716552734375, 784.2776489257812, 309.98004150390625, 341.6006774902344, 234.2726593017578, 196.24485778808594, 170.88015747070312, 171.7589111328125, 390.0335998535156, 150.41754150390625, 145.57852172851562, 148.3275604248047, 136.08230590820312, 119.43513488769531, 181.90028381347656, 155.6330108642578, 117.67530059814453, 107.78063201904297, 106.1086654663086, 220.33782958984375, 745.14599609375, 102.72168731689453, 97.51793670654297, 96.23236846923828, 104.34455871582031, 88.03174591064453, 80.26053619384766, 79.78435516357422, 123.69877624511719, 81.66741943359375, 142.49488830566406, 1027.18310546875, 581.4447631835938, 1033.0458984375, 369.514892578125, 223.69119262695312, 1445.952880859375, 1222.6644287109375, 526.5526733398438, 170.42591857910156, 329.0521240234375, 1666.8819580078125, 9031.4599609375, 2340.08984375, 947.2521362304688, 737.1123657226562, 2734.79296875, 1993.100830078125, 1013.84423828125, 635.4555053710938, 901.9072875976562, 792.014892578125, 16288.45703125, 1016.4733276367188, 2552.533935546875, 443.5631103515625, 1067.909912109375, 4425.44384765625, 1252.0909423828125, 1943.0025634765625, 718.6826782226562, 1918.718017578125, 2174.929931640625, 755.1373291015625, 1438.2738037109375, 1770.4427490234375, 1376.25390625, 913.2459106445312, 4099.97265625, 1307.2083740234375, 2474.81982421875, 2185.62060546875, 1914.23095703125, 1766.0340576171875, 3153.58251953125, 2636.02734375, 1994.482421875, 5804.73291015625, 1768.6590576171875, 1545.3167724609375, 2036.1409912109375, 1894.0638427734375, 2240.903564453125, 2797.075439453125, 1821.4005126953125, 2109.6533203125, 1785.5616455078125, 1600.707763671875, 825.3916625976562, 455.31549072265625, 489.47039794921875, 622.5997314453125, 742.87451171875, 584.4393920898438, 328.7547912597656, 311.6382751464844, 332.1466064453125, 411.8235168457031, 521.5443725585938, 263.7447204589844, 221.4597625732422, 228.59957885742188, 235.8727264404297, 214.93844604492188, 204.73138427734375, 199.54261779785156, 192.2154083251953, 1037.30908203125, 180.86521911621094, 178.59921264648438, 185.25596618652344, 3625.751220703125, 140.41600036621094, 134.31704711914062, 168.84710693359375, 234.77391052246094, 188.9339599609375, 120.00482940673828, 1905.3546142578125, 3331.2978515625, 838.1990356445312, 415.54248046875, 4425.92333984375, 1145.698486328125, 983.7501831054688, 955.4473876953125, 441.4894104003906, 9269.49609375, 1049.050048828125, 2748.71826171875, 13090.833984375, 775.5700073242188, 351.4243469238281, 343.2222900390625, 2404.142333984375, 3128.390380859375, 589.6188354492188, 571.1024169921875, 805.7256469726562, 530.5125732421875, 1926.62109375, 2454.376953125, 588.9837646484375, 1993.6103515625, 1957.8065185546875, 2352.9697265625, 12028.6259765625, 1619.1436767578125, 1845.2313232421875, 1931.3350830078125, 1925.9847412109375, 1927.5396728515625, 2986.10693359375, 3013.781494140625, 1967.0828857421875, 2220.94873046875, 1259.329345703125, 3914.6201171875, 3010.431640625, 1769.7750244140625, 1456.1796875, 1524.80908203125, 1478.506591796875, 1778.232177734375, 1494.4423828125, 1057.5782470703125, 239.79803466796875, 359.9800109863281, 196.83302307128906, 169.13320922851562, 152.2270965576172, 147.4261016845703, 194.47286987304688, 161.82073974609375, 116.39373779296875, 122.76307678222656, 105.98750305175781, 105.7347640991211, 99.17990112304688, 96.14533996582031, 99.23212432861328, 94.8813705444336, 84.1959457397461, 83.7410659790039, 83.73627471923828, 83.56282043457031, 92.44792175292969, 928.0028686523438, 79.27478790283203, 77.12205505371094, 77.9730224609375, 74.91936492919922, 73.87142181396484, 267.0816345214844, 107.08209991455078, 420.7493896484375, 110.31723022460938, 116.68391418457031, 149.25973510742188, 108.93022155761719, 267.13043212890625, 468.5049133300781, 661.8346557617188, 119.99012756347656, 796.1581420898438, 194.3488311767578, 1371.0643310546875, 663.2880249023438, 347.2459411621094, 657.6029663085938, 2141.576416015625, 426.7258605957031, 3320.8525390625, 2368.947265625, 1446.7174072265625, 955.4002075195312, 4197.814453125, 1683.3807373046875, 7337.62109375, 1208.0582275390625, 3517.93505859375, 460.8739318847656, 1990.9742431640625, 900.9757690429688, 2141.68896484375, 1787.513427734375, 3905.911376953125, 1364.18017578125, 2122.50390625, 1318.63671875, 4068.09765625, 1774.338623046875, 3765.427734375, 1252.136962890625, 1278.9886474609375, 1045.7247314453125, 1772.4613037109375, 2103.14892578125, 2688.20263671875, 2356.72412109375, 2820.38916015625, 2570.263427734375, 2290.614013671875, 2250.44970703125, 1750.9332275390625, 2005.812255859375, 1420.2998046875, 1670.923583984375, 1711.3526611328125, 1623.630615234375, 1690.5626220703125, 1580.041015625, 874.0462646484375, 545.933837890625, 641.1304931640625, 487.0354309082031, 294.5196838378906, 434.497802734375, 435.2061767578125, 650.434326171875, 3201.38525390625, 310.4192810058594, 219.22276306152344, 203.03562927246094, 1146.824951171875, 1475.4302978515625, 176.2666473388672, 229.2944793701172, 164.56497192382812, 157.10430908203125, 136.31671142578125, 143.52294921875, 175.98350524902344, 133.01658630371094, 129.83180236816406, 233.796142578125, 146.2704315185547, 290.089111328125, 121.92406463623047, 117.55770874023438, 358.1132507324219, 140.33384704589844, 630.7106323242188, 2650.73291015625, 337.95257568359375, 360.9866943359375, 319.0274353027344, 2312.214111328125, 486.93603515625, 440.0836486816406, 670.5953369140625, 1578.3709716796875, 453.8364562988281, 393.56622314453125, 6058.77734375, 352.1313171386719, 612.7140502929688, 1734.19091796875, 438.8959655761719, 999.883056640625, 1051.26416015625, 3263.41552734375, 2087.59619140625, 908.6368408203125, 1629.193359375, 3290.9794921875, 1049.218994140625, 2865.802978515625, 1896.31005859375, 1560.2725830078125, 1417.7396240234375, 1095.94677734375, 1324.861328125, 1072.5477294921875, 2099.984619140625, 1486.382568359375, 1272.993896484375, 1414.6708984375, 1522.03759765625, 1228.2747802734375, 1529.4173583984375, 1241.5380859375, 1228.9010009765625, 1340.6444091796875, 1199.2608642578125, 1085.8316650390625, 376.7478332519531, 563.1951904296875, 229.0654754638672, 242.24441528320312, 395.82275390625, 198.25868225097656, 204.7222442626953, 181.1278839111328, 165.6626434326172, 155.60189819335938, 186.18553161621094, 152.71923828125, 136.2223663330078, 135.35960388183594, 129.7130584716797, 124.17573547363281, 122.7101058959961, 141.88336181640625, 116.96797943115234, 130.63034057617188, 119.2188720703125, 102.527099609375, 232.899169921875, 103.3958740234375, 91.91503143310547, 90.42967987060547, 554.2581176757812, 85.77967834472656, 84.46399688720703, 84.57193756103516, 410.65252685546875, 175.04153442382812, 180.0023651123047, 122.76687622070312, 1021.1110229492188, 311.1141052246094, 483.6036376953125, 1914.033203125, 3998.321044921875, 414.612060546875, 1493.2093505859375, 471.12908935546875, 295.802001953125, 1624.751953125, 362.8714599609375, 447.79815673828125, 311.0491027832031, 2791.831298828125, 456.6719055175781, 5441.39306640625, 561.919921875, 2622.94580078125, 1460.4581298828125, 882.753662109375, 1308.7108154296875, 411.3811340332031, 1401.5361328125, 482.256103515625, 2022.804443359375, 974.7022094726562, 768.345458984375, 3164.71728515625, 1400.7464599609375, 1947.980224609375, 3190.848388671875, 2182.6533203125, 1991.1104736328125, 1552.4361572265625, 871.7234497070312, 632.9293212890625, 1273.981201171875, 2567.11474609375, 907.5160522460938, 858.3969116210938, 1711.4864501953125, 1244.383544921875, 1516.2322998046875, 1674.1885986328125, 1968.90478515625, 2000.1978759765625, 1861.4859619140625, 1993.3516845703125, 2081.002685546875, 1595.7418212890625, 1349.4071044921875, 1231.98486328125, 2041.8367919921875, 314.4325866699219, 307.20751953125, 180.7640380859375, 185.3304901123047, 175.46075439453125, 1133.7132568359375, 218.33367919921875, 150.1137237548828, 143.8309783935547, 129.5911407470703, 126.85447692871094, 132.35226440429688, 124.49301147460938, 120.1213150024414, 116.33993530273438, 106.84229278564453, 98.2833251953125, 169.3441619873047, 117.1141128540039, 92.4843978881836, 91.17298889160156, 409.5509948730469, 113.47079467773438, 87.63094329833984, 86.65482330322266, 99.55429077148438, 81.28579711914062, 79.6635513305664, 605.830810546875, 451.75537109375, 323.15570068359375, 137.13197326660156, 1069.1983642578125, 490.1934814453125, 220.16880798339844, 167.90817260742188, 239.62628173828125, 742.7176513671875, 297.13311767578125, 873.13525390625, 1689.1099853515625, 363.9875793457031, 194.59100341796875, 1222.0760498046875, 1818.7579345703125, 731.9274291992188, 686.1609497070312, 701.6663818359375, 418.62548828125, 1251.2064208984375, 667.6864013671875, 1128.850341796875, 736.364501953125, 778.802734375, 1027.100341796875, 1070.9901123046875, 878.4090576171875, 692.8939819335938, 2053.953369140625, 6964.73095703125, 1038.564697265625, 817.9387817382812, 1237.2764892578125, 991.8998413085938, 1160.1773681640625, 4270.240234375, 1873.84228515625, 1409.838134765625, 2578.62939453125, 1654.3052978515625, 1472.6912841796875, 1355.85888671875, 1075.6583251953125, 922.4451904296875, 1519.3258056640625, 1111.649169921875, 1351.1263427734375, 1205.0123291015625, 1062.1109619140625, 1153.364501953125, 1124.1722412109375, 1097.57958984375, 1350.79736328125, 241.683837890625, 226.33810424804688, 235.2398223876953, 210.41326904296875, 194.7030487060547, 175.63999938964844, 166.53013610839844, 165.71893310546875, 141.75244140625, 136.9441375732422, 136.14405822753906, 292.2441101074219, 125.48751068115234, 953.2314453125, 164.1824493408203, 170.93484497070312, 113.02796936035156, 111.55289459228516, 111.59602355957031, 130.12127685546875, 104.89501190185547, 101.05951690673828, 99.0013656616211, 98.85948181152344, 101.4337387084961, 94.11129760742188, 93.25809478759766, 101.7044906616211, 940.8777465820312, 998.13525390625, 187.17555236816406, 128.45912170410156, 134.4147491455078, 143.70997619628906, 570.1583251953125, 229.8509521484375, 674.1395874023438, 393.4103088378906, 295.0880432128906, 195.20294189453125, 480.0181884765625, 381.7402648925781, 321.9238586425781, 286.19830322265625, 1397.711181640625, 2938.9560546875, 263.47900390625, 2018.7491455078125, 1189.1324462890625, 1484.4290771484375, 856.9360961914062, 1110.1846923828125, 1359.2645263671875, 2933.24755859375, 1532.28125, 2058.564453125, 623.766357421875, 1089.3731689453125, 366.0215759277344, 599.736572265625, 1033.1314697265625, 987.413818359375, 1911.40576171875, 2845.935302734375, 1742.72265625, 4145.802734375, 2683.495849609375, 818.0278930664062, 695.4515991210938, 1649.1932373046875, 1523.5850830078125, 1432.54443359375, 1605.2120361328125, 1413.171142578125, 1304.72705078125, 1201.7025146484375, 1157.3441162109375, 1073.74658203125, 1051.5655517578125, 1039.3544921875, 1906.123046875, 507.9797668457031, 440.7146301269531, 537.572021484375, 314.2440490722656, 272.5747985839844, 294.46502685546875, 300.4576721191406, 247.60372924804688, 2708.9677734375, 200.10971069335938, 218.1329803466797, 152.3822784423828, 155.22674560546875, 153.9165496826172, 155.98529052734375, 148.4792938232422, 180.57577514648438, 134.9905548095703, 113.53868865966797, 109.92743682861328, 109.12980651855469, 106.56976318359375, 149.77578735351562, 102.83891296386719, 97.2120132446289, 95.48467254638672, 92.75939178466797, 104.62410736083984, 89.83541870117188, 423.84637451171875, 279.2415771484375, 276.07110595703125, 238.83108520507812, 794.9427490234375, 338.54144287109375, 717.276611328125, 443.78778076171875, 132.45179748535156, 984.82861328125, 227.86036682128906, 1715.9481201171875, 1279.8570556640625, 643.1796875, 702.8901977539062, 288.2856140136719, 1196.516357421875, 1181.97900390625, 1003.6083984375, 901.3494262695312, 1905.3609619140625, 1022.760498046875, 2522.232421875, 992.9071044921875, 759.0167236328125, 5790.21484375, 1752.1226806640625, 517.985595703125, 1528.12158203125, 1722.771728515625, 807.7660522460938, 1078.8978271484375, 594.7279663085938, 1452.951904296875, 1813.76513671875, 1944.9061279296875, 956.2325439453125, 1812.1453857421875, 1161.332763671875, 1229.0809326171875, 946.6656494140625, 1161.4906005859375, 1229.077880859375, 1385.627685546875, 1239.7093505859375, 677.2078857421875, 1143.3822021484375, 679.9210205078125, 340.17218017578125, 358.6409606933594, 227.17478942871094, 240.7639923095703, 233.79034423828125, 199.01858520507812, 192.3558807373047, 185.0545654296875, 172.58204650878906, 173.50836181640625, 1206.429931640625, 388.9300842285156, 155.83270263671875, 134.22386169433594, 120.68233489990234, 775.78076171875, 323.91796875, 132.77696228027344, 109.96456146240234, 107.57699584960938, 110.94149017333984, 101.65534973144531, 101.91143035888672, 110.07258605957031, 102.03565216064453, 962.8848266601562, 101.2790298461914, 256.9774475097656, 210.97198486328125, 280.651123046875, 175.58457946777344, 203.1326904296875, 179.56076049804688, 831.5073852539062, 553.802978515625, 505.0254821777344, 924.9969482421875, 991.9642944335938, 399.0536804199219, 480.34967041015625, 2681.847412109375, 320.5035095214844, 1018.9326782226562, 789.49560546875, 581.5271606445312, 2539.8330078125, 630.3389282226562, 285.1960754394531, 597.1407470703125, 625.0393676757812, 1441.8057861328125, 1949.4034423828125, 852.4397583007812, 620.260986328125, 861.3818969726562, 1290.0849609375, 584.1332397460938, 888.5070190429688, 1453.290283203125, 797.0531005859375, 686.8209838867188, 1318.511962890625, 1529.053466796875, 1202.1781005859375, 1014.3579711914062, 939.3433837890625, 1161.6480712890625, 864.38330078125, 1176.4454345703125, 902.2280883789062, 1065.140869140625, 875.7308959960938, 797.8125610351562, 2560.505126953125, 2295.776123046875, 565.3340454101562, 581.3394165039062, 603.8470458984375, 388.10296630859375, 297.88702392578125, 238.0151824951172, 214.90362548828125, 223.43063354492188, 348.40948486328125, 345.4638366699219, 3304.251220703125, 203.7067108154297, 205.84315490722656, 208.82115173339844, 193.47213745117188, 215.2132568359375, 353.2770690917969, 703.8067626953125, 216.55484008789062, 150.8601531982422, 156.83090209960938, 157.21632385253906, 139.41432189941406, 188.96644592285156, 261.9321594238281, 129.6219940185547, 124.79894256591797, 120.62239074707031, 810.0343627929688, 648.7205200195312, 2513.599853515625, 902.439697265625, 347.7692565917969, 895.285888671875, 189.09109497070312, 3684.8798828125, 1070.9759521484375, 2983.727294921875, 348.0486755371094, 1318.55908203125, 454.9360656738281, 461.46160888671875, 1398.0791015625, 629.3384399414062, 652.9473266601562, 333.0699157714844, 1040.928466796875, 605.4349975585938, 2399.88525390625, 737.5320434570312, 1732.14111328125, 1096.9091796875, 908.5546875, 814.3480834960938, 1876.3759765625, 2104.732177734375, 1133.4630126953125, 1792.283203125, 1279.273681640625, 1092.71533203125, 1052.605712890625, 1020.5567016601562, 876.5567016601562, 957.2350463867188, 948.4879150390625, 823.9794921875, 859.2147216796875, 819.32861328125], \"Term\": [\"presidente\", \"partido\", \"millones\", \"elecciones\", \"personas\", \"policia\", \"euros\", \"fuerzas\", \"gobierno\", \"mujeres\", \"derechos\", \"seguridad\", \"ciudad\", \"aeropuerto\", \"mujer\", \"ministro\", \"votos\", \"avion\", \"zona\", \"ataque\", \"humanos\", \"accidente\", \"muerte\", \"autoridades\", \"consejo\", \"rescate\", \"agua\", \"candidato\", \"papa\", \"hombre\", \"isaf\", \"expulsiones\", \"concesiones\", \"muamar\", \"autodeterminacion\", \"fein\", \"transmitio\", \"etarras\", \"negociadores\", \"spiegel\", \"bio\", \"desequilibrios\", \"uralde\", \"saif\", \"sinn\", \"abas\", \"kosovo\", \"islamismo\", \"malvinas\", \"aprovisionamiento\", \"wulff\", \"guido\", \"repliegue\", \"bahrein\", \"nicole\", \"innovacion\", \"flotilla\", \"soberania\", \"mula\", \"pene\", \"dialogo\", \"regimenes\", \"legitimas\", \"negociaciones\", \"embajadores\", \"kyi\", \"cumbre\", \"diplomacia\", \"sanciones\", \"catherine\", \"potencias\", \"referendum\", \"consejo\", \"ministros\", \"reunion\", \"paz\", \"conversaciones\", \"transicion\", \"consultas\", \"solucion\", \"asuntos\", \"acuerdos\", \"acuerdo\", \"embajador\", \"ministro\", \"union\", \"gobierno\", \"secretario\", \"rusia\", \"jefes\", \"compromiso\", \"conflicto\", \"presidente\", \"naciones\", \"relaciones\", \"independencia\", \"encuentro\", \"crisis\", \"decision\", \"parlamento\", \"pueblo\", \"apoyo\", \"armas\", \"seguridad\", \"situacion\", \"parte\", \"anuncio\", \"miembros\", \"jefe\", \"fin\", \"proceso\", \"lunes\", \"prensa\", \"medidas\", \"jueves\", \"viernes\", \"guantanamo\", \"abdala\", \"insurgentes\", \"daichi\", \"insurgencia\", \"accio\", \"acapulco\", \"somali\", \"monterrey\", \"molotov\", \"gimnasio\", \"ras\", \"shabab\", \"burbuja\", \"altercados\", \"rafah\", \"cns\", \"saleh\", \"tampa\", \"atribuciones\", \"colinas\", \"captor\", \"detono\", \"repaso\", \"colonos\", \"zawahiri\", \"razas\", \"mortero\", \"autocar\", \"oise\", \"gaza\", \"milicianos\", \"barricadas\", \"hebdo\", \"disturbios\", \"qaeda\", \"manifestantes\", \"enfrentamientos\", \"yihad\", \"hamas\", \"atentados\", \"franja\", \"mezquita\", \"choques\", \"atentado\", \"bomba\", \"rehenes\", \"explosivos\", \"ataque\", \"manifestacion\", \"terroristas\", \"ataques\", \"cohetes\", \"soldados\", \"explosiones\", \"fuerzas\", \"plaza\", \"heridos\", \"barrio\", \"protestas\", \"ciudad\", \"policias\", \"calles\", \"seguridad\", \"fuego\", \"muertos\", \"personas\", \"policia\", \"cairo\", \"fuentes\", \"grupo\", \"operacion\", \"violencia\", \"zona\", \"centro\", \"grupos\", \"lugar\", \"portavoz\", \"viernes\", \"domingo\", \"horas\", \"autoridades\", \"parte\", \"ministro\", \"lunes\", \"reactor\", \"vertido\", \"recorte\", \"bonos\", \"timoshenko\", \"canciones\", \"liquidez\", \"salarios\", \"snowden\", \"prestaciones\", \"estimulo\", \"despidos\", \"rentas\", \"plantilla\", \"contratacion\", \"pasillo\", \"mediaset\", \"barril\", \"consorcio\", \"pib\", \"gazprom\", \"piscinas\", \"vendedor\", \"recaudacion\", \"fumadores\", \"angie\", \"decepcion\", \"accionistas\", \"medicion\", \"repsol\", \"ingresos\", \"billones\", \"pensiones\", \"trimestre\", \"renta\", \"recortes\", \"bancos\", \"ahorro\", \"deudas\", \"camisas\", \"deuda\", \"euros\", \"banco\", \"desempleo\", \"presupuesto\", \"empresas\", \"crecimiento\", \"gasto\", \"ajuste\", \"precios\", \"inversiones\", \"millones\", \"sindicatos\", \"sector\", \"pagos\", \"mercados\", \"dolares\", \"impuestos\", \"mercado\", \"tasa\", \"euro\", \"economia\", \"gastos\", \"empleo\", \"fondo\", \"fondos\", \"paro\", \"medidas\", \"productos\", \"plan\", \"dinero\", \"empresa\", \"trabajadores\", \"crisis\", \"trabajo\", \"reforma\", \"gobierno\", \"proyecto\", \"aumento\", \"sistema\", \"programa\", \"ley\", \"parte\", \"datos\", \"acuerdo\", \"meses\", \"caso\", \"sondeos\", \"kaczynski\", \"sufragios\", \"electores\", \"candidata\", \"rival\", \"palin\", \"behring\", \"hillary\", \"aspirante\", \"party\", \"democrata\", \"llamazares\", \"esca\", \"mitt\", \"anders\", \"romney\", \"papeletas\", \"papandreu\", \"clinton\", \"pasok\", \"crowley\", \"urna\", \"candidato\", \"miliband\", \"komorowski\", \"democratas\", \"vencedor\", \"circunscripciones\", \"zelaya\", \"candidatos\", \"comicios\", \"candidatura\", \"escrutinio\", \"votos\", \"encuestas\", \"urnas\", \"votantes\", \"sondeo\", \"elecciones\", \"senador\", \"voto\", \"partido\", \"bush\", \"magnate\", \"votaciones\", \"victoria\", \"partidos\", \"senadores\", \"murdoch\", \"triunfo\", \"trump\", \"vuelta\", \"congreso\", \"formaciones\", \"formacion\", \"campa\", \"resultados\", \"presidente\", \"coalicion\", \"diputados\", \"discurso\", \"presidencia\", \"reforma\", \"casa\", \"domingo\", \"lider\", \"apoyo\", \"mandato\", \"gobierno\", \"ministro\", \"parlamento\", \"debate\", \"cargo\", \"movimiento\", \"parte\", \"vez\", \"kahn\", \"pistolas\", \"tumor\", \"videla\", \"mccann\", \"cadaver\", \"tibet\", \"rifle\", \"giffords\", \"ovulos\", \"infantes\", \"cobijo\", \"franquismo\", \"mora\", \"planos\", \"fecundacion\", \"padrastro\", \"botas\", \"pulseras\", \"certamen\", \"colgo\", \"pederasta\", \"brown\", \"hua\", \"jaque\", \"cirujanos\", \"masajes\", \"pastilla\", \"autopsia\", \"milagros\", \"pistola\", \"estatura\", \"sheriff\", \"vegas\", \"pakistani\", \"taylor\", \"agresor\", \"alumnos\", \"sotano\", \"agente\", \"narcotraficantes\", \"tiroteo\", \"domicilio\", \"tiro\", \"estudiante\", \"video\", \"pecho\", \"hospital\", \"madre\", \"escuela\", \"arma\", \"hombre\", \"hija\", \"policia\", \"hermano\", \"familia\", \"condado\", \"cuerpo\", \"disparo\", \"hijo\", \"asesinato\", \"mujer\", \"autor\", \"padre\", \"padres\", \"casa\", \"agentes\", \"muerte\", \"cabeza\", \"hechos\", \"estudiantes\", \"investigacion\", \"armas\", \"caso\", \"medios\", \"autoridades\", \"despues\", \"centro\", \"momento\", \"diario\", \"vida\", \"hijos\", \"prensa\", \"horas\", \"lugar\", \"personas\", \"fuentes\", \"benedicto\", \"sacerdotes\", \"cardenal\", \"arzobispo\", \"cardenales\", \"sacerdote\", \"obispos\", \"obispo\", \"papa\", \"congregacion\", \"pederastia\", \"diocesis\", \"xvi\", \"sexo\", \"comic\", \"curas\", \"psicologo\", \"pintor\", \"archidiocesis\", \"sexualidad\", \"dibujos\", \"celibato\", \"pontifice\", \"matrimonios\", \"gosling\", \"dientes\", \"maraton\", \"bergoglio\", \"velo\", \"pechos\", \"parejas\", \"iglesia\", \"lama\", \"homosexualidad\", \"novela\", \"matrimonio\", \"aborto\", \"embarazo\", \"arte\", \"libro\", \"prostitucion\", \"moda\", \"mujeres\", \"chicas\", \"amor\", \"abusos\", \"actriz\", \"dios\", \"obra\", \"mujer\", \"hombres\", \"museo\", \"hijos\", \"mundo\", \"imagen\", \"vida\", \"casos\", \"padre\", \"edad\", \"documentos\", \"nombre\", \"sociedad\", \"caso\", \"familia\", \"historia\", \"hombre\", \"vez\", \"trabajo\", \"parte\", \"ley\", \"tiempo\", \"personas\", \"despues\", \"gente\", \"mladic\", \"morsi\", \"etarra\", \"saharauis\", \"cooperantes\", \"escaneres\", \"capsula\", \"maliki\", \"beltran\", \"mursi\", \"guerrero\", \"assad\", \"mapas\", \"desordenes\", \"tuberculosis\", \"eutanasia\", \"karadzic\", \"kurdos\", \"boicot\", \"pkk\", \"pinochet\", \"turcos\", \"cannabis\", \"cerdo\", \"sharif\", \"plantaciones\", \"ejecuciones\", \"eei\", \"iberia\", \"dibujo\", \"genocidio\", \"robinson\", \"bettencourt\", \"pietro\", \"assange\", \"apelaciones\", \"marihuana\", \"sentencia\", \"humanos\", \"farc\", \"wikileaks\", \"tortura\", \"rights\", \"crimenes\", \"extradicion\", \"torturas\", \"human\", \"tribunal\", \"correa\", \"derechos\", \"ejecucion\", \"juez\", \"pena\", \"violaciones\", \"corte\", \"alias\", \"delitos\", \"guerrilla\", \"juicio\", \"abogados\", \"rebeldes\", \"guerra\", \"prision\", \"defensa\", \"muerte\", \"libertad\", \"justicia\", \"informe\", \"abogado\", \"jueces\", \"organizacion\", \"caso\", \"detencion\", \"audiencia\", \"proceso\", \"regimen\", \"grupos\", \"ley\", \"grupo\", \"fuerzas\", \"autoridades\", \"parte\", \"personas\", \"gobierno\", \"meses\", \"hosni\", \"mubarak\", \"coelho\", \"zapata\", \"agujas\", \"luiz\", \"socrates\", \"castro\", \"cubillas\", \"apartheid\", \"stanley\", \"canje\", \"tigres\", \"elias\", \"lula\", \"sicarios\", \"magistratura\", \"sorpresas\", \"regimiento\", \"nestor\", \"marti\", \"brasilia\", \"disminucion\", \"sao\", \"implantes\", \"tesorero\", \"excarcelaciones\", \"webs\", \"concordia\", \"anillos\", \"silva\", \"paulo\", \"cristina\", \"eloy\", \"brasile\", \"guillermo\", \"mena\", \"ocampo\", \"querella\", \"dictadura\", \"vargas\", \"carlos\", \"venezuela\", \"caracas\", \"elbaradei\", \"rey\", \"presos\", \"expresidente\", \"mahmud\", \"brasil\", \"misa\", \"juan\", \"cuba\", \"golpe\", \"revolucion\", \"ceremonia\", \"presidenta\", \"palacio\", \"principe\", \"aires\", \"justicia\", \"presidente\", \"hermanos\", \"premio\", \"poder\", \"nicolas\", \"mandatario\", \"gobierno\", \"pueblo\", \"cargo\", \"ministro\", \"jefe\", \"libertad\", \"protestas\", \"acto\", \"vicepresidente\", \"caso\", \"febrero\", \"dias\", \"proceso\", \"lider\", \"despues\", \"muerte\", \"mineros\", \"barco\", \"cautiverio\", \"dmitri\", \"auschwitz\", \"secuestradores\", \"naufragio\", \"derrame\", \"ceniza\", \"coca\", \"magrebi\", \"perforacion\", \"lobo\", \"embarcaciones\", \"argel\", \"buque\", \"satelites\", \"lampedusa\", \"profundidades\", \"suu\", \"devastador\", \"transbordador\", \"carguero\", \"condones\", \"discovery\", \"sinai\", \"endeavour\", \"aqmi\", \"desprendio\", \"mohammadi\", \"costas\", \"mina\", \"barro\", \"bote\", \"hundio\", \"yacimiento\", \"nube\", \"aaiun\", \"barcos\", \"marfil\", \"millas\", \"tigre\", \"libios\", \"magreb\", \"marea\", \"hundimiento\", \"aguas\", \"metros\", \"mancha\", \"mar\", \"costa\", \"restos\", \"parque\", \"turistas\", \"cadaveres\", \"rescate\", \"puerto\", \"isla\", \"nave\", \"inmigrantes\", \"huesos\", \"tormenta\", \"cuerpos\", \"equipos\", \"kilometros\", \"zona\", \"agua\", \"personas\", \"autoridades\", \"campo\", \"toneladas\", \"horas\", \"dias\", \"lugar\", \"parte\", \"ciudad\", \"centro\", \"momento\", \"domingo\", \"vida\", \"fuentes\", \"hora\", \"seismo\", \"planetas\", \"tsunami\", \"temblor\", \"burka\", \"valle\", \"sismo\", \"replicas\", \"haitianos\", \"terremoto\", \"velasco\", \"richter\", \"nahda\", \"amro\", \"lodo\", \"conducto\", \"comandos\", \"temblores\", \"operadora\", \"lanchas\", \"placas\", \"asolo\", \"sharia\", \"obesidad\", \"serra\", \"tragedias\", \"prostituta\", \"triangulo\", \"derogacion\", \"wen\", \"unicef\", \"toulouse\", \"terremotos\", \"uniones\", \"bagdad\", \"pozo\", \"magnitud\", \"sacudio\", \"construcciones\", \"escombros\", \"catastrofes\", \"grados\", \"casas\", \"epicentro\", \"inundaciones\", \"mortalidad\", \"escala\", \"habitantes\", \"alimentos\", \"viviendas\", \"zonas\", \"refugiados\", \"ayuda\", \"edificios\", \"incendio\", \"personas\", \"agua\", \"intensidad\", \"poblacion\", \"muertos\", \"chile\", \"emergencia\", \"bomberos\", \"kilometros\", \"zona\", \"ciudad\", \"numero\", \"millones\", \"situacion\", \"mundo\", \"provincia\", \"centro\", \"autoridades\", \"gobierno\", \"parte\", \"moratinos\", \"cientificos\", \"nasa\", \"gripe\", \"seul\", \"telescopio\", \"invernadero\", \"coreas\", \"particulas\", \"asteroide\", \"ensayos\", \"homosexuales\", \"kcna\", \"corea\", \"calentamiento\", \"science\", \"tiburones\", \"salvavidas\", \"moon\", \"marte\", \"ensayo\", \"cautividad\", \"corteza\", \"ecosistemas\", \"said\", \"carros\", \"cesio\", \"recetas\", \"especies\", \"meteoritos\", \"genes\", \"biodiversidad\", \"vih\", \"fujimori\", \"peces\", \"escudo\", \"kim\", \"temperatura\", \"carbono\", \"hielo\", \"planeta\", \"contaminacion\", \"celulas\", \"estudio\", \"capa\", \"sol\", \"luna\", \"estrellas\", \"tierra\", \"estrella\", \"greenpeace\", \"emisiones\", \"especie\", \"investigadores\", \"universidad\", \"superficie\", \"temperaturas\", \"niveles\", \"expertos\", \"lanzamiento\", \"energia\", \"agua\", \"revista\", \"animales\", \"cambio\", \"mundo\", \"sistema\", \"equipo\", \"nivel\", \"vez\", \"desarrollo\", \"millones\", \"tipo\", \"parte\", \"agencia\", \"veces\", \"vuelos\", \"vuelo\", \"airlines\", \"pilotos\", \"air\", \"aterrizaje\", \"islandes\", \"barajas\", \"bacteria\", \"controladores\", \"aeronave\", \"boeing\", \"avion\", \"equipaje\", \"vagones\", \"vacunas\", \"cancelaciones\", \"amsterdam\", \"viajeros\", \"aeropuertos\", \"pasajero\", \"gogh\", \"astronauta\", \"despegue\", \"horizon\", \"electric\", \"aerea\", \"innes\", \"helmand\", \"petroleum\", \"piloto\", \"trenes\", \"pasajeros\", \"virus\", \"brote\", \"tren\", \"mediciones\", \"aeropuerto\", \"aparato\", \"accidente\", \"subasta\", \"transporte\", \"transportes\", \"accidentes\", \"aviones\", \"velocidad\", \"pacientes\", \"billetes\", \"enfermedad\", \"reactores\", \"horas\", \"destino\", \"hora\", \"servicio\", \"huelga\", \"espacio\", \"autoridades\", \"seguridad\", \"casos\", \"personas\", \"portavoz\", \"momento\", \"lunes\", \"martes\", \"control\", \"fuentes\", \"parte\", \"agencia\", \"viernes\", \"ciudad\"], \"Total\": [37172.0, 15402.0, 21162.0, 10230.0, 30382.0, 13790.0, 10019.0, 13704.0, 39332.0, 7521.0, 7960.0, 21484.0, 15885.0, 4092.0, 7686.0, 23000.0, 4611.0, 3319.0, 10630.0, 7389.0, 4632.0, 3431.0, 10689.0, 15894.0, 9437.0, 4979.0, 5137.0, 3646.0, 3213.0, 6633.0, 240.20480346679688, 273.4254455566406, 244.18734741210938, 205.34075927734375, 241.10427856445312, 205.15505981445312, 180.50962829589844, 173.42019653320312, 190.48069763183594, 162.34315490722656, 155.26956176757812, 162.07850646972656, 180.333251953125, 141.80360412597656, 172.95848083496094, 762.302001953125, 121.434814453125, 119.64012145996094, 118.95388793945312, 112.57831573486328, 108.0086898803711, 107.78273010253906, 137.92652893066406, 109.77764892578125, 100.75455474853516, 100.47676849365234, 400.8501281738281, 157.77976989746094, 99.53633880615234, 95.96515655517578, 2331.92578125, 227.5178985595703, 186.82073974609375, 3403.5048828125, 305.4054870605469, 243.44105529785156, 3664.883544921875, 903.9830322265625, 2347.16015625, 410.63079833984375, 537.7227783203125, 1281.632568359375, 9437.775390625, 3522.1640625, 2235.938720703125, 5880.810546875, 1959.080322265625, 1161.922607421875, 627.6731567382812, 1763.1959228515625, 5481.4287109375, 1288.54638671875, 10826.255859375, 1708.49609375, 23000.892578125, 6876.66748046875, 39332.45703125, 4837.7099609375, 1245.7703857421875, 1213.5018310546875, 2293.5126953125, 3617.901123046875, 37172.51953125, 4289.60986328125, 3993.971435546875, 1657.088623046875, 2372.246337890625, 9340.9169921875, 7022.95751953125, 5573.7236328125, 7759.9267578125, 7451.8486328125, 6439.74951171875, 21484.7421875, 7769.34619140625, 23174.248046875, 8931.8642578125, 9186.32421875, 9003.0830078125, 7282.9873046875, 7449.775390625, 13369.9677734375, 8894.6494140625, 8493.9677734375, 11484.5205078125, 12762.8203125, 664.6031494140625, 296.0108337402344, 268.6431884765625, 181.90963745117188, 159.8302764892578, 149.0970458984375, 145.4586944580078, 139.29379272460938, 119.18365478515625, 241.99148559570312, 113.38185119628906, 115.49946594238281, 114.822021484375, 104.36385345458984, 136.0865020751953, 99.16846466064453, 108.10523223876953, 91.49308776855469, 87.7828598022461, 80.61703491210938, 78.62850189208984, 77.36080169677734, 92.18836212158203, 72.75770568847656, 148.25909423828125, 72.61051940917969, 72.25252532958984, 127.28023529052734, 69.4613037109375, 69.31883239746094, 1306.005126953125, 561.7985229492188, 233.85597229003906, 128.35035705566406, 1578.03662109375, 526.6506958007812, 3436.75048828125, 2297.595703125, 217.40371704101562, 1185.9544677734375, 2433.645751953125, 1371.2410888671875, 459.4124755859375, 626.69091796875, 2747.100341796875, 2130.58154296875, 445.25689697265625, 737.451171875, 7389.8857421875, 1675.267333984375, 1285.653564453125, 5240.59375, 408.3503723144531, 4414.38134765625, 974.8621826171875, 13704.1748046875, 4192.111328125, 2220.582275390625, 2377.8740234375, 6304.84326171875, 15885.94140625, 2485.62109375, 3277.05859375, 21484.7421875, 4127.94970703125, 5615.953125, 30382.03515625, 13790.7880859375, 1901.97998046875, 12520.166015625, 13120.1298828125, 4245.19384765625, 6033.119140625, 10630.43359375, 11476.6103515625, 6255.92724609375, 11558.98828125, 10978.126953125, 12762.8203125, 12023.8466796875, 13028.529296875, 15894.876953125, 23174.248046875, 23000.892578125, 13369.9677734375, 785.2122192382812, 310.9144592285156, 342.6649169921875, 235.21414184570312, 197.17892456054688, 171.81268310546875, 172.74569702148438, 392.3983154296875, 151.35621643066406, 146.60655212402344, 149.44808959960938, 137.14276123046875, 120.37779235839844, 183.33914184570312, 156.87620544433594, 118.6257095336914, 108.71356201171875, 107.04682922363281, 222.29837036132812, 751.915283203125, 103.70562744140625, 98.4523696899414, 97.1650390625, 105.385986328125, 88.9658203125, 81.1935043334961, 80.73280334472656, 125.19677734375, 82.65687561035156, 144.22262573242188, 1045.12158203125, 588.6966552734375, 1057.54931640625, 375.3350830078125, 226.5958709716797, 1502.9779052734375, 1280.569580078125, 543.4956665039062, 173.26498413085938, 339.3399963378906, 1777.5220947265625, 10019.7568359375, 2520.192626953125, 1004.021484375, 777.1879272460938, 3041.3486328125, 2206.851318359375, 1093.541259765625, 678.060791015625, 976.9954833984375, 858.8102416992188, 21162.8125, 1127.156005859375, 3007.02978515625, 470.06597900390625, 1212.6021728515625, 5837.9638671875, 1484.6031494140625, 2424.776123046875, 806.7108764648438, 2512.34521484375, 2933.527587890625, 857.7772827148438, 1885.1046142578125, 2438.439208984375, 1843.759765625, 1103.517578125, 8493.9677734375, 1799.704833984375, 4700.48876953125, 3948.096435546875, 3572.364501953125, 3288.586669921875, 9340.9169921875, 7283.90771484375, 4283.77490234375, 39332.45703125, 3737.5478515625, 2827.328857421875, 5877.76513671875, 5009.8251953125, 8258.68359375, 23174.248046875, 5739.46337890625, 10826.255859375, 9824.2373046875, 13159.6630859375, 826.9390869140625, 456.2224426269531, 490.4511413574219, 623.9493408203125, 744.6228637695312, 586.0429077148438, 329.66400146484375, 312.5881652832031, 333.1643371582031, 413.1835021972656, 523.3220825195312, 264.79144287109375, 222.38841247558594, 229.56678771972656, 236.87318420410156, 215.94313049316406, 205.70468139648438, 200.49708557128906, 193.19802856445312, 1042.6190185546875, 181.8019561767578, 179.52694702148438, 186.22450256347656, 3646.52490234375, 141.3330535888672, 135.24594116210938, 170.07518005371094, 236.48973083496094, 190.36705017089844, 120.9162368774414, 1928.9222412109375, 3393.40283203125, 847.557861328125, 420.28460693359375, 4611.19189453125, 1176.2381591796875, 1009.3798828125, 981.2081298828125, 449.9267578125, 10230.4326171875, 1107.986083984375, 3015.349853515625, 15402.216796875, 811.6583862304688, 361.2182922363281, 352.6391906738281, 2804.92578125, 3745.014892578125, 631.345703125, 614.8411254882812, 915.884033203125, 570.8572387695312, 2629.27978515625, 3566.219482421875, 649.3486328125, 3099.416748046875, 3084.639892578125, 3925.237548828125, 37172.51953125, 2576.850830078125, 3090.877685546875, 3529.115234375, 3538.63720703125, 4283.77490234375, 10455.1787109375, 12023.8466796875, 5237.07421875, 7451.8486328125, 2263.920654296875, 39332.45703125, 23000.892578125, 5573.7236328125, 3267.13330078125, 4428.78955078125, 4928.26953125, 23174.248046875, 11585.359375, 1058.496337890625, 240.74143981933594, 361.45819091796875, 197.7640838623047, 170.0740203857422, 153.1439666748047, 148.34230041503906, 195.87741088867188, 163.00457763671875, 117.31206512451172, 123.75354766845703, 106.90434265136719, 106.65381622314453, 100.12509155273438, 97.06744384765625, 100.1932373046875, 95.87535858154297, 85.1124267578125, 84.65814208984375, 84.6566162109375, 84.49095916748047, 93.5059814453125, 938.787109375, 80.19699096679688, 78.04424285888672, 78.91914367675781, 75.83516693115234, 74.78703308105469, 270.4631652832031, 108.47649383544922, 426.42962646484375, 111.78921508789062, 118.40717315673828, 152.09510803222656, 110.62329864501953, 277.4444274902344, 496.398193359375, 725.5599365234375, 122.90016174316406, 940.9028930664062, 207.26031494140625, 1700.701416015625, 782.6611938476562, 387.8939514160156, 796.605224609375, 3005.060791015625, 501.8675537109375, 5008.72705078125, 3427.5361328125, 1984.1697998046875, 1248.878173828125, 6633.56640625, 2408.726806640625, 13790.7880859375, 1714.6749267578125, 6051.72216796875, 561.120361328125, 3172.31591796875, 1271.5491943359375, 3619.911376953125, 2915.73876953125, 7686.3564453125, 2161.34130859375, 4059.115478515625, 2266.761474609375, 10455.1787109375, 3545.973388671875, 10689.11328125, 2261.283203125, 2364.115966796875, 1732.061767578125, 4394.62353515625, 6439.74951171875, 13159.6630859375, 10260.630859375, 15894.876953125, 13077.3798828125, 11476.6103515625, 12531.38671875, 6267.4599609375, 10198.0703125, 3650.108642578125, 8894.6494140625, 13028.529296875, 11558.98828125, 30382.03515625, 12520.166015625, 874.9906005859375, 546.9661865234375, 643.0018310546875, 488.61077880859375, 295.4800720214844, 435.9446716308594, 436.6611328125, 652.67529296875, 3213.89794921875, 311.7919921875, 220.22445678710938, 204.02944946289062, 1152.618896484375, 1483.2630615234375, 177.22314453125, 230.5955352783203, 165.53189086914062, 158.18124389648438, 137.25755310058594, 144.5156707763672, 177.2255096435547, 133.99029541015625, 130.8012237548828, 235.57669067382812, 147.3880157470703, 292.305908203125, 122.85755920410156, 118.51319122314453, 361.0920104980469, 141.55413818359375, 637.348388671875, 2722.2646484375, 341.6448669433594, 365.3440246582031, 323.8785705566406, 2419.968994140625, 501.14166259765625, 453.74285888671875, 706.2842407226562, 1767.9451904296875, 477.0018615722656, 410.7595520019531, 7521.2509765625, 365.9857177734375, 687.904052734375, 2229.34765625, 476.7320861816406, 1309.26171875, 1487.0391845703125, 7686.3564453125, 4169.88330078125, 1336.4910888671875, 3650.108642578125, 11181.3388671875, 1968.8084716796875, 10198.0703125, 5537.052734375, 4059.115478515625, 4286.98388671875, 2708.43310546875, 4038.4404296875, 2618.12451171875, 13159.6630859375, 6051.72216796875, 4585.45458984375, 6633.56640625, 11585.359375, 7283.90771484375, 23174.248046875, 8258.68359375, 9608.5419921875, 30382.03515625, 13077.3798828125, 5729.72314453125, 377.67230224609375, 565.0437622070312, 229.98751831054688, 243.26425170898438, 397.5633239746094, 199.18113708496094, 205.68214416503906, 182.0901641845703, 166.60101318359375, 156.5306396484375, 187.29769897460938, 153.64080810546875, 137.14886474609375, 136.2833251953125, 130.65792846679688, 125.10257720947266, 123.64319610595703, 142.9711456298828, 117.9205093383789, 131.7740936279297, 120.27123260498047, 103.45824432373047, 235.0628662109375, 104.3858413696289, 92.8384780883789, 91.35225677490234, 559.9917602539062, 86.70188903808594, 85.38554382324219, 85.49515533447266, 417.98345947265625, 177.01712036132812, 182.25802612304688, 124.14302825927734, 1066.28125, 319.8078308105469, 508.4485168457031, 2150.380126953125, 4632.193359375, 437.95904541015625, 1697.306884765625, 505.60272216796875, 310.98919677734375, 1915.2210693359375, 390.23828125, 490.1148986816406, 332.1145935058594, 3661.97412109375, 507.1805419921875, 7960.40869140625, 643.8751220703125, 3591.88330078125, 1868.7757568359375, 1130.7271728515625, 1830.5982666015625, 475.07147216796875, 2236.514404296875, 589.9253540039062, 3648.499267578125, 1439.78857421875, 1074.393310546875, 7823.85205078125, 2570.546630859375, 4793.8369140625, 10689.11328125, 6763.740234375, 5823.4111328125, 4188.9638671875, 1589.7843017578125, 915.5390625, 3476.7666015625, 13159.6630859375, 1889.3050537109375, 1707.4710693359375, 7449.775390625, 3773.29248046875, 6255.92724609375, 8258.68359375, 13120.1298828125, 13704.1748046875, 15894.876953125, 23174.248046875, 30382.03515625, 39332.45703125, 9824.2373046875, 1232.9156494140625, 2043.8287353515625, 315.3668212890625, 308.2085876464844, 181.69515991210938, 186.31411743164062, 176.39288330078125, 1140.4940185546875, 219.6675262451172, 151.0553741455078, 144.832763671875, 130.53269958496094, 127.78535461425781, 133.33033752441406, 125.42622375488281, 121.05226135253906, 117.27788543701172, 107.82099914550781, 99.22784423828125, 170.976318359375, 118.28217315673828, 93.41535186767578, 92.10404968261719, 413.8387451171875, 114.7047119140625, 88.58423614501953, 87.61194610595703, 100.69434356689453, 82.2170181274414, 80.59581756591797, 614.59912109375, 460.71844482421875, 329.1227111816406, 139.212890625, 1123.00341796875, 514.36669921875, 228.96717834472656, 172.85946655273438, 251.73497009277344, 848.7459716796875, 319.90985107421875, 1027.3095703125, 2105.100341796875, 403.8011779785156, 204.30711364746094, 1570.005859375, 2455.6201171875, 981.5065307617188, 921.6519775390625, 964.2172241210938, 518.802490234375, 2043.8685302734375, 943.681396484375, 1824.85888671875, 1079.5521240234375, 1178.64306640625, 1697.23583984375, 1830.430419921875, 1466.1611328125, 1131.236328125, 5823.4111328125, 37172.51953125, 2160.8720703125, 1474.327392578125, 2939.4521484375, 2094.64453125, 2906.046875, 39332.45703125, 7759.9267578125, 4428.78955078125, 23000.892578125, 9003.0830078125, 6763.740234375, 6304.84326171875, 3303.589111328125, 2180.37158203125, 13159.6630859375, 4386.92138671875, 11022.1240234375, 7449.775390625, 5237.07421875, 13077.3798828125, 10689.11328125, 1100.3646240234375, 1355.3406982421875, 242.61944580078125, 227.26956176757812, 236.21676635742188, 211.3557891845703, 195.71531677246094, 176.5885772705078, 167.46241760253906, 166.72056579589844, 142.68458557128906, 137.87554931640625, 137.1246795654297, 294.35418701171875, 126.4217300415039, 960.7966918945312, 165.50376892089844, 172.3137664794922, 113.97063446044922, 112.4865493774414, 112.5499267578125, 131.23390197753906, 105.8475112915039, 101.99102783203125, 99.93888092041016, 99.8027572631836, 102.4287109375, 95.04449462890625, 94.19812774658203, 102.73807525634766, 951.7249145507812, 1020.9124145507812, 189.79942321777344, 129.880126953125, 135.96853637695312, 145.61524963378906, 588.05908203125, 234.49794006347656, 707.30029296875, 408.6245422363281, 310.22393798828125, 202.0830535888672, 529.578125, 413.9998779296875, 344.9854431152344, 304.7210998535156, 1718.0413818359375, 3941.67919921875, 285.14056396484375, 2867.935791015625, 1611.7132568359375, 2087.60009765625, 1106.0162353515625, 1536.2598876953125, 1951.1282958984375, 4979.6640625, 2308.487548828125, 3326.7255859375, 795.791259765625, 1596.8121337890625, 424.6743469238281, 872.2313842773438, 1938.683837890625, 1929.9586181640625, 5546.78955078125, 10630.43359375, 5137.94873046875, 30382.03515625, 15894.876953125, 1766.233154296875, 1327.806396484375, 13028.529296875, 11022.1240234375, 11558.98828125, 23174.248046875, 15885.94140625, 11476.6103515625, 12531.38671875, 12023.8466796875, 10198.0703125, 12520.166015625, 8920.25390625, 1908.3641357421875, 509.0259704589844, 441.8073425292969, 539.0576782226562, 315.18017578125, 273.5079345703125, 295.5445556640625, 301.6545104980469, 248.6681671142578, 2721.4619140625, 201.10336303710938, 219.36184692382812, 153.31614685058594, 156.1791229248047, 154.86631774902344, 156.9481964111328, 149.42013549804688, 181.73439025878906, 135.923828125, 114.47859191894531, 110.86178588867188, 110.06233978271484, 107.50267028808594, 151.13082885742188, 103.79266357421875, 98.14553833007812, 96.43741607666016, 93.69872283935547, 105.68994903564453, 90.77984619140625, 430.0513000488281, 282.60687255859375, 280.28515625, 243.32859802246094, 830.6993408203125, 348.0715637207031, 768.4572143554688, 468.4284362792969, 134.78424072265625, 1168.1649169921875, 244.08763122558594, 2369.5673828125, 1755.39404296875, 799.158935546875, 894.0045166015625, 328.3432922363281, 1866.094482421875, 1909.9000244140625, 1583.9332275390625, 1407.8818359375, 3774.578125, 1690.0889892578125, 6482.23974609375, 1887.80908203125, 1318.7044677734375, 30382.03515625, 5137.94873046875, 752.0406494140625, 4275.869140625, 5615.953125, 1596.689453125, 2751.41064453125, 971.2554321289062, 5546.78955078125, 10630.43359375, 15885.94140625, 3418.79150390625, 21162.8125, 7769.34619140625, 11181.3388671875, 3950.52490234375, 11476.6103515625, 15894.876953125, 39332.45703125, 23174.248046875, 678.1434326171875, 1146.04345703125, 681.8587646484375, 341.2738342285156, 359.887451171875, 228.1121063232422, 241.79103088378906, 234.8255615234375, 199.95472717285156, 193.3129425048828, 186.0010986328125, 173.51461791992188, 174.45497131347656, 1214.2646484375, 391.4993896484375, 156.98184204101562, 135.2374725341797, 121.61693572998047, 782.0721435546875, 326.59100341796875, 133.90260314941406, 110.89757537841797, 108.5129623413086, 111.91574096679688, 102.5996322631836, 102.86485290527344, 111.12264251708984, 103.00945281982422, 972.3097534179688, 102.28742980957031, 259.6389465332031, 213.6497802734375, 285.5193176269531, 177.8245086669922, 206.72015380859375, 182.3250274658203, 871.2359008789062, 577.3468017578125, 527.8959350585938, 986.232666015625, 1068.077880859375, 422.3157958984375, 534.4989624023438, 3624.974853515625, 346.7536926269531, 1300.5987548828125, 1010.8262329101562, 711.31884765625, 4455.8876953125, 825.7185668945312, 311.2795104980469, 794.7837524414062, 858.6549072265625, 2589.5615234375, 4152.904296875, 1341.7044677734375, 909.6001586914062, 1537.931884765625, 3193.162353515625, 869.9257202148438, 1979.5831298828125, 5137.94873046875, 1620.41015625, 1274.4876708984375, 6446.9794921875, 11181.3388671875, 5877.76513671875, 3906.4921875, 4199.544921875, 11585.359375, 3828.422607421875, 21162.8125, 5596.67236328125, 23174.248046875, 6219.05126953125, 3386.118896484375, 2563.821533203125, 2300.310302734375, 566.469482421875, 582.6295776367188, 605.6978759765625, 389.29864501953125, 298.8229675292969, 238.97218322753906, 215.84178161621094, 224.4061279296875, 349.964111328125, 347.0841064453125, 3319.784423828125, 204.67861938476562, 206.82620239257812, 209.8353729248047, 194.4384002685547, 216.309326171875, 355.1363525390625, 707.8626098632812, 217.8033447265625, 151.78981018066406, 157.80087280273438, 158.2657470703125, 140.35093688964844, 190.28390502929688, 263.818603515625, 130.55740356445312, 125.73302459716797, 121.5582504272461, 820.555419921875, 655.7401733398438, 2587.931396484375, 920.7434692382812, 352.4070739746094, 923.6731567382812, 191.0509796142578, 4092.828369140625, 1145.5406494140625, 3431.524169921875, 362.5479736328125, 1921.1182861328125, 549.9854736328125, 564.0177001953125, 2365.981201171875, 858.8885498046875, 969.69287109375, 387.2210693359375, 2021.097900390625, 960.900634765625, 13028.529296875, 1557.528564453125, 8920.25390625, 3785.522705078125, 2667.22021484375, 2245.567138671875, 15894.876953125, 21484.7421875, 5537.052734375, 30382.03515625, 10978.126953125, 12531.38671875, 13369.9677734375, 12580.921875, 5599.7197265625, 12520.166015625, 23174.248046875, 6219.05126953125, 12762.8203125, 15885.94140625], \"loglift\": [30.0, 29.0, 28.0, 27.0, 26.0, 25.0, 24.0, 23.0, 22.0, 21.0, 20.0, 19.0, 18.0, 17.0, 16.0, 15.0, 14.0, 13.0, 12.0, 11.0, 10.0, 9.0, 8.0, 7.0, 6.0, 5.0, 4.0, 3.0, 2.0, 1.0, 1.8869999647140503, 1.8869999647140503, 1.8869999647140503, 1.8865000009536743, 1.886299967765808, 1.8860000371932983, 1.8858000040054321, 1.885599970817566, 1.885599970817566, 1.8853000402450562, 1.8848999738693237, 1.8847999572753906, 1.884600043296814, 1.8844000101089478, 1.8842999935150146, 1.8832999467849731, 1.8832999467849731, 1.8832000494003296, 1.8832000494003296, 1.882699966430664, 1.8824000358581543, 1.8824000358581543, 1.882099986076355, 1.882099986076355, 1.8818000555038452, 1.8818000555038452, 1.881700038909912, 1.881600022315979, 1.881500005722046, 1.8812999725341797, 1.8579000234603882, 1.878600001335144, 1.8804999589920044, 1.833400011062622, 1.8703999519348145, 1.8693000078201294, 1.8020000457763672, 1.830199956893921, 1.79830002784729, 1.8502999544143677, 1.8344999551773071, 1.7970000505447388, 1.7066999673843384, 1.726199984550476, 1.743899941444397, 1.6734000444412231, 1.717900037765503, 1.747499942779541, 1.7848000526428223, 1.6900999546051025, 1.5829999446868896, 1.7073999643325806, 1.4466999769210815, 1.6294000148773193, 1.2474000453948975, 1.4155999422073364, 1.1706000566482544, 1.4502999782562256, 1.646299958229065, 1.632599949836731, 1.5303000211715698, 1.4300999641418457, 0.9538999795913696, 1.3746999502182007, 1.3847999572753906, 1.5687999725341797, 1.472599983215332, 1.0490000247955322, 1.1211999654769897, 1.177299976348877, 1.0286999940872192, 1.031999945640564, 1.0759999752044678, 0.5372999906539917, 0.9642000198364258, 0.4602000117301941, 0.8610000014305115, 0.8027999997138977, 0.8070999979972839, 0.9165999889373779, 0.8931000232696533, 0.40939998626708984, 0.7275000214576721, 0.746399998664856, 0.48649999499320984, 0.35499998927116394, 2.1868999004364014, 2.185800075531006, 2.184000015258789, 2.183799982070923, 2.182499885559082, 2.1821000576019287, 2.1821000576019287, 2.181999921798706, 2.180999994277954, 2.1809000968933105, 2.1805999279022217, 2.1805999279022217, 2.180299997329712, 2.180000066757202, 2.180000066757202, 2.179500102996826, 2.1789000034332275, 2.1786999702453613, 2.178299903869629, 2.1774001121520996, 2.1770999431610107, 2.1768999099731445, 2.1765999794006348, 2.1761999130249023, 2.1761999130249023, 2.176100015640259, 2.176100015640259, 2.1758999824523926, 2.17549991607666, 2.17549991607666, 2.1719000339508057, 2.1712000370025635, 2.166599988937378, 2.171999931335449, 2.1468000411987305, 2.150599956512451, 2.111599922180176, 2.11929988861084, 2.1658999919891357, 2.1214001178741455, 2.099400043487549, 2.1133999824523926, 2.1384999752044678, 2.128700017929077, 2.071199893951416, 2.0769999027252197, 2.111599922180176, 2.0738000869750977, 1.913100004196167, 2.0113000869750977, 2.026900053024292, 1.905400037765503, 2.099400043487549, 1.9040000438690186, 2.020699977874756, 1.7759000062942505, 1.8743000030517578, 1.9050999879837036, 1.8508000373840332, 1.7000999450683594, 1.5374000072479248, 1.8235000371932983, 1.719499945640564, 1.3380000591278076, 1.6556999683380127, 1.5801000595092773, 1.1541999578475952, 1.2767000198364258, 1.81850004196167, 1.2490999698638916, 1.2019000053405762, 1.5576000213623047, 1.353700041770935, 1.086300015449524, 0.9958000183105469, 1.3075000047683716, 0.9269000291824341, 0.941100001335144, 0.7397000193595886, 0.7666000127792358, 0.6845999956130981, 0.4925000071525574, 0.0003000000142492354, -0.040699999779462814, 0.41290000081062317, 2.225100040435791, 2.223299980163574, 2.2232000827789307, 2.2223000526428223, 2.22160005569458, 2.220900058746338, 2.220599889755249, 2.2202999591827393, 2.220099925994873, 2.2193000316619873, 2.2188000679016113, 2.2184998989105225, 2.218400001525879, 2.218400001525879, 2.2183001041412354, 2.2183001041412354, 2.2177000045776367, 2.2174999713897705, 2.217400074005127, 2.2172999382019043, 2.2167999744415283, 2.2167999744415283, 2.2167000770568848, 2.216399908065796, 2.2158000469207764, 2.2146999835968018, 2.2144999504089355, 2.2142999172210693, 2.2142999172210693, 2.2142999172210693, 2.2090001106262207, 2.213900089263916, 2.202899932861328, 2.210700035095215, 2.213399887084961, 2.1875998973846436, 2.180000066757202, 2.1946001052856445, 2.2098000049591064, 2.195499897003174, 2.1619999408721924, 2.122499942779541, 2.1521999835968018, 2.168100118637085, 2.1733999252319336, 2.1201000213623047, 2.1243999004364014, 2.150599956512451, 2.161400079727173, 2.1463000774383545, 2.1452999114990234, 1.9644999504089355, 2.1229000091552734, 2.0624001026153564, 2.168299913406372, 2.0992000102996826, 1.9493000507354736, 2.055999994277954, 2.0048000812530518, 2.11080002784729, 1.9566999673843384, 1.9270999431610107, 2.098900079727173, 1.9558000564575195, 1.9062000513076782, 1.933899998664856, 2.037100076675415, 1.4979000091552734, 1.906599998474121, 1.5848000049591064, 1.6349999904632568, 1.6023999452590942, 1.604599952697754, 1.1404000520706177, 1.2099000215530396, 1.461899995803833, 0.31290000677108765, 1.4780999422073364, 1.6222000122070312, 1.166200041770935, 1.253600001335144, 0.9218999743461609, 0.11180000007152557, 1.0785000324249268, 0.5909000039100647, 0.5212000012397766, 0.11959999799728394, 2.359999895095825, 2.3598999977111816, 2.3598999977111816, 2.3596999645233154, 2.359499931335449, 2.3592000007629395, 2.359100103378296, 2.3589000701904297, 2.358799934387207, 2.358599901199341, 2.3585000038146973, 2.3578999042510986, 2.3577001094818115, 2.3577001094818115, 2.3577001094818115, 2.3571999073028564, 2.3571999073028564, 2.357100009918213, 2.356800079345703, 2.356800079345703, 2.3566999435424805, 2.3566999435424805, 2.3566999435424805, 2.3561999797821045, 2.3554000854492188, 2.3550000190734863, 2.354599952697754, 2.354599952697754, 2.354300022125244, 2.354300022125244, 2.349600076675415, 2.343400001525879, 2.350800037384033, 2.3505001068115234, 2.3208999633789062, 2.335599899291992, 2.336199998855591, 2.3352999687194824, 2.3429999351501465, 2.2632999420166016, 2.3071999549865723, 2.2692999839782715, 2.1993000507354736, 2.3164000511169434, 2.334399938583374, 2.3348000049591064, 2.20770001411438, 2.181999921798706, 2.2934999465942383, 2.288100004196167, 2.2337000370025635, 2.288599967956543, 2.0510001182556152, 1.9882999658584595, 2.2643001079559326, 1.9206000566482544, 1.9072999954223633, 1.850100040435791, 1.2336000204086304, 1.8971999883651733, 1.8459999561309814, 1.7590999603271484, 1.753600001335144, 1.5633000135421753, 1.1088000535964966, 0.9782000184059143, 1.382699966430664, 1.1513999700546265, 1.7754000425338745, 0.05460000038146973, 0.32839998602867126, 1.2146999835968018, 1.5537999868392944, 1.2956000566482544, 1.1578999757766724, -0.20550000667572021, 0.3138999938964844, 2.390000104904175, 2.386899948120117, 2.3868000507354736, 2.3861000537872314, 2.3852999210357666, 2.3847999572753906, 2.384700059890747, 2.383699893951416, 2.3835999965667725, 2.382999897003174, 2.3828001022338867, 2.382200002670288, 2.382200002670288, 2.3814001083374023, 2.3812999725341797, 2.381200075149536, 2.3803999423980713, 2.380000114440918, 2.380000114440918, 2.3798999786376953, 2.3798000812530518, 2.379499912261963, 2.379300117492676, 2.379300117492676, 2.378999948501587, 2.3787999153137207, 2.378700017929077, 2.378499984741211, 2.3782999515533447, 2.3778998851776123, 2.3773999214172363, 2.3775999546051025, 2.376199960708618, 2.371999979019165, 2.3754000663757324, 2.3529999256134033, 2.3329999446868896, 2.2988998889923096, 2.3668999671936035, 2.22379994392395, 2.3264999389648438, 2.1754000186920166, 2.225399971008301, 2.280100107192993, 2.1991000175476074, 2.0520999431610107, 2.2286999225616455, 1.9799000024795532, 2.0215001106262207, 2.074899911880493, 2.122999906539917, 1.9333000183105469, 2.032599925994873, 1.7598999738693237, 2.040600061416626, 1.8483999967575073, 2.194000005722046, 1.9249999523162842, 2.046299934387207, 1.8660000562667847, 1.9016000032424927, 1.7138999700546265, 1.9306999444961548, 1.7424999475479126, 1.8490999937057495, 1.4469000101089478, 1.6985000371932983, 1.347499966621399, 1.7998000383377075, 1.7764999866485596, 1.886199951171875, 1.482800006866455, 1.2718000411987305, 0.8026000261306763, 0.9197999835014343, 0.6617000102996826, 0.7639999985694885, 0.7793999910354614, 0.6736999750137329, 1.1155999898910522, 0.7646999955177307, 1.4470000267028809, 0.7188000082969666, 0.3610000014305115, 0.42800000309944153, -0.49790000915527344, 0.32100000977516174, 2.5541000366210938, 2.553299903869629, 2.552299976348877, 2.552000045776367, 2.5518999099731445, 2.5518999099731445, 2.5518999099731445, 2.551800012588501, 2.551300048828125, 2.550800085067749, 2.550600051879883, 2.550299882888794, 2.5501999855041504, 2.5499000549316406, 2.549799919128418, 2.549499988555908, 2.549299955368042, 2.5483999252319336, 2.54830002784729, 2.54830002784729, 2.5481998920440674, 2.5478999614715576, 2.547800064086914, 2.547600030899048, 2.547600030899048, 2.547600030899048, 2.547600030899048, 2.547100067138672, 2.5469000339508057, 2.5464999675750732, 2.5446999073028564, 2.528599977493286, 2.544300079345703, 2.5432000160217285, 2.54010009765625, 2.509700059890747, 2.526400089263916, 2.524600028991699, 2.5034000873565674, 2.441800117492676, 2.5053999423980713, 2.512399911880493, 2.3389999866485596, 2.5165998935699463, 2.439500093460083, 2.303999900817871, 2.4725000858306885, 2.285599946975708, 2.208400011062622, 1.6985000371932983, 1.8632999658584595, 2.169300079345703, 1.7484999895095825, 1.3321000337600708, 1.9257999658584595, 1.2858999967575073, 1.4837000370025635, 1.5990999937057495, 1.448699951171875, 1.6505000591278076, 1.4407000541687012, 1.6627999544143677, 0.7200000286102295, 1.1512000560760498, 1.2736999988555908, 1.0099999904632568, 0.5254999995231628, 0.7750999927520752, -0.16290000081062317, 0.6603000164031982, 0.49869999289512634, -0.565500020980835, 0.16599999368190765, 0.8919000029563904, 2.579699993133545, 2.578900098800659, 2.578200101852417, 2.578000068664551, 2.5778000354766846, 2.577500104904175, 2.577500104904175, 2.576900005340576, 2.5764999389648438, 2.576200008392334, 2.576200008392334, 2.576200008392334, 2.5754001140594482, 2.5754001140594482, 2.574899911880493, 2.5748000144958496, 2.5745999813079834, 2.5745999813079834, 2.5741000175476074, 2.573499917984009, 2.5734000205993652, 2.573199987411499, 2.5729000568389893, 2.572700023651123, 2.572200059890747, 2.572000026702881, 2.571899890899658, 2.571500062942505, 2.5713000297546387, 2.5713000297546387, 2.564500093460083, 2.571000099182129, 2.569700002670288, 2.571000099182129, 2.5388998985290527, 2.5546000003814697, 2.532099962234497, 2.4658000469207764, 2.434999942779541, 2.527400016784668, 2.4540998935699463, 2.5116000175476074, 2.532099962234497, 2.4177000522613525, 2.509500026702881, 2.4918999671936035, 2.516700029373169, 2.3108999729156494, 2.477299928665161, 2.20169997215271, 2.446000099182129, 2.2678000926971436, 2.335700035095215, 2.3345999717712402, 2.2465999126434326, 2.438199996948242, 2.114799976348877, 2.38070011138916, 1.992400050163269, 2.1921000480651855, 2.2469000816345215, 1.6770999431610107, 1.975100040435791, 1.6816999912261963, 1.3732999563217163, 1.451200008392334, 1.5089999437332153, 1.5895999670028687, 1.9812999963760376, 2.2130000591278076, 1.5781999826431274, 0.9477999806404114, 1.8488999605178833, 1.8945000171661377, 1.1114000082015991, 1.4729000329971313, 1.1648999452590942, 0.986299991607666, 0.6855000257492065, 0.6577000021934509, 0.4375999867916107, 0.1289999932050705, -0.09880000352859497, -0.6225000023841858, 0.597000002861023, 2.628999948501587, 2.6287999153137207, 2.626800060272217, 2.626499891281128, 2.6245999336242676, 2.624500036239624, 2.6243999004364014, 2.623800039291382, 2.623699903488159, 2.623500108718872, 2.62280011177063, 2.622499942779541, 2.6224000453948975, 2.6224000453948975, 2.622299909591675, 2.621999979019165, 2.6217000484466553, 2.6205999851226807, 2.6201999187469482, 2.6201999187469482, 2.619800090789795, 2.6196999549865723, 2.6196000576019287, 2.61929988861084, 2.6189000606536865, 2.6189000606536865, 2.618799924850464, 2.6184000968933105, 2.6184000968933105, 2.6180999279022217, 2.6154000759124756, 2.610100030899048, 2.6113998889923096, 2.6147000789642334, 2.5806000232696533, 2.5815999507904053, 2.59060001373291, 2.6006999015808105, 2.580399990081787, 2.496299982070923, 2.5559000968933105, 2.467099905014038, 2.409600019454956, 2.525899887084961, 2.5810000896453857, 2.379199981689453, 2.3294999599456787, 2.3362998962402344, 2.334700107574463, 2.3118999004364014, 2.4151999950408936, 2.1389999389648438, 2.283799886703491, 2.149399995803833, 2.2472000122070312, 2.215399980545044, 2.127500057220459, 2.0938000679016113, 2.117500066757202, 2.1396000385284424, 1.5875999927520752, 0.9549999833106995, 1.8970999717712402, 2.040600061416626, 1.7644000053405762, 1.882200002670288, 1.7115000486373901, 0.40939998626708984, 1.208799958229065, 1.4851000308990479, 0.4415000081062317, 0.9355999827384949, 1.105299949645996, 1.092900037765503, 1.507699966430664, 1.7695000171661377, 0.4708999991416931, 1.2569999694824219, 0.5307999849319458, 0.8080999851226807, 1.0341999530792236, 0.20149999856948853, 0.3776000142097473, 2.7636001110076904, 2.7627999782562256, 2.7623000144958496, 2.76200008392334, 2.76200008392334, 2.761699914932251, 2.760999917984009, 2.7607998847961426, 2.7606000900268555, 2.7600998878479004, 2.7595999240875244, 2.759399890899658, 2.759000062942505, 2.759000062942505, 2.758699893951416, 2.7583000659942627, 2.7581000328063965, 2.7581000328063965, 2.7578999996185303, 2.7578001022338867, 2.7576000690460205, 2.7576000690460205, 2.7571001052856445, 2.756999969482422, 2.756700038909912, 2.756700038909912, 2.7564001083374023, 2.7562999725341797, 2.7560999393463135, 2.75600004196167, 2.754699945449829, 2.7435998916625977, 2.75219988822937, 2.755199909210205, 2.754699945449829, 2.753000020980835, 2.7351999282836914, 2.7460999488830566, 2.718100070953369, 2.7281999588012695, 2.716099977493286, 2.7314999103546143, 2.6679000854492188, 2.684999942779541, 2.697000026702881, 2.703399896621704, 2.559799909591675, 2.472599983215332, 2.6870999336242676, 2.4149999618530273, 2.462100028991699, 2.4251999855041504, 2.510999917984009, 2.4412999153137207, 2.4047000408172607, 2.2369000911712646, 2.356300115585327, 2.2862000465393066, 2.522599935531616, 2.383699893951416, 2.617500066757202, 2.3915998935699463, 2.136699914932251, 2.0959999561309814, 1.7007999420166016, 1.4483000040054321, 1.684999942779541, 0.774399995803833, 0.9872999787330627, 1.996399998664856, 2.1194000244140625, 0.6992999911308289, 0.7872999906539917, 0.6780999898910522, 0.09640000015497208, 0.3465999960899353, 0.5917999744415283, 0.42170000076293945, 0.4253999888896942, 0.5151000022888184, 0.2890999913215637, 0.6164000034332275, 2.8810999393463135, 2.880199909210205, 2.8798000812530518, 2.879499912261963, 2.879300117492676, 2.8787999153137207, 2.8785998821258545, 2.8782999515533447, 2.878000020980835, 2.8775999546051025, 2.8773000240325928, 2.8766000270843506, 2.8761000633239746, 2.8761000633239746, 2.8761000633239746, 2.8761000633239746, 2.8759000301361084, 2.8757998943328857, 2.8754000663757324, 2.874000072479248, 2.873800039291382, 2.873699903488159, 2.873500108718872, 2.873199939727783, 2.872999906539917, 2.8726999759674072, 2.872299909591675, 2.8722000122070312, 2.8721001148223877, 2.871799945831299, 2.8677000999450684, 2.870300054550171, 2.8671000003814697, 2.863600015640259, 2.838200092315674, 2.8545000553131104, 2.8132998943328857, 2.828200101852417, 2.864799976348877, 2.7114999294281006, 2.8134000301361084, 2.559499979019165, 2.5662999153137207, 2.66510009765625, 2.641700029373169, 2.7520999908447266, 2.4377999305725098, 2.402400016784668, 2.4258999824523926, 2.436300039291382, 2.1986000537872314, 2.380000114440918, 1.9383000135421753, 2.2397000789642334, 2.329900026321411, 1.2245999574661255, 1.806399941444397, 2.509399890899658, 1.8532999753952026, 1.700600028038025, 2.2007999420166016, 1.9460999965667725, 2.3917999267578125, 1.5426000356674194, 1.1138999462127686, 0.7820000052452087, 1.608199954032898, 0.4244999885559082, 0.9815999865531921, 0.6743000149726868, 1.4536000490188599, 0.5916000008583069, 0.32249999046325684, -0.46369999647140503, -0.045899998396635056, 2.9811999797821045, 2.9802000522613525, 2.9797000885009766, 2.979300022125244, 2.979099988937378, 2.9783999919891357, 2.978300094604492, 2.978100061416626, 2.9779000282287598, 2.97760009765625, 2.977400064468384, 2.9772000312805176, 2.977099895477295, 2.976099967956543, 2.9760000705718994, 2.9751999378204346, 2.9749999046325684, 2.9748001098632812, 2.9744999408721924, 2.974299907684326, 2.974100112915039, 2.974100112915039, 2.973900079727173, 2.97379994392395, 2.973299980163574, 2.9732000827789307, 2.973099946975708, 2.973099946975708, 2.9728000164031982, 2.972599983215332, 2.9721999168395996, 2.969899892807007, 2.965399980545044, 2.969899892807007, 2.9649999141693115, 2.9672999382019043, 2.9358999729156494, 2.9409000873565674, 2.9382998943328857, 2.9184000492095947, 2.908600091934204, 2.9258999824523926, 2.875699996948242, 2.6812000274658203, 2.9038000106811523, 2.7385001182556152, 2.7353999614715576, 2.781100034713745, 2.4203999042510986, 2.712599992752075, 2.8949999809265137, 2.6965999603271484, 2.6649999618530273, 2.3970000743865967, 2.226300001144409, 2.5290000438690186, 2.5996999740600586, 2.402899980545044, 2.076200008392334, 2.5843000411987305, 2.1814000606536865, 1.7196999788284302, 2.2730000019073486, 2.364300012588501, 1.395400047302246, 0.9929999709129333, 1.3954999446868896, 1.6341999769210815, 1.4850000143051147, 0.6826000213623047, 1.4944000244140625, 0.09279999881982803, 1.1575000286102295, -0.09740000218153, 1.0221999883651733, 1.5369999408721924, 3.0278000831604004, 3.0271999835968018, 3.027100086212158, 3.026900053024292, 3.026099920272827, 3.026099920272827, 3.0260000228881836, 3.025099992752075, 3.0248000621795654, 3.0248000621795654, 3.0246999263763428, 3.0244998931884766, 3.0244998931884766, 3.024399995803833, 3.024399995803833, 3.0243000984191895, 3.024199962615967, 3.0241000652313232, 3.023900032043457, 3.023400068283081, 3.023400068283081, 3.0230000019073486, 3.0230000019073486, 3.0225000381469727, 3.02239990234375, 3.022200107574463, 3.0220000743865967, 3.0220000743865967, 3.021699905395508, 3.021399974822998, 3.016200065612793, 3.018399953842163, 3.0, 3.0090999603271484, 3.015899896621704, 2.9979000091552734, 3.0188000202178955, 2.924099922180176, 2.9618000984191895, 2.8893001079559326, 2.988300085067749, 2.6528000831604004, 2.839400053024292, 2.8285000324249268, 2.503000020980835, 2.7181999683380127, 2.633699893951416, 2.878499984741211, 2.365600109100342, 2.567199945449829, 1.337399959564209, 2.281599998474121, 1.3902000188827515, 1.7905000448226929, 1.9522000551223755, 2.0148000717163086, 0.8924999833106995, 0.7059999704360962, 1.4429999589920044, 0.1987999975681305, 0.8794999718666077, 0.5896000266075134, 0.48739999532699585, 0.517300009727478, 1.1747000217437744, 0.45809999108314514, -0.16680000722408295, 1.0078999996185303, 0.33090001344680786, 0.06440000236034393], \"logprob\": [30.0, 29.0, 28.0, 27.0, 26.0, 25.0, 24.0, 23.0, 22.0, 21.0, 20.0, 19.0, 18.0, 17.0, 16.0, 15.0, 14.0, 13.0, 12.0, 11.0, 10.0, 9.0, 8.0, 7.0, 6.0, 5.0, 4.0, 3.0, 2.0, 1.0, -7.859399795532227, -7.729899883270264, -7.8429999351501465, -8.016799926757812, -7.856400012969971, -8.018099784851074, -8.146300315856934, -8.186599731445312, -8.09280014038086, -8.252900123596191, -8.297800064086914, -8.255000114440918, -8.148500442504883, -8.388999938964844, -8.190600395202637, -6.7083001136779785, -8.545299530029297, -8.560199737548828, -8.565999984741211, -8.621600151062012, -8.663299560546875, -8.665399551391602, -8.419099807739258, -8.64739990234375, -8.733499526977539, -8.736200332641602, -7.352700233459473, -8.285099983215332, -8.74590015411377, -8.782600402832031, -5.615499973297119, -7.922100067138672, -8.117300033569336, -5.261899948120117, -7.635900020599365, -7.863800048828125, -5.219399929046631, -6.59089994430542, -5.668700218200684, -7.359899997711182, -7.106100082397461, -6.275000095367432, -4.368800163269043, -5.33489990234375, -5.771599769592285, -4.875100135803223, -5.929800033569336, -6.422599792480469, -7.001100063323975, -6.063000202178955, -5.035900115966797, -6.359300136566162, -4.491499900817871, -6.155200004577637, -3.9372000694274902, -4.976399898529053, -3.47760009765625, -5.293399810791016, -6.454100131988525, -6.494100093841553, -5.959799766540527, -5.6041998863220215, -3.750699996948242, -5.489299774169922, -5.550600051879883, -6.246300220489502, -5.983699798583984, -5.036799907684326, -5.249800205230713, -5.424799919128418, -5.242499828338623, -5.279699802398682, -5.381700038909912, -4.7154998779296875, -5.305799961090088, -4.716899871826172, -5.269599914550781, -5.299699783325195, -5.315499782562256, -5.418000221252441, -5.418900012969971, -5.317800045013428, -5.407199859619141, -5.4344000816345215, -5.392600059509277, -5.418700218200684, -6.541800022125244, -7.3516998291015625, -7.4506001472473145, -7.84060001373291, -7.97130012512207, -8.041199684143066, -8.065899848937988, -8.109299659729004, -8.266300201416016, -7.55810022354126, -8.31659984588623, -8.298100471496582, -8.304300308227539, -8.399999618530273, -8.134599685668945, -8.451600074768066, -8.365900039672852, -8.532999992370605, -8.574700355529785, -8.660799980163574, -8.686100006103516, -8.70259952545166, -8.52750015258789, -8.764599800109863, -8.052800178527832, -8.76669979095459, -8.771699905395508, -8.205699920654297, -8.811699867248535, -8.813799858093262, -5.88129997253418, -6.725500106811523, -7.606599807739258, -8.201199531555176, -5.717199802398682, -6.810800075531006, -4.974100112915039, -5.36899995803833, -7.680300235748291, -6.028299808502197, -5.331399917602539, -5.89109992980957, -6.959499835968018, -6.658699989318848, -5.238399982452393, -5.486800193786621, -7.0177001953125, -6.550899982452393, -4.4070000648498535, -5.792900085449219, -6.041999816894531, -4.758299827575684, -7.116399765014648, -4.931300163269043, -6.324900150299072, -3.9265999794006348, -5.012700080871582, -5.617300033569336, -5.603099822998047, -4.77869987487793, -4.017300128936768, -5.58620023727417, -5.41379976272583, -3.914799928665161, -5.246699810028076, -5.014500141143799, -3.75219988822937, -4.419400215148926, -5.858799934387207, -4.543799877166748, -4.5441999435424805, -5.316800117492676, -5.1691999435424805, -4.870200157165527, -4.884099960327148, -5.179200172424316, -4.945899963378906, -4.983099937438965, -5.033999919891357, -5.066699981689453, -5.068399906158447, -5.061699867248535, -5.176799774169922, -5.225299835205078, -5.314199924468994, -6.336900234222412, -7.265100002288818, -7.168000221252441, -7.545100212097168, -7.722300052642822, -7.8607001304626465, -7.855500221252441, -7.035399913787842, -7.9882001876831055, -8.020899772644043, -8.00220012664795, -8.088399887084961, -8.218899726867676, -7.7982001304626465, -7.954100131988525, -8.233699798583984, -8.321499824523926, -8.337200164794922, -7.606500148773193, -6.388000011444092, -8.369600296020508, -8.421600341796875, -8.434900283813477, -8.353899955749512, -8.523900032043457, -8.616299629211426, -8.622300148010254, -8.183799743652344, -8.598999977111816, -8.0423002243042, -6.0671000480651855, -6.636099815368652, -6.061399936676025, -7.089399814605713, -7.591400146484375, -5.725100040435791, -5.8927998542785645, -6.735300064086914, -7.86329984664917, -7.205399990081787, -5.582900047302246, -3.893199920654297, -5.24370002746582, -6.148099899291992, -6.398900032043457, -5.087800025939941, -5.404200077056885, -6.080100059509277, -6.547299861907959, -6.1971001625061035, -6.327000141143799, -3.3034000396728516, -6.077499866485596, -5.156799793243408, -6.906799793243408, -6.028200149536133, -4.606500148773193, -5.869100093841553, -5.429599761962891, -6.424200057983398, -5.442200183868408, -5.31689977645874, -6.37470006942749, -5.730400085449219, -5.522600173950195, -5.774499893188477, -6.184599876403809, -4.6828999519348145, -5.826000213623047, -5.187699794769287, -5.311999797821045, -5.4446001052856445, -5.525100231170654, -4.945300102233887, -5.124599933624268, -5.403500080108643, -4.33519983291626, -5.523600101470947, -5.658599853515625, -5.382800102233887, -5.455100059509277, -5.2870001792907715, -5.065299987792969, -5.49429988861084, -5.347300052642822, -5.514100074768066, -5.6234002113342285, -6.150199890136719, -6.744999885559082, -6.672699928283691, -6.43209981918335, -6.255499839782715, -6.4953999519348145, -7.070700168609619, -7.124199867248535, -7.060500144958496, -6.845399856567383, -6.6092000007629395, -7.291100025177002, -7.465799808502197, -7.434100151062012, -7.402699947357178, -7.495699882507324, -7.544300079345703, -7.570000171661377, -7.607399940490723, -5.9217000007629395, -7.668300151824951, -7.6809000968933105, -7.6442999839782715, -4.670199871063232, -7.92140007019043, -7.965799808502197, -7.736999988555908, -7.407400131225586, -7.624599933624268, -8.078499794006348, -5.313600063323975, -4.754899978637695, -6.134799957275391, -6.83650016784668, -4.470799922943115, -5.822299957275391, -5.974699974060059, -6.003900051116943, -6.775899887084961, -3.731600046157837, -5.910399913787842, -4.9471001625061035, -3.386399984359741, -6.212399959564209, -7.004000186920166, -7.027699947357178, -5.081099987030029, -4.817800045013428, -6.486599922180176, -6.518499851226807, -6.174300193786621, -6.592199802398682, -5.302499771118164, -5.060400009155273, -6.487599849700928, -5.2683000564575195, -5.286499977111816, -5.10260009765625, -3.4709999561309814, -5.476399898529053, -5.345699787139893, -5.300099849700928, -5.302800178527832, -5.302000045776367, -4.864299774169922, -4.855100154876709, -5.281700134277344, -5.160299777984619, -5.727700233459473, -4.593599796295166, -4.856200218200684, -5.387400150299072, -5.582499980926514, -5.536399841308594, -5.567200183868408, -5.382699966430664, -5.55649995803833, -5.873300075531006, -7.3572998046875, -6.951000213623047, -7.554699897766113, -7.706399917602539, -7.811699867248535, -7.843800067901611, -7.566800117492676, -7.7505998611450195, -8.080100059509277, -8.026800155639648, -8.173800468444824, -8.176199913024902, -8.240099906921387, -8.271200180053711, -8.23960018157959, -8.284500122070312, -8.403900146484375, -8.40939998626709, -8.40939998626709, -8.411499977111816, -8.310400009155273, -6.0040998458862305, -8.464200019836426, -8.491700172424316, -8.48069953918457, -8.520700454711914, -8.534799575805664, -7.249499797821045, -8.16349983215332, -6.795000076293945, -8.133700370788574, -8.07759952545166, -7.831399917602539, -8.146400451660156, -7.249300003051758, -6.6875, -6.342100143432617, -8.049699783325195, -6.157299995422363, -7.567399978637695, -5.613699913024902, -6.339900016784668, -6.987100124359131, -6.348499774932861, -5.167799949645996, -6.780900001525879, -4.729100227355957, -5.06689977645874, -5.559999942779541, -5.974999904632568, -4.494800090789795, -5.4085001945495605, -3.936300039291382, -5.740300178527832, -4.671500205993652, -6.703999996185303, -5.240699768066406, -6.033599853515625, -5.167699813842773, -5.348499774932861, -4.566800117492676, -5.618800163269043, -5.176700115203857, -5.652699947357178, -4.526199817657471, -5.355899810791016, -4.603499889373779, -5.704500198364258, -5.683300018310547, -5.8846001625061035, -5.35699987411499, -5.1859002113342285, -4.940499782562256, -5.0721001625061035, -4.892499923706055, -4.985300064086914, -5.100500106811523, -5.118199825286865, -5.369200229644775, -5.23330020904541, -5.578499794006348, -5.415999889373779, -5.392000198364258, -5.444699764251709, -5.404300212860107, -5.47189998626709, -5.899600028991699, -6.370200157165527, -6.209499835968018, -6.484399795532227, -6.987400054931641, -6.598499774932861, -6.59689998626709, -6.195099830627441, -4.601399898529053, -6.934800148010254, -7.282599925994873, -7.359300136566162, -5.627999782562256, -5.375999927520752, -7.500699996948242, -7.23769998550415, -7.569399833679199, -7.615799903869629, -7.757699966430664, -7.706200122833252, -7.502299785614014, -7.782299995422363, -7.80649995803833, -7.218299865722656, -7.687300205230713, -7.002500057220459, -7.86929988861084, -7.905799865722656, -6.791900157928467, -7.728700160980225, -6.225900173187256, -4.79010009765625, -6.849800109863281, -6.783899784088135, -6.90749979019165, -4.926799774169922, -6.484600067138672, -6.5858001708984375, -6.164599895477295, -5.308599948883057, -6.554999828338623, -6.697500228881836, -3.9635000228881836, -6.808700084686279, -6.254799842834473, -5.214399814605713, -6.588500022888184, -5.765100002288818, -5.715000152587891, -4.582200050354004, -5.0289998054504395, -5.860799789428711, -5.276899814605713, -4.573800086975098, -5.716899871826172, -4.712100028991699, -5.125100135803223, -5.320099830627441, -5.415900230407715, -5.673399925231934, -5.483699798583984, -5.694900035858154, -5.0229997634887695, -5.368599891662598, -5.523600101470947, -5.418099880218506, -5.344900131225586, -5.5594000816345215, -5.340099811553955, -5.548600196838379, -5.558899879455566, -5.471799850463867, -5.5833001136779785, -5.682600021362305, -6.714200019836426, -6.312099933624268, -7.211699962615967, -7.155799865722656, -6.66480016708374, -7.356200218200684, -7.324100017547607, -7.446499824523926, -7.535799980163574, -7.598400115966797, -7.419000148773193, -7.617099761962891, -7.731500148773193, -7.737800121307373, -7.780399799346924, -7.823999881744385, -7.835899829864502, -7.690700054168701, -7.883800029754639, -7.773399829864502, -7.864799976348877, -8.015600204467773, -7.195099830627441, -8.007200241088867, -8.124899864196777, -8.141200065612793, -6.328100204467773, -8.194000244140625, -8.209400177001953, -8.208100318908691, -6.627999782562256, -7.4807000160217285, -7.4527997970581055, -7.8354997634887695, -5.717100143432617, -6.905600070953369, -6.4644999504089355, -5.088799953460693, -4.352099895477295, -6.6184000968933105, -5.337100028991699, -6.490600109100342, -6.956099987030029, -5.252600193023682, -6.751699924468994, -6.541399955749512, -6.905799865722656, -4.711299896240234, -6.5218000411987305, -4.044000148773193, -6.3144001960754395, -4.77370023727417, -5.3592000007629395, -5.86269998550415, -5.468900203704834, -6.626200199127197, -5.400400161743164, -6.467299938201904, -5.0335001945495605, -5.763599872589111, -6.001500129699707, -4.585899829864502, -5.401000022888184, -5.071199893951416, -4.577700138092041, -4.957399845123291, -5.049300193786621, -5.2982001304626465, -5.87529993057251, -6.195400238037109, -5.495800018310547, -4.795199871063232, -5.835000038146973, -5.890699863433838, -5.2006001472473145, -5.5192999839782715, -5.321800231933594, -5.222700119018555, -5.060500144958496, -5.0447001457214355, -5.116600036621094, -5.0482001304626465, -5.005099773406982, -5.270599842071533, -5.438300132751465, -5.481800079345703, -4.976600170135498, -6.847400188446045, -6.870699882507324, -7.401000022888184, -7.375999927520752, -7.430799961090088, -5.564899921417236, -7.212200164794922, -7.5868000984191895, -7.629499912261963, -7.733799934387207, -7.755099773406982, -7.712699890136719, -7.773900032043457, -7.809700012207031, -7.841700077056885, -7.926799774169922, -8.010299682617188, -7.466300010681152, -7.835000038146973, -8.071100234985352, -8.085399627685547, -6.583099842071533, -7.866600036621094, -8.125100135803223, -8.136300086975098, -7.997499942779541, -8.200200080871582, -8.220399856567383, -6.1915998458862305, -6.485000133514404, -6.820099830627441, -7.677199840545654, -5.623499870300293, -6.40339994430542, -7.203800201416016, -7.474800109863281, -7.119100093841553, -5.9878997802734375, -6.9039998054504395, -5.826099872589111, -5.166200160980225, -6.701099872589111, -7.327300071716309, -5.4899001121521, -5.092299938201904, -6.002500057220459, -6.0671000480651855, -6.0447001457214355, -6.561200141906738, -5.466300010681152, -6.094399929046631, -5.569200038909912, -5.996500015258789, -5.940400123596191, -5.663700103759766, -5.621799945831299, -5.820099830627441, -6.057300090789795, -4.970699787139893, -3.7495999336242676, -5.652599811553955, -5.89139986038208, -5.477499961853027, -5.698599815368652, -5.541900157928467, -4.238800048828125, -5.062399864196777, -5.3470001220703125, -4.743199825286865, -5.187099933624268, -5.303299903869629, -5.386000156402588, -5.617499828338623, -5.771200180053711, -5.272200107574463, -5.58459997177124, -5.389500141143799, -5.503900051116943, -5.630199909210205, -5.547699928283691, -5.573400020599365, -5.460899829864502, -5.253300189971924, -6.974100112915039, -7.039700031280518, -7.001200199127197, -7.11269998550415, -7.190299987792969, -7.293300151824951, -7.34660005569458, -7.351500034332275, -7.507699966430664, -7.542200088500977, -7.548099994659424, -6.784200191497803, -7.6296000480651855, -5.601900100708008, -7.360799789428711, -7.320499897003174, -7.734099864959717, -7.747300148010254, -7.7469000816345215, -7.593299865722656, -7.808800220489502, -7.846099853515625, -7.866600036621094, -7.868100166320801, -7.842400074005127, -7.917300224304199, -7.926400184631348, -7.839700222015381, -5.614999771118164, -5.5559000968933105, -7.229700088500977, -7.606200218200684, -7.560800075531006, -7.49399995803833, -6.115900039672852, -7.0243000984191895, -5.948299884796143, -6.4868998527526855, -6.774499893188477, -7.187699794769287, -6.288000106811523, -6.517000198364258, -6.6875, -6.805099964141846, -5.219200134277344, -4.47599983215332, -6.887800216674805, -4.851500034332275, -5.380799770355225, -5.158999919891357, -5.708399772644043, -5.44950008392334, -5.247099876403809, -4.47790002822876, -5.127299785614014, -4.831999778747559, -6.026000022888184, -5.468400001525879, -6.559100151062012, -6.065299987792969, -5.521399974822998, -5.566699981689453, -4.906199932098389, -4.5081000328063965, -4.998600006103516, -4.131899833679199, -4.56689977645874, -5.754899978637695, -5.917200088500977, -5.053699970245361, -5.132999897003174, -5.1946001052856445, -5.0808000564575195, -5.208199977874756, -5.288000106811523, -5.370299816131592, -5.407899856567383, -5.482900142669678, -5.503699779510498, -5.515399932861328, -4.792900085449219, -6.115200042724609, -6.257299900054932, -6.058599948883057, -6.5954999923706055, -6.737800121307373, -6.6605000495910645, -6.640399932861328, -6.833899974822998, -4.441400051116943, -7.046800136566162, -6.960599899291992, -7.319300174713135, -7.30079984664917, -7.309299945831299, -7.295899868011475, -7.345200061798096, -7.149499893188477, -7.440499782562256, -7.613500118255615, -7.645899772644043, -7.653200149536133, -7.6768999099731445, -7.336599826812744, -7.712500095367432, -7.768799781799316, -7.7866997718811035, -7.815700054168701, -7.695300102233887, -7.847700119018555, -6.296299934387207, -6.713600158691406, -6.724999904632568, -6.869900226593018, -5.667399883270264, -6.520999908447266, -5.770199775695801, -6.25029993057251, -7.459499835968018, -5.453199863433838, -6.916999816894531, -4.8979997634887695, -5.191199779510498, -5.879300117492676, -5.790500164031982, -6.681700229644775, -5.258500099182129, -5.270699977874756, -5.434299945831299, -5.541800022125244, -4.793300151824951, -5.41540002822876, -4.512800216674805, -5.445099830627441, -5.713699817657471, -3.68179988861084, -4.877099990844727, -6.095699787139893, -5.013899803161621, -4.894000053405762, -5.651400089263916, -5.361999988555908, -5.957600116729736, -5.064300060272217, -4.84250020980835, -4.77269983291626, -5.482699871063232, -4.843400001525879, -5.288400173187256, -5.2316999435424805, -5.492700099945068, -5.2881999015808105, -5.2316999435424805, -5.111800193786621, -5.223100185394287, -5.727399826049805, -5.20359992980957, -5.723400115966797, -6.415900230407715, -6.363100051879883, -6.819699764251709, -6.761600017547607, -6.790999889373779, -6.952000141143799, -6.986000061035156, -7.024700164794922, -7.0945000648498535, -7.089200019836426, -5.150000095367432, -6.2820000648498535, -7.196599960327148, -7.345900058746338, -7.452199935913086, -5.5914998054504395, -6.464900016784668, -7.3566999435424805, -7.545199871063232, -7.567200183868408, -7.536399841308594, -7.623799800872803, -7.621300220489502, -7.5441999435424805, -7.620100021362305, -5.375400066375732, -7.627500057220459, -6.696400165557861, -6.893700122833252, -6.60830020904541, -7.077300071716309, -6.93149995803833, -7.054900169372559, -5.52209997177124, -5.928599834442139, -6.0208001136779785, -5.415599822998047, -5.345699787139893, -6.25629997253418, -6.070899963378906, -4.351099967956543, -6.475500106811523, -5.318900108337402, -5.573999881744385, -5.879700183868408, -4.4054999351501465, -5.799099922180176, -6.592199802398682, -5.8531999588012695, -5.807600021362305, -4.971700191497803, -4.670100212097168, -5.497300148010254, -5.815199851989746, -5.486800193786621, -5.082900047302246, -5.87529993057251, -5.4558000564575195, -4.963799953460693, -5.564499855041504, -5.7133002281188965, -5.061100006103516, -4.913000106811523, -5.153500080108643, -5.323400020599365, -5.400199890136719, -5.18779993057251, -5.483399868011475, -5.175099849700928, -5.440499782562256, -5.274499893188477, -5.470300197601318, -5.563499927520752, -4.350800037384033, -4.460000038146973, -5.861400127410889, -5.833499908447266, -5.795499801635742, -6.237500190734863, -6.502099990844727, -6.726500034332275, -6.82859992980957, -6.789700031280518, -6.345399856567383, -6.353899955749512, -4.095799922943115, -6.8821001052856445, -6.871699810028076, -6.8572998046875, -6.933700084686279, -6.827199935913086, -6.331500053405762, -5.642300128936768, -6.820899963378906, -7.182400226593018, -7.143599987030029, -7.141200065612793, -7.261300086975098, -6.957200050354004, -6.63070011138916, -7.334199905395508, -7.372099876403809, -7.406099796295166, -5.501699924468994, -5.723800182342529, -4.36929988861084, -5.393700122833252, -6.347300052642822, -5.401599884033203, -6.956600189208984, -3.986799955368042, -5.222499847412109, -4.19789981842041, -6.346399784088135, -5.014500141143799, -6.07859992980957, -6.0644001960754395, -4.955900192260742, -5.7540998458862305, -5.717299938201904, -6.390399932861328, -5.250899791717529, -5.792799949645996, -4.415599822998047, -5.5954999923706055, -4.741700172424316, -5.198500156402588, -5.386899948120117, -5.496399879455566, -4.6616997718811035, -4.546800136566162, -5.165800094604492, -4.707499980926514, -5.0447001457214355, -5.202400207519531, -5.239799976348877, -5.270699977874756, -5.422800064086914, -5.334700107574463, -5.343900203704834, -5.484600067138672, -5.442800045013428, -5.490300178527832]}, \"token.table\": {\"Topic\": [5, 9, 1, 4, 7, 2, 1, 3, 4, 5, 6, 7, 8, 9, 3, 4, 5, 6, 7, 8, 9, 12, 1, 3, 4, 5, 6, 7, 8, 1, 2, 3, 4, 5, 6, 7, 8, 9, 10, 2, 2, 3, 5, 6, 7, 8, 9, 10, 11, 12, 2, 3, 7, 9, 10, 11, 12, 2, 3, 8, 1, 2, 3, 4, 5, 6, 7, 8, 9, 10, 11, 12, 4, 5, 6, 7, 8, 1, 2, 3, 4, 5, 6, 7, 8, 9, 10, 11, 12, 1, 3, 4, 7, 8, 10, 11, 12, 1, 12, 12, 1, 2, 3, 5, 6, 7, 8, 9, 10, 11, 12, 3, 12, 1, 2, 3, 4, 5, 6, 7, 8, 9, 10, 11, 12, 1, 2, 5, 6, 7, 8, 9, 12, 1, 2, 3, 4, 5, 6, 7, 8, 9, 10, 11, 12, 2, 5, 6, 9, 1, 2, 3, 5, 6, 7, 8, 9, 10, 11, 12, 1, 3, 7, 8, 9, 10, 11, 12, 8, 1, 3, 11, 12, 1, 2, 3, 4, 5, 6, 7, 8, 9, 10, 11, 12, 12, 1, 3, 7, 11, 1, 2, 5, 7, 8, 1, 3, 5, 6, 7, 8, 9, 10, 11, 12, 2, 2, 3, 5, 6, 7, 9, 10, 11, 12, 2, 4, 5, 6, 8, 9, 11, 10, 12, 4, 3, 8, 2, 3, 5, 6, 7, 9, 10, 11, 12, 1, 2, 3, 4, 5, 6, 7, 8, 9, 10, 11, 12, 4, 7, 8, 9, 11, 12, 8, 1, 4, 7, 8, 1, 2, 3, 4, 5, 6, 7, 8, 9, 10, 11, 12, 1, 9, 6, 9, 1, 2, 3, 4, 5, 6, 7, 8, 9, 10, 11, 12, 1, 2, 3, 4, 5, 6, 7, 8, 9, 10, 11, 12, 2, 3, 4, 5, 6, 8, 10, 11, 4, 6, 1, 2, 4, 5, 6, 7, 8, 9, 10, 10, 4, 7, 3, 6, 7, 11, 12, 1, 2, 3, 4, 5, 6, 7, 8, 9, 10, 11, 12, 1, 2, 3, 4, 5, 6, 7, 8, 9, 10, 11, 12, 1, 2, 3, 4, 5, 6, 7, 8, 9, 10, 11, 12, 1, 2, 5, 7, 8, 9, 10, 12, 1, 2, 3, 4, 5, 6, 7, 8, 9, 10, 12, 12, 2, 1, 3, 4, 5, 6, 7, 8, 9, 1, 2, 3, 4, 5, 6, 7, 8, 9, 10, 11, 12, 9, 2, 1, 2, 5, 9, 2, 3, 4, 5, 6, 7, 8, 9, 10, 11, 12, 1, 2, 3, 4, 5, 6, 7, 8, 9, 10, 11, 12, 2, 6, 7, 8, 9, 11, 12, 1, 2, 3, 4, 7, 8, 9, 10, 11, 12, 1, 2, 3, 4, 5, 6, 7, 8, 9, 10, 11, 12, 12, 4, 10, 1, 1, 2, 3, 4, 5, 6, 7, 8, 10, 11, 12, 1, 3, 5, 7, 8, 10, 11, 12, 12, 1, 8, 9, 10, 12, 1, 3, 9, 11, 12, 1, 2, 10, 3, 2, 3, 4, 5, 6, 7, 8, 9, 10, 12, 2, 9, 12, 4, 7, 6, 6, 7, 8, 3, 8, 12, 3, 4, 11, 1, 3, 11, 12, 7, 1, 2, 3, 5, 7, 8, 9, 11, 12, 2, 5, 9, 10, 12, 3, 5, 9, 1, 3, 4, 5, 6, 7, 8, 10, 11, 12, 3, 4, 5, 8, 9, 10, 12, 8, 6, 7, 12, 5, 10, 11, 1, 9, 11, 12, 2, 10, 3, 4, 5, 7, 8, 11, 1, 2, 3, 4, 5, 6, 7, 8, 9, 10, 11, 12, 5, 2, 5, 7, 9, 10, 12, 1, 2, 3, 6, 7, 8, 9, 10, 3, 4, 11, 1, 2, 3, 4, 5, 6, 7, 8, 9, 10, 11, 12, 1, 2, 3, 4, 5, 6, 7, 8, 9, 10, 11, 12, 3, 6, 1, 2, 3, 4, 5, 6, 7, 8, 9, 10, 11, 12, 1, 2, 3, 4, 5, 6, 7, 8, 9, 10, 11, 12, 12, 3, 4, 1, 2, 3, 4, 6, 7, 8, 1, 2, 3, 4, 7, 8, 9, 11, 12, 1, 3, 4, 8, 8, 7, 9, 10, 11, 7, 2, 1, 5, 8, 12, 3, 11, 6, 6, 1, 2, 3, 4, 5, 6, 7, 8, 9, 10, 11, 12, 9, 1, 2, 3, 4, 5, 6, 7, 8, 9, 10, 11, 12, 11, 1, 2, 3, 4, 5, 6, 7, 8, 9, 10, 11, 12, 1, 2, 3, 5, 6, 7, 8, 9, 10, 11, 12, 1, 2, 3, 4, 5, 6, 7, 8, 9, 10, 11, 12, 1, 2, 3, 4, 5, 6, 7, 8, 9, 10, 11, 12, 1, 3, 4, 8, 9, 10, 11, 1, 6, 11, 12, 9, 11, 6, 1, 2, 7, 8, 11, 12, 9, 1, 2, 3, 4, 5, 6, 7, 8, 9, 10, 11, 12, 7, 1, 2, 3, 4, 5, 6, 7, 8, 9, 10, 11, 12, 5, 11, 2, 5, 6, 9, 1, 3, 4, 5, 6, 7, 8, 9, 10, 11, 12, 1, 2, 7, 8, 9, 10, 11, 1, 4, 5, 1, 2, 3, 4, 5, 6, 7, 8, 9, 10, 11, 12, 4, 8, 2, 1, 2, 3, 4, 7, 8, 10, 5, 9, 8, 2, 9, 11, 5, 2, 2, 12, 10, 6, 1, 3, 4, 7, 8, 1, 2, 3, 4, 5, 6, 7, 8, 9, 10, 11, 12, 1, 8, 2, 5, 6, 7, 9, 10, 11, 12, 9, 10, 1, 2, 3, 4, 5, 6, 7, 8, 9, 10, 11, 12, 6, 1, 2, 3, 4, 5, 6, 7, 8, 9, 10, 11, 1, 2, 3, 4, 5, 6, 7, 8, 9, 10, 11, 12, 3, 7, 9, 10, 1, 3, 4, 6, 8, 11, 12, 3, 9, 11, 12, 3, 1, 2, 3, 4, 5, 6, 7, 8, 9, 10, 11, 12, 12, 1, 2, 3, 4, 5, 6, 7, 8, 9, 11, 12, 5, 7, 1, 4, 7, 8, 11, 11, 3, 6, 7, 10, 1, 2, 3, 4, 5, 6, 7, 8, 9, 10, 11, 12, 11, 1, 2, 3, 4, 5, 6, 7, 8, 9, 10, 11, 12, 1, 9, 10, 11, 1, 3, 4, 6, 7, 8, 10, 11, 1, 2, 4, 5, 6, 7, 8, 9, 1, 2, 3, 4, 5, 6, 7, 8, 9, 10, 11, 12, 3, 7, 8, 4, 1, 3, 4, 5, 7, 8, 9, 10, 12, 8, 1, 2, 3, 4, 5, 6, 7, 8, 9, 10, 11, 12, 1, 2, 5, 6, 7, 8, 9, 10, 11, 12, 1, 2, 3, 4, 7, 8, 9, 10, 11, 6, 2, 1, 2, 3, 4, 5, 6, 7, 8, 9, 10, 11, 12, 1, 2, 3, 4, 5, 6, 7, 8, 9, 10, 11, 12, 3, 1, 2, 3, 4, 5, 6, 7, 8, 9, 10, 11, 12, 1, 2, 3, 4, 5, 6, 7, 8, 9, 10, 11, 12, 1, 2, 3, 4, 5, 6, 7, 8, 9, 10, 4, 4, 1, 2, 3, 4, 5, 6, 7, 8, 9, 10, 11, 12, 10, 9, 1, 2, 3, 4, 5, 6, 7, 8, 9, 10, 11, 12, 1, 3, 4, 8, 1, 7, 12, 3, 9, 1, 2, 3, 4, 5, 6, 7, 8, 9, 10, 11, 12, 1, 2, 3, 4, 5, 6, 7, 8, 9, 10, 11, 12, 1, 2, 3, 4, 5, 6, 7, 8, 9, 10, 12, 2, 1, 3, 4, 8, 3, 5, 9, 1, 2, 3, 4, 5, 6, 7, 8, 11, 1, 2, 3, 4, 5, 6, 7, 8, 9, 10, 11, 12, 1, 2, 3, 4, 5, 6, 7, 8, 9, 10, 11, 12, 7, 6, 1, 2, 4, 5, 6, 7, 8, 9, 6, 9, 1, 2, 3, 4, 5, 6, 7, 8, 9, 10, 11, 12, 6, 1, 2, 4, 5, 6, 7, 8, 9, 10, 11, 12, 1, 2, 3, 4, 6, 7, 8, 12, 1, 2, 3, 4, 6, 7, 8, 10, 9, 1, 2, 3, 4, 5, 6, 7, 8, 9, 10, 11, 8, 2, 5, 7, 8, 9, 11, 12, 1, 2, 4, 5, 7, 8, 9, 1, 2, 3, 4, 5, 6, 7, 8, 9, 10, 11, 12, 1, 2, 3, 4, 5, 6, 7, 8, 9, 10, 11, 12, 2, 5, 6, 7, 8, 9, 10, 12, 1, 2, 3, 4, 5, 6, 7, 8, 9, 10, 11, 12, 1, 3, 4, 6, 7, 8, 10, 11, 11, 1, 2, 3, 4, 5, 6, 7, 8, 9, 10, 11, 12, 1, 2, 3, 5, 7, 8, 9, 10, 11, 12, 7, 1, 2, 3, 5, 7, 8, 5, 7, 8, 1, 4, 7, 8, 1, 2, 3, 4, 5, 7, 8, 10, 4, 12, 8, 5, 8, 1, 2, 3, 4, 5, 6, 7, 8, 10, 11, 12, 1, 3, 4, 8, 5, 6, 9, 10, 1, 2, 3, 4, 5, 6, 7, 8, 9, 10, 11, 12, 3, 8, 11, 12, 1, 2, 3, 4, 5, 6, 7, 8, 9, 10, 11, 12, 1, 2, 3, 4, 5, 6, 7, 8, 9, 10, 11, 12, 1, 2, 3, 4, 5, 6, 7, 8, 9, 10, 11, 12, 1, 2, 3, 4, 5, 6, 7, 8, 9, 10, 11, 12, 1, 3, 4, 6, 8, 9, 1, 2, 3, 4, 5, 6, 8, 9, 10, 11, 12, 1, 3, 5, 6, 7, 8, 9, 10, 11, 12, 1, 2, 3, 4, 5, 7, 8, 9, 10, 11, 11, 1, 2, 8, 10, 11, 12, 1, 2, 3, 4, 5, 6, 7, 8, 9, 10, 11, 12, 1, 2, 3, 4, 5, 7, 8, 9, 10, 11, 12, 4, 1, 2, 3, 4, 5, 7, 8, 9, 10, 11, 12, 7, 2, 9, 10, 12, 1, 4, 5, 11, 2, 3, 4, 5, 6, 7, 8, 9, 10, 11, 12, 1, 2, 3, 4, 5, 6, 7, 8, 9, 10, 11, 12, 1, 3, 4, 5, 6, 7, 8, 9, 10, 11, 3, 9, 10, 11, 5, 9, 3, 2, 3, 4, 5, 6, 7, 8, 9, 10, 11, 12, 1, 2, 3, 4, 6, 7, 8, 9, 10, 11, 2, 3, 4, 5, 6, 7, 8, 9, 10, 11, 1, 2, 3, 4, 5, 6, 7, 8, 9, 10, 11, 12, 1, 2, 3, 4, 5, 6, 7, 8, 9, 10, 11, 12, 7, 1, 1, 3, 4, 8, 1, 2, 3, 4, 5, 6, 7, 8, 9, 10, 11, 12, 7, 8, 1, 2, 3, 4, 5, 6, 7, 8, 9, 10, 11, 12, 2, 5, 7, 9, 10, 11, 12, 2, 5, 7, 9, 12, 1, 2, 3, 4, 5, 6, 7, 8, 11, 1, 3, 5, 7, 8, 1, 2, 3, 4, 5, 6, 7, 8, 9, 10, 11, 12, 5, 7, 8, 1, 2, 3, 4, 5, 6, 7, 8, 9, 10, 11, 12, 5, 1, 1, 2, 3, 4, 5, 6, 7, 8, 9, 10, 11, 12, 1, 3, 1, 2, 3, 4, 5, 6, 7, 8, 9, 10, 11, 12, 1, 3, 4, 5, 6, 7, 8, 9, 10, 11, 1, 2, 3, 4, 5, 6, 7, 8, 9, 10, 11, 12, 1, 2, 3, 4, 7, 8, 10, 1, 2, 3, 4, 8, 9, 10, 11, 5, 1, 2, 3, 4, 5, 6, 7, 8, 9, 10, 11, 12, 1, 2, 3, 4, 5, 6, 7, 8, 9, 10, 11, 12, 1, 2, 3, 4, 5, 6, 7, 8, 9, 10, 11, 12, 4, 11, 3, 1, 3, 4, 8, 11, 1, 3, 4, 5, 6, 7, 8, 9, 10, 11, 12, 1, 2, 3, 8, 9, 3, 5, 6, 11, 1, 6, 7, 9, 1, 2, 3, 4, 5, 6, 7, 8, 9, 10, 11, 12, 5, 2, 1, 2, 3, 4, 5, 6, 7, 8, 9, 10, 11, 12, 12, 1, 2, 3, 4, 5, 6, 7, 8, 9, 10, 11, 12, 6, 4, 9, 10, 11, 12, 3, 9, 10, 11, 11, 1, 2, 3, 4, 5, 6, 7, 8, 9, 10, 11, 12, 1, 2, 3, 4, 5, 6, 7, 8, 9, 10, 11, 12, 2, 1, 2, 3, 4, 5, 6, 7, 8, 9, 10, 11, 12, 7, 1, 2, 4, 5, 7, 8, 1, 2, 4, 7, 8, 9, 10, 1, 2, 3, 4, 5, 6, 7, 8, 9, 10, 11, 12, 10, 1, 2, 8, 2, 5, 1, 2, 3, 4, 5, 6, 7, 8, 9, 10, 11, 12, 12, 1, 2, 5, 7, 8, 9, 10, 12, 1, 2, 3, 4, 5, 6, 7, 8, 9, 10, 11, 1, 2, 4, 5, 6, 7, 8, 9, 10, 12, 3, 9, 11, 12, 1, 2, 3, 4, 5, 6, 7, 8, 9, 11, 12, 1, 2, 3, 4, 5, 6, 7, 8, 9, 10, 11, 12, 1, 2, 3, 4, 5, 6, 7, 8, 9, 10, 11, 4, 1, 2, 3, 4, 5, 6, 7, 8, 9, 10, 11, 12, 1, 2, 3, 4, 5, 6, 7, 8, 9, 10, 11, 12, 1, 2, 3, 4, 5, 6, 7, 8, 9, 10, 11, 12, 11, 6, 7, 9, 1, 2, 3, 4, 5, 6, 7, 8, 9, 10, 11, 12, 1, 2, 3, 4, 5, 6, 7, 8, 9, 10, 11, 12, 12, 8, 2, 5, 6, 7, 8, 9, 10, 11, 12, 5, 1, 2, 3, 4, 5, 8, 12, 5, 8, 9, 3, 4, 6, 7, 8, 9, 1, 2, 3, 4, 5, 6, 7, 8, 9, 10, 11, 4, 9, 11, 9, 7, 1, 2, 4, 5, 6, 7, 8, 9, 10, 1, 2, 3, 4, 5, 6, 7, 8, 9, 10, 11, 12, 8, 1, 2, 3, 4, 8, 10, 11, 2, 3, 5, 6, 7, 8, 9, 10, 12, 1, 2, 3, 4, 5, 6, 7, 8, 9, 10, 11, 5, 1, 2, 3, 4, 5, 6, 7, 8, 9, 10, 11, 12, 1, 3, 4, 6, 7, 8, 9, 10, 11, 1, 3, 4, 5, 7, 8, 9, 10, 12, 1, 2, 2, 1, 2, 3, 4, 7, 8, 9, 10, 11, 12, 2, 9, 10, 11, 11, 1, 3, 4, 8, 10, 11, 12, 1, 2, 3, 4, 5, 6, 7, 8, 9, 10, 11, 12, 1, 2, 3, 4, 5, 6, 7, 8, 9, 10, 11, 12, 1, 1, 2, 3, 4, 5, 6, 7, 8, 9, 10, 11, 12, 1, 12, 5, 1, 2, 3, 4, 5, 6, 7, 8, 9, 10, 11, 12, 1, 2, 3, 4, 5, 6, 7, 8, 10, 11, 1, 2, 3, 4, 5, 6, 7, 8, 9, 10, 11, 12, 1, 3, 4, 5, 6, 7, 8, 1, 2, 3, 4, 5, 6, 7, 8, 9, 10, 11, 12, 2, 3, 4, 5, 6, 7, 8, 9, 10, 1, 2, 3, 4, 5, 6, 7, 8, 9, 10, 11, 12, 1, 2, 3, 4, 5, 6, 7, 8, 9, 10, 11, 12, 4, 5, 7, 11, 1, 2, 3, 4, 5, 6, 7, 8, 9, 10, 11, 12, 4, 5, 7, 8, 11, 4, 1, 7, 1, 7, 9, 5, 6, 9, 10, 1, 2, 3, 4, 7, 9, 11, 12, 1, 12, 1, 2, 3, 4, 5, 6, 7, 8, 9, 10, 11, 12, 1, 2, 3, 4, 5, 6, 7, 8, 9, 10, 11, 12, 2, 7, 9, 10, 1, 2, 3, 4, 5, 6, 7, 8, 9, 10, 11, 1, 2, 3, 4, 5, 6, 7, 8, 9, 10, 11, 12, 3, 4, 9, 10, 1, 2, 3, 4, 5, 6, 7, 8, 9, 10, 11, 12, 8, 8, 1, 2, 3, 4, 5, 6, 7, 9, 10, 11, 12, 1, 2, 3, 4, 5, 6, 7, 8, 9, 10, 11, 12, 1, 2, 3, 4, 5, 6, 7, 8, 9, 10, 11, 12, 8, 3, 4, 5, 2, 7, 8, 9, 10, 11, 12, 1, 9, 9, 3, 8, 10, 12, 7, 1, 1, 3, 6, 8, 9, 1, 2, 3, 4, 5, 6, 7, 8, 9, 10, 11, 12, 1, 2, 3, 4, 5, 6, 7, 8, 10, 11, 1, 2, 3, 4, 5, 6, 7, 8, 10, 12, 1, 2, 3, 4, 5, 7, 8, 10, 7, 1, 2, 3, 4, 5, 7, 8, 9, 10, 11, 12, 6, 2, 9, 11, 3, 6, 9, 5, 7, 9, 1, 3, 11, 1, 2, 3, 4, 5, 6, 7, 8, 9, 10, 11, 12, 8, 5, 1, 3, 4, 5, 6, 7, 8, 9, 10, 3, 6, 5, 3, 3, 1, 12, 1, 2, 3, 4, 5, 6, 7, 8, 9, 10, 11, 12, 1, 2, 3, 4, 5, 6, 7, 8, 9, 10, 11, 12, 8, 12, 1, 2, 3, 4, 5, 6, 7, 8, 9, 10, 11, 12, 1, 2, 3, 4, 7, 8, 9, 10, 12, 1, 2, 3, 4, 5, 6, 7, 8, 9, 10, 11, 12, 11, 2, 3, 5, 6, 7, 8, 9, 10, 11, 12, 2, 5, 6, 8, 9, 10, 1, 2, 3, 4, 5, 6, 7, 8, 9, 10, 11, 12, 5, 4, 1, 2, 9, 2, 5, 9, 10, 11, 12, 1, 2, 3, 4, 5, 6, 7, 8, 9, 10, 11, 12, 1, 3, 8, 9, 10, 11, 3, 9, 1, 2, 3, 4, 5, 6, 7, 8, 9, 10, 11, 12, 1, 2, 3, 4, 6, 7, 8, 9, 10, 12, 5, 8, 9, 10, 4, 7, 2, 3, 4, 6, 9, 11, 9, 2, 5, 1, 2, 3, 4, 5, 6, 7, 8, 9, 10, 11, 12, 2, 4, 8, 11, 5, 11, 7, 10, 3, 6, 7, 10, 11, 12, 2, 7, 1, 2, 3, 4, 5, 6, 7, 8, 9, 10, 11, 12, 1, 7, 8, 1, 2, 3, 4, 5, 6, 7, 8, 9, 10, 11, 12, 1, 2, 3, 4, 5, 6, 7, 8, 9, 10, 11, 12, 1, 2, 3, 4, 5, 6, 7, 8, 9, 10, 11, 12, 1, 2, 3, 4, 5, 6, 7, 8, 9, 10, 11, 12, 1, 1, 2, 3, 4, 5, 6, 7, 8, 9, 10, 11, 12, 4, 6, 7, 2, 5, 6, 7, 8, 9, 10, 11, 12, 1, 2, 3, 4, 5, 6, 7, 8, 9, 10, 11, 12, 10, 5, 9, 9, 11, 9, 9, 10, 11, 12, 1, 2, 3, 4, 7, 8, 11, 12, 1, 7, 8, 1, 2, 3, 4, 5, 6, 8, 10, 11, 12, 1, 1, 2, 3, 4, 5, 6, 7, 8, 9, 10, 11, 12, 1, 2, 3, 4, 5, 6, 7, 8, 9, 10, 11, 12, 1, 2, 3, 4, 5, 6, 7, 8, 9, 10, 11, 12, 6, 10, 5, 9, 1, 2, 3, 4, 5, 6, 7, 8, 9, 10, 11, 12, 10, 6, 9, 6, 1, 2, 3, 4, 5, 6, 7, 8, 9, 10, 11, 12, 2, 8, 2, 1, 2, 3, 4, 5, 6, 7, 8, 9, 10, 11, 12, 10, 1, 2, 3, 4, 5, 6, 7, 8, 9, 10, 11, 12, 5, 3, 5, 6, 7, 8, 9, 10, 11, 12, 5, 1, 2, 3, 4, 5, 6, 7, 8, 9, 10, 11, 12, 1, 2, 3, 4, 5, 6, 7, 8, 9, 10, 11, 12, 1, 3, 4, 8, 5, 9, 1, 2, 3, 4, 5, 6, 7, 8, 9, 10, 12, 4, 1, 5, 6, 8, 10, 12, 4, 4, 3, 5, 6, 10, 1, 2, 3, 4, 5, 6, 7, 8, 9, 10, 11, 12, 1, 2, 3, 4, 5, 6, 7, 8, 10, 12, 2, 3, 5, 6, 7, 8, 9, 10, 11, 12, 1, 2, 3, 4, 5, 6, 7, 8, 9, 10, 11, 12, 11, 1, 2, 3, 4, 5, 6, 7, 8, 9, 10, 11, 12, 1, 2, 3, 4, 6, 7, 8, 10, 4, 12, 2, 3, 9, 12, 3, 4, 5, 3, 5, 8, 1, 2, 3, 4, 5, 6, 7, 8, 9, 10, 11, 12, 9, 11, 1, 2, 4, 5, 6, 8, 9, 6, 5, 6, 1, 2, 3, 4, 5, 6, 7, 8, 9, 11, 1, 1, 3, 4, 8, 9, 1, 2, 3, 4, 5, 6, 7, 8, 9, 10, 11, 12, 12, 1, 3, 4, 8, 3, 7, 3, 7, 9, 10, 11, 12, 12, 7, 6, 3, 2, 5, 5, 7, 10, 1, 2, 3, 4, 5, 6, 7, 8, 9, 10, 11, 12, 1, 3, 4, 6, 8, 9, 10, 11, 10, 5, 7, 3, 5, 1, 2, 3, 4, 5, 6, 7, 8, 9, 10, 11, 12, 1, 2, 3, 4, 5, 6, 7, 8, 9, 10, 11, 12, 1, 2, 3, 4, 5, 6, 7, 8, 9, 10, 11, 1, 2, 3, 4, 5, 6, 7, 8, 9, 10, 12, 1, 2, 3, 4, 5, 6, 7, 8, 9, 10, 12, 6, 1, 2, 3, 4, 5, 6, 7, 8, 9, 10, 11, 12, 1, 3, 4, 7, 8, 7, 10, 1, 3, 4, 6, 8, 10, 11, 12, 1, 2, 3, 4, 5, 6, 7, 8, 9, 10, 11, 1, 2, 3, 4, 5, 6, 7, 8, 9, 10, 11, 12, 1, 2, 3, 4, 5, 6, 7, 8, 9, 10, 11, 12, 1, 2, 3, 4, 5, 6, 7, 8, 9, 10, 11, 12, 1, 2, 3, 4, 5, 6, 7, 8, 9, 10, 11, 12, 1, 2, 3, 5, 7, 8, 9, 3, 1, 3, 4, 9, 1, 2, 6, 7, 8, 9, 10, 1, 2, 3, 4, 5, 6, 7, 8, 9, 1, 2, 3, 4, 5, 6, 7, 8, 9, 10, 11, 12, 1, 2, 3, 4, 6, 7, 8, 9, 10, 11, 12, 9, 1, 2, 3, 4, 5, 6, 7, 8, 9, 10, 11, 12, 3, 5, 6, 7, 9, 10, 1, 2, 3, 4, 5, 6, 7, 8, 9, 10, 11, 12, 1, 2, 3, 4, 5, 6, 7, 8, 9, 10, 11, 12, 1, 2, 3, 4, 5, 6, 7, 8, 9, 10, 11, 12, 6, 1, 2, 3, 4, 5, 6, 7, 8, 9, 10, 11, 12, 1, 2, 3, 4, 5, 7, 8, 9, 10, 12, 5, 1, 2, 6, 8, 12, 2, 2, 2, 3, 9, 11, 12, 1, 2, 7, 3, 11, 3, 3, 4, 1, 3, 4, 1, 2, 3, 4, 6, 7, 8, 10, 11, 1, 2, 3, 4, 5, 6, 7, 9, 10, 12, 1, 2, 3, 4, 5, 6, 7, 8, 9, 11, 12, 1, 4, 8, 2, 5, 1, 2, 3, 4, 5, 6, 7, 8, 9, 10, 11, 12, 3, 4, 3, 2, 10, 1, 3, 9, 1, 2, 3, 4, 7, 8, 9, 10, 12, 2, 5, 6, 7, 8, 9, 10, 11, 12, 1, 2, 3, 4, 5, 6, 7, 8, 9, 10, 11, 12, 1, 2, 3, 4, 5, 6, 7, 8, 9, 10, 11, 12, 1, 2, 3, 4, 5, 6, 7, 8, 9, 10, 11, 12, 1, 2, 3, 4, 5, 6, 7, 8, 11, 1, 2, 3, 4, 5, 6, 7, 8, 9, 10, 11, 10, 5, 3, 4, 6, 7, 8, 9, 4, 3, 7, 4, 1, 2, 3, 4, 5, 7, 8, 9, 11, 12, 6, 6, 2, 10, 11, 7, 11, 1, 1, 3, 2, 11, 1, 3, 4, 5, 6, 7, 8, 9, 11, 12, 5, 8, 9, 11, 1, 2, 3, 4, 5, 6, 7, 8, 9, 10, 11, 12, 1, 2, 3, 4, 5, 6, 7, 8, 9, 10, 11, 12, 9, 1, 2, 3, 4, 5, 6, 7, 8, 9, 10, 11, 12, 10, 11, 1, 3, 4, 5, 6, 7, 8, 1, 3, 4, 7, 8, 11, 1, 3, 4, 5, 6, 7, 8, 9, 11, 10, 1, 2, 3, 4, 5, 6, 7, 8, 9, 10, 11, 12, 11, 3, 5, 6, 7, 9, 6, 2, 10, 7, 5, 8, 1, 3, 4, 8, 9, 1, 2, 3, 4, 8, 9, 12, 1, 10, 1, 2, 3, 4, 5, 6, 7, 8, 9, 10, 11, 12, 1, 2, 3, 4, 5, 6, 7, 8, 9, 10, 11, 12, 3, 1, 1, 2, 3, 4, 5, 6, 7, 8, 9, 10, 11, 12, 8, 1, 2, 3, 4, 5, 7, 8, 9, 10, 11, 12, 1, 2, 3, 4, 5, 6, 7, 8, 9, 10, 11, 12, 1, 2, 3, 4, 5, 6, 7, 8, 9, 10, 11, 12, 2, 3, 4, 4, 8, 5, 10, 1, 8, 1, 12, 4, 2, 3, 7, 9, 10, 11, 12, 9, 2, 1, 3, 4, 5, 6, 7, 8, 10, 11, 12, 5, 6, 9, 11, 10, 11, 10, 9, 11, 12, 9, 10, 11, 12, 9, 10, 11, 9, 10, 11, 1, 2, 4, 5, 7, 8, 9, 10, 12, 8, 5, 11, 1, 2, 3, 4, 5, 6, 7, 8, 9, 10, 11, 12, 1, 2, 3, 4, 5, 6, 7, 8, 9, 10, 11, 12, 9, 12, 8, 3, 1, 2, 3, 4, 5, 6, 7, 8, 9, 10, 11, 12, 2, 4, 5, 6, 7, 8, 9, 2, 5, 1, 2, 3, 7, 8, 9, 10, 11, 12, 2, 4, 6, 7, 8, 9, 10, 11, 12, 4, 5, 7, 8, 9, 1, 5, 7, 8, 9, 10, 9, 10, 1, 2, 3, 4, 5, 6, 7, 8, 9, 10, 11, 12, 1, 2, 3, 4, 5, 6, 7, 8, 9, 10, 11, 12, 10, 9, 1, 2, 3, 4, 5, 6, 7, 8, 11, 1, 1, 2, 3, 4, 5, 6, 7, 8, 9, 10, 11, 12, 2, 3, 8, 9, 11, 12, 2, 5, 6, 8, 9, 10, 12, 2, 3, 9, 10, 12, 10, 1, 2, 3, 4, 5, 6, 7, 8, 9, 12, 1, 3, 8, 9, 1, 2, 3, 4, 7, 8, 10, 1, 2, 3, 4, 5, 6, 7, 8, 9, 10, 11, 12, 10, 7, 5, 7, 1, 2, 3, 5, 7, 8, 9, 10, 12, 3, 6, 7, 9, 10, 1, 2, 3, 4, 5, 6, 7, 8, 9, 10, 11, 12, 9, 10, 1, 2, 3, 4, 5, 6, 7, 8, 9, 10, 11, 12, 1, 4, 1, 3, 4, 8, 12, 12, 10, 7, 8, 10, 1, 2, 3, 4, 5, 6, 7, 8, 9, 10, 11, 12, 2, 5, 6, 10, 6, 7, 1, 2, 3, 4, 5, 7, 9, 10, 11, 12, 4, 8, 3, 1, 3, 4, 5, 7, 8, 10, 11, 12, 3, 1, 2, 3, 4, 5, 6, 7, 8, 9, 10, 11, 12, 12, 1, 2, 3, 4, 5, 6, 7, 8, 9, 10, 11, 12, 1, 2, 3, 4, 5, 6, 7, 8, 9, 10, 11, 12, 1, 2, 3, 4, 5, 6, 7, 8, 9, 10, 11, 12, 5, 1, 2, 3, 4, 5, 6, 7, 8, 9, 10, 11, 12, 1, 2, 3, 4, 5, 6, 7, 8, 9, 10, 11, 12, 7, 11, 1, 2, 3, 4, 5, 6, 7, 8, 9, 1, 2, 3, 4, 5, 6, 7, 8, 9, 10, 11, 3, 6, 7, 11, 12, 1, 2, 3, 5, 7, 8, 9, 10, 11, 12, 1, 4, 1, 3, 4, 1, 3, 4, 7, 8, 1, 3, 4, 6, 7, 8, 7, 9, 11, 12, 1, 3, 12, 1, 2, 3, 4, 5, 6, 7, 8, 9, 10, 11, 12, 8, 10, 3, 4, 5, 6, 7, 1, 6, 10, 8, 9, 1, 2, 5, 8, 8, 2, 4, 1, 2, 3, 4, 5, 6, 7, 8, 9, 10, 11, 12, 1, 2, 3, 4, 5, 6, 7, 8, 9, 10, 11, 12], \"Freq\": [0.017057718709111214, 0.9808188676834106, 0.9917329549789429, 0.0026236320845782757, 0.003935448359698057, 0.9965851306915283, 0.003774096956476569, 0.00817720964550972, 0.020757533609867096, 0.203801229596138, 0.06730473041534424, 0.5485020875930786, 0.14656075835227966, 0.0012580322800204158, 0.021530939266085625, 0.005556371528655291, 0.04306187853217125, 0.0604255385696888, 0.6771827340126038, 0.19100026786327362, 0.0006945464410819113, 0.0006945464410819113, 0.00199544383212924, 0.00399088766425848, 0.011972662061452866, 0.005986331030726433, 0.9717811346054077, 0.00199544383212924, 0.00199544383212924, 0.002242808463051915, 0.0013456851011142135, 0.011662604287266731, 0.004037055186927319, 0.008522672578692436, 0.7778059840202332, 0.1879473626613617, 0.002242808463051915, 0.0031399319414049387, 0.0008971234201453626, 0.9899717569351196, 0.002039909828454256, 0.0002914156939368695, 0.011365212500095367, 0.001457078498788178, 0.0002914156939368695, 0.000874247110914439, 0.11277787387371063, 0.000874247110914439, 0.0002914156939368695, 0.8695844411849976, 0.001772994059138, 0.015956945717334747, 0.003545988118276, 0.11879059672355652, 0.03723287582397461, 0.003545988118276, 0.8173502087593079, 0.9926420450210571, 0.990440845489502, 0.007987425662577152, 0.08505900204181671, 0.16164237260818481, 0.01029183715581894, 0.13137227296829224, 0.1516532450914383, 0.0889941155910492, 0.020280972123146057, 0.3257063627243042, 0.004843217320740223, 0.00393511401489377, 0.007567527238279581, 0.00877833180129528, 0.03775705769658089, 0.0335618257522583, 0.9208526611328125, 0.002097614109516144, 0.004195228219032288, 0.6413112878799438, 0.03149750083684921, 0.19489656388759613, 0.028634091839194298, 0.04147324711084366, 0.009883379563689232, 0.015702566131949425, 0.004618401639163494, 0.012007844634354115, 0.0069276029244065285, 0.0058191861025989056, 0.007204706780612469, 0.8319452404975891, 0.1319316178560257, 0.031042732298374176, 0.0007760683074593544, 0.0007760683074593544, 0.0007760683074593544, 0.0007760683074593544, 0.0007760683074593544, 0.003790483344346285, 0.9931066036224365, 0.994387686252594, 0.0004886596580035985, 0.0669463723897934, 0.0004886596580035985, 0.0014659789158031344, 0.0007329894579015672, 0.010017522610723972, 0.017591746523976326, 0.000977319316007197, 0.000977319316007197, 0.0002443298290017992, 0.9003553986549377, 0.00423811050131917, 0.9945432543754578, 0.06464008241891861, 0.2463398277759552, 0.07251910120248795, 0.01495404914021492, 0.037304725497961044, 0.005949460435658693, 0.08811633288860321, 0.027013767510652542, 0.11898920685052872, 0.050972405821084976, 0.1408575028181076, 0.13249608874320984, 0.002125617815181613, 0.1041552722454071, 0.8459959030151367, 0.002125617815181613, 0.007439662702381611, 0.02444460615515709, 0.008502471260726452, 0.004251235630363226, 0.008460300043225288, 0.40609443187713623, 0.010716380551457405, 0.001974069979041815, 0.5002857446670532, 0.002538090106099844, 0.011280400678515434, 0.019176680594682693, 0.030457081273198128, 0.0011280400212854147, 0.0002820100053213537, 0.007332260254770517, 0.03626121208071709, 0.9448060393333435, 0.01611609384417534, 0.0020145117305219173, 0.0001946302072610706, 0.017711348831653595, 0.010315400548279285, 0.0015570416580885649, 0.0007785208290442824, 0.0019463020144030452, 0.0001946302072610706, 0.3392404317855835, 0.34099212288856506, 0.2827976942062378, 0.004087234381586313, 0.014551454223692417, 0.006402639672160149, 0.0017461744137108326, 0.0005820581573061645, 0.8137173056602478, 0.00698469765484333, 0.15366335213184357, 0.0017461744137108326, 0.9961740374565125, 0.003679882036522031, 0.9696489572525024, 0.027599116787314415, 0.9971968531608582, 0.0008839885704219341, 0.01591179519891739, 0.0026519657112658024, 0.008839885704219341, 0.07955897599458694, 0.065415158867836, 0.030055612325668335, 0.6126040816307068, 0.014143817126750946, 0.11668649315834045, 0.005303931422531605, 0.04861937090754509, 0.9974058866500854, 0.05751696601510048, 0.9364942312240601, 0.0029495880007743835, 0.0014747940003871918, 0.0021049464121460915, 0.025259356945753098, 0.10103742778301239, 0.8651329874992371, 0.004209892824292183, 0.013258134946227074, 0.16414833068847656, 0.0012626794632524252, 0.0012626794632524252, 0.014520813710987568, 0.0018940191948786378, 0.026516269892454147, 0.6338651180267334, 0.1357380449771881, 0.00631339754909277, 0.992016077041626, 0.006891229655593634, 0.004134737886488438, 0.9123987555503845, 0.04548211395740509, 0.001378245884552598, 0.002756491769105196, 0.017917197197675705, 0.008269475772976875, 0.001378245884552598, 0.0014536910457536578, 0.008722146973013878, 0.02762013114988804, 0.8911126255989075, 0.06686978787183762, 0.0014536910457536578, 0.0014536910457536578, 0.9924501776695251, 0.9939469695091248, 0.995632529258728, 0.9853004813194275, 0.9926073551177979, 0.0007846290245652199, 0.003923145122826099, 0.006277032196521759, 0.0007846290245652199, 0.0023538870736956596, 0.4315459430217743, 0.014907951466739178, 0.5390401482582092, 0.0007846290245652199, 0.3570363223552704, 0.07142965495586395, 0.1322232335805893, 0.13938859105110168, 0.014890508726239204, 0.03403544798493385, 0.03929750621318817, 0.10367376357316971, 0.016681848093867302, 0.021160196512937546, 0.02653421461582184, 0.04366389662027359, 0.014840153977274895, 0.03840981051325798, 0.006110651884227991, 0.0034918009769171476, 0.0017459004884585738, 0.9349297285079956, 0.993013322353363, 0.003126877825707197, 0.003126877825707197, 0.9724590182304382, 0.01876126602292061, 0.4236532747745514, 0.05944833531975746, 0.046028848737478256, 0.29804685711860657, 0.02053181827068329, 0.02616800367832184, 0.04374753311276436, 0.04186880588531494, 0.008991057984530926, 0.024691859260201454, 0.0030864824075251818, 0.003891651751473546, 0.994862973690033, 0.9890104532241821, 0.9908379912376404, 0.9887540936470032, 0.07847042381763458, 0.10969845205545425, 0.0016014372231438756, 0.007206467445939779, 0.7646862864494324, 0.003202874446287751, 0.004003593232482672, 0.003202874446287751, 0.0008007186115719378, 0.0008007186115719378, 0.02642371505498886, 0.0008007186115719378, 0.44271907210350037, 0.14705540239810944, 0.0017081409459933639, 0.006521992851048708, 0.3265655040740967, 0.00015528553922194988, 0.05326294153928757, 0.0017081409459933639, 0.002018711995333433, 0.0009317132644355297, 0.016926124691963196, 0.00046585663221776485, 0.0014158606063574553, 0.011326884850859642, 0.0014158606063574553, 0.004247581586241722, 0.9500424265861511, 0.008495163172483444, 0.011326884850859642, 0.011326884850859642, 0.0020466188434511423, 0.9967033267021179, 0.0006859325221739709, 0.06447765231132507, 0.0006859325221739709, 0.613223671913147, 0.005144493654370308, 0.218469500541687, 0.09500165283679962, 0.0013718650443479419, 0.00034296626108698547, 0.9903478622436523, 0.9971356391906738, 0.995829164981842, 0.03563787788152695, 0.0056270333006978035, 0.9575334787368774, 0.9932082295417786, 0.994924783706665, 0.7348449230194092, 0.045243680477142334, 0.033020589500665665, 0.057284336537122726, 0.008209538646042347, 0.010763617232441902, 0.008209538646042347, 0.04943966493010521, 0.0052905916236341, 0.036304403096437454, 0.0021892101503908634, 0.009304143488407135, 0.04641479253768921, 0.759010374546051, 0.00013532009324990213, 0.00893112551420927, 0.153858944773674, 0.0005412803729996085, 0.016915010288357735, 0.001082560745999217, 0.002977041993290186, 0.0004059602797497064, 0.004194922745227814, 0.005548123735934496, 0.029004346579313278, 0.7531589269638062, 0.001908180769532919, 0.03243907168507576, 0.01755526289343834, 0.0007632722845301032, 0.15837900340557098, 0.0011449084850028157, 0.0017173626692965627, 0.0009540903847664595, 0.0022898169700056314, 0.0009540903847664595, 0.0003640202048700303, 0.8889372944831848, 0.07498815655708313, 0.021477190777659416, 0.0029121616389602423, 0.0010920605855062604, 0.0003640202048700303, 0.009828545153141022, 0.006574498489499092, 0.9142661690711975, 0.0012327184667810798, 0.001643624622374773, 0.010683559812605381, 0.0008218123111873865, 0.05547232925891876, 0.0024654369335621595, 0.0024654369335621595, 0.0012327184667810798, 0.0024654369335621595, 0.9966641664505005, 0.9923461079597473, 0.004685291554778814, 0.007027937564998865, 0.0978054627776146, 0.06617974489927292, 0.13411647081375122, 0.5024975538253784, 0.18624034523963928, 0.0005856614443473518, 0.043857648968696594, 0.03430800139904022, 0.5464521646499634, 0.026526805013418198, 0.004244288895279169, 0.0038905979599803686, 0.04562610387802124, 0.004244288895279169, 0.016977155581116676, 0.08347101509571075, 0.17826013267040253, 0.011671793647110462, 0.9948489665985107, 0.993358850479126, 0.9954199194908142, 0.003697361098602414, 0.9871954321861267, 0.003697361098602414, 0.08189359307289124, 0.005552107933908701, 0.001850702567026019, 0.6310895681381226, 0.1832195520401001, 0.008328162133693695, 0.011104215867817402, 0.003238729666918516, 0.001850702567026019, 0.06986402720212936, 0.0013880269834771752, 0.07040004432201385, 0.1833295077085495, 0.03485399857163429, 0.0016986605478450656, 0.1774156540632248, 0.016860779374837875, 0.11708174645900726, 0.032526202499866486, 0.16879652440547943, 0.07732050865888596, 0.0016357471467927098, 0.11802545189857483, 0.0006024487665854394, 0.0003012243832927197, 0.0003012243832927197, 0.0012048975331708789, 0.0018073462415486574, 0.0003012243832927197, 0.9952453374862671, 0.02916337549686432, 0.25655317306518555, 0.0008453152258880436, 0.0004226576129440218, 0.09847922623157501, 0.0008453152258880436, 0.009721125476062298, 0.0038039186038076878, 0.009721125476062298, 0.5908753871917725, 0.2505306899547577, 0.031624872237443924, 0.15164510905742645, 0.004319494590163231, 0.06093572825193405, 0.021906008943915367, 0.035944364964962006, 0.002468282589688897, 0.03764130920171738, 0.3890630602836609, 0.003393888706341386, 0.010335933417081833, 0.9961000084877014, 0.04213317483663559, 0.9570249319076538, 0.9929161667823792, 0.013491032645106316, 0.005951926112174988, 0.9285004734992981, 0.005555131006985903, 0.005555131006985903, 0.00039679507608525455, 0.0007935901521705091, 0.03809232637286186, 0.0007935901521705091, 0.00039679507608525455, 0.00039679507608525455, 0.02889339253306389, 0.9550437927246094, 0.0007809025119058788, 0.0015618050238117576, 0.009370829910039902, 0.0007809025119058788, 0.0015618050238117576, 0.0007809025119058788, 0.9959318041801453, 0.0007378218579106033, 0.0014756437158212066, 0.9967973232269287, 0.0007378218579106033, 0.0007378218579106033, 0.032518014311790466, 0.009896786883473396, 0.9529191851615906, 0.001413826597854495, 0.001413826597854495, 0.012828408740460873, 0.9792351722717285, 0.00427613640204072, 0.990220844745636, 0.7132421731948853, 0.0012616311432793736, 0.0004205437144264579, 0.18041326105594635, 0.03532567247748375, 0.006308156065642834, 0.009251962415874004, 0.021027186885476112, 0.028596973046660423, 0.0042054373770952225, 0.005268719978630543, 0.9852506518363953, 0.005268719978630543, 0.9981184005737305, 0.9963924884796143, 0.9988678693771362, 0.9956697821617126, 0.9876108169555664, 0.005486726760864258, 0.10330016165971756, 0.03357255458831787, 0.8599738478660583, 0.9869259595870972, 0.0016986677655950189, 0.010192005895078182, 0.9918234944343567, 0.009361114352941513, 0.9875975251197815, 0.9939953684806824, 0.9921938180923462, 0.012672596611082554, 0.8941220641136169, 0.0009387108730152249, 0.017835505306720734, 0.025345193222165108, 0.00046935543650761247, 0.00985646340996027, 0.0037548434920608997, 0.03473230078816414, 0.08854519575834274, 0.029858263209462166, 0.14826172590255737, 0.6126092076301575, 0.11943305283784866, 0.9948381185531616, 0.9869298934936523, 0.9855241179466248, 0.07570908218622208, 0.1047481819987297, 0.006222664378583431, 0.005185553338378668, 0.001037110690958798, 0.001037110690958798, 0.7280517220497131, 0.033187542110681534, 0.026964878663420677, 0.017630882561206818, 0.004452346358448267, 0.0008904692367650568, 0.01959032379090786, 0.9519116282463074, 0.0026714077685028315, 0.007123753894120455, 0.011576100252568722, 0.9848488569259644, 0.0028376274276524782, 0.008512882515788078, 0.9874943494796753, 0.9885095357894897, 0.005326020997017622, 0.005326020997017622, 0.004163211677223444, 0.9918851852416992, 0.001040802919305861, 0.002081605838611722, 0.9869317412376404, 0.9962555766105652, 0.0024640909396111965, 0.9560672640800476, 0.003696136176586151, 0.013552499935030937, 0.014784544706344604, 0.009856363758444786, 0.007960082031786442, 0.05306721478700638, 0.015477937646210194, 0.11453673988580704, 0.5536679625511169, 0.12117014080286026, 0.022553566843271255, 0.04245376959443092, 0.016804616898298264, 0.016362391412258148, 0.021669112145900726, 0.014151257462799549, 0.992530107498169, 0.24652402102947235, 0.0005125239840708673, 0.00717533566057682, 0.6965200901031494, 0.04612715542316437, 0.0025626197457313538, 0.03838105499744415, 0.6903332471847534, 0.0005257679149508476, 0.0005257679149508476, 0.030494537204504013, 0.19663718342781067, 0.014721500687301159, 0.027339929714798927, 0.0025542823132127523, 0.0025542823132127523, 0.9936158657073975, 0.028989411890506744, 0.625255823135376, 0.007323640864342451, 0.010070006363093853, 0.026243045926094055, 0.010985461063683033, 0.0051875789649784565, 0.11321128159761429, 0.011900916695594788, 0.14830373227596283, 0.0027463652659207582, 0.010375157929956913, 0.21048617362976074, 0.007290235720574856, 0.22708308696746826, 0.13618780672550201, 0.016907142475247383, 0.05149698257446289, 0.022491153329610825, 0.0977201834321022, 0.012408912181854248, 0.0069800131022930145, 0.20459192991256714, 0.006359567400068045, 0.9695290923118591, 0.026522072032094002, 0.024638207629323006, 0.015885161235928535, 0.033715441823005676, 0.6347580552101135, 0.0055111781693995, 0.08169510960578918, 0.08007417619228363, 0.037281498312950134, 0.024638207629323006, 0.03144613280892372, 0.02625914290547371, 0.003566056489944458, 0.04076471924781799, 0.07247061282396317, 0.04755884036421776, 0.02717648074030876, 0.03453677520155907, 0.04189707338809967, 0.1007794439792633, 0.0379338376224041, 0.46313250064849854, 0.08719120919704437, 0.04586030915379524, 0.0011323533253744245, 0.9926022887229919, 0.9952699542045593, 0.9978205561637878, 0.0005484673893079162, 0.0002742336946539581, 0.0002742336946539581, 0.9943713545799255, 0.0002742336946539581, 0.0002742336946539581, 0.003839271841570735, 0.0015552726108580828, 0.0010368484072387218, 0.0025921210180968046, 0.9875981211662292, 0.0005184242036193609, 0.0010368484072387218, 0.0005184242036193609, 0.005184242036193609, 0.0005184242036193609, 0.0011798604391515255, 0.0011798604391515255, 0.9887230396270752, 0.0058993021957576275, 0.9959190487861633, 0.9912241697311401, 0.0346066989004612, 0.037490587681531906, 0.9257291555404663, 0.9966834783554077, 0.982409656047821, 0.08915278315544128, 0.004952932707965374, 0.9014337062835693, 0.002476466353982687, 0.039780568331480026, 0.9566279649734497, 0.9968867301940918, 0.9983752965927124, 0.10138210654258728, 0.01919260248541832, 0.030933959409594536, 0.3443378806114197, 0.062093716114759445, 0.05667462944984436, 0.03319191187620163, 0.31837141513824463, 0.016483059152960777, 0.002935339231044054, 0.005870678462088108, 0.009031813591718674, 0.9919930696487427, 0.007787331473082304, 0.002920249244198203, 0.009734163992106915, 0.003893665736541152, 0.015574662946164608, 0.006813914980739355, 0.024335410445928574, 0.8497925400733948, 0.012654413469135761, 0.05548473447561264, 0.006813914980739355, 0.003893665736541152, 0.9915923476219177, 0.09516815096139908, 0.0340501107275486, 0.015303420834243298, 0.28560009598731995, 0.3890894651412964, 0.08589044958353043, 0.006599600426852703, 0.03232847526669502, 0.01673811674118042, 0.020659618079662323, 0.011764504946768284, 0.006790893152356148, 0.002278690692037344, 0.17602884769439697, 0.003418036038056016, 0.006836072076112032, 0.003418036038056016, 0.00797541718930006, 0.009684435091912746, 0.05639759451150894, 0.7291809916496277, 0.002848363248631358, 0.001139345346018672, 0.07918135821819305, 0.006763090845197439, 0.12165965139865875, 0.031915709376335144, 0.20426054298877716, 0.15957854688167572, 0.19506578147411346, 0.11542848497629166, 0.021961048245429993, 0.0046353768557310104, 0.020745212212204933, 0.03867880254983902, 0.010474886745214462, 0.008127067238092422, 0.07639443129301071, 0.0032508268486708403, 0.035578493028879166, 0.34242042899131775, 0.22665487229824066, 0.02311699092388153, 0.023839397355914116, 0.034675486385822296, 0.010655487887561321, 0.20462149381637573, 0.00263043912127614, 0.0008768130210228264, 0.0008768130210228264, 0.9943059682846069, 0.016387557610869408, 0.9340907335281372, 0.045065782964229584, 0.9594993591308594, 0.024352775886654854, 0.002435277681797743, 0.012176387943327427, 0.9974468350410461, 0.9919062852859497, 0.9926092028617859, 0.0037418219726532698, 0.05425642058253288, 0.0336763970553875, 0.0074836439453065395, 0.898037314414978, 0.0018709109863266349, 0.9972386956214905, 0.010630316101014614, 0.3033125400543213, 0.014725602231919765, 0.0910547599196434, 0.19962340593338013, 0.039035916328430176, 0.031890951097011566, 0.01934369094669819, 0.11370953172445297, 0.10116227716207504, 0.03546343371272087, 0.039994388818740845, 0.9867238402366638, 0.05005756393074989, 0.04751226305961609, 0.0025452999398112297, 0.01696866564452648, 0.00424216641113162, 0.1561117172241211, 0.0016968665877357125, 0.6609295010566711, 0.011878065764904022, 0.03648263216018677, 0.0008484332938678563, 0.01102963276207447, 0.992243766784668, 0.9898972511291504, 0.002732346998527646, 0.03278816491365433, 0.961786150932312, 0.002732346998527646, 0.01878887601196766, 0.008141846396028996, 0.00939443800598383, 0.005010366905480623, 0.05574033036828041, 0.006889254320412874, 0.33005791902542114, 0.040082935243844986, 0.5060470700263977, 0.014404804445803165, 0.00563666271045804, 0.015956828370690346, 0.9414529204368591, 0.03829639032483101, 0.001595682930201292, 0.0008725672378204763, 0.0008725672378204763, 0.9973443746566772, 0.0052530099637806416, 0.9928188920021057, 0.9883533716201782, 0.008623977191746235, 0.5212785005569458, 0.0037769244518131018, 0.007490899879485369, 0.08781348913908005, 0.030593087896704674, 0.056653864681720734, 0.01630372367799282, 0.08894657343626022, 0.1224353015422821, 0.004532309249043465, 0.05155501887202263, 0.9946106672286987, 0.0038364925421774387, 0.9897763133049011, 0.1870500147342682, 0.04734461009502411, 0.006985270418226719, 0.6282862424850464, 0.12806329131126404, 0.0007761411834508181, 0.00038807059172540903, 0.9915406107902527, 0.9956780076026917, 0.9956659078598022, 0.9134312868118286, 0.0318354070186615, 0.05142642557621002, 0.9941892027854919, 0.9920067191123962, 0.9847625494003296, 0.00674494868144393, 0.9904956817626953, 0.993098258972168, 0.015029162168502808, 0.0002946894383057952, 0.9816105365753174, 0.0008840683149173856, 0.001473447191528976, 0.6971838474273682, 0.005232148803770542, 0.15347637236118317, 0.06104173883795738, 0.0013080372009426355, 0.018748532980680466, 0.008720248006284237, 0.040549155324697495, 0.0008720248006284237, 0.003052086802199483, 0.008720248006284237, 0.00043601240031421185, 0.9951375722885132, 0.9851974844932556, 0.039207275956869125, 0.821570634841919, 0.0035642976872622967, 0.0017821488436311483, 0.10514678061008453, 0.0017821488436311483, 0.012475041672587395, 0.01603933982551098, 0.990283191204071, 0.9939585328102112, 0.630752444267273, 0.039525680243968964, 0.011885344050824642, 0.004698857199400663, 0.0019348234636709094, 0.0008292100392282009, 0.2556731104850769, 0.0019348234636709094, 0.003593243658542633, 0.045330148190259933, 0.002211226848885417, 0.0011056134244427085, 0.994252622127533, 0.13627876341342926, 0.00028040900360792875, 0.10431214421987534, 0.6881236433982849, 0.008412269875407219, 0.0016824539052322507, 0.011216359212994576, 0.04178094118833542, 0.00028040900360792875, 0.001402044901624322, 0.006168997846543789, 0.8317638039588928, 0.027654822915792465, 0.035389695316553116, 0.00890040211379528, 0.0014834004687145352, 0.008370616473257542, 0.03899224102497101, 0.019390162080526352, 0.0018012719228863716, 0.011231460608541965, 0.013562518171966076, 0.0014834004687145352, 0.9896608591079712, 0.004498458467423916, 0.007419264875352383, 0.9793429970741272, 0.8985568284988403, 0.02867734618484974, 0.03664327412843704, 0.007965928874909878, 0.006372743286192417, 0.007965928874909878, 0.009559115394949913, 0.026046859100461006, 0.018943170085549355, 0.9447906017303467, 0.009471585042774677, 0.9944146871566772, 0.14840029180049896, 0.2773353159427643, 0.08161123096942902, 0.038573358207941055, 0.05928868055343628, 0.0042859287932515144, 0.15965084731578827, 0.007321794982999563, 0.030001500621438026, 0.030180081725120544, 0.00714321481063962, 0.1566149741411209, 0.9937340021133423, 0.8412110209465027, 0.00459399214014411, 0.013271533884108067, 0.05104435980319977, 0.028584841638803482, 0.00867754127830267, 0.0071462104097008705, 0.03215794637799263, 0.0020417743362486362, 0.0015313307521864772, 0.010208872146904469, 0.0025153225287795067, 0.9960677623748779, 0.0024706311523914337, 0.0016470873961225152, 0.0008235436980612576, 0.0008235436980612576, 0.9931936860084534, 0.9964843392372131, 0.08675411343574524, 0.0019716843962669373, 0.9010598063468933, 0.009858421981334686, 0.008740312419831753, 0.00819404236972332, 0.04315529018640518, 0.012564198113977909, 0.03332243859767914, 0.03004482202231884, 0.7150667905807495, 0.1392987221479416, 0.0038238863926380873, 0.0016388085205107927, 0.0005462695262394845, 0.0038238863926380873, 0.9952728152275085, 0.022336479276418686, 0.014270528219640255, 0.013029612600803375, 0.01054778229445219, 0.004963662009686232, 0.0037227466236799955, 0.0018613733118399978, 0.01861373335123062, 0.7377243041992188, 0.1085801050066948, 0.03102288767695427, 0.03288426250219345, 0.0031521713826805353, 0.9887310862541199, 0.006304342765361071, 0.0010507238330319524, 0.021297311410307884, 0.903096616268158, 0.041235219687223434, 0.0004531343001872301, 0.0004531343001872301, 0.0027188058011233807, 0.0022656715009361506, 0.027641192078590393, 0.006787728052586317, 0.017752520740032196, 0.0010442659258842468, 0.05952315405011177, 0.02610664628446102, 0.8484660387039185, 0.03811570256948471, 0.0015663987724110484, 0.43089988827705383, 0.005781016778200865, 0.3376542031764984, 0.10512886196374893, 0.0011776145547628403, 0.000856446975376457, 0.0028905083891004324, 0.018948888406157494, 0.005352793727070093, 0.08575174957513809, 0.0022481733467429876, 0.003425787901505828, 0.006076761055737734, 0.00911514088511467, 0.9813968539237976, 0.9970648288726807, 0.23206984996795654, 0.012716156430542469, 0.008477437309920788, 0.0010596796637400985, 0.0074177575297653675, 0.7078660130500793, 0.0031790391076356173, 0.014835515059530735, 0.012716156430542469, 0.9924088716506958, 0.005674087908118963, 0.07218700647354126, 0.000315227109240368, 0.000315227109240368, 0.6276171803474426, 0.08195905387401581, 0.013239539228379726, 0.012924311682581902, 0.09267677366733551, 0.042240433394908905, 0.024902941659092903, 0.025848623365163803, 0.0005158138810656965, 0.26822319626808167, 0.09439393877983093, 0.005158138461410999, 0.029401389881968498, 0.004126511048525572, 0.5328357219696045, 0.05054975673556328, 0.001031627762131393, 0.012895346619188786, 0.914899468421936, 0.0010914398590102792, 0.03001459687948227, 0.006275779101997614, 0.0002728599647525698, 0.011732978746294975, 0.0010914398590102792, 0.0005457199295051396, 0.033834636211395264, 0.9930807948112488, 0.9949995279312134, 0.00940854474902153, 0.06324633210897446, 0.31727704405784607, 0.07962416857481003, 0.038331110030412674, 0.026134846732020378, 0.07265487313270569, 0.00818891916424036, 0.060110148042440414, 0.11063752323389053, 0.11934913694858551, 0.09478238224983215, 0.2574121952056885, 0.00183647230733186, 0.12334972620010376, 0.4456506371498108, 0.04223886504769325, 0.10743363201618195, 0.012855306267738342, 0.004897259641438723, 0.00030607872758992016, 0.0006121574551798403, 0.0033668659161776304, 0.00030607872758992016, 0.9909231066703796, 0.46319517493247986, 0.003844534046947956, 0.11462407559156418, 0.06336361914873123, 0.010252091102302074, 0.046561580151319504, 0.17983876168727875, 0.10095462203025818, 0.0032749734818935394, 0.0015662916703149676, 0.0015662916703149676, 0.011106432415544987, 0.2599170506000519, 0.08177165687084198, 0.023989135399460793, 0.02628374844789505, 0.015436486341059208, 0.014184880070388317, 0.406355082988739, 0.09345332533121109, 0.027952557429671288, 0.01126446295529604, 0.03045577183365822, 0.009178451262414455, 0.0067068650387227535, 0.013413730077445507, 0.006259740795940161, 0.002235621679574251, 0.11401670426130295, 0.043371059000492096, 0.6268683075904846, 0.1842152178287506, 0.0017884973203763366, 0.00044712433009408414, 0.9970110654830933, 0.9936782121658325, 0.15815770626068115, 0.006281084381043911, 0.0324103944003582, 0.009421627037227154, 0.002512433798983693, 0.07512176781892776, 0.6835076212882996, 0.02801363728940487, 0.0023868121206760406, 0.0017587037291377783, 0.0002512433857191354, 0.0001256216928595677, 0.9934719800949097, 0.9966669678688049, 0.19485832750797272, 0.021679947152733803, 0.3299008905887604, 0.037874605506658554, 0.002873246092349291, 0.03395654261112213, 0.021941151469945908, 0.052502039819955826, 0.003918062895536423, 0.0671294778585434, 0.225680410861969, 0.007052512839436531, 0.003983978647738695, 0.9432069063186646, 0.04880373552441597, 0.0019919893238693476, 0.9933457970619202, 0.9905834197998047, 0.9920023679733276, 0.9916673898696899, 0.9872807860374451, 0.13588349521160126, 0.11661357432603836, 0.038233958184719086, 0.08801457285881042, 0.1965225487947464, 0.09168503433465958, 0.07440328598022461, 0.08816751092672348, 0.0784560814499855, 0.018199363723397255, 0.022022759541869164, 0.05176877975463867, 0.08153943717479706, 0.02247149869799614, 0.078971266746521, 0.01669311337172985, 0.02824988402426243, 0.01990332640707493, 0.03531235456466675, 0.043016865849494934, 0.15730048716068268, 0.03402826935052872, 0.008346556685864925, 0.473827600479126, 0.004763656295835972, 0.12173788249492645, 0.005292951595038176, 0.000529295124579221, 0.3048740029335022, 0.002117180498316884, 0.4805999994277954, 0.06669119000434875, 0.012173788622021675, 0.001058590249158442, 0.000529295124579221, 0.9871094226837158, 0.01631484553217888, 0.9378224015235901, 0.04500647261738777, 0.0005625808844342828, 0.9811561107635498, 0.005771506577730179, 0.9951139092445374, 0.9674407243728638, 0.00042883012793026865, 0.0012864903546869755, 0.014151393435895443, 0.0012864903546869755, 0.00042883012793026865, 0.0008576602558605373, 0.013293733820319176, 0.00042883012793026865, 0.044036976993083954, 0.14359883964061737, 0.0820108950138092, 0.10099785029888153, 0.2793795168399811, 0.15636318922042847, 0.02600734680891037, 0.04515386000275612, 0.06573636084794998, 0.011009244248270988, 0.005584399681538343, 0.04004812240600586, 0.14080770313739777, 0.12620072066783905, 0.04745002090930939, 0.040645524859428406, 0.11186591535806656, 0.04627057537436485, 0.07775270938873291, 0.12257165461778641, 0.1382673680782318, 0.06251063942909241, 0.015242070890963078, 0.07040385156869888, 0.9942083954811096, 0.9930850267410278, 0.04005910083651543, 0.0011782088549807668, 0.044771935790777206, 0.0011782088549807668, 0.0035346264485269785, 0.03298984840512276, 0.8754091858863831, 0.0011782088549807668, 0.992111325263977, 0.0034210735466331244, 0.010131464339792728, 0.001266433042474091, 0.5536845326423645, 0.01924978382885456, 0.13044260442256927, 0.08434444665908813, 0.009118318557739258, 0.17020860314369202, 0.006585452239960432, 0.008611745201051235, 0.005572305526584387, 0.0010131464805454016, 0.9949544072151184, 0.0022913676220923662, 0.039717040956020355, 0.016039574518799782, 0.04277219623327255, 0.7637892365455627, 0.0007637892267666757, 0.10616670548915863, 0.009929260239005089, 0.013748206198215485, 0.0007637892267666757, 0.0038189461920410395, 0.9413893222808838, 0.0011062154080718756, 0.002212430816143751, 0.040929973125457764, 0.0033186464570462704, 0.006637292914092541, 0.002212430816143751, 0.0011062154080718756, 0.319326788187027, 0.0029117942322045565, 0.03494153171777725, 0.5969178080558777, 0.001294130808673799, 0.0009705980774015188, 0.043676912784576416, 0.00032353270216844976, 0.9906054735183716, 0.2757064998149872, 0.00623385701328516, 0.006517214234918356, 0.547162652015686, 0.001700142864137888, 0.017001427710056305, 0.002266857074573636, 0.14054514467716217, 0.0002833571343217045, 0.001133428537286818, 0.001416785642504692, 0.9880130290985107, 0.2697497010231018, 0.7085844874382019, 0.002359326696023345, 0.003932211082428694, 0.002359326696023345, 0.010223749093711376, 0.0015728845028206706, 0.007604386191815138, 0.9587863683700562, 0.0031684942077845335, 0.0019010965479537845, 0.002534795319661498, 0.025347953662276268, 0.9944138526916504, 0.0188300758600235, 0.002953737275674939, 0.1004270687699318, 0.020676162093877792, 0.05870553106069565, 0.40466201305389404, 0.25771358609199524, 0.13033366203308105, 0.0022153030149638653, 0.0003692171594593674, 0.0007384343189187348, 0.0022153030149638653, 0.004111022222787142, 0.0005138777778483927, 0.7579697370529175, 0.015073748305439949, 0.10089133679866791, 0.018499599769711494, 0.010791433975100517, 0.029119741171598434, 0.019527357071638107, 0.013874700292944908, 0.025351304560899734, 0.004453607369214296, 0.04216383770108223, 0.847109854221344, 0.012776920571923256, 0.03833076357841492, 0.053663067519664764, 0.0012776920339092612, 0.0012776920339092612, 0.0012776920339092612, 0.13938966393470764, 0.24118737876415253, 0.014554410241544247, 0.2506685256958008, 0.05464141443371773, 0.012475209310650826, 0.012724713422358036, 0.06719978898763657, 0.09622544795274734, 0.048237476497888565, 0.00266137789003551, 0.06013050675392151, 0.10362949967384338, 0.7414281964302063, 0.13771815598011017, 0.00034088653046637774, 0.00034088653046637774, 0.010908368974924088, 0.00034088653046637774, 0.0051132976077497005, 0.9918175935745239, 0.004665284417569637, 0.027991708368062973, 0.1317942887544632, 0.01352932583540678, 0.2838825583457947, 0.3307686746120453, 0.044553469866514206, 0.01889440231025219, 0.05085160210728645, 0.04618631675839424, 0.040587976574897766, 0.0062981341034173965, 0.0005297145689837635, 0.4333065152168274, 0.005826860200613737, 0.0031782875303179026, 0.002648572903126478, 0.001059429137967527, 0.013242864981293678, 0.5260065793991089, 0.007416004315018654, 0.006356575060635805, 0.9919045567512512, 0.0015530962264165282, 0.0015530962264165282, 0.026402635499835014, 0.02329644374549389, 0.8728400468826294, 0.07299552112817764, 0.0017857406055554748, 0.9893002510070801, 0.0053572217002511024, 0.004894592333585024, 0.014683776535093784, 0.024472961202263832, 0.954445481300354, 0.07194221764802933, 0.001563961268402636, 0.001857204013504088, 0.906022310256958, 9.774757927516475e-05, 0.0012707185233011842, 0.01700807921588421, 9.774757927516475e-05, 0.9984784722328186, 0.993252694606781, 0.9900222420692444, 0.007183243054896593, 0.9841042757034302, 0.769682765007019, 0.04389825835824013, 0.0005853101029060781, 0.019900543615221977, 0.04214232787489891, 0.0023412404116243124, 0.0029265503399074078, 0.11179422587156296, 0.0005853101029060781, 0.0011706202058121562, 0.004682480823248625, 0.9790262579917908, 0.003274335293099284, 0.003274335293099284, 0.009823006577789783, 0.026446696370840073, 0.9697122573852539, 0.9920021891593933, 0.0033972677774727345, 0.07959553599357605, 0.1246633231639862, 0.027622194960713387, 0.0021806994918733835, 0.0047248490154743195, 0.0003634499153122306, 0.004361398983746767, 0.010540047660470009, 0.08468383550643921, 0.3921624720096588, 0.007268998771905899, 0.2620474100112915, 0.24534974992275238, 0.0012582038762047887, 0.7511476874351501, 0.0012582038762047887, 0.0822235569357872, 0.022279931232333183, 0.7628223896026611, 0.054638877511024475, 0.03501132130622864, 0.01326186303049326, 0.0037133218720555305, 0.010609490796923637, 0.00795711763203144, 0.0037133218720555305, 0.00318284728564322, 0.0005304745282046497, 0.0005598532734438777, 0.003639046335592866, 0.535779595375061, 0.01231677271425724, 0.029112370684742928, 0.04114921763539314, 0.00307919317856431, 0.030232077464461327, 0.11588963121175766, 0.002239413093775511, 0.008117872290313244, 0.21778292953968048, 0.017755281180143356, 0.0009864044841378927, 0.899272084236145, 0.012165655381977558, 0.0013152060564607382, 0.0006576030282303691, 0.002301610540598631, 0.04438820108771324, 0.002959213452413678, 0.006247228477150202, 0.005260824225842953, 0.006576030049473047, 0.6580260992050171, 0.009695451706647873, 0.011381617747247219, 0.09400372952222824, 0.01981244422495365, 0.08472982048988342, 0.006323120556771755, 0.08472982048988342, 0.0050584967248141766, 0.004636954981833696, 0.016018573194742203, 0.0054800380021333694, 0.0008501679403707385, 0.022954534739255905, 0.9742924571037292, 0.0008501679403707385, 0.0008501679403707385, 0.9860516786575317, 0.03283519670367241, 0.0010103137465193868, 0.40210485458374023, 0.019195960834622383, 0.0005051568732596934, 0.0010103137465193868, 0.009597980417311192, 0.002525784308090806, 0.056577567011117935, 0.44908446073532104, 0.025762999430298805, 0.0014843418030068278, 0.008411269634962082, 0.09400831162929535, 0.15635065734386444, 0.03611898422241211, 0.04057200625538826, 0.0014843418030068278, 0.009400831535458565, 0.1370542198419571, 0.5150665640830994, 0.02524377964437008, 0.9327141642570496, 0.0004352375690359622, 0.001740950276143849, 0.0004352375690359622, 0.024373304098844528, 0.00870475172996521, 0.0013057127362117171, 0.0052228509448468685, 0.9932592511177063, 0.994617760181427, 0.001251315581612289, 0.17768681049346924, 0.011261840350925922, 0.8045958876609802, 0.003753946628421545, 0.9966844916343689, 0.04863698408007622, 0.02457447722554207, 0.013055190443992615, 0.11084112524986267, 0.12210442870855331, 0.022782588377594948, 0.06527595221996307, 0.04786903038620949, 0.17816495895385742, 0.03762966766953468, 0.25956791639328003, 0.06937170028686523, 0.029534311965107918, 0.07979445904493332, 0.017616957426071167, 0.002590729156509042, 0.002590729156509042, 0.012953645549714565, 0.0005181457963772118, 0.5114099383354187, 0.2217664122581482, 0.0031088748946785927, 0.1176191046833992, 0.9975310564041138, 0.03161683306097984, 0.030009198933839798, 0.04179852828383446, 0.016076356172561646, 0.000535878527443856, 0.012325206771492958, 0.001607635640539229, 0.021435141563415527, 0.6414466500282288, 0.12700322270393372, 0.07663062959909439, 0.9940700531005859, 0.030817566439509392, 0.12241422384977341, 0.8432028889656067, 0.002568130614235997, 0.007138020358979702, 0.9898054599761963, 0.01096942089498043, 0.987247884273529, 0.043343063443899155, 0.01259972807019949, 0.0020159564446657896, 0.7292722463607788, 0.11339755356311798, 0.0035279239527881145, 0.0035279239527881145, 0.004031912889331579, 0.07811831682920456, 0.010079782456159592, 0.0010079782223328948, 0.14740151166915894, 0.005343861412256956, 0.041860248893499374, 0.005789183545857668, 0.0022266090381890535, 0.07036084681749344, 0.02493802085518837, 0.009797079488635063, 0.09574418514966965, 0.014695619232952595, 0.21865300834178925, 0.3624919354915619, 0.03493836522102356, 0.03144453093409538, 0.004658448975533247, 0.019798407331109047, 0.03610298037528992, 0.00815228559076786, 0.010481510311365128, 0.1071443259716034, 0.019798407331109047, 0.7278826236724854, 0.0010284788440912962, 0.00719935167580843, 0.0010284788440912962, 0.9904251098632812, 0.983994722366333, 0.008945406414568424, 0.9903104305267334, 0.007266398519277573, 0.027854526415467262, 0.07145291566848755, 0.007266398519277573, 0.07629717886447906, 0.0012110663810744882, 0.01937706209719181, 0.02058812789618969, 0.0036331992596387863, 0.762971818447113, 0.0012110663810744882, 0.001405839342623949, 0.001405839342623949, 0.01687007211148739, 0.07872699946165085, 0.0365518219769001, 0.002811678685247898, 0.032334305346012115, 0.011246714740991592, 0.002811678685247898, 0.8181985020637512, 0.04519176855683327, 0.0012553269043564796, 0.0025106538087129593, 0.8260051012039185, 0.10293681174516678, 0.003765980713069439, 0.010042615234851837, 0.0012553269043564796, 0.0025106538087129593, 0.003765980713069439, 0.010969585739076138, 0.20149396359920502, 0.09814892709255219, 0.012701625935733318, 0.6039045453071594, 0.03290875628590584, 0.014433665201067924, 0.0034640796948224306, 0.00577346608042717, 0.002886733040213585, 0.010969585739076138, 0.002886733040213585, 0.0008275919244624674, 0.0002758639748208225, 0.09517307579517365, 0.0066207353956997395, 0.003586231730878353, 0.10372485965490341, 0.015448383055627346, 0.0008275919244624674, 0.0019310478819534183, 0.03062090277671814, 0.7398672103881836, 0.0008275919244624674, 0.9957062005996704, 0.9975770115852356, 0.18229979276657104, 0.7638281583786011, 0.052540551871061325, 0.0011941033881157637, 0.002594873309135437, 0.0002994084497913718, 0.9013192653656006, 0.0003992112760897726, 0.008483239449560642, 0.047705747187137604, 0.00489033805206418, 0.010479296557605267, 0.010179887525737286, 0.005189746618270874, 0.0012974366545677185, 0.006986197549849749, 0.9911866188049316, 0.9930152893066406, 0.050420235842466354, 0.004697537515312433, 0.09958779811859131, 0.019103318452835083, 0.007829229347407818, 0.04133833199739456, 0.08706102520227432, 0.005323875695466995, 0.09582976251840591, 0.07171574234962463, 0.403988242149353, 0.1133672371506691, 0.8452476859092712, 0.0010257860412821174, 0.0030773580074310303, 0.08103709667921066, 0.032825153321027756, 0.0020515720825642347, 0.03487672656774521, 0.8909064531326294, 0.09898960590362549, 0.0013560219667851925, 0.00542408786714077, 0.002712043933570385, 0.008150734938681126, 0.0010188418673351407, 0.0020376837346702814, 0.1976553350687027, 0.003056525718420744, 0.0010188418673351407, 0.03973483666777611, 0.7457922697067261, 0.0010188418673351407, 0.9947867393493652, 0.002562536858022213, 0.015375221148133278, 0.9302008748054504, 0.04868820309638977, 0.009253564290702343, 0.021811973303556442, 0.007766384165734053, 0.01586325280368328, 0.5813221335411072, 0.24554993212223053, 0.014541314914822578, 0.06956697255373001, 0.013549861498177052, 0.016028495505452156, 0.0008262111223302782, 0.004131055437028408, 0.015983229503035545, 0.947577178478241, 0.03653309494256973, 0.16366830468177795, 0.030545338988304138, 0.09254781901836395, 0.05721552297472954, 0.06177452951669693, 0.0414869524538517, 0.21085402369499207, 0.2534807324409485, 0.023478880524635315, 0.013904967345297337, 0.03920745104551315, 0.011625465005636215, 0.9880906343460083, 0.9943698048591614, 0.3774549961090088, 0.11163001507520676, 0.09995898604393005, 0.07675421983003616, 0.03803384304046631, 0.03926960006356239, 0.09103406965732574, 0.03830845654010773, 0.04283956438302994, 0.04023074358701706, 0.024303214624524117, 0.020184025168418884, 0.9903950691223145, 0.007484093774110079, 0.04059974104166031, 0.004921180661767721, 0.725874125957489, 0.030757378786802292, 0.04141993820667267, 0.020094821229577065, 0.004511082544922829, 0.025836199522018433, 0.06028446555137634, 0.012302951887249947, 0.027886690571904182, 0.005331279244273901, 0.042304862290620804, 0.7463011145591736, 0.07430469244718552, 0.005423699971288443, 0.011389770545065403, 0.005966070108115673, 0.0677962526679039, 0.005966070108115673, 0.028745610266923904, 0.011389770545065403, 0.10840748995542526, 0.027747156098484993, 0.06807732582092285, 0.6433468461036682, 0.0016132066957652569, 0.012260370887815952, 0.018067914992570877, 0.02258489467203617, 0.015486784279346466, 0.015164143405854702, 0.058720726519823074, 0.008711316622793674, 0.06622020900249481, 0.012320037931203842, 0.0015400047414004803, 0.907062828540802, 0.009240028448402882, 0.0015400047414004803, 0.0015400047414004803, 0.01166826207190752, 0.9268975257873535, 0.017502393573522568, 0.002187799196690321, 0.002187799196690321, 0.016773127019405365, 0.021148724481463432, 0.00072926637949422, 0.9938697218894958, 0.12669728696346283, 0.5867319703102112, 0.00048450203030370176, 0.0012112550903111696, 0.146561861038208, 0.00048450203030370176, 0.01574631594121456, 0.00024225101515185088, 0.018411077558994293, 0.09060187637805939, 0.006540777161717415, 0.006540777161717415, 0.1638157218694687, 0.3906497657299042, 0.0502389520406723, 0.005910464562475681, 0.12619641423225403, 0.004552655387669802, 0.03083026222884655, 0.04888113960623741, 0.08402444422245026, 0.011980671435594559, 0.006469562649726868, 0.07643668353557587, 0.13754932582378387, 0.661696195602417, 0.00058376369997859, 0.019920937716960907, 0.007953780703246593, 0.0007297046249732375, 0.14594092965126038, 0.010799628682434559, 0.008756455965340137, 0.0024809958413243294, 0.0013864388456568122, 0.002262084512040019, 0.005623521748930216, 0.9897398352622986, 0.9891439080238342, 0.0064012217335402966, 0.9272626638412476, 0.06218329444527626, 0.0009144602227024734, 0.0018289204454049468, 0.0011658037547022104, 0.8801818490028381, 0.012823841534554958, 0.012823841534554958, 0.023316076025366783, 0.0011658037547022104, 0.04430054500699043, 0.005829019006341696, 0.0011658037547022104, 0.0034974112641066313, 0.016321253031492233, 0.013016793876886368, 0.983150839805603, 0.0015313875628635287, 0.0007656937814317644, 0.0007656937814317644, 0.9931958913803101, 0.003851502202451229, 0.003851502202451229, 0.9898360967636108, 0.007177317515015602, 0.007177317515015602, 0.9832925200462341, 0.0023924391716718674, 0.07295291125774384, 0.1668492555618286, 0.0567217618227005, 0.1303727924823761, 0.1155378669500351, 0.18953795731067657, 0.011518880724906921, 0.014136808924376965, 0.0715566873550415, 0.14468413591384888, 0.008726425468921661, 0.017278321087360382, 0.9938371181488037, 0.9878123998641968, 0.4865701496601105, 0.05341644585132599, 0.14758802950382233, 0.09953611344099045, 0.006432346533983946, 0.0019322464941069484, 0.040577176958322525, 0.10856173932552338, 0.009864626452326775, 0.03523807227611542, 0.0035085526760667562, 0.006788286846131086, 0.9947966933250427, 0.19069968163967133, 0.05644271895289421, 0.002739937976002693, 0.031235292553901672, 0.03342724218964577, 0.0016439626924693584, 0.03178327903151512, 0.6186779737472534, 0.008767801336944103, 0.01424767728894949, 0.0016439626924693584, 0.008767801336944103, 0.9905825853347778, 0.00042201796895824373, 0.014348610304296017, 0.7241828441619873, 0.25616490840911865, 0.004220179747790098, 0.06425093859434128, 0.009637640789151192, 0.006425093859434128, 0.9155758619308472, 0.9962674379348755, 0.10220935195684433, 0.37263351678848267, 0.06509082019329071, 0.04245384782552719, 0.05899331718683243, 0.04893244057893753, 0.15007473528385162, 0.062499381601810455, 0.049999505281448364, 0.010975501500070095, 0.023932689800858498, 0.012118782848119736, 0.16895976662635803, 0.41416722536087036, 0.03612573817372322, 0.04779467359185219, 0.010869692079722881, 0.017743173986673355, 0.2423301786184311, 0.015665143728256226, 0.015505295246839523, 0.021259838715195656, 0.007353026885539293, 0.002078029327094555, 0.9975878000259399, 0.2888602614402771, 0.1028904914855957, 0.009330442175269127, 0.05099789798259735, 0.008691370487213135, 0.012653613463044167, 0.40453219413757324, 0.020322469994425774, 0.02978072687983513, 0.028246955946087837, 0.0426899679005146, 0.0011503285495564342, 0.993071436882019, 0.06950031965970993, 0.04407337307929993, 0.0016951296711340547, 0.0016951296711340547, 0.8170525431632996, 0.06271979957818985, 0.992737889289856, 0.0038882766384631395, 0.017497245222330093, 0.009720691479742527, 0.9526277780532837, 0.0038882766384631395, 0.009720691479742527, 0.012566102668642998, 0.2041991651058197, 0.028797319158911705, 0.006806639023125172, 0.0183255672454834, 0.0020943505223840475, 0.027226556092500687, 0.0005235876305960119, 0.06597203761339188, 0.618880569934845, 0.012042514979839325, 0.0031415256671607494, 0.9973130226135254, 0.06324020028114319, 0.934268593788147, 0.0008432026952505112, 0.9816879630088806, 0.0077911741100251675, 0.020726563408970833, 0.1742723286151886, 0.0016919643385335803, 0.008882813155651093, 0.5410056114196777, 0.05498884245753288, 0.08798214793205261, 0.0714854970574379, 0.01607366092503071, 0.0033839286770671606, 0.0004229910846333951, 0.019034599885344505, 0.9941700100898743, 0.0009006646578200161, 0.7529556751251221, 0.03332459181547165, 0.0009006646578200161, 0.0009006646578200161, 0.03647691756486893, 0.12519238889217377, 0.04908622428774834, 0.004082406405359507, 0.018662430346012115, 0.0005832009483128786, 0.013996821828186512, 0.7045066952705383, 0.04257366806268692, 0.012830420397222042, 0.19887150824069977, 0.0011664018966257572, 0.001749602728523314, 0.0005832009483128786, 0.0013883283827453852, 0.18557322025299072, 0.006016089580953121, 0.14484892785549164, 0.08098582178354263, 0.09672021120786667, 0.48082438111305237, 0.0009255522745661438, 0.00231388071551919, 0.0004627761372830719, 0.0010139595251530409, 0.05678173154592514, 0.9379125833511353, 0.0030418785754591227, 0.00041515709017403424, 0.00041515709017403424, 0.00041515709017403424, 0.025324583053588867, 0.6987093687057495, 0.2515851855278015, 0.0008303141803480685, 0.01951238326728344, 0.001660628360696137, 0.00041515709017403424, 0.0008303141803480685, 0.0005524997250176966, 0.001657499116845429, 0.001381249283440411, 0.020994989201426506, 0.5917271971702576, 0.26077985763549805, 0.046133726835250854, 0.06823371350765228, 0.00303874840028584, 0.003314998233690858, 0.001381249283440411, 0.0005524997250176966, 0.0030136089771986008, 0.008218933828175068, 0.028766267001628876, 0.01917751133441925, 0.38902950286865234, 0.4462880790233612, 0.01835561729967594, 0.07314851135015488, 0.004931360017508268, 0.007944969460368156, 0.0008218933362513781, 0.9965052008628845, 0.0495043620467186, 0.010685963556170464, 0.030095161870121956, 0.19670896232128143, 0.04579698666930199, 0.2776169776916504, 0.017228389158844948, 0.09028548747301102, 0.04579698666930199, 0.10969468206167221, 0.10838620364665985, 0.018100714311003685, 0.0007537423516623676, 0.06406810134649277, 0.0009044908219948411, 0.018089815974235535, 0.6328420639038086, 0.21330909430980682, 0.0030149694066494703, 0.01115538738667965, 0.02502424642443657, 0.005276196636259556, 0.017336074262857437, 0.008441914804279804, 0.002158333780243993, 0.25468337535858154, 0.0035972229670733213, 0.003117593238130212, 0.12014725059270859, 0.5007334351539612, 0.032614823430776596, 0.008633335120975971, 0.05755556747317314, 0.013909262605011463, 0.0004796297289431095, 0.0023981486447155476, 0.9970341324806213, 0.9881097674369812, 0.005474292207509279, 0.0027371461037546396, 0.07387682050466537, 0.24483607709407806, 0.02970767393708229, 0.09461613744497299, 0.0488775335252285, 0.013452531769871712, 0.011883069761097431, 0.0480928011238575, 0.11647650599479675, 0.09596139192581177, 0.02780189923942089, 0.19416487216949463, 0.07905727624893188, 0.22220467031002045, 0.038377318531274796, 0.054265525192022324, 0.13132718205451965, 0.009517574682831764, 0.023717181757092476, 0.06593222916126251, 0.12656839191913605, 0.05917782336473465, 0.005756597500294447, 0.1842111200094223, 0.9903745651245117, 0.9992573261260986, 0.1363619863986969, 0.6630427241325378, 0.022360971197485924, 0.01557281892746687, 0.005590242799371481, 0.02974807657301426, 0.013775954954326153, 0.0007986060809344053, 0.11240381002426147, 0.9850743412971497, 0.0044990661554038525, 0.023995019495487213, 0.3355553448200226, 0.0003749221796169877, 0.0003749221796169877, 0.294313907623291, 0.34080424904823303, 0.1318657398223877, 0.004709491040557623, 0.861836850643158, 0.003011008957400918, 0.003011008957400918, 0.02709908038377762, 0.9364237785339355, 0.003011008957400918, 0.02709908038377762, 0.09412387758493423, 0.0034540873020887375, 0.002374684903770685, 0.0017270436510443687, 0.0008635218255221844, 0.005828772205859423, 0.8630900382995605, 0.019861001521348953, 0.0032382067292928696, 0.0017270436510443687, 0.0036699676420539618, 0.052507031708955765, 0.9385631680488586, 0.006563378963619471, 0.9855220913887024, 0.9837731122970581, 0.0011020236415788531, 0.008816189132630825, 0.0003673412138596177, 0.0029387297108769417, 0.9738215804100037, 0.0003673412138596177, 0.002571388380602002, 0.0007346824277192354, 0.008816189132630825, 0.008126743137836456, 0.05536343529820442, 0.020824778825044632, 0.14983682334423065, 0.03809410706162453, 0.5328095555305481, 0.008634664118289948, 0.07263275980949402, 0.01930101402103901, 0.011174270883202553, 0.07466445118188858, 0.008634664118289948, 0.9851382374763489, 0.0020207420457154512, 0.0006735806819051504, 0.8433229923248291, 0.14616701006889343, 0.005388645455241203, 0.0006735806819051504, 0.0013471613638103008, 0.17213864624500275, 0.0007583200349472463, 0.013649760745465755, 0.0007583200349472463, 0.0007583200349472463, 0.005308240186423063, 0.10692312568426132, 0.5755649209022522, 0.12360616028308868, 0.7247651219367981, 0.010862424038350582, 0.018707508221268654, 0.14000457525253296, 0.003620808245614171, 0.0006034680409356952, 0.06577801704406738, 0.028966465964913368, 0.0018104041228070855, 0.003017340088263154, 0.0012069360818713903, 0.9939109086990356, 0.03270498663187027, 0.001432335120625794, 0.3289596438407898, 0.008116565644741058, 0.024349696934223175, 0.0541900098323822, 0.37049734592437744, 0.004297005478292704, 0.00954890064895153, 0.07257164269685745, 0.0825979933142662, 0.010265068151056767, 0.0019136529881507158, 0.9826607704162598, 0.0019136529881507158, 0.0009568264940753579, 0.0009568264940753579, 0.0009568264940753579, 0.0009568264940753579, 0.007654611952602863, 0.0019136529881507158, 0.026928653940558434, 0.18223808705806732, 0.10145213454961777, 0.001252495450899005, 0.001252495450899005, 0.0006262477254495025, 0.6819837689399719, 0.0037574865855276585, 0.9957305788993835, 0.9952549338340759, 0.9948052763938904, 0.9938833713531494, 0.03723203018307686, 0.123663529753685, 0.0013297153636813164, 0.007978292182087898, 0.003989146091043949, 0.0053188614547252655, 0.025264590978622437, 0.6887925267219543, 0.08909092843532562, 0.01728629879653454, 0.004474250134080648, 0.17897000908851624, 0.7863494753837585, 0.027964064851403236, 0.9967284798622131, 0.048904865980148315, 0.9222060441970825, 0.013972818851470947, 0.012808416970074177, 0.001164401532150805, 0.001164401532150805, 0.001164401532150805, 0.007054074201732874, 0.0744091048836708, 0.019114265218377113, 0.014563249424099922, 0.40321996808052063, 0.049833621829748154, 0.08942745625972748, 0.10262539982795715, 0.03982138633728027, 0.004323464818298817, 0.09716418385505676, 0.09830193221569061, 0.00038616577512584627, 0.01544663030654192, 0.0011584972962737083, 0.00038616577512584627, 0.3185867667198181, 0.02085295133292675, 0.00849564652889967, 0.003475491888821125, 0.01776362583041191, 0.00193082878831774, 0.5568510293960571, 0.055607870221138, 0.9949842691421509, 0.08506863564252853, 0.0006011917721480131, 0.004809534177184105, 0.0009017876582220197, 0.0024047670885920525, 0.0012023835442960262, 0.004208342172205448, 0.16743190586566925, 0.6189269423484802, 0.08476803451776505, 0.011122047901153564, 0.01893754117190838, 0.9946495890617371, 0.9972459673881531, 0.9866198897361755, 0.3383285403251648, 0.13539806008338928, 0.011662671342492104, 0.14428390562534332, 0.08219406753778458, 0.0018882420845329762, 0.035765524953603745, 0.1837148517370224, 0.025546804070472717, 0.016327740624547005, 0.004220776259899139, 0.020659590139985085, 0.7721455097198486, 0.016481228172779083, 0.054388049989938736, 0.00906467530876398, 0.000824061396997422, 0.001648122793994844, 0.003296245587989688, 0.13432200253009796, 0.001648122793994844, 0.005768429487943649, 0.05969072878360748, 0.0009785365546122193, 0.001467804773710668, 0.003424877766519785, 0.030334632843732834, 0.16096925735473633, 0.009296096861362457, 0.612074613571167, 0.0195707306265831, 0.08219707012176514, 0.0024463413283228874, 0.017124388366937637, 0.006553516257554293, 0.025121811777353287, 0.008738021366298199, 0.006553516257554293, 0.024029558524489403, 0.6913959383964539, 0.23701883852481842, 0.24554790556430817, 0.17902357876300812, 0.06957190483808517, 0.062257714569568634, 0.10544628649950027, 0.0181984081864357, 0.06783043593168259, 0.07766976207494736, 0.07671195268630981, 0.033088017255067825, 0.011145437136292458, 0.05355034023523331, 0.0002784054959192872, 0.0027840547263622284, 0.0011136219836771488, 0.14003795385360718, 0.011136218905448914, 0.7302575707435608, 0.11358943581581116, 0.0002784054959192872, 0.0002784054959192872, 0.04138687998056412, 0.0002740852942224592, 0.030697552487254143, 0.027956699952483177, 0.047142669558525085, 0.0367274284362793, 0.5544745326042175, 0.2581883370876312, 0.001644511823542416, 0.000822255911771208, 0.000822255911771208, 0.0002740852942224592, 0.06199115887284279, 0.015626579523086548, 0.04361704736948013, 0.043960489332675934, 0.10955777764320374, 0.027990467846393585, 0.34189581871032715, 0.3527142405509949, 0.0017172065563499928, 0.00034344132291153073, 0.00017172066145576537, 0.0005151619552634656, 0.9973205327987671, 0.999531090259552, 0.994797945022583, 0.9973920583724976, 0.0003605689271353185, 0.15810947120189667, 0.0005408534198068082, 0.00018028446356765926, 0.02055242843925953, 0.0018028446938842535, 0.013881904073059559, 0.0010817068396136165, 0.3445236086845398, 0.26195332407951355, 0.07229407131671906, 0.12457656860351562, 0.002295589540153742, 0.001147794770076871, 0.002295589540153742, 0.04017281532287598, 0.9549652338027954, 0.9907875657081604, 0.996419370174408, 0.9932073950767517, 0.9776493906974792, 0.004107770510017872, 0.016431082040071487, 0.008781048469245434, 0.9893314242362976, 0.9923757314682007, 0.9958193898200989, 0.019541898742318153, 0.2712875306606293, 0.004598093684762716, 0.002299046842381358, 0.004598093684762716, 0.020691420882940292, 0.67132169008255, 0.004598093684762716, 0.9902541041374207, 0.005352724809199572, 0.20475418865680695, 0.0024216934107244015, 0.2713507413864136, 0.12386962026357651, 0.013077144511044025, 0.15038716793060303, 0.20269574224948883, 0.025912119075655937, 0.001816270058043301, 0.0029060321394354105, 0.0007265080348588526, 0.00012108467490179464, 0.12315671145915985, 0.043319229036569595, 0.007540206890553236, 0.09048248082399368, 0.0827944278717041, 0.10644997656345367, 0.32275041937828064, 0.21777890622615814, 0.0032526382710784674, 0.0014784719096496701, 0.00044354156125336885, 0.00044354156125336885, 0.0037765910383313894, 0.07175523042678833, 0.9063818454742432, 0.015106364153325558, 0.006221912335604429, 0.0011312568094581366, 0.002262513618916273, 0.034503333270549774, 0.027150163426995277, 0.8925616145133972, 0.009615682996809483, 0.020362623035907745, 0.0028281419072300196, 0.0005656284047290683, 0.002262513618916273, 0.26236024498939514, 0.07847893238067627, 0.004964604042470455, 0.3755913972854614, 0.004391765221953392, 0.002100409474223852, 0.046972792595624924, 0.20278498530387878, 0.000572838936932385, 0.0003818926343228668, 0.02062220126390457, 0.000572838936932385, 0.9956832528114319, 0.9937568306922913, 0.9917981028556824, 0.9944060444831848, 0.08037035912275314, 0.28306975960731506, 0.03771956264972687, 0.06678785383701324, 0.14049673080444336, 0.054935604333877563, 0.029673878103494644, 0.04057448357343674, 0.12397278845310211, 0.05234022065997124, 0.03192320838570595, 0.05822308734059334, 0.9929467439651489, 0.9886289834976196, 0.0029678691644221544, 0.03462513908743858, 0.0009892897214740515, 0.001978579442948103, 0.0029678691644221544, 0.001978579442948103, 0.02671082317829132, 0.042539458721876144, 0.10189683735370636, 0.7805495858192444, 0.001978579442948103, 0.2273004800081253, 0.16933473944664001, 0.06529559195041656, 0.08047887682914734, 0.10411393642425537, 0.020194513723254204, 0.05901285633444786, 0.06462244689464569, 0.07614079862833023, 0.04405395686626434, 0.010770407505333424, 0.078758604824543, 0.00029175475356169045, 0.00029175475356169045, 0.0005835095071233809, 0.0005835095071233809, 0.6911670565605164, 0.2894207239151001, 0.0014587738551199436, 0.004376321565359831, 0.0052515859715640545, 0.0011670190142467618, 0.004959831014275551, 0.00029175475356169045, 0.9891037940979004, 0.01661045476794243, 0.9717115759849548, 0.005536817945539951, 0.003903925884515047, 0.0013013086281716824, 0.0026026172563433647, 0.003903925884515047, 0.9330382943153381, 0.054654963314533234, 0.0013013086281716824, 0.0748792514204979, 0.9227055907249451, 0.9952021241188049, 0.09656573086977005, 0.7443156838417053, 0.14539110660552979, 0.013020099140703678, 0.9940130710601807, 0.991981029510498, 0.03156337887048721, 0.017535211518406868, 0.01052112691104412, 0.014028169214725494, 0.922352135181427, 0.2635883092880249, 0.014796732924878597, 0.0048175412230193615, 0.2969669997692108, 0.0048175412230193615, 0.0006882201414555311, 0.0048175412230193615, 0.3991676867008209, 0.0020646604243665934, 0.0048175412230193615, 0.003096990752965212, 0.0006882201414555311, 0.27341946959495544, 0.0035336927976459265, 0.010159366764128208, 0.556114912033081, 0.0008834231994114816, 0.0008834231994114816, 0.022085579112172127, 0.13207176327705383, 0.0004417115997057408, 0.0004417115997057408, 0.028652142733335495, 0.8374782800674438, 0.009550714865326881, 0.011341473087668419, 0.003581517841666937, 0.009550714865326881, 0.0011938393581658602, 0.0978948250412941, 0.0005969196790829301, 0.0005969196790829301, 0.021240994334220886, 0.9255836606025696, 0.0008729175897315145, 0.00552847795188427, 0.0005819450598210096, 0.0011638901196420193, 0.044809769839048386, 0.0002909725299105048, 0.9916232228279114, 0.02266438491642475, 0.0010460484772920609, 0.003138145664706826, 0.0003486828354652971, 0.0003486828354652971, 0.0003486828354652971, 0.002789462683722377, 0.703990638256073, 0.029986724257469177, 0.22664384543895721, 0.008368387818336487, 0.9930198788642883, 0.05217611417174339, 0.9333727359771729, 0.01159469224512577, 0.029366811737418175, 0.007341702934354544, 0.9617630839347839, 0.04523565247654915, 0.951915442943573, 0.001966767478734255, 0.0030619336757808924, 0.0030619336757808924, 0.992066502571106, 0.20841079950332642, 0.1496710628271103, 0.07487527281045914, 0.09832347929477692, 0.10213878005743027, 0.014863776043057442, 0.06581393629312515, 0.0723317414522171, 0.0611242949962616, 0.049757879227399826, 0.02162003703415394, 0.08115462213754654, 0.9891600608825684, 0.9889870882034302, 0.0008264568750746548, 0.0008264568750746548, 0.0066116550005972385, 0.031405359506607056, 0.9553841352462769, 0.0008264568750746548, 0.0008264568750746548, 0.0012396853417158127, 0.0020661421585828066, 0.004244902171194553, 0.9933071136474609, 0.9936850070953369, 0.993436336517334, 0.9920529723167419, 0.005234205164015293, 0.989264726638794, 0.3183435797691345, 0.04214755818247795, 0.48269549012184143, 0.020367395132780075, 0.009065256454050541, 0.009418448433279991, 0.020485125482082367, 0.013774481602013111, 0.0067106448113918304, 0.012479444965720177, 0.018365975469350815, 0.04615039750933647, 0.07046350091695786, 0.16792339086532593, 0.039666175842285156, 0.10720588266849518, 0.22971297800540924, 0.09170976281166077, 0.044051870703697205, 0.07280254364013672, 0.0898580253124237, 0.02465735375881195, 0.0085764704272151, 0.053408022969961166, 0.9608364105224609, 0.03493950515985489, 0.03959128260612488, 0.1006278470158577, 0.8013110756874084, 0.0008248183876276016, 0.0028868643566966057, 0.004536501131951809, 0.008248183876276016, 0.0012372275814414024, 0.004536501131951809, 0.021857688203454018, 0.003711682977154851, 0.011135048232972622, 0.04865569248795509, 0.015668783336877823, 0.8807505369186401, 0.04370765760540962, 0.0016493455041199923, 0.00247401837259531, 0.00247401837259531, 0.0032986910082399845, 0.0016493455041199923, 0.1568569540977478, 0.05181063711643219, 0.18179528415203094, 0.06545037031173706, 0.10484274476766586, 0.08316167443990707, 0.13731345534324646, 0.07277918606996536, 0.055576834827661514, 0.04142815247178078, 0.02615979127585888, 0.022902540862560272, 0.9874135851860046, 0.042875129729509354, 0.005073979496955872, 0.00811836775392294, 0.0030443877913057804, 0.0005073979846201837, 0.0005073979846201837, 0.7456213235855103, 0.08397436141967773, 0.05327678471803665, 0.057082269340753555, 0.9512149095535278, 0.01088346540927887, 0.01741354539990425, 0.0021766931749880314, 0.008706772699952126, 0.006530079524964094, 0.3368050158023834, 0.1730833798646927, 0.1124497652053833, 0.043651845306158066, 0.03755582496523857, 0.030806664377450943, 0.13030238449573517, 0.05072757974267006, 0.039297547191381454, 0.011103461496531963, 0.003592296503484249, 0.030697805806994438, 0.9863888025283813, 0.9905679821968079, 0.007119990419596434, 0.9825586676597595, 0.008899987675249577, 0.012893911451101303, 0.0032234778627753258, 0.9509259462356567, 0.0032234778627753258, 0.0032234778627753258, 0.022564345970749855, 0.011718668974936008, 0.0015120863681659102, 0.7696519494056702, 0.03194282576441765, 0.0008505485602654517, 0.0077494424767792225, 0.008458233438432217, 0.014364819973707199, 0.008694496937096119, 0.0856218934059143, 0.05556917190551758, 0.0037329632323235273, 0.003918063826858997, 0.010774675756692886, 0.0009795159567147493, 0.9775569438934326, 0.004897579550743103, 0.0009795159567147493, 0.0018175793811678886, 0.9978510737419128, 0.5254578590393066, 0.10756104439496994, 0.06321493536233902, 0.1308644860982895, 0.0022173053584992886, 0.003608555532991886, 0.0042607043869793415, 0.11212608218193054, 0.011564768850803375, 0.02134699746966362, 0.001086914329789579, 0.01673847995698452, 0.8480581641197205, 0.004258745349943638, 0.07978049665689468, 0.0062461597844958305, 0.00028391636442393064, 0.00028391636442393064, 0.05706718936562538, 0.00028391636442393064, 0.0034069963730871677, 0.00028391636442393064, 0.07324559986591339, 0.8076291084289551, 0.001927515841089189, 0.11757846176624298, 0.9963136911392212, 0.998219907283783, 0.002434514230117202, 0.02191062830388546, 0.004869028460234404, 0.9591986536979675, 0.007303542923182249, 0.002434514230117202, 0.9928159713745117, 0.9917704463005066, 0.004132376983761787, 0.15177889168262482, 0.14092613756656647, 0.03511183708906174, 0.0804380252957344, 0.17954915761947632, 0.05378494784235954, 0.03511183708906174, 0.0417352057993412, 0.0959191545844078, 0.06918627768754959, 0.029206663370132446, 0.08722099661827087, 0.9900686740875244, 0.0012786544393748045, 0.006393271964043379, 0.9922358393669128, 0.988763153553009, 0.9983139038085938, 0.996383011341095, 0.0017697744769975543, 0.003045592922717333, 0.027410335838794708, 0.003045592922717333, 0.8771307468414307, 0.006091185845434666, 0.08223100751638412, 0.9899415969848633, 0.007856679148972034, 0.0767003521323204, 0.3735591173171997, 0.02353767305612564, 0.30010533332824707, 0.002637842670083046, 0.018870720639824867, 0.034089043736457825, 0.09841182827949524, 0.003449486568570137, 0.046669524163007736, 0.020696919411420822, 0.0010145548731088638, 0.9934705495834351, 0.0004892777651548386, 0.9991052150726318, 0.0014968500472605228, 0.1440718173980713, 0.0005613187677226961, 0.00102908443659544, 0.3522275388240814, 0.020675241947174072, 0.2985280454158783, 0.10515371710062027, 0.028253044933080673, 0.033772680908441544, 0.0029937000945210457, 0.011039269156754017, 0.009437400847673416, 0.5439860224723816, 0.0001780641614459455, 0.000712256645783782, 0.01727222464978695, 0.0001780641614459455, 0.04326959326863289, 0.008369015529751778, 0.051282480359077454, 0.3068045675754547, 0.0005341924843378365, 0.017984479665756226, 0.00039030195330269635, 0.012359562329947948, 0.00039030195330269635, 0.00975754950195551, 0.5081731677055359, 0.4245184361934662, 0.002211711136624217, 0.011709058657288551, 0.01899469457566738, 0.005724428687244654, 0.0002602013119030744, 0.00546422740444541, 0.0009306962601840496, 0.062090735882520676, 0.0038557415828108788, 0.007977396249771118, 0.011966094374656677, 0.8055840730667114, 0.044274549931287766, 0.0073126135393977165, 0.03190958499908447, 0.023134449496865273, 0.0002659132005646825, 0.0007977396599017084, 0.9946116209030151, 0.1254769265651703, 0.008049125783145428, 0.1313796192407608, 0.04158714786171913, 0.017082033678889275, 0.2943297028541565, 0.027635330334305763, 0.06716547906398773, 0.029692329466342926, 0.10991527885198593, 0.13674570620059967, 0.010911037214100361, 0.9286952018737793, 0.06993676722049713, 0.9966099858283997, 0.04264899343252182, 0.0029929117299616337, 0.6801392436027527, 0.0007482279324904084, 0.006734051741659641, 0.13767394423484802, 0.0950249508023262, 0.030677346512675285, 0.002244683913886547, 0.5967908501625061, 0.004196185618638992, 0.029606422409415245, 0.0051286714151501656, 0.000699364289175719, 0.0009324857383035123, 0.11026643961668015, 0.003963064402341843, 0.007693007122725248, 0.19442327320575714, 0.045458678156137466, 0.000699364289175719, 0.9914155006408691, 0.9360209703445435, 0.057898204773664474, 0.0014665793860331178, 0.9972739815711975, 0.9963451027870178, 0.7841252088546753, 0.0012566109653562307, 0.03392849490046501, 0.17843875288963318, 0.9440268278121948, 0.000587629561778158, 0.04701036214828491, 0.006170110311359167, 0.000587629561778158, 0.000587629561778158, 0.000293814780889079, 0.000293814780889079, 0.9922265410423279, 0.005848763044923544, 0.988440990447998, 0.32797926664352417, 0.0014322239439934492, 0.010502975434064865, 0.17759576439857483, 0.004296671599149704, 0.0004774079716298729, 0.4735887050628662, 0.0028644478879868984, 0.0004774079716298729, 0.0009548159432597458, 0.992510974407196, 0.12953785061836243, 0.0390518493950367, 0.2790778577327728, 0.0569109283387661, 0.007857994176447392, 0.02047840878367424, 0.018573440611362457, 0.005000541917979717, 0.04500487819314003, 0.1185842752456665, 0.22359564900398254, 0.05619656667113304, 0.024058282375335693, 0.0013004477368667722, 0.27894604206085205, 0.013004477135837078, 0.0006502238684333861, 0.0032511192839592695, 0.01365470141172409, 0.0013004477368667722, 0.020156940445303917, 0.07477574050426483, 0.5598427653312683, 0.007802686188369989, 0.045314524322748184, 0.05001930892467499, 0.026742996647953987, 0.07180990278720856, 0.2240964025259018, 0.3280969560146332, 0.02921920083463192, 0.1255435198545456, 0.04407642036676407, 0.017581043764948845, 0.02773347869515419, 0.009657192975282669, 0.9849370121955872, 0.009262730367481709, 0.028908660635352135, 0.9692903757095337, 0.026617592200636864, 0.2375108301639557, 0.10939538478851318, 0.05820770189166069, 0.010530036874115467, 0.050310175865888596, 0.0874578058719635, 0.003802513238042593, 0.08248528838157654, 0.27963098883628845, 0.018135063350200653, 0.036270126700401306, 0.9925175309181213, 0.9959010481834412, 0.0015321554383262992, 0.9961958527565002, 0.0006724772392772138, 0.05581561103463173, 0.13046059012413025, 0.004707340616732836, 0.010087158530950546, 0.706773579120636, 0.004034863319247961, 0.02689909003674984, 0.019501840695738792, 0.03093395195901394, 0.0053798179142177105, 0.004034863319247961, 0.023140184581279755, 0.9718877673149109, 0.9809743762016296, 0.02991618402302265, 0.531895637512207, 0.011071343906223774, 0.0011778025655075908, 0.11236236244440079, 0.006831254810094833, 0.07702828198671341, 0.06360133737325668, 0.14746087789535522, 0.004946770612150431, 0.002591165481135249, 0.011071343906223774, 0.993203341960907, 0.0980796366930008, 0.09577864408493042, 0.1018187403678894, 0.0077658360823988914, 0.017832661047577858, 0.03509007394313812, 0.36643242835998535, 0.03451482579112053, 0.06730391085147858, 0.08139746636152267, 0.04717026278376579, 0.0465950183570385, 0.9888156056404114, 0.0020625086035579443, 0.07940658926963806, 0.03196888417005539, 0.11343798041343689, 0.0020625086035579443, 0.0010312543017789721, 0.013406306505203247, 0.0814690962433815, 0.673409104347229, 0.9908698201179504, 0.000246359093580395, 0.003202668158337474, 0.000246359093580395, 0.022172318771481514, 0.523020327091217, 0.3843201696872711, 0.008622568100690842, 0.05001089721918106, 0.001724513596855104, 0.001724513596855104, 0.004680822603404522, 0.000246359093580395, 0.0004411580157466233, 0.0004411580157466233, 0.016322847455739975, 0.0008823160314932466, 0.581887423992157, 0.3829251527786255, 0.0035292641259729862, 0.0013234741054475307, 0.003088106168434024, 0.006617370061576366, 0.0017646320629864931, 0.0008823160314932466, 0.004254722036421299, 0.9445482492446899, 0.038292497396469116, 0.012764165177941322, 0.9853258728981018, 0.009039686992764473, 0.1682664304971695, 0.1611642837524414, 0.0016389588126912713, 0.045890845358371735, 0.0005463195848278701, 0.01857486553490162, 0.0016389588126912713, 0.5851082801818848, 0.0005463195848278701, 0.01529694814234972, 0.0010926391696557403, 0.99798583984375, 0.0012445945758372545, 0.00031114864395931363, 0.995986819267273, 0.0012445945758372545, 0.00031114864395931363, 0.00031114864395931363, 0.9937989711761475, 0.9975207448005676, 0.004707001615315676, 0.0015690005384385586, 0.9900393486022949, 0.003138001076877117, 0.48979824781417847, 0.02637375146150589, 0.11913041025400162, 0.3175615072250366, 0.0007176530780270696, 0.005202984903007746, 0.00610005110502243, 0.032653216272592545, 0.0005382398376241326, 0.0010764796752482653, 0.0001794132695067674, 0.0007176530780270696, 0.0045309653505682945, 0.001812386210076511, 0.8273543119430542, 0.01178050972521305, 0.061621129512786865, 0.006343351677060127, 0.001812386210076511, 0.019030055031180382, 0.0009061931050382555, 0.06343351304531097, 0.1084975004196167, 0.006329020950943232, 0.028028521686792374, 0.004520729184150696, 0.0018082917667925358, 0.007233167067170143, 0.774852991104126, 0.05334460735321045, 0.012658041901886463, 0.0027124376501888037, 0.23914475739002228, 0.11206404864788055, 0.12069431692361832, 0.07672309130430222, 0.0469055138528347, 0.06597840785980225, 0.08600063621997833, 0.04280613362789154, 0.06925790756940842, 0.053507670760154724, 0.04595618322491646, 0.04090747609734535, 0.9952253103256226, 0.05174579843878746, 0.020776230841875076, 0.008764971978962421, 0.8499425649642944, 0.00019477715250104666, 0.0013634400675073266, 0.008245565928518772, 0.05668015405535698, 0.001233588671311736, 0.000454480032203719, 0.00032462860690429807, 0.00025970287970267236, 0.11455228179693222, 0.008277670480310917, 0.02162875235080719, 0.8352437019348145, 0.00026702164905145764, 0.002136173192411661, 0.01708938553929329, 0.0005340432981029153, 0.9974736571311951, 0.996311604976654, 0.0007728179916739464, 0.0003864089958369732, 0.027048630639910698, 0.9714322686195374, 0.9947253465652466, 0.9955888390541077, 0.9894763231277466, 0.00217052293010056, 0.013023138046264648, 0.9810764193534851, 0.8044809699058533, 0.04812261834740639, 0.0010202674893662333, 0.012243210338056087, 0.01037271972745657, 0.006121605169028044, 0.015814146026968956, 0.09165403246879578, 0.0006801783456467092, 0.003740980988368392, 0.005271382164210081, 0.0001700445864116773, 0.014512373134493828, 0.982003927230835, 0.0019925576634705067, 0.05579161271452904, 0.003985115326941013, 0.8508220911026001, 0.08169486373662949, 0.0019925576634705067, 0.003985115326941013, 0.9890208840370178, 0.9838942885398865, 0.994439959526062, 0.0021404386498034, 0.00053510966245085, 0.005351096857339144, 0.002675548428669572, 0.06207272410392761, 0.056721627712249756, 0.7812601327896118, 0.0872228816151619, 0.00053510966245085, 0.0010702193249017, 0.9899426102638245, 0.013238153420388699, 0.9767866134643555, 0.006619076710194349, 0.0018911648076027632, 0.9936497211456299, 0.018695257604122162, 0.3553086519241333, 0.04581654816865921, 0.00964385736733675, 0.05565788969397545, 0.044137924909591675, 0.06849442422389984, 0.014021444134414196, 0.1364622265100479, 0.19057314097881317, 0.0022381646558642387, 0.05898222327232361, 0.9954075217247009, 0.006649685092270374, 0.9908031225204468, 0.0013299370184540749, 0.0013299370184540749, 0.008055225014686584, 0.9907926321029663, 0.0012186866952106357, 0.0012186866952106357, 0.003656060202047229, 0.003656060202047229, 0.0012186866952106357, 0.9871362447738647, 0.9972030520439148, 0.98943030834198, 0.9925323128700256, 0.9954051971435547, 0.009380211122334003, 0.987267255783081, 0.9969201683998108, 0.9941256046295166, 0.9922264814376831, 0.35294201970100403, 0.032975293695926666, 0.526540994644165, 0.017444994300603867, 0.009573472663760185, 0.00361664523370564, 0.011913654394447803, 0.012126398272812366, 0.006595058832317591, 0.011913654394447803, 0.005531339440494776, 0.008722497150301933, 0.0028087839018553495, 0.024342793971300125, 0.001872522640042007, 0.007490090560168028, 0.0009362613200210035, 0.0028087839018553495, 0.0308966226875782, 0.9287711977958679, 0.9979844689369202, 0.98900306224823, 0.9851973652839661, 0.9926958084106445, 0.005454372614622116, 0.0033396058715879917, 0.7299424409866333, 0.005009409040212631, 0.011927164159715176, 0.0033396058715879917, 0.03339606150984764, 0.0014312596758827567, 0.19775238633155823, 0.0033396058715879917, 0.008826101198792458, 0.0002385432890150696, 0.0016698029357939959, 0.12558850646018982, 0.15879812836647034, 0.10874982178211212, 0.02689511701464653, 0.002572576282545924, 0.0028064469806849957, 0.12512075901031494, 0.004443541169166565, 0.032274141907691956, 0.3573542535305023, 0.0516853965818882, 0.0035080586094409227, 0.22861403226852417, 0.026195356622338295, 0.017350172623991966, 0.22351104021072388, 0.006803988944739103, 0.010546183213591576, 0.05817410722374916, 0.4208267033100128, 0.0006803988944739103, 0.0030617951415479183, 0.004082393366843462, 0.0003625608514994383, 0.40164491534233093, 0.0005800973740406334, 7.251217175507918e-05, 0.5320942997932434, 0.005800973623991013, 0.0050033400766551495, 0.011674460023641586, 0.031615305691957474, 0.001232706941664219, 0.009861655533313751, 0.0016092557925730944, 0.6939915418624878, 0.0016092557925730944, 0.0012069417862221599, 0.24943463504314423, 0.0024138835724443197, 0.01850644126534462, 0.012471731752157211, 0.014885615557432175, 0.0024138835724443197, 0.0016092557925730944, 0.9938744902610779, 0.24567031860351562, 0.2871163785457611, 0.023410186171531677, 0.037346988916397095, 0.09956160932779312, 0.030059773474931717, 0.03907770290970802, 0.010111014358699322, 0.06931965798139572, 0.029968682676553726, 0.011750638484954834, 0.11650439351797104, 0.9447247385978699, 0.029755109921097755, 0.007438777480274439, 0.013017860241234303, 0.0018596943700686097, 0.02298378013074398, 0.9739376306533813, 0.0040941848419606686, 0.9232386350631714, 0.0010235462104901671, 0.0010235462104901671, 0.036847662180662155, 0.02047092281281948, 0.0040941848419606686, 0.008188369683921337, 0.004747927654534578, 0.006782753858715296, 0.0006782754207961261, 0.0074610295705497265, 0.010174131020903587, 0.21908295154571533, 0.0013565508415922523, 0.5548292994499207, 0.0006782754207961261, 0.0020348262041807175, 0.193308487534523, 0.3124350309371948, 0.08274637907743454, 0.06352133303880692, 0.09702461957931519, 0.187865749001503, 0.03912464529275894, 0.029343483969569206, 0.06790599226951599, 0.03833765536546707, 0.025183679535984993, 0.007869900204241276, 0.04856852442026138, 0.21138080954551697, 0.007630055770277977, 0.01271675992757082, 0.5442773103713989, 0.0008477839874103665, 0.000282594672171399, 0.0028259465470910072, 0.21703270077705383, 0.000565189344342798, 0.001130378688685596, 0.000565189344342798, 0.000565189344342798, 0.049492236226797104, 0.0005891933105885983, 0.03358401730656624, 0.21210959553718567, 0.0029459665529429913, 0.01649741269648075, 0.015319026075303555, 0.6051015257835388, 0.0017675799317657948, 0.03888675943017006, 0.02356773242354393, 0.0005891933105885983, 0.3917948007583618, 0.03510658070445061, 0.017701247707009315, 0.32359927892684937, 0.006617791950702667, 0.0015602924395352602, 0.016167856752872467, 0.18736959993839264, 0.0019369147485122085, 0.007478642743080854, 0.005407220218330622, 0.005272712092846632, 0.03665062040090561, 0.015067476779222488, 0.0004072291194461286, 0.010180727578699589, 0.19546997547149658, 0.7407497763633728, 0.0008144582388922572, 0.9958627223968506, 0.038600701838731766, 0.9482905864715576, 0.010293520987033844, 0.0012866901233792305, 0.0013641065452247858, 0.0034102664794772863, 0.008866692893207073, 0.0006820532726123929, 0.5988427996635437, 0.006820532958954573, 0.3792216181755066, 0.0003890223160851747, 0.004668267909437418, 0.0015560892643406987, 0.0003890223160851747, 0.1785612404346466, 0.021396227180957794, 0.5450202822685242, 0.2470291703939438, 0.0007780446321703494, 0.3687359392642975, 0.003758502658456564, 0.06362608075141907, 0.06456570327281952, 0.022014087066054344, 0.026712214574217796, 0.22967135906219482, 0.16174983978271484, 0.01369168795645237, 0.005100824870169163, 0.03691386431455612, 0.003490038216114044, 0.015002460218966007, 0.0011112933279946446, 0.7262302041053772, 0.0022225866559892893, 0.010557286441326141, 0.015558106824755669, 0.0016669400501996279, 0.07001148164272308, 0.020558927208185196, 0.10557286441326141, 0.03222750872373581, 0.9914834499359131, 0.220366969704628, 0.00039921552524901927, 0.3780570924282074, 0.17685247957706451, 0.024751363322138786, 0.03752626106142998, 0.014970581978559494, 0.015369798056781292, 0.011178034357726574, 0.008982349187135696, 0.10160034894943237, 0.00998038798570633, 0.027253562584519386, 0.004192855674773455, 0.9517782330513, 0.012578567489981651, 0.0020964278373867273, 0.9850948452949524, 0.09786127507686615, 0.6133379936218262, 0.009992318227887154, 0.018398554995656013, 0.0171296875923872, 0.0015860822750255466, 0.023791233077645302, 0.21507275104522705, 0.0011102575808763504, 0.0011102575808763504, 0.00031721644336357713, 0.00031721644336357713, 0.0025313091464340687, 0.41640037298202515, 0.0005062618292868137, 0.001771916402503848, 0.03214762732386589, 0.003796963719651103, 0.1620037853717804, 0.0010125236585736275, 0.12023718655109406, 0.23971498012542725, 0.002025047317147255, 0.017972296103835106, 0.16722193360328674, 0.0029431062284857035, 0.47330498695373535, 0.0874905213713646, 0.0010702203726395965, 0.08294208347797394, 0.0104346489533782, 0.011772424913942814, 0.021939517930150032, 0.019263967871665955, 0.11932957917451859, 0.002675550989806652, 0.9967867732048035, 0.42216894030570984, 0.08531008660793304, 0.0015464063035324216, 0.12023309618234634, 0.016752734780311584, 0.008634102530777454, 0.02319609560072422, 0.24149712920188904, 0.004252617247402668, 0.07345429807901382, 0.002061875071376562, 0.0007732031517662108, 0.0264242272824049, 0.006497760768979788, 0.006930944975465536, 0.000866368121933192, 0.004331840667873621, 0.0012995521537959576, 0.009530048817396164, 0.6636379957199097, 0.2716064155101776, 0.00909686554223299, 0.9922258853912354, 0.036077044904232025, 0.9626874327659607, 0.035751886665821075, 0.9533836245536804, 0.003972431644797325, 0.9882173538208008, 0.9956756234169006, 0.9826646447181702, 0.9984561800956726, 0.008325522765517235, 0.3600788414478302, 0.6296176314353943, 0.21779733896255493, 0.06608380377292633, 0.714821994304657, 0.9868484735488892, 0.990200400352478, 0.9980595707893372, 0.962090015411377, 0.037259362637996674, 0.9105573892593384, 0.009363058023154736, 0.07880573719739914, 0.06559634953737259, 0.0018675117753446102, 0.46547731757164, 0.450070321559906, 0.003968462347984314, 0.0021009508054703474, 0.010271314531564713, 0.00023343897191807628, 0.00023343897191807628, 0.1514713168144226, 0.02189233899116516, 0.05088489502668381, 0.01420043595135212, 0.0005916848313063383, 0.0005916848313063383, 0.010058642365038395, 0.14437109231948853, 0.6052935719490051, 0.0005916848313063383, 0.5252707004547119, 0.01563621126115322, 0.0005300410557538271, 0.005035390146076679, 0.002915225923061371, 0.0005300410557538271, 0.3296855390071869, 0.06943538039922714, 0.0013251026393845677, 0.049293819814920425, 0.00026502052787691355, 0.9889332056045532, 0.00879051722586155, 0.9876260161399841, 0.9253085255622864, 0.07186862081289291, 0.6029086709022522, 0.0017526415176689625, 0.0140211321413517, 0.0420633964240551, 0.031297169625759125, 0.18102282285690308, 0.0110166035592556, 0.10140282660722733, 0.0010015093721449375, 0.001502264174632728, 0.011517358012497425, 0.0005007546860724688, 0.9885440468788147, 0.008826286531984806, 0.9885544180870056, 0.9895858764648438, 0.9945152401924133, 0.9932824373245239, 0.9845889210700989, 0.006933724973350763, 0.023696377873420715, 0.0058236862532794476, 0.3128724992275238, 0.002811434678733349, 0.0008032670593820512, 0.0016065341187641025, 0.5889955759048462, 0.05823685973882675, 0.0048196022398769855, 0.008143322542309761, 0.10825828462839127, 0.006706265266984701, 0.013891549780964851, 0.031615249812603, 0.7108641266822815, 0.026825061067938805, 0.013412530533969402, 0.07951714843511581, 0.06165232136845589, 0.0025476166047155857, 0.06547374278306961, 0.5994541645050049, 0.03184520825743675, 0.002292854944244027, 0.01477617584168911, 0.004840471316128969, 0.009426181204617023, 0.007133326027542353, 0.17604030668735504, 0.024457119405269623, 0.8631721138954163, 0.00983926746994257, 0.04740738123655319, 0.03085952252149582, 0.0013417183654382825, 0.001788957742974162, 0.000894478871487081, 0.012522704899311066, 0.001788957742974162, 0.002683436730876565, 0.021020254120230675, 0.006708591710776091, 0.001234255381859839, 0.02962213009595871, 0.02406798116862774, 0.05924426019191742, 0.01234255451709032, 0.36287108063697815, 0.0018513831309974194, 0.014811065047979355, 0.0006171276909299195, 0.001234255381859839, 0.4918507933616638, 0.001234255381859839, 0.12597817182540894, 0.030568232759833336, 0.01945251226425171, 0.05835753306746483, 0.0018526201602071524, 0.012042030692100525, 0.06484170258045197, 0.6817641854286194, 0.004631550516933203, 0.05350298434495926, 0.011464925482869148, 0.0031847015488892794, 0.0038216416724026203, 0.0006369402981363237, 0.07961753755807877, 0.01847126893699169, 0.7783410549163818, 0.0038216416724026203, 0.043948881328105927, 0.0031847015488892794, 0.9937917590141296, 0.9904153943061829, 0.0032155457884073257, 0.0032155457884073257, 0.012862183153629303, 0.9518015384674072, 0.0032155457884073257, 0.02250882051885128, 0.996514081954956, 0.005649171303957701, 0.9886049628257751, 0.9965742826461792, 0.7826482653617859, 0.006421728990972042, 0.0385303758084774, 0.0385303758084774, 0.0024081484880298376, 0.05538741499185562, 0.003210864495486021, 0.003210864495486021, 0.020067904144525528, 0.048965685069561005, 0.9955391883850098, 0.9982335567474365, 0.049100350588560104, 0.947850227355957, 0.0021347978617995977, 0.9948029518127441, 0.9941555857658386, 0.9943329691886902, 0.0025484308134764433, 0.9938880801200867, 0.9946106672286987, 0.9949272274971008, 0.9113140106201172, 0.051551658660173416, 0.010225122794508934, 0.0004260467831045389, 0.0008520935662090778, 0.0021302339155226946, 0.0008520935662090778, 0.0004260467831045389, 0.02130233868956566, 0.0004260467831045389, 0.007249200250953436, 0.9907240271568298, 0.990913987159729, 0.9937455058097839, 0.6436929702758789, 0.043408967554569244, 0.021911194548010826, 0.098600372672081, 0.008888503536581993, 0.009508631192147732, 0.024184996262192726, 0.08330387622117996, 0.001860384363681078, 0.03079969622194767, 0.021911194548010826, 0.012195853516459465, 0.02660432644188404, 0.018290473148226738, 0.8490105271339417, 0.018623027950525284, 0.0029929867014288902, 0.00432320311665535, 0.0026604325976222754, 0.017625365406274796, 0.009311513975262642, 0.02327878586947918, 0.00665108161047101, 0.020950905978679657, 0.9935852885246277, 0.2583228647708893, 0.4270007014274597, 0.04156437888741493, 0.01410303171724081, 0.05306091159582138, 0.0023272328544408083, 0.05603976920247078, 0.013451406732201576, 0.01736115850508213, 0.010100191459059715, 0.008703851141035557, 0.09797650575637817, 0.9987611770629883, 0.0005240089958533645, 0.0018050768412649632, 0.0009025384206324816, 0.9467628002166748, 0.011732999235391617, 0.0009025384206324816, 0.0036101536825299263, 0.033393919467926025, 0.014255264773964882, 0.023758774623274803, 0.9345117807388306, 0.0015839182306081057, 0.023758774623274803, 0.0015839182306081057, 0.0013951021246612072, 0.01069578342139721, 0.0004650340706575662, 0.007905579172074795, 0.04278313368558884, 0.8900752067565918, 0.04650340601801872, 0.0004650340706575662, 0.0004650340706575662, 0.9923630356788635, 0.03064306080341339, 0.07660765200853348, 0.08189093321561813, 0.025359774008393288, 0.14581869542598724, 0.059436969459056854, 0.017434844747185707, 0.0663052424788475, 0.0800417885184288, 0.11808145046234131, 0.008981586433947086, 0.28978824615478516, 0.9975340962409973, 0.0006741892430000007, 0.0013483784860000014, 0.9944291114807129, 0.0020225676707923412, 0.0006741892430000007, 0.9964317083358765, 0.9928408861160278, 0.9953241348266602, 0.9909684062004089, 0.9881157875061035, 0.9913073778152466, 0.0016270768828690052, 0.0016270768828690052, 0.009762461297214031, 0.9860085844993591, 0.9919565916061401, 0.0044359429739415646, 0.03637473285198212, 0.901383638381958, 0.01951815001666546, 0.011533452197909355, 0.0008871886529959738, 0.025728469714522362, 0.9944583177566528, 0.9947738647460938, 0.06311922520399094, 0.008676767349243164, 0.34639015793800354, 0.14103999733924866, 0.012079421430826187, 0.006805307697504759, 0.04644622281193733, 0.021606851369142532, 0.02126658707857132, 0.03198494762182236, 0.2044994980096817, 0.09612496942281723, 0.39578619599342346, 0.0656425878405571, 0.1494334191083908, 0.024969926103949547, 0.03423711657524109, 0.023039260879158974, 0.03423711657524109, 0.030247075483202934, 0.03552422299981117, 0.1494334191083908, 0.009267188608646393, 0.04813789948821068, 0.9910395741462708, 0.9887199401855469, 0.11114826798439026, 0.012986395508050919, 0.12642638385295868, 0.06264025717973709, 0.019479593262076378, 0.4098353683948517, 0.0706612691283226, 0.12642638385295868, 0.011458584107458591, 0.022917168214917183, 0.023299120366573334, 0.003055622335523367, 0.9921035170555115, 0.002306629903614521, 0.01768416352570057, 0.01691528595983982, 0.0007688766345381737, 0.04459484666585922, 0.0015377532690763474, 0.02306629903614521, 0.09072744101285934, 0.009995396248996258, 0.7834852933883667, 0.00845764297991991, 0.10511098802089691, 0.7520872950553894, 0.00022653231280855834, 0.0013591938186436892, 0.003171452321112156, 0.004077581688761711, 0.1044313982129097, 0.009061292745172977, 0.009287824854254723, 0.005663307849317789, 0.004757178481668234, 0.0004530646256171167, 0.8178331255912781, 0.0017014557961374521, 0.10889317095279694, 0.014178798533976078, 0.003970063757151365, 0.0073729753494262695, 0.011343038640916348, 0.0011343038640916348, 0.005104367621243, 0.01247734297066927, 0.010775887407362461, 0.005104367621243, 0.9907117486000061, 0.015558088198304176, 0.9801595211029053, 0.9976550936698914, 0.9923855066299438, 0.9764022827148438, 0.016273371875286102, 0.9917264580726624, 0.9942501783370972, 0.03861558064818382, 0.9598729610443115, 0.9970412254333496, 0.0007453206344507635, 0.0037266029976308346, 0.0007453206344507635, 0.3137799799442291, 0.028322182595729828, 0.6350131630897522, 0.01714237406849861, 0.9956746101379395, 0.9910818338394165, 0.0012396015226840973, 0.8912734389305115, 0.007437609136104584, 0.0024792030453681946, 0.004958406090736389, 0.01363561674952507, 0.0024792030453681946, 0.04090685024857521, 0.03222963958978653, 0.003718804568052292, 0.9623548984527588, 0.01802162639796734, 0.01802162639796734, 0.9951247572898865, 0.9980379343032837, 0.001855089096352458, 0.9959589838981628, 0.0017320612678304315, 0.9595618844032288, 0.03464122489094734, 0.08025504648685455, 0.1824977695941925, 0.6816181540489197, 0.05277043953537941, 0.001102348673157394, 0.9954208731651306, 0.0033070461358875036, 0.007135590072721243, 0.9847114682197571, 0.0035677950363606215, 0.046668872237205505, 0.8501512408256531, 0.0023334436118602753, 0.018667548894882202, 0.07467019557952881, 0.0023334436118602753, 0.0031112581491470337, 0.0007778145372867584, 0.0007778145372867584, 0.993404746055603, 0.9909513592720032, 0.9908496141433716, 0.22729775309562683, 0.03507295995950699, 0.12759479880332947, 0.06140369549393654, 0.0781596228480339, 0.12790702283382416, 0.05484703183174133, 0.04069295898079872, 0.0681685134768486, 0.055887769907712936, 0.06296480447053909, 0.060154806822538376, 0.009201308712363243, 0.0193003062158823, 0.002468643942847848, 0.0015709552681073546, 0.00044884433737024665, 0.003590754698961973, 0.010772264562547207, 0.004039599094539881, 0.13981501758098602, 0.1651747226715088, 0.5700322985649109, 0.07361046969890594, 0.9649497866630554, 0.029690762981772423, 0.9938541054725647, 0.9940210580825806, 0.111673504114151, 0.07540194690227509, 0.1420486867427826, 0.024121476337313652, 0.09380573779344559, 0.1541987657546997, 0.05753418803215027, 0.023942798376083374, 0.05235253646969795, 0.022692056372761726, 0.1611672043800354, 0.08111963421106339, 0.06702862679958344, 0.002578024286776781, 0.8945744037628174, 0.002578024286776781, 0.005156048573553562, 0.018046168610453606, 0.007734072860330343, 0.19286160171031952, 0.8061379790306091, 0.00075312185799703, 0.00150624371599406, 0.06326223164796829, 0.015815557911992073, 0.00150624371599406, 0.5234196782112122, 0.1099557876586914, 0.27564260363578796, 0.007531218230724335, 0.01834375597536564, 0.013757817447185516, 0.00917187798768282, 0.0011464847484603524, 0.00458593899384141, 0.687890887260437, 0.17655865848064423, 0.006878908723592758, 0.08025393635034561, 0.003955674823373556, 0.03757891058921814, 0.9315614104270935, 0.015822699293494225, 0.009889187291264534, 0.0020403380040079355, 0.006121013779193163, 0.9140713810920715, 0.0734521672129631, 0.0020403380040079355, 0.0020403380040079355, 0.010615453124046326, 0.9872371554374695, 0.011555115692317486, 0.06750620156526566, 0.5370088219642639, 0.008210213854908943, 0.013987772166728973, 0.0015204099472612143, 0.015812262892723083, 0.06112048029899597, 0.14991241693496704, 0.022502068430185318, 0.016116345301270485, 0.0948735848069191, 0.07605807483196259, 0.01084582693874836, 0.3618936538696289, 0.08319710195064545, 0.08223607391119003, 0.16859082877635956, 0.023064542561769485, 0.038715481758117676, 0.04846299812197685, 0.03336121514439583, 0.05821051076054573, 0.015513651072978973, 0.9883281588554382, 0.990597665309906, 0.8666670322418213, 0.0008606425253674388, 0.016352208331227303, 0.019794777035713196, 0.0008606425253674388, 0.0008606425253674388, 0.0008606425253674388, 0.08778553456068039, 0.007745782844722271, 0.9971767067909241, 0.010410603135824203, 0.05829937756061554, 0.1759391874074936, 0.0010410603135824203, 0.0015615904703736305, 0.0010410603135824203, 0.0020821206271648407, 0.004684771411120892, 0.02810862846672535, 0.0072874221950769424, 0.023423856124281883, 0.6865792870521545, 0.034546367824077606, 0.08727503567934036, 0.0381828248500824, 0.007272919174283743, 0.0018182297935709357, 0.8272945880889893, 0.017322145402431488, 0.002165268175303936, 0.001082634087651968, 0.001082634087651968, 0.006495804060250521, 0.001082634087651968, 0.9689574837684631, 0.0030499885324388742, 0.0015249942662194371, 0.0030499885324388742, 0.0015249942662194371, 0.9897212982177734, 0.9925428628921509, 0.005461534950882196, 0.000273076759185642, 0.016384605318307877, 0.012015377171337605, 0.015292298048734665, 0.03904997557401657, 0.7624303102493286, 0.14882682263851166, 0.000273076759185642, 0.000273076759185642, 0.005328571889549494, 0.9857858419418335, 0.002664285944774747, 0.002664285944774747, 0.04476549103856087, 0.006551047787070274, 0.005459206644445658, 0.8800240755081177, 0.006551047787070274, 0.05022469907999039, 0.005459206644445658, 0.03328327834606171, 0.0017517514061182737, 0.0035035028122365475, 0.930180013179779, 0.005255254451185465, 0.0017517514061182737, 0.0017517514061182737, 0.0035035028122365475, 0.0017517514061182737, 0.0017517514061182737, 0.015765763819217682, 0.0017517514061182737, 0.9981726408004761, 0.9949644804000854, 0.995965838432312, 0.995570719242096, 0.000650931557174772, 0.0930832102894783, 0.026688192039728165, 0.0032546576112508774, 0.000650931557174772, 0.0019527946133166552, 0.7225340008735657, 0.03449936956167221, 0.11651674658060074, 0.0023253040853887796, 0.0023253040853887796, 0.006975912023335695, 0.0023253040853887796, 0.9859288930892944, 0.6216673851013184, 0.005089674610644579, 0.22932620346546173, 0.0968492403626442, 0.000290838535875082, 0.002908385591581464, 0.006398448254913092, 0.005380513146519661, 0.014251088723540306, 0.00945225264877081, 0.005962190218269825, 0.002181289019063115, 0.016438676044344902, 0.9822108745574951, 0.004334316123276949, 0.04045361652970314, 0.020949194207787514, 0.08283359557390213, 0.1933586597442627, 0.14953391253948212, 0.009391018189489841, 0.007464655674993992, 0.00457511143758893, 0.017337264493107796, 0.46931010484695435, 0.00024079534341581166, 0.9926067590713501, 0.9934245944023132, 0.02080485224723816, 0.000990707310847938, 0.9748559594154358, 0.001981414621695876, 0.9960188865661621, 0.9960053563117981, 0.9981428980827332, 0.01875528320670128, 0.9283865690231323, 0.046888209879398346, 0.025397809222340584, 0.00885970052331686, 0.10129591077566147, 0.05699740722775459, 0.1497289389371872, 0.19225551187992096, 0.04400318115949631, 0.04872835427522659, 0.06467581540346146, 0.05552079156041145, 0.23566803336143494, 0.017424078658223152, 0.006574833299964666, 0.9796501994132996, 0.006574833299964666, 0.9945134520530701, 0.9914370775222778, 0.005538754630833864, 0.0011642953613772988, 0.016300136223435402, 0.02095731720328331, 0.0011642953613772988, 0.0023285907227545977, 0.0011642953613772988, 0.051229000091552734, 0.01862872578203678, 0.1536870002746582, 0.7323418259620667, 0.9937006235122681, 0.0042285132221877575, 0.9880096912384033, 0.18336418271064758, 0.0033252572175115347, 0.0038002938963472843, 0.002375183627009392, 0.0009500734740868211, 0.8023370504379272, 0.0014251102693378925, 0.00047503673704341054, 0.0019001469481736422, 0.9970588088035583, 0.15597271919250488, 0.032109491527080536, 0.1132463812828064, 0.12895585596561432, 0.09278952330350876, 0.13137270510196686, 0.07302320003509521, 0.05550108477473259, 0.0495452918112278, 0.03780633583664894, 0.10029900074005127, 0.029433701187372208, 0.9939844012260437, 0.22610825300216675, 0.011924573220312595, 0.045405104756355286, 0.2733479142189026, 0.0013759122230112553, 0.0009172748541459441, 0.0009172748541459441, 0.4228636920452118, 0.002293187193572521, 0.005503648892045021, 0.004586374387145042, 0.004127736669033766, 0.05205128714442253, 0.018538814038038254, 0.003921672236174345, 0.8570636510848999, 0.0035651568323373795, 0.0017825784161686897, 0.03850369155406952, 0.012834563851356506, 0.0046347035095095634, 0.0007130313315428793, 0.003921672236174345, 0.002139094052836299, 0.012747509405016899, 0.11766932159662247, 0.015689242631196976, 0.01970961131155491, 0.19670388102531433, 0.28103354573249817, 0.060991931706666946, 0.027260059490799904, 0.10531403869390488, 0.08795781433582306, 0.06432589143514633, 0.010590238496661186, 0.9961363673210144, 0.002329403767362237, 0.05191242694854736, 0.001663859817199409, 0.02096463367342949, 0.7127975821495056, 0.07953250408172607, 0.033609967678785324, 0.031613338738679886, 0.05291074141860008, 0.001663859817199409, 0.003993263468146324, 0.006988211534917355, 0.21523456275463104, 0.2347443550825119, 0.06221195310354233, 0.06119336932897568, 0.10953691601753235, 0.028050227090716362, 0.04113510996103287, 0.06753993034362793, 0.07349472492933273, 0.028677046298980713, 0.010812656953930855, 0.06730487197637558, 0.014009559527039528, 0.9841715693473816, 0.08578550070524216, 0.0035375466104596853, 0.0017687733052298427, 0.0017687733052298427, 0.015034573152661324, 0.09286059439182281, 0.7809134125709534, 0.012381413020193577, 0.005306319799274206, 0.16591748595237732, 0.4337722957134247, 0.0023205243051052094, 0.007458828389644623, 0.07972658425569534, 0.09812503308057785, 0.14254648983478546, 0.035968128591775894, 0.0016575173940509558, 0.032321590930223465, 0.00016575174231547862, 0.001086078817024827, 0.006516472902148962, 0.003258236451074481, 0.007602551952004433, 0.9796431064605713, 0.0007102868985384703, 0.2876662015914917, 0.03551434352993965, 0.0014205737970769405, 0.0007102868985384703, 0.0007102868985384703, 0.026990901678800583, 0.6399684548377991, 0.002841147594153881, 0.002841147594153881, 0.022686077281832695, 0.972665548324585, 0.023440491408109665, 0.002038303529843688, 0.973289966583252, 0.07660802453756332, 0.01028073113411665, 0.9116686582565308, 0.000663272978272289, 0.000663272978272289, 0.030794641003012657, 0.00585531909018755, 0.9598386287689209, 0.00021686367108486593, 0.0026023639366030693, 0.00043372734216973186, 0.0004347239446360618, 0.0004347239446360618, 0.0004347239446360618, 0.998126208782196, 0.0003900427545886487, 0.0003900427545886487, 0.9988994598388672, 0.012170633301138878, 0.009508307091891766, 0.013691962696611881, 0.7329003214836121, 0.02890525385737419, 0.03841356188058853, 0.005704984534531832, 0.03422990441322327, 0.03993489220738411, 0.013691962696611881, 0.007986977696418762, 0.06313516199588776, 0.9931044578552246, 0.9914094805717468, 0.06245187669992447, 0.0047133490443229675, 0.0005891686305403709, 0.05184683948755264, 0.8796287775039673, 0.9906610250473022, 0.9951251149177551, 0.004337947349995375, 0.006867412477731705, 0.9889073967933655, 0.009199474938213825, 0.9751443266868591, 0.004599737469106913, 0.004599737469106913, 0.9960786700248718, 0.9915918707847595, 0.9924225211143494, 0.062085896730422974, 0.3319714069366455, 0.04656442254781723, 0.0002822086098603904, 0.01740286499261856, 0.0006584867951460183, 0.01740286499261856, 0.0005644172197207808, 0.26772192120552063, 0.17064215242862701, 0.017591003328561783, 0.06697751581668854, 0.0185451190918684, 0.20876505970954895, 0.012186792679131031, 0.0015895816031843424, 0.0005298605537973344, 0.0013246512971818447, 0.09908392280340195, 0.0002649302768986672, 0.0564301460981369, 0.5046921372413635, 0.07020652294158936, 0.026493027806282043], \"Term\": [\"aaiun\", \"aaiun\", \"abas\", \"abas\", \"abas\", \"abdala\", \"abogado\", \"abogado\", \"abogado\", \"abogado\", \"abogado\", \"abogado\", \"abogado\", \"abogado\", \"abogados\", \"abogados\", \"abogados\", \"abogados\", \"abogados\", \"abogados\", \"abogados\", \"abogados\", \"aborto\", \"aborto\", \"aborto\", \"aborto\", \"aborto\", \"aborto\", \"aborto\", \"abusos\", \"abusos\", \"abusos\", \"abusos\", \"abusos\", \"abusos\", \"abusos\", \"abusos\", \"abusos\", \"abusos\", \"acapulco\", \"accidente\", \"accidente\", \"accidente\", \"accidente\", \"accidente\", \"accidente\", \"accidente\", \"accidente\", \"accidente\", \"accidente\", \"accidentes\", \"accidentes\", \"accidentes\", \"accidentes\", \"accidentes\", \"accidentes\", \"accidentes\", \"accio\", \"accionistas\", \"accionistas\", \"acto\", \"acto\", \"acto\", \"acto\", \"acto\", \"acto\", \"acto\", \"acto\", \"acto\", \"acto\", \"acto\", \"acto\", \"actriz\", \"actriz\", \"actriz\", \"actriz\", \"actriz\", \"acuerdo\", \"acuerdo\", \"acuerdo\", \"acuerdo\", \"acuerdo\", \"acuerdo\", \"acuerdo\", \"acuerdo\", \"acuerdo\", \"acuerdo\", \"acuerdo\", \"acuerdo\", \"acuerdos\", \"acuerdos\", \"acuerdos\", \"acuerdos\", \"acuerdos\", \"acuerdos\", \"acuerdos\", \"acuerdos\", \"aerea\", \"aerea\", \"aeronave\", \"aeropuerto\", \"aeropuerto\", \"aeropuerto\", \"aeropuerto\", \"aeropuerto\", \"aeropuerto\", \"aeropuerto\", \"aeropuerto\", \"aeropuerto\", \"aeropuerto\", \"aeropuerto\", \"aeropuertos\", \"aeropuertos\", \"agencia\", \"agencia\", \"agencia\", \"agencia\", \"agencia\", \"agencia\", \"agencia\", \"agencia\", \"agencia\", \"agencia\", \"agencia\", \"agencia\", \"agente\", \"agente\", \"agente\", \"agente\", \"agente\", \"agente\", \"agente\", \"agente\", \"agentes\", \"agentes\", \"agentes\", \"agentes\", \"agentes\", \"agentes\", \"agentes\", \"agentes\", \"agentes\", \"agentes\", \"agentes\", \"agentes\", \"agresor\", \"agresor\", \"agresor\", \"agresor\", \"agua\", \"agua\", \"agua\", \"agua\", \"agua\", \"agua\", \"agua\", \"agua\", \"agua\", \"agua\", \"agua\", \"aguas\", \"aguas\", \"aguas\", \"aguas\", \"aguas\", \"aguas\", \"aguas\", \"aguas\", \"agujas\", \"ahorro\", \"ahorro\", \"ahorro\", \"air\", \"aires\", \"aires\", \"aires\", \"aires\", \"aires\", \"aires\", \"aires\", \"aires\", \"aires\", \"aires\", \"aires\", \"aires\", \"airlines\", \"ajuste\", \"ajuste\", \"ajuste\", \"ajuste\", \"alias\", \"alias\", \"alias\", \"alias\", \"alias\", \"alimentos\", \"alimentos\", \"alimentos\", \"alimentos\", \"alimentos\", \"alimentos\", \"alimentos\", \"alimentos\", \"alimentos\", \"alimentos\", \"altercados\", \"alumnos\", \"alumnos\", \"alumnos\", \"alumnos\", \"alumnos\", \"alumnos\", \"alumnos\", \"alumnos\", \"alumnos\", \"amor\", \"amor\", \"amor\", \"amor\", \"amor\", \"amor\", \"amor\", \"amro\", \"amsterdam\", \"anders\", \"angie\", \"anillos\", \"animales\", \"animales\", \"animales\", \"animales\", \"animales\", \"animales\", \"animales\", \"animales\", \"animales\", \"anuncio\", \"anuncio\", \"anuncio\", \"anuncio\", \"anuncio\", \"anuncio\", \"anuncio\", \"anuncio\", \"anuncio\", \"anuncio\", \"anuncio\", \"anuncio\", \"aparato\", \"aparato\", \"aparato\", \"aparato\", \"aparato\", \"aparato\", \"apartheid\", \"apelaciones\", \"apelaciones\", \"apelaciones\", \"apelaciones\", \"apoyo\", \"apoyo\", \"apoyo\", \"apoyo\", \"apoyo\", \"apoyo\", \"apoyo\", \"apoyo\", \"apoyo\", \"apoyo\", \"apoyo\", \"apoyo\", \"aprovisionamiento\", \"aqmi\", \"archidiocesis\", \"argel\", \"arma\", \"arma\", \"arma\", \"arma\", \"arma\", \"arma\", \"arma\", \"arma\", \"arma\", \"arma\", \"arma\", \"arma\", \"armas\", \"armas\", \"armas\", \"armas\", \"armas\", \"armas\", \"armas\", \"armas\", \"armas\", \"armas\", \"armas\", \"armas\", \"arte\", \"arte\", \"arte\", \"arte\", \"arte\", \"arte\", \"arte\", \"arte\", \"arzobispo\", \"arzobispo\", \"asesinato\", \"asesinato\", \"asesinato\", \"asesinato\", \"asesinato\", \"asesinato\", \"asesinato\", \"asesinato\", \"asesinato\", \"asolo\", \"aspirante\", \"assad\", \"assange\", \"assange\", \"assange\", \"asteroide\", \"astronauta\", \"asuntos\", \"asuntos\", \"asuntos\", \"asuntos\", \"asuntos\", \"asuntos\", \"asuntos\", \"asuntos\", \"asuntos\", \"asuntos\", \"asuntos\", \"asuntos\", \"ataque\", \"ataque\", \"ataque\", \"ataque\", \"ataque\", \"ataque\", \"ataque\", \"ataque\", \"ataque\", \"ataque\", \"ataque\", \"ataque\", \"ataques\", \"ataques\", \"ataques\", \"ataques\", \"ataques\", \"ataques\", \"ataques\", \"ataques\", \"ataques\", \"ataques\", \"ataques\", \"ataques\", \"atentado\", \"atentado\", \"atentado\", \"atentado\", \"atentado\", \"atentado\", \"atentado\", \"atentado\", \"atentados\", \"atentados\", \"atentados\", \"atentados\", \"atentados\", \"atentados\", \"atentados\", \"atentados\", \"atentados\", \"atentados\", \"atentados\", \"aterrizaje\", \"atribuciones\", \"audiencia\", \"audiencia\", \"audiencia\", \"audiencia\", \"audiencia\", \"audiencia\", \"audiencia\", \"audiencia\", \"aumento\", \"aumento\", \"aumento\", \"aumento\", \"aumento\", \"aumento\", \"aumento\", \"aumento\", \"aumento\", \"aumento\", \"aumento\", \"aumento\", \"auschwitz\", \"autocar\", \"autodeterminacion\", \"autopsia\", \"autopsia\", \"autopsia\", \"autor\", \"autor\", \"autor\", \"autor\", \"autor\", \"autor\", \"autor\", \"autor\", \"autor\", \"autor\", \"autor\", \"autoridades\", \"autoridades\", \"autoridades\", \"autoridades\", \"autoridades\", \"autoridades\", \"autoridades\", \"autoridades\", \"autoridades\", \"autoridades\", \"autoridades\", \"autoridades\", \"avion\", \"avion\", \"avion\", \"avion\", \"avion\", \"avion\", \"avion\", \"aviones\", \"aviones\", \"aviones\", \"aviones\", \"aviones\", \"aviones\", \"aviones\", \"aviones\", \"aviones\", \"aviones\", \"ayuda\", \"ayuda\", \"ayuda\", \"ayuda\", \"ayuda\", \"ayuda\", \"ayuda\", \"ayuda\", \"ayuda\", \"ayuda\", \"ayuda\", \"ayuda\", \"bacteria\", \"bagdad\", \"bagdad\", \"bahrein\", \"banco\", \"banco\", \"banco\", \"banco\", \"banco\", \"banco\", \"banco\", \"banco\", \"banco\", \"banco\", \"banco\", \"bancos\", \"bancos\", \"bancos\", \"bancos\", \"bancos\", \"bancos\", \"bancos\", \"bancos\", \"barajas\", \"barco\", \"barco\", \"barco\", \"barco\", \"barco\", \"barcos\", \"barcos\", \"barcos\", \"barcos\", \"barcos\", \"barricadas\", \"barricadas\", \"barricadas\", \"barril\", \"barrio\", \"barrio\", \"barrio\", \"barrio\", \"barrio\", \"barrio\", \"barrio\", \"barrio\", \"barrio\", \"barrio\", \"barro\", \"barro\", \"barro\", \"behring\", \"beltran\", \"benedicto\", \"bergoglio\", \"bettencourt\", \"bettencourt\", \"billetes\", \"billetes\", \"billetes\", \"billones\", \"billones\", \"billones\", \"bio\", \"biodiversidad\", \"biodiversidad\", \"boeing\", \"boicot\", \"bomba\", \"bomba\", \"bomba\", \"bomba\", \"bomba\", \"bomba\", \"bomba\", \"bomba\", \"bomba\", \"bomberos\", \"bomberos\", \"bomberos\", \"bomberos\", \"bomberos\", \"bonos\", \"botas\", \"bote\", \"brasil\", \"brasil\", \"brasil\", \"brasil\", \"brasil\", \"brasil\", \"brasil\", \"brasil\", \"brasil\", \"brasil\", \"brasile\", \"brasile\", \"brasile\", \"brasile\", \"brasile\", \"brasile\", \"brasile\", \"brasilia\", \"brote\", \"brote\", \"brote\", \"brown\", \"brown\", \"brown\", \"buque\", \"buque\", \"buque\", \"buque\", \"burbuja\", \"burka\", \"bush\", \"bush\", \"bush\", \"bush\", \"bush\", \"bush\", \"cabeza\", \"cabeza\", \"cabeza\", \"cabeza\", \"cabeza\", \"cabeza\", \"cabeza\", \"cabeza\", \"cabeza\", \"cabeza\", \"cabeza\", \"cabeza\", \"cadaver\", \"cadaveres\", \"cadaveres\", \"cadaveres\", \"cadaveres\", \"cadaveres\", \"cadaveres\", \"cairo\", \"cairo\", \"cairo\", \"cairo\", \"cairo\", \"cairo\", \"cairo\", \"cairo\", \"calentamiento\", \"calentamiento\", \"calentamiento\", \"calles\", \"calles\", \"calles\", \"calles\", \"calles\", \"calles\", \"calles\", \"calles\", \"calles\", \"calles\", \"calles\", \"calles\", \"cambio\", \"cambio\", \"cambio\", \"cambio\", \"cambio\", \"cambio\", \"cambio\", \"cambio\", \"cambio\", \"cambio\", \"cambio\", \"cambio\", \"camisas\", \"camisas\", \"campa\", \"campa\", \"campa\", \"campa\", \"campa\", \"campa\", \"campa\", \"campa\", \"campa\", \"campa\", \"campa\", \"campa\", \"campo\", \"campo\", \"campo\", \"campo\", \"campo\", \"campo\", \"campo\", \"campo\", \"campo\", \"campo\", \"campo\", \"campo\", \"cancelaciones\", \"canciones\", \"candidata\", \"candidato\", \"candidato\", \"candidato\", \"candidato\", \"candidato\", \"candidato\", \"candidato\", \"candidatos\", \"candidatos\", \"candidatos\", \"candidatos\", \"candidatos\", \"candidatos\", \"candidatos\", \"candidatos\", \"candidatos\", \"candidatura\", \"candidatura\", \"candidatura\", \"candidatura\", \"canje\", \"cannabis\", \"capa\", \"capa\", \"capa\", \"capsula\", \"captor\", \"caracas\", \"caracas\", \"caracas\", \"caracas\", \"carbono\", \"carbono\", \"cardenal\", \"cardenales\", \"cargo\", \"cargo\", \"cargo\", \"cargo\", \"cargo\", \"cargo\", \"cargo\", \"cargo\", \"cargo\", \"cargo\", \"cargo\", \"cargo\", \"carguero\", \"carlos\", \"carlos\", \"carlos\", \"carlos\", \"carlos\", \"carlos\", \"carlos\", \"carlos\", \"carlos\", \"carlos\", \"carlos\", \"carlos\", \"carros\", \"casa\", \"casa\", \"casa\", \"casa\", \"casa\", \"casa\", \"casa\", \"casa\", \"casa\", \"casa\", \"casa\", \"casa\", \"casas\", \"casas\", \"casas\", \"casas\", \"casas\", \"casas\", \"casas\", \"casas\", \"casas\", \"casas\", \"casas\", \"caso\", \"caso\", \"caso\", \"caso\", \"caso\", \"caso\", \"caso\", \"caso\", \"caso\", \"caso\", \"caso\", \"caso\", \"casos\", \"casos\", \"casos\", \"casos\", \"casos\", \"casos\", \"casos\", \"casos\", \"casos\", \"casos\", \"casos\", \"casos\", \"castro\", \"castro\", \"castro\", \"castro\", \"catastrofes\", \"catastrofes\", \"catastrofes\", \"catherine\", \"catherine\", \"catherine\", \"catherine\", \"cautiverio\", \"cautividad\", \"celibato\", \"celulas\", \"celulas\", \"celulas\", \"celulas\", \"celulas\", \"celulas\", \"ceniza\", \"centro\", \"centro\", \"centro\", \"centro\", \"centro\", \"centro\", \"centro\", \"centro\", \"centro\", \"centro\", \"centro\", \"centro\", \"cerdo\", \"ceremonia\", \"ceremonia\", \"ceremonia\", \"ceremonia\", \"ceremonia\", \"ceremonia\", \"ceremonia\", \"ceremonia\", \"ceremonia\", \"ceremonia\", \"ceremonia\", \"ceremonia\", \"certamen\", \"cesio\", \"chicas\", \"chicas\", \"chicas\", \"chicas\", \"chile\", \"chile\", \"chile\", \"chile\", \"chile\", \"chile\", \"chile\", \"chile\", \"chile\", \"chile\", \"chile\", \"choques\", \"choques\", \"choques\", \"choques\", \"cientificos\", \"cientificos\", \"cientificos\", \"circunscripciones\", \"circunscripciones\", \"cirujanos\", \"ciudad\", \"ciudad\", \"ciudad\", \"ciudad\", \"ciudad\", \"ciudad\", \"ciudad\", \"ciudad\", \"ciudad\", \"ciudad\", \"ciudad\", \"ciudad\", \"clinton\", \"clinton\", \"cns\", \"coalicion\", \"coalicion\", \"coalicion\", \"coalicion\", \"coalicion\", \"coalicion\", \"coalicion\", \"cobijo\", \"coca\", \"coelho\", \"cohetes\", \"cohetes\", \"cohetes\", \"colgo\", \"colinas\", \"colonos\", \"colonos\", \"comandos\", \"comic\", \"comicios\", \"comicios\", \"comicios\", \"comicios\", \"comicios\", \"compromiso\", \"compromiso\", \"compromiso\", \"compromiso\", \"compromiso\", \"compromiso\", \"compromiso\", \"compromiso\", \"compromiso\", \"compromiso\", \"compromiso\", \"compromiso\", \"concesiones\", \"concordia\", \"condado\", \"condado\", \"condado\", \"condado\", \"condado\", \"condado\", \"condado\", \"condado\", \"condones\", \"conducto\", \"conflicto\", \"conflicto\", \"conflicto\", \"conflicto\", \"conflicto\", \"conflicto\", \"conflicto\", \"conflicto\", \"conflicto\", \"conflicto\", \"conflicto\", \"conflicto\", \"congregacion\", \"congreso\", \"congreso\", \"congreso\", \"congreso\", \"congreso\", \"congreso\", \"congreso\", \"congreso\", \"congreso\", \"congreso\", \"congreso\", \"consejo\", \"consejo\", \"consejo\", \"consejo\", \"consejo\", \"consejo\", \"consejo\", \"consejo\", \"consejo\", \"consejo\", \"consejo\", \"consejo\", \"consorcio\", \"consorcio\", \"construcciones\", \"construcciones\", \"consultas\", \"consultas\", \"consultas\", \"consultas\", \"consultas\", \"consultas\", \"consultas\", \"contaminacion\", \"contaminacion\", \"contaminacion\", \"contaminacion\", \"contratacion\", \"control\", \"control\", \"control\", \"control\", \"control\", \"control\", \"control\", \"control\", \"control\", \"control\", \"control\", \"control\", \"controladores\", \"conversaciones\", \"conversaciones\", \"conversaciones\", \"conversaciones\", \"conversaciones\", \"conversaciones\", \"conversaciones\", \"conversaciones\", \"conversaciones\", \"conversaciones\", \"conversaciones\", \"cooperantes\", \"cooperantes\", \"corea\", \"corea\", \"corea\", \"corea\", \"corea\", \"coreas\", \"correa\", \"correa\", \"correa\", \"correa\", \"corte\", \"corte\", \"corte\", \"corte\", \"corte\", \"corte\", \"corte\", \"corte\", \"corte\", \"corte\", \"corte\", \"corte\", \"corteza\", \"costa\", \"costa\", \"costa\", \"costa\", \"costa\", \"costa\", \"costa\", \"costa\", \"costa\", \"costa\", \"costa\", \"costa\", \"costas\", \"costas\", \"costas\", \"costas\", \"crecimiento\", \"crecimiento\", \"crecimiento\", \"crecimiento\", \"crecimiento\", \"crecimiento\", \"crecimiento\", \"crecimiento\", \"crimenes\", \"crimenes\", \"crimenes\", \"crimenes\", \"crimenes\", \"crimenes\", \"crimenes\", \"crimenes\", \"crisis\", \"crisis\", \"crisis\", \"crisis\", \"crisis\", \"crisis\", \"crisis\", \"crisis\", \"crisis\", \"crisis\", \"crisis\", \"crisis\", \"cristina\", \"cristina\", \"cristina\", \"crowley\", \"cuba\", \"cuba\", \"cuba\", \"cuba\", \"cuba\", \"cuba\", \"cuba\", \"cuba\", \"cuba\", \"cubillas\", \"cuerpo\", \"cuerpo\", \"cuerpo\", \"cuerpo\", \"cuerpo\", \"cuerpo\", \"cuerpo\", \"cuerpo\", \"cuerpo\", \"cuerpo\", \"cuerpo\", \"cuerpo\", \"cuerpos\", \"cuerpos\", \"cuerpos\", \"cuerpos\", \"cuerpos\", \"cuerpos\", \"cuerpos\", \"cuerpos\", \"cuerpos\", \"cuerpos\", \"cumbre\", \"cumbre\", \"cumbre\", \"cumbre\", \"cumbre\", \"cumbre\", \"cumbre\", \"cumbre\", \"cumbre\", \"curas\", \"daichi\", \"datos\", \"datos\", \"datos\", \"datos\", \"datos\", \"datos\", \"datos\", \"datos\", \"datos\", \"datos\", \"datos\", \"datos\", \"debate\", \"debate\", \"debate\", \"debate\", \"debate\", \"debate\", \"debate\", \"debate\", \"debate\", \"debate\", \"debate\", \"debate\", \"decepcion\", \"decision\", \"decision\", \"decision\", \"decision\", \"decision\", \"decision\", \"decision\", \"decision\", \"decision\", \"decision\", \"decision\", \"decision\", \"defensa\", \"defensa\", \"defensa\", \"defensa\", \"defensa\", \"defensa\", \"defensa\", \"defensa\", \"defensa\", \"defensa\", \"defensa\", \"defensa\", \"delitos\", \"delitos\", \"delitos\", \"delitos\", \"delitos\", \"delitos\", \"delitos\", \"delitos\", \"delitos\", \"delitos\", \"democrata\", \"democratas\", \"derechos\", \"derechos\", \"derechos\", \"derechos\", \"derechos\", \"derechos\", \"derechos\", \"derechos\", \"derechos\", \"derechos\", \"derechos\", \"derechos\", \"derogacion\", \"derrame\", \"desarrollo\", \"desarrollo\", \"desarrollo\", \"desarrollo\", \"desarrollo\", \"desarrollo\", \"desarrollo\", \"desarrollo\", \"desarrollo\", \"desarrollo\", \"desarrollo\", \"desarrollo\", \"desempleo\", \"desempleo\", \"desempleo\", \"desempleo\", \"desequilibrios\", \"desordenes\", \"despegue\", \"despidos\", \"desprendio\", \"despues\", \"despues\", \"despues\", \"despues\", \"despues\", \"despues\", \"despues\", \"despues\", \"despues\", \"despues\", \"despues\", \"despues\", \"destino\", \"destino\", \"destino\", \"destino\", \"destino\", \"destino\", \"destino\", \"destino\", \"destino\", \"destino\", \"destino\", \"destino\", \"detencion\", \"detencion\", \"detencion\", \"detencion\", \"detencion\", \"detencion\", \"detencion\", \"detencion\", \"detencion\", \"detencion\", \"detencion\", \"detono\", \"deuda\", \"deuda\", \"deuda\", \"deuda\", \"deudas\", \"deudas\", \"devastador\", \"dialogo\", \"dialogo\", \"dialogo\", \"dialogo\", \"dialogo\", \"dialogo\", \"dialogo\", \"dialogo\", \"dialogo\", \"diario\", \"diario\", \"diario\", \"diario\", \"diario\", \"diario\", \"diario\", \"diario\", \"diario\", \"diario\", \"diario\", \"diario\", \"dias\", \"dias\", \"dias\", \"dias\", \"dias\", \"dias\", \"dias\", \"dias\", \"dias\", \"dias\", \"dias\", \"dias\", \"dibujo\", \"dibujos\", \"dictadura\", \"dictadura\", \"dictadura\", \"dictadura\", \"dictadura\", \"dictadura\", \"dictadura\", \"dictadura\", \"dientes\", \"dientes\", \"dinero\", \"dinero\", \"dinero\", \"dinero\", \"dinero\", \"dinero\", \"dinero\", \"dinero\", \"dinero\", \"dinero\", \"dinero\", \"dinero\", \"diocesis\", \"dios\", \"dios\", \"dios\", \"dios\", \"dios\", \"dios\", \"dios\", \"dios\", \"dios\", \"dios\", \"dios\", \"diplomacia\", \"diplomacia\", \"diplomacia\", \"diplomacia\", \"diplomacia\", \"diplomacia\", \"diplomacia\", \"diplomacia\", \"diputados\", \"diputados\", \"diputados\", \"diputados\", \"diputados\", \"diputados\", \"diputados\", \"diputados\", \"discovery\", \"discurso\", \"discurso\", \"discurso\", \"discurso\", \"discurso\", \"discurso\", \"discurso\", \"discurso\", \"discurso\", \"discurso\", \"discurso\", \"disminucion\", \"disparo\", \"disparo\", \"disparo\", \"disparo\", \"disparo\", \"disparo\", \"disparo\", \"disturbios\", \"disturbios\", \"disturbios\", \"disturbios\", \"disturbios\", \"disturbios\", \"dmitri\", \"documentos\", \"documentos\", \"documentos\", \"documentos\", \"documentos\", \"documentos\", \"documentos\", \"documentos\", \"documentos\", \"documentos\", \"documentos\", \"documentos\", \"dolares\", \"dolares\", \"dolares\", \"dolares\", \"dolares\", \"dolares\", \"dolares\", \"dolares\", \"dolares\", \"dolares\", \"dolares\", \"dolares\", \"domicilio\", \"domicilio\", \"domicilio\", \"domicilio\", \"domicilio\", \"domicilio\", \"domicilio\", \"domicilio\", \"domingo\", \"domingo\", \"domingo\", \"domingo\", \"domingo\", \"domingo\", \"domingo\", \"domingo\", \"domingo\", \"domingo\", \"domingo\", \"domingo\", \"economia\", \"economia\", \"economia\", \"economia\", \"economia\", \"economia\", \"economia\", \"economia\", \"ecosistemas\", \"edad\", \"edad\", \"edad\", \"edad\", \"edad\", \"edad\", \"edad\", \"edad\", \"edad\", \"edad\", \"edad\", \"edad\", \"edificios\", \"edificios\", \"edificios\", \"edificios\", \"edificios\", \"edificios\", \"edificios\", \"edificios\", \"edificios\", \"edificios\", \"eei\", \"ejecucion\", \"ejecucion\", \"ejecucion\", \"ejecucion\", \"ejecucion\", \"ejecucion\", \"ejecuciones\", \"ejecuciones\", \"ejecuciones\", \"elbaradei\", \"elbaradei\", \"elbaradei\", \"elbaradei\", \"elecciones\", \"elecciones\", \"elecciones\", \"elecciones\", \"elecciones\", \"elecciones\", \"elecciones\", \"elecciones\", \"electores\", \"electric\", \"elias\", \"eloy\", \"eloy\", \"embajador\", \"embajador\", \"embajador\", \"embajador\", \"embajador\", \"embajador\", \"embajador\", \"embajador\", \"embajador\", \"embajador\", \"embajador\", \"embajadores\", \"embajadores\", \"embajadores\", \"embajadores\", \"embarazo\", \"embarazo\", \"embarcaciones\", \"embarcaciones\", \"emergencia\", \"emergencia\", \"emergencia\", \"emergencia\", \"emergencia\", \"emergencia\", \"emergencia\", \"emergencia\", \"emergencia\", \"emergencia\", \"emergencia\", \"emergencia\", \"emisiones\", \"emisiones\", \"emisiones\", \"emisiones\", \"empleo\", \"empleo\", \"empleo\", \"empleo\", \"empleo\", \"empleo\", \"empleo\", \"empleo\", \"empleo\", \"empleo\", \"empleo\", \"empleo\", \"empresa\", \"empresa\", \"empresa\", \"empresa\", \"empresa\", \"empresa\", \"empresa\", \"empresa\", \"empresa\", \"empresa\", \"empresa\", \"empresa\", \"empresas\", \"empresas\", \"empresas\", \"empresas\", \"empresas\", \"empresas\", \"empresas\", \"empresas\", \"empresas\", \"empresas\", \"empresas\", \"empresas\", \"encuentro\", \"encuentro\", \"encuentro\", \"encuentro\", \"encuentro\", \"encuentro\", \"encuentro\", \"encuentro\", \"encuentro\", \"encuentro\", \"encuentro\", \"encuentro\", \"encuestas\", \"encuestas\", \"encuestas\", \"encuestas\", \"encuestas\", \"endeavour\", \"energia\", \"energia\", \"energia\", \"energia\", \"energia\", \"energia\", \"energia\", \"energia\", \"energia\", \"energia\", \"energia\", \"enfermedad\", \"enfermedad\", \"enfermedad\", \"enfermedad\", \"enfermedad\", \"enfermedad\", \"enfermedad\", \"enfermedad\", \"enfermedad\", \"enfermedad\", \"enfrentamientos\", \"enfrentamientos\", \"enfrentamientos\", \"enfrentamientos\", \"enfrentamientos\", \"enfrentamientos\", \"enfrentamientos\", \"enfrentamientos\", \"enfrentamientos\", \"ensayo\", \"ensayos\", \"epicentro\", \"epicentro\", \"epicentro\", \"epicentro\", \"epicentro\", \"equipaje\", \"equipo\", \"equipo\", \"equipo\", \"equipo\", \"equipo\", \"equipo\", \"equipo\", \"equipo\", \"equipo\", \"equipo\", \"equipo\", \"equipo\", \"equipos\", \"equipos\", \"equipos\", \"equipos\", \"equipos\", \"equipos\", \"equipos\", \"equipos\", \"equipos\", \"equipos\", \"equipos\", \"esca\", \"escala\", \"escala\", \"escala\", \"escala\", \"escala\", \"escala\", \"escala\", \"escala\", \"escala\", \"escala\", \"escala\", \"escaneres\", \"escombros\", \"escombros\", \"escombros\", \"escombros\", \"escrutinio\", \"escrutinio\", \"escudo\", \"escudo\", \"escuela\", \"escuela\", \"escuela\", \"escuela\", \"escuela\", \"escuela\", \"escuela\", \"escuela\", \"escuela\", \"escuela\", \"escuela\", \"espacio\", \"espacio\", \"espacio\", \"espacio\", \"espacio\", \"espacio\", \"espacio\", \"espacio\", \"espacio\", \"espacio\", \"espacio\", \"espacio\", \"especie\", \"especie\", \"especie\", \"especie\", \"especie\", \"especie\", \"especie\", \"especie\", \"especie\", \"especie\", \"especies\", \"especies\", \"especies\", \"especies\", \"estatura\", \"estatura\", \"estimulo\", \"estrella\", \"estrella\", \"estrella\", \"estrella\", \"estrella\", \"estrella\", \"estrella\", \"estrella\", \"estrella\", \"estrella\", \"estrella\", \"estrellas\", \"estrellas\", \"estrellas\", \"estrellas\", \"estrellas\", \"estrellas\", \"estrellas\", \"estrellas\", \"estrellas\", \"estrellas\", \"estudiante\", \"estudiante\", \"estudiante\", \"estudiante\", \"estudiante\", \"estudiante\", \"estudiante\", \"estudiante\", \"estudiante\", \"estudiante\", \"estudiantes\", \"estudiantes\", \"estudiantes\", \"estudiantes\", \"estudiantes\", \"estudiantes\", \"estudiantes\", \"estudiantes\", \"estudiantes\", \"estudiantes\", \"estudiantes\", \"estudiantes\", \"estudio\", \"estudio\", \"estudio\", \"estudio\", \"estudio\", \"estudio\", \"estudio\", \"estudio\", \"estudio\", \"estudio\", \"estudio\", \"estudio\", \"etarra\", \"etarras\", \"euro\", \"euro\", \"euro\", \"euro\", \"euros\", \"euros\", \"euros\", \"euros\", \"euros\", \"euros\", \"euros\", \"euros\", \"euros\", \"euros\", \"euros\", \"euros\", \"eutanasia\", \"excarcelaciones\", \"expertos\", \"expertos\", \"expertos\", \"expertos\", \"expertos\", \"expertos\", \"expertos\", \"expertos\", \"expertos\", \"expertos\", \"expertos\", \"expertos\", \"explosiones\", \"explosiones\", \"explosiones\", \"explosiones\", \"explosiones\", \"explosiones\", \"explosiones\", \"explosivos\", \"explosivos\", \"explosivos\", \"explosivos\", \"explosivos\", \"expresidente\", \"expresidente\", \"expresidente\", \"expresidente\", \"expresidente\", \"expresidente\", \"expresidente\", \"expresidente\", \"expresidente\", \"expulsiones\", \"extradicion\", \"extradicion\", \"extradicion\", \"extradicion\", \"familia\", \"familia\", \"familia\", \"familia\", \"familia\", \"familia\", \"familia\", \"familia\", \"familia\", \"familia\", \"familia\", \"familia\", \"farc\", \"farc\", \"farc\", \"febrero\", \"febrero\", \"febrero\", \"febrero\", \"febrero\", \"febrero\", \"febrero\", \"febrero\", \"febrero\", \"febrero\", \"febrero\", \"febrero\", \"fecundacion\", \"fein\", \"fin\", \"fin\", \"fin\", \"fin\", \"fin\", \"fin\", \"fin\", \"fin\", \"fin\", \"fin\", \"fin\", \"fin\", \"flotilla\", \"flotilla\", \"fondo\", \"fondo\", \"fondo\", \"fondo\", \"fondo\", \"fondo\", \"fondo\", \"fondo\", \"fondo\", \"fondo\", \"fondo\", \"fondo\", \"fondos\", \"fondos\", \"fondos\", \"fondos\", \"fondos\", \"fondos\", \"fondos\", \"fondos\", \"fondos\", \"fondos\", \"formacion\", \"formacion\", \"formacion\", \"formacion\", \"formacion\", \"formacion\", \"formacion\", \"formacion\", \"formacion\", \"formacion\", \"formacion\", \"formacion\", \"formaciones\", \"formaciones\", \"formaciones\", \"formaciones\", \"formaciones\", \"formaciones\", \"formaciones\", \"franja\", \"franja\", \"franja\", \"franja\", \"franja\", \"franja\", \"franja\", \"franja\", \"franquismo\", \"fuego\", \"fuego\", \"fuego\", \"fuego\", \"fuego\", \"fuego\", \"fuego\", \"fuego\", \"fuego\", \"fuego\", \"fuego\", \"fuego\", \"fuentes\", \"fuentes\", \"fuentes\", \"fuentes\", \"fuentes\", \"fuentes\", \"fuentes\", \"fuentes\", \"fuentes\", \"fuentes\", \"fuentes\", \"fuentes\", \"fuerzas\", \"fuerzas\", \"fuerzas\", \"fuerzas\", \"fuerzas\", \"fuerzas\", \"fuerzas\", \"fuerzas\", \"fuerzas\", \"fuerzas\", \"fuerzas\", \"fuerzas\", \"fujimori\", \"fujimori\", \"fumadores\", \"gasto\", \"gasto\", \"gasto\", \"gasto\", \"gasto\", \"gastos\", \"gastos\", \"gastos\", \"gastos\", \"gastos\", \"gastos\", \"gastos\", \"gastos\", \"gastos\", \"gastos\", \"gastos\", \"gaza\", \"gaza\", \"gaza\", \"gaza\", \"gaza\", \"gazprom\", \"genes\", \"genes\", \"genes\", \"genocidio\", \"genocidio\", \"genocidio\", \"genocidio\", \"gente\", \"gente\", \"gente\", \"gente\", \"gente\", \"gente\", \"gente\", \"gente\", \"gente\", \"gente\", \"gente\", \"gente\", \"giffords\", \"gimnasio\", \"gobierno\", \"gobierno\", \"gobierno\", \"gobierno\", \"gobierno\", \"gobierno\", \"gobierno\", \"gobierno\", \"gobierno\", \"gobierno\", \"gobierno\", \"gobierno\", \"gogh\", \"golpe\", \"golpe\", \"golpe\", \"golpe\", \"golpe\", \"golpe\", \"golpe\", \"golpe\", \"golpe\", \"golpe\", \"golpe\", \"golpe\", \"gosling\", \"grados\", \"grados\", \"grados\", \"grados\", \"grados\", \"greenpeace\", \"greenpeace\", \"greenpeace\", \"greenpeace\", \"gripe\", \"grupo\", \"grupo\", \"grupo\", \"grupo\", \"grupo\", \"grupo\", \"grupo\", \"grupo\", \"grupo\", \"grupo\", \"grupo\", \"grupo\", \"grupos\", \"grupos\", \"grupos\", \"grupos\", \"grupos\", \"grupos\", \"grupos\", \"grupos\", \"grupos\", \"grupos\", \"grupos\", \"grupos\", \"guantanamo\", \"guerra\", \"guerra\", \"guerra\", \"guerra\", \"guerra\", \"guerra\", \"guerra\", \"guerra\", \"guerra\", \"guerra\", \"guerra\", \"guerra\", \"guerrero\", \"guerrilla\", \"guerrilla\", \"guerrilla\", \"guerrilla\", \"guerrilla\", \"guerrilla\", \"guido\", \"guillermo\", \"guillermo\", \"guillermo\", \"guillermo\", \"guillermo\", \"guillermo\", \"habitantes\", \"habitantes\", \"habitantes\", \"habitantes\", \"habitantes\", \"habitantes\", \"habitantes\", \"habitantes\", \"habitantes\", \"habitantes\", \"habitantes\", \"habitantes\", \"haitianos\", \"hamas\", \"hamas\", \"hamas\", \"hebdo\", \"hebdo\", \"hechos\", \"hechos\", \"hechos\", \"hechos\", \"hechos\", \"hechos\", \"hechos\", \"hechos\", \"hechos\", \"hechos\", \"hechos\", \"hechos\", \"helmand\", \"heridos\", \"heridos\", \"heridos\", \"heridos\", \"heridos\", \"heridos\", \"heridos\", \"heridos\", \"hermano\", \"hermano\", \"hermano\", \"hermano\", \"hermano\", \"hermano\", \"hermano\", \"hermano\", \"hermano\", \"hermano\", \"hermano\", \"hermanos\", \"hermanos\", \"hermanos\", \"hermanos\", \"hermanos\", \"hermanos\", \"hermanos\", \"hermanos\", \"hermanos\", \"hermanos\", \"hielo\", \"hielo\", \"hielo\", \"hielo\", \"hija\", \"hija\", \"hija\", \"hija\", \"hija\", \"hija\", \"hija\", \"hija\", \"hija\", \"hija\", \"hija\", \"hijo\", \"hijo\", \"hijo\", \"hijo\", \"hijo\", \"hijo\", \"hijo\", \"hijo\", \"hijo\", \"hijo\", \"hijo\", \"hijo\", \"hijos\", \"hijos\", \"hijos\", \"hijos\", \"hijos\", \"hijos\", \"hijos\", \"hijos\", \"hijos\", \"hijos\", \"hijos\", \"hillary\", \"historia\", \"historia\", \"historia\", \"historia\", \"historia\", \"historia\", \"historia\", \"historia\", \"historia\", \"historia\", \"historia\", \"historia\", \"hombre\", \"hombre\", \"hombre\", \"hombre\", \"hombre\", \"hombre\", \"hombre\", \"hombre\", \"hombre\", \"hombre\", \"hombre\", \"hombre\", \"hombres\", \"hombres\", \"hombres\", \"hombres\", \"hombres\", \"hombres\", \"hombres\", \"hombres\", \"hombres\", \"hombres\", \"hombres\", \"hombres\", \"homosexuales\", \"homosexualidad\", \"homosexualidad\", \"homosexualidad\", \"hora\", \"hora\", \"hora\", \"hora\", \"hora\", \"hora\", \"hora\", \"hora\", \"hora\", \"hora\", \"hora\", \"hora\", \"horas\", \"horas\", \"horas\", \"horas\", \"horas\", \"horas\", \"horas\", \"horas\", \"horas\", \"horas\", \"horas\", \"horas\", \"horizon\", \"hosni\", \"hospital\", \"hospital\", \"hospital\", \"hospital\", \"hospital\", \"hospital\", \"hospital\", \"hospital\", \"hospital\", \"hua\", \"huelga\", \"huelga\", \"huelga\", \"huelga\", \"huelga\", \"huelga\", \"huelga\", \"huesos\", \"huesos\", \"huesos\", \"human\", \"human\", \"human\", \"human\", \"human\", \"human\", \"humanos\", \"humanos\", \"humanos\", \"humanos\", \"humanos\", \"humanos\", \"humanos\", \"humanos\", \"humanos\", \"humanos\", \"humanos\", \"hundimiento\", \"hundimiento\", \"hundimiento\", \"hundio\", \"iberia\", \"iglesia\", \"iglesia\", \"iglesia\", \"iglesia\", \"iglesia\", \"iglesia\", \"iglesia\", \"iglesia\", \"iglesia\", \"imagen\", \"imagen\", \"imagen\", \"imagen\", \"imagen\", \"imagen\", \"imagen\", \"imagen\", \"imagen\", \"imagen\", \"imagen\", \"imagen\", \"implantes\", \"impuestos\", \"impuestos\", \"impuestos\", \"impuestos\", \"impuestos\", \"impuestos\", \"impuestos\", \"incendio\", \"incendio\", \"incendio\", \"incendio\", \"incendio\", \"incendio\", \"incendio\", \"incendio\", \"incendio\", \"independencia\", \"independencia\", \"independencia\", \"independencia\", \"independencia\", \"independencia\", \"independencia\", \"independencia\", \"independencia\", \"independencia\", \"independencia\", \"infantes\", \"informe\", \"informe\", \"informe\", \"informe\", \"informe\", \"informe\", \"informe\", \"informe\", \"informe\", \"informe\", \"informe\", \"informe\", \"ingresos\", \"ingresos\", \"ingresos\", \"ingresos\", \"ingresos\", \"ingresos\", \"ingresos\", \"ingresos\", \"ingresos\", \"inmigrantes\", \"inmigrantes\", \"inmigrantes\", \"inmigrantes\", \"inmigrantes\", \"inmigrantes\", \"inmigrantes\", \"inmigrantes\", \"innes\", \"innovacion\", \"insurgencia\", \"insurgentes\", \"intensidad\", \"intensidad\", \"intensidad\", \"intensidad\", \"intensidad\", \"intensidad\", \"intensidad\", \"intensidad\", \"intensidad\", \"intensidad\", \"inundaciones\", \"inundaciones\", \"inundaciones\", \"inundaciones\", \"invernadero\", \"inversiones\", \"inversiones\", \"inversiones\", \"inversiones\", \"inversiones\", \"inversiones\", \"inversiones\", \"investigacion\", \"investigacion\", \"investigacion\", \"investigacion\", \"investigacion\", \"investigacion\", \"investigacion\", \"investigacion\", \"investigacion\", \"investigacion\", \"investigacion\", \"investigacion\", \"investigadores\", \"investigadores\", \"investigadores\", \"investigadores\", \"investigadores\", \"investigadores\", \"investigadores\", \"investigadores\", \"investigadores\", \"investigadores\", \"investigadores\", \"investigadores\", \"isaf\", \"isla\", \"isla\", \"isla\", \"isla\", \"isla\", \"isla\", \"isla\", \"isla\", \"isla\", \"isla\", \"isla\", \"isla\", \"islamismo\", \"islandes\", \"jaque\", \"jefe\", \"jefe\", \"jefe\", \"jefe\", \"jefe\", \"jefe\", \"jefe\", \"jefe\", \"jefe\", \"jefe\", \"jefe\", \"jefe\", \"jefes\", \"jefes\", \"jefes\", \"jefes\", \"jefes\", \"jefes\", \"jefes\", \"jefes\", \"jefes\", \"jefes\", \"juan\", \"juan\", \"juan\", \"juan\", \"juan\", \"juan\", \"juan\", \"juan\", \"juan\", \"juan\", \"juan\", \"juan\", \"jueces\", \"jueces\", \"jueces\", \"jueces\", \"jueces\", \"jueces\", \"jueces\", \"jueves\", \"jueves\", \"jueves\", \"jueves\", \"jueves\", \"jueves\", \"jueves\", \"jueves\", \"jueves\", \"jueves\", \"jueves\", \"jueves\", \"juez\", \"juez\", \"juez\", \"juez\", \"juez\", \"juez\", \"juez\", \"juez\", \"juez\", \"juicio\", \"juicio\", \"juicio\", \"juicio\", \"juicio\", \"juicio\", \"juicio\", \"juicio\", \"juicio\", \"juicio\", \"juicio\", \"juicio\", \"justicia\", \"justicia\", \"justicia\", \"justicia\", \"justicia\", \"justicia\", \"justicia\", \"justicia\", \"justicia\", \"justicia\", \"justicia\", \"justicia\", \"kaczynski\", \"kahn\", \"karadzic\", \"kcna\", \"kilometros\", \"kilometros\", \"kilometros\", \"kilometros\", \"kilometros\", \"kilometros\", \"kilometros\", \"kilometros\", \"kilometros\", \"kilometros\", \"kilometros\", \"kilometros\", \"kim\", \"kim\", \"kim\", \"kim\", \"kim\", \"komorowski\", \"kosovo\", \"kurdos\", \"kyi\", \"kyi\", \"kyi\", \"lama\", \"lama\", \"lampedusa\", \"lanchas\", \"lanzamiento\", \"lanzamiento\", \"lanzamiento\", \"lanzamiento\", \"lanzamiento\", \"lanzamiento\", \"lanzamiento\", \"lanzamiento\", \"legitimas\", \"legitimas\", \"ley\", \"ley\", \"ley\", \"ley\", \"ley\", \"ley\", \"ley\", \"ley\", \"ley\", \"ley\", \"ley\", \"ley\", \"libertad\", \"libertad\", \"libertad\", \"libertad\", \"libertad\", \"libertad\", \"libertad\", \"libertad\", \"libertad\", \"libertad\", \"libertad\", \"libertad\", \"libios\", \"libios\", \"libios\", \"libios\", \"libro\", \"libro\", \"libro\", \"libro\", \"libro\", \"libro\", \"libro\", \"libro\", \"libro\", \"libro\", \"libro\", \"lider\", \"lider\", \"lider\", \"lider\", \"lider\", \"lider\", \"lider\", \"lider\", \"lider\", \"lider\", \"lider\", \"lider\", \"liquidez\", \"llamazares\", \"lobo\", \"lodo\", \"lugar\", \"lugar\", \"lugar\", \"lugar\", \"lugar\", \"lugar\", \"lugar\", \"lugar\", \"lugar\", \"lugar\", \"lugar\", \"lugar\", \"luiz\", \"lula\", \"luna\", \"luna\", \"luna\", \"luna\", \"luna\", \"luna\", \"luna\", \"luna\", \"luna\", \"luna\", \"luna\", \"lunes\", \"lunes\", \"lunes\", \"lunes\", \"lunes\", \"lunes\", \"lunes\", \"lunes\", \"lunes\", \"lunes\", \"lunes\", \"lunes\", \"madre\", \"madre\", \"madre\", \"madre\", \"madre\", \"madre\", \"madre\", \"madre\", \"madre\", \"madre\", \"madre\", \"madre\", \"magistratura\", \"magnate\", \"magnate\", \"magnate\", \"magnitud\", \"magnitud\", \"magnitud\", \"magnitud\", \"magnitud\", \"magnitud\", \"magnitud\", \"magreb\", \"magreb\", \"magrebi\", \"mahmud\", \"mahmud\", \"mahmud\", \"mahmud\", \"maliki\", \"malvinas\", \"mancha\", \"mancha\", \"mancha\", \"mancha\", \"mancha\", \"mandatario\", \"mandatario\", \"mandatario\", \"mandatario\", \"mandatario\", \"mandatario\", \"mandatario\", \"mandatario\", \"mandatario\", \"mandatario\", \"mandatario\", \"mandatario\", \"mandato\", \"mandato\", \"mandato\", \"mandato\", \"mandato\", \"mandato\", \"mandato\", \"mandato\", \"mandato\", \"mandato\", \"manifestacion\", \"manifestacion\", \"manifestacion\", \"manifestacion\", \"manifestacion\", \"manifestacion\", \"manifestacion\", \"manifestacion\", \"manifestacion\", \"manifestacion\", \"manifestantes\", \"manifestantes\", \"manifestantes\", \"manifestantes\", \"manifestantes\", \"manifestantes\", \"manifestantes\", \"manifestantes\", \"mapas\", \"mar\", \"mar\", \"mar\", \"mar\", \"mar\", \"mar\", \"mar\", \"mar\", \"mar\", \"mar\", \"mar\", \"maraton\", \"marea\", \"marea\", \"marea\", \"marfil\", \"marfil\", \"marfil\", \"marihuana\", \"marihuana\", \"marihuana\", \"marte\", \"marte\", \"marte\", \"martes\", \"martes\", \"martes\", \"martes\", \"martes\", \"martes\", \"martes\", \"martes\", \"martes\", \"martes\", \"martes\", \"martes\", \"marti\", \"masajes\", \"matrimonio\", \"matrimonio\", \"matrimonio\", \"matrimonio\", \"matrimonio\", \"matrimonio\", \"matrimonio\", \"matrimonio\", \"matrimonio\", \"matrimonios\", \"matrimonios\", \"mccann\", \"mediaset\", \"medicion\", \"mediciones\", \"mediciones\", \"medidas\", \"medidas\", \"medidas\", \"medidas\", \"medidas\", \"medidas\", \"medidas\", \"medidas\", \"medidas\", \"medidas\", \"medidas\", \"medidas\", \"medios\", \"medios\", \"medios\", \"medios\", \"medios\", \"medios\", \"medios\", \"medios\", \"medios\", \"medios\", \"medios\", \"medios\", \"mena\", \"mena\", \"mercado\", \"mercado\", \"mercado\", \"mercado\", \"mercado\", \"mercado\", \"mercado\", \"mercado\", \"mercado\", \"mercado\", \"mercado\", \"mercado\", \"mercados\", \"mercados\", \"mercados\", \"mercados\", \"mercados\", \"mercados\", \"mercados\", \"mercados\", \"mercados\", \"meses\", \"meses\", \"meses\", \"meses\", \"meses\", \"meses\", \"meses\", \"meses\", \"meses\", \"meses\", \"meses\", \"meses\", \"meteoritos\", \"metros\", \"metros\", \"metros\", \"metros\", \"metros\", \"metros\", \"metros\", \"metros\", \"metros\", \"metros\", \"mezquita\", \"mezquita\", \"mezquita\", \"mezquita\", \"mezquita\", \"mezquita\", \"miembros\", \"miembros\", \"miembros\", \"miembros\", \"miembros\", \"miembros\", \"miembros\", \"miembros\", \"miembros\", \"miembros\", \"miembros\", \"miembros\", \"milagros\", \"miliband\", \"milicianos\", \"milicianos\", \"milicianos\", \"millas\", \"millas\", \"millas\", \"millas\", \"millas\", \"millas\", \"millones\", \"millones\", \"millones\", \"millones\", \"millones\", \"millones\", \"millones\", \"millones\", \"millones\", \"millones\", \"millones\", \"millones\", \"mina\", \"mina\", \"mina\", \"mina\", \"mina\", \"mina\", \"mineros\", \"mineros\", \"ministro\", \"ministro\", \"ministro\", \"ministro\", \"ministro\", \"ministro\", \"ministro\", \"ministro\", \"ministro\", \"ministro\", \"ministro\", \"ministro\", \"ministros\", \"ministros\", \"ministros\", \"ministros\", \"ministros\", \"ministros\", \"ministros\", \"ministros\", \"ministros\", \"ministros\", \"misa\", \"misa\", \"misa\", \"misa\", \"mitt\", \"mladic\", \"moda\", \"moda\", \"moda\", \"moda\", \"moda\", \"moda\", \"mohammadi\", \"molotov\", \"molotov\", \"momento\", \"momento\", \"momento\", \"momento\", \"momento\", \"momento\", \"momento\", \"momento\", \"momento\", \"momento\", \"momento\", \"momento\", \"monterrey\", \"moon\", \"moon\", \"moon\", \"mora\", \"moratinos\", \"morsi\", \"morsi\", \"mortalidad\", \"mortalidad\", \"mortalidad\", \"mortalidad\", \"mortalidad\", \"mortalidad\", \"mortero\", \"mortero\", \"movimiento\", \"movimiento\", \"movimiento\", \"movimiento\", \"movimiento\", \"movimiento\", \"movimiento\", \"movimiento\", \"movimiento\", \"movimiento\", \"movimiento\", \"movimiento\", \"muamar\", \"mubarak\", \"mubarak\", \"muerte\", \"muerte\", \"muerte\", \"muerte\", \"muerte\", \"muerte\", \"muerte\", \"muerte\", \"muerte\", \"muerte\", \"muerte\", \"muerte\", \"muertos\", \"muertos\", \"muertos\", \"muertos\", \"muertos\", \"muertos\", \"muertos\", \"muertos\", \"muertos\", \"muertos\", \"muertos\", \"muertos\", \"mujer\", \"mujer\", \"mujer\", \"mujer\", \"mujer\", \"mujer\", \"mujer\", \"mujer\", \"mujer\", \"mujer\", \"mujer\", \"mujer\", \"mujeres\", \"mujeres\", \"mujeres\", \"mujeres\", \"mujeres\", \"mujeres\", \"mujeres\", \"mujeres\", \"mujeres\", \"mujeres\", \"mujeres\", \"mujeres\", \"mula\", \"mundo\", \"mundo\", \"mundo\", \"mundo\", \"mundo\", \"mundo\", \"mundo\", \"mundo\", \"mundo\", \"mundo\", \"mundo\", \"mundo\", \"murdoch\", \"murdoch\", \"mursi\", \"museo\", \"museo\", \"museo\", \"museo\", \"museo\", \"museo\", \"museo\", \"museo\", \"museo\", \"naciones\", \"naciones\", \"naciones\", \"naciones\", \"naciones\", \"naciones\", \"naciones\", \"naciones\", \"naciones\", \"naciones\", \"naciones\", \"naciones\", \"nahda\", \"narcotraficantes\", \"narcotraficantes\", \"nasa\", \"nasa\", \"naufragio\", \"nave\", \"nave\", \"nave\", \"nave\", \"negociaciones\", \"negociaciones\", \"negociaciones\", \"negociaciones\", \"negociaciones\", \"negociaciones\", \"negociaciones\", \"negociaciones\", \"negociadores\", \"nestor\", \"nestor\", \"nicolas\", \"nicolas\", \"nicolas\", \"nicolas\", \"nicolas\", \"nicolas\", \"nicolas\", \"nicolas\", \"nicolas\", \"nicolas\", \"nicole\", \"nivel\", \"nivel\", \"nivel\", \"nivel\", \"nivel\", \"nivel\", \"nivel\", \"nivel\", \"nivel\", \"nivel\", \"nivel\", \"nivel\", \"niveles\", \"niveles\", \"niveles\", \"niveles\", \"niveles\", \"niveles\", \"niveles\", \"niveles\", \"niveles\", \"niveles\", \"niveles\", \"niveles\", \"nombre\", \"nombre\", \"nombre\", \"nombre\", \"nombre\", \"nombre\", \"nombre\", \"nombre\", \"nombre\", \"nombre\", \"nombre\", \"nombre\", \"novela\", \"novela\", \"nube\", \"nube\", \"numero\", \"numero\", \"numero\", \"numero\", \"numero\", \"numero\", \"numero\", \"numero\", \"numero\", \"numero\", \"numero\", \"numero\", \"obesidad\", \"obispo\", \"obispo\", \"obispos\", \"obra\", \"obra\", \"obra\", \"obra\", \"obra\", \"obra\", \"obra\", \"obra\", \"obra\", \"obra\", \"obra\", \"obra\", \"ocampo\", \"ocampo\", \"oise\", \"operacion\", \"operacion\", \"operacion\", \"operacion\", \"operacion\", \"operacion\", \"operacion\", \"operacion\", \"operacion\", \"operacion\", \"operacion\", \"operacion\", \"operadora\", \"organizacion\", \"organizacion\", \"organizacion\", \"organizacion\", \"organizacion\", \"organizacion\", \"organizacion\", \"organizacion\", \"organizacion\", \"organizacion\", \"organizacion\", \"organizacion\", \"ovulos\", \"pacientes\", \"pacientes\", \"pacientes\", \"pacientes\", \"pacientes\", \"pacientes\", \"pacientes\", \"pacientes\", \"pacientes\", \"padrastro\", \"padre\", \"padre\", \"padre\", \"padre\", \"padre\", \"padre\", \"padre\", \"padre\", \"padre\", \"padre\", \"padre\", \"padre\", \"padres\", \"padres\", \"padres\", \"padres\", \"padres\", \"padres\", \"padres\", \"padres\", \"padres\", \"padres\", \"padres\", \"padres\", \"pagos\", \"pagos\", \"pagos\", \"pagos\", \"pakistani\", \"pakistani\", \"palacio\", \"palacio\", \"palacio\", \"palacio\", \"palacio\", \"palacio\", \"palacio\", \"palacio\", \"palacio\", \"palacio\", \"palacio\", \"palin\", \"papa\", \"papa\", \"papa\", \"papa\", \"papa\", \"papa\", \"papandreu\", \"papeletas\", \"parejas\", \"parejas\", \"parejas\", \"parejas\", \"parlamento\", \"parlamento\", \"parlamento\", \"parlamento\", \"parlamento\", \"parlamento\", \"parlamento\", \"parlamento\", \"parlamento\", \"parlamento\", \"parlamento\", \"parlamento\", \"paro\", \"paro\", \"paro\", \"paro\", \"paro\", \"paro\", \"paro\", \"paro\", \"paro\", \"paro\", \"parque\", \"parque\", \"parque\", \"parque\", \"parque\", \"parque\", \"parque\", \"parque\", \"parque\", \"parque\", \"parte\", \"parte\", \"parte\", \"parte\", \"parte\", \"parte\", \"parte\", \"parte\", \"parte\", \"parte\", \"parte\", \"parte\", \"particulas\", \"partido\", \"partido\", \"partido\", \"partido\", \"partido\", \"partido\", \"partido\", \"partido\", \"partido\", \"partido\", \"partido\", \"partido\", \"partidos\", \"partidos\", \"partidos\", \"partidos\", \"partidos\", \"partidos\", \"partidos\", \"partidos\", \"party\", \"pasajero\", \"pasajeros\", \"pasajeros\", \"pasajeros\", \"pasajeros\", \"pasillo\", \"pasok\", \"pastilla\", \"paulo\", \"paulo\", \"paulo\", \"paz\", \"paz\", \"paz\", \"paz\", \"paz\", \"paz\", \"paz\", \"paz\", \"paz\", \"paz\", \"paz\", \"paz\", \"peces\", \"peces\", \"pecho\", \"pecho\", \"pecho\", \"pecho\", \"pecho\", \"pecho\", \"pecho\", \"pechos\", \"pederasta\", \"pederastia\", \"pena\", \"pena\", \"pena\", \"pena\", \"pena\", \"pena\", \"pena\", \"pena\", \"pena\", \"pena\", \"pene\", \"pensiones\", \"pensiones\", \"pensiones\", \"pensiones\", \"perforacion\", \"personas\", \"personas\", \"personas\", \"personas\", \"personas\", \"personas\", \"personas\", \"personas\", \"personas\", \"personas\", \"personas\", \"personas\", \"petroleum\", \"pib\", \"pib\", \"pib\", \"pib\", \"pietro\", \"pietro\", \"piloto\", \"piloto\", \"piloto\", \"piloto\", \"piloto\", \"piloto\", \"pilotos\", \"pinochet\", \"pintor\", \"piscinas\", \"pistola\", \"pistola\", \"pistolas\", \"pkk\", \"placas\", \"plan\", \"plan\", \"plan\", \"plan\", \"plan\", \"plan\", \"plan\", \"plan\", \"plan\", \"plan\", \"plan\", \"plan\", \"planeta\", \"planeta\", \"planeta\", \"planeta\", \"planeta\", \"planeta\", \"planeta\", \"planeta\", \"planetas\", \"planos\", \"plantaciones\", \"plantilla\", \"plantilla\", \"plaza\", \"plaza\", \"plaza\", \"plaza\", \"plaza\", \"plaza\", \"plaza\", \"plaza\", \"plaza\", \"plaza\", \"plaza\", \"plaza\", \"poblacion\", \"poblacion\", \"poblacion\", \"poblacion\", \"poblacion\", \"poblacion\", \"poblacion\", \"poblacion\", \"poblacion\", \"poblacion\", \"poblacion\", \"poblacion\", \"poder\", \"poder\", \"poder\", \"poder\", \"poder\", \"poder\", \"poder\", \"poder\", \"poder\", \"poder\", \"poder\", \"policia\", \"policia\", \"policia\", \"policia\", \"policia\", \"policia\", \"policia\", \"policia\", \"policia\", \"policia\", \"policia\", \"policias\", \"policias\", \"policias\", \"policias\", \"policias\", \"policias\", \"policias\", \"policias\", \"policias\", \"policias\", \"policias\", \"pontifice\", \"portavoz\", \"portavoz\", \"portavoz\", \"portavoz\", \"portavoz\", \"portavoz\", \"portavoz\", \"portavoz\", \"portavoz\", \"portavoz\", \"portavoz\", \"portavoz\", \"potencias\", \"potencias\", \"potencias\", \"potencias\", \"potencias\", \"pozo\", \"pozo\", \"precios\", \"precios\", \"precios\", \"precios\", \"precios\", \"precios\", \"precios\", \"precios\", \"premio\", \"premio\", \"premio\", \"premio\", \"premio\", \"premio\", \"premio\", \"premio\", \"premio\", \"premio\", \"premio\", \"prensa\", \"prensa\", \"prensa\", \"prensa\", \"prensa\", \"prensa\", \"prensa\", \"prensa\", \"prensa\", \"prensa\", \"prensa\", \"prensa\", \"presidencia\", \"presidencia\", \"presidencia\", \"presidencia\", \"presidencia\", \"presidencia\", \"presidencia\", \"presidencia\", \"presidencia\", \"presidencia\", \"presidencia\", \"presidencia\", \"presidenta\", \"presidenta\", \"presidenta\", \"presidenta\", \"presidenta\", \"presidenta\", \"presidenta\", \"presidenta\", \"presidenta\", \"presidenta\", \"presidenta\", \"presidenta\", \"presidente\", \"presidente\", \"presidente\", \"presidente\", \"presidente\", \"presidente\", \"presidente\", \"presidente\", \"presidente\", \"presidente\", \"presidente\", \"presidente\", \"presos\", \"presos\", \"presos\", \"presos\", \"presos\", \"presos\", \"presos\", \"prestaciones\", \"presupuesto\", \"presupuesto\", \"presupuesto\", \"presupuesto\", \"principe\", \"principe\", \"principe\", \"principe\", \"principe\", \"principe\", \"principe\", \"prision\", \"prision\", \"prision\", \"prision\", \"prision\", \"prision\", \"prision\", \"prision\", \"prision\", \"proceso\", \"proceso\", \"proceso\", \"proceso\", \"proceso\", \"proceso\", \"proceso\", \"proceso\", \"proceso\", \"proceso\", \"proceso\", \"proceso\", \"productos\", \"productos\", \"productos\", \"productos\", \"productos\", \"productos\", \"productos\", \"productos\", \"productos\", \"productos\", \"productos\", \"profundidades\", \"programa\", \"programa\", \"programa\", \"programa\", \"programa\", \"programa\", \"programa\", \"programa\", \"programa\", \"programa\", \"programa\", \"programa\", \"prostitucion\", \"prostitucion\", \"prostitucion\", \"prostitucion\", \"prostitucion\", \"prostituta\", \"protestas\", \"protestas\", \"protestas\", \"protestas\", \"protestas\", \"protestas\", \"protestas\", \"protestas\", \"protestas\", \"protestas\", \"protestas\", \"protestas\", \"provincia\", \"provincia\", \"provincia\", \"provincia\", \"provincia\", \"provincia\", \"provincia\", \"provincia\", \"provincia\", \"provincia\", \"provincia\", \"provincia\", \"proyecto\", \"proyecto\", \"proyecto\", \"proyecto\", \"proyecto\", \"proyecto\", \"proyecto\", \"proyecto\", \"proyecto\", \"proyecto\", \"proyecto\", \"proyecto\", \"psicologo\", \"pueblo\", \"pueblo\", \"pueblo\", \"pueblo\", \"pueblo\", \"pueblo\", \"pueblo\", \"pueblo\", \"pueblo\", \"pueblo\", \"pueblo\", \"pueblo\", \"puerto\", \"puerto\", \"puerto\", \"puerto\", \"puerto\", \"puerto\", \"puerto\", \"puerto\", \"puerto\", \"puerto\", \"pulseras\", \"qaeda\", \"qaeda\", \"querella\", \"querella\", \"querella\", \"rafah\", \"ras\", \"razas\", \"reactor\", \"reactores\", \"reactores\", \"reactores\", \"rebeldes\", \"rebeldes\", \"rebeldes\", \"recaudacion\", \"recetas\", \"recorte\", \"recortes\", \"recortes\", \"referendum\", \"referendum\", \"referendum\", \"reforma\", \"reforma\", \"reforma\", \"reforma\", \"reforma\", \"reforma\", \"reforma\", \"reforma\", \"reforma\", \"refugiados\", \"refugiados\", \"refugiados\", \"refugiados\", \"refugiados\", \"refugiados\", \"refugiados\", \"refugiados\", \"refugiados\", \"refugiados\", \"regimen\", \"regimen\", \"regimen\", \"regimen\", \"regimen\", \"regimen\", \"regimen\", \"regimen\", \"regimen\", \"regimen\", \"regimen\", \"regimenes\", \"regimenes\", \"regimiento\", \"rehenes\", \"rehenes\", \"relaciones\", \"relaciones\", \"relaciones\", \"relaciones\", \"relaciones\", \"relaciones\", \"relaciones\", \"relaciones\", \"relaciones\", \"relaciones\", \"relaciones\", \"relaciones\", \"renta\", \"renta\", \"rentas\", \"repaso\", \"replicas\", \"repliegue\", \"repsol\", \"repsol\", \"rescate\", \"rescate\", \"rescate\", \"rescate\", \"rescate\", \"rescate\", \"rescate\", \"rescate\", \"rescate\", \"restos\", \"restos\", \"restos\", \"restos\", \"restos\", \"restos\", \"restos\", \"restos\", \"restos\", \"resultados\", \"resultados\", \"resultados\", \"resultados\", \"resultados\", \"resultados\", \"resultados\", \"resultados\", \"resultados\", \"resultados\", \"resultados\", \"resultados\", \"reunion\", \"reunion\", \"reunion\", \"reunion\", \"reunion\", \"reunion\", \"reunion\", \"reunion\", \"reunion\", \"reunion\", \"reunion\", \"reunion\", \"revista\", \"revista\", \"revista\", \"revista\", \"revista\", \"revista\", \"revista\", \"revista\", \"revista\", \"revista\", \"revista\", \"revista\", \"revolucion\", \"revolucion\", \"revolucion\", \"revolucion\", \"revolucion\", \"revolucion\", \"revolucion\", \"revolucion\", \"revolucion\", \"rey\", \"rey\", \"rey\", \"rey\", \"rey\", \"rey\", \"rey\", \"rey\", \"rey\", \"rey\", \"rey\", \"richter\", \"rifle\", \"rights\", \"rights\", \"rights\", \"rights\", \"rights\", \"rights\", \"rival\", \"robinson\", \"robinson\", \"romney\", \"rusia\", \"rusia\", \"rusia\", \"rusia\", \"rusia\", \"rusia\", \"rusia\", \"rusia\", \"rusia\", \"rusia\", \"sacerdote\", \"sacerdotes\", \"sacudio\", \"sacudio\", \"sacudio\", \"saharauis\", \"said\", \"saif\", \"salarios\", \"salarios\", \"saleh\", \"salvavidas\", \"sanciones\", \"sanciones\", \"sanciones\", \"sanciones\", \"sanciones\", \"sanciones\", \"sanciones\", \"sanciones\", \"sanciones\", \"sanciones\", \"sao\", \"sao\", \"satelites\", \"science\", \"secretario\", \"secretario\", \"secretario\", \"secretario\", \"secretario\", \"secretario\", \"secretario\", \"secretario\", \"secretario\", \"secretario\", \"secretario\", \"secretario\", \"sector\", \"sector\", \"sector\", \"sector\", \"sector\", \"sector\", \"sector\", \"sector\", \"sector\", \"sector\", \"sector\", \"sector\", \"secuestradores\", \"seguridad\", \"seguridad\", \"seguridad\", \"seguridad\", \"seguridad\", \"seguridad\", \"seguridad\", \"seguridad\", \"seguridad\", \"seguridad\", \"seguridad\", \"seguridad\", \"seismo\", \"seismo\", \"senador\", \"senador\", \"senador\", \"senador\", \"senador\", \"senador\", \"senador\", \"senadores\", \"senadores\", \"senadores\", \"senadores\", \"senadores\", \"senadores\", \"sentencia\", \"sentencia\", \"sentencia\", \"sentencia\", \"sentencia\", \"sentencia\", \"sentencia\", \"sentencia\", \"sentencia\", \"serra\", \"servicio\", \"servicio\", \"servicio\", \"servicio\", \"servicio\", \"servicio\", \"servicio\", \"servicio\", \"servicio\", \"servicio\", \"servicio\", \"servicio\", \"seul\", \"sexo\", \"sexo\", \"sexo\", \"sexo\", \"sexo\", \"sexualidad\", \"shabab\", \"sharia\", \"sharif\", \"sheriff\", \"sicarios\", \"silva\", \"silva\", \"silva\", \"silva\", \"sinai\", \"sindicatos\", \"sindicatos\", \"sindicatos\", \"sindicatos\", \"sindicatos\", \"sindicatos\", \"sindicatos\", \"sinn\", \"sismo\", \"sistema\", \"sistema\", \"sistema\", \"sistema\", \"sistema\", \"sistema\", \"sistema\", \"sistema\", \"sistema\", \"sistema\", \"sistema\", \"sistema\", \"situacion\", \"situacion\", \"situacion\", \"situacion\", \"situacion\", \"situacion\", \"situacion\", \"situacion\", \"situacion\", \"situacion\", \"situacion\", \"situacion\", \"snowden\", \"soberania\", \"sociedad\", \"sociedad\", \"sociedad\", \"sociedad\", \"sociedad\", \"sociedad\", \"sociedad\", \"sociedad\", \"sociedad\", \"sociedad\", \"sociedad\", \"sociedad\", \"socrates\", \"sol\", \"sol\", \"sol\", \"sol\", \"sol\", \"sol\", \"sol\", \"sol\", \"sol\", \"sol\", \"sol\", \"soldados\", \"soldados\", \"soldados\", \"soldados\", \"soldados\", \"soldados\", \"soldados\", \"soldados\", \"soldados\", \"soldados\", \"soldados\", \"soldados\", \"solucion\", \"solucion\", \"solucion\", \"solucion\", \"solucion\", \"solucion\", \"solucion\", \"solucion\", \"solucion\", \"solucion\", \"solucion\", \"solucion\", \"somali\", \"sondeo\", \"sondeo\", \"sondeos\", \"sorpresas\", \"sotano\", \"sotano\", \"spiegel\", \"stanley\", \"subasta\", \"subasta\", \"sufragios\", \"superficie\", \"superficie\", \"superficie\", \"superficie\", \"superficie\", \"superficie\", \"superficie\", \"suu\", \"tampa\", \"tasa\", \"tasa\", \"tasa\", \"tasa\", \"tasa\", \"tasa\", \"tasa\", \"tasa\", \"tasa\", \"tasa\", \"taylor\", \"taylor\", \"taylor\", \"telescopio\", \"temblor\", \"temblor\", \"temblores\", \"temperatura\", \"temperatura\", \"temperatura\", \"temperaturas\", \"temperaturas\", \"temperaturas\", \"temperaturas\", \"terremoto\", \"terremoto\", \"terremoto\", \"terremotos\", \"terremotos\", \"terremotos\", \"terroristas\", \"terroristas\", \"terroristas\", \"terroristas\", \"terroristas\", \"terroristas\", \"terroristas\", \"terroristas\", \"terroristas\", \"tesorero\", \"tibet\", \"tiburones\", \"tiempo\", \"tiempo\", \"tiempo\", \"tiempo\", \"tiempo\", \"tiempo\", \"tiempo\", \"tiempo\", \"tiempo\", \"tiempo\", \"tiempo\", \"tiempo\", \"tierra\", \"tierra\", \"tierra\", \"tierra\", \"tierra\", \"tierra\", \"tierra\", \"tierra\", \"tierra\", \"tierra\", \"tierra\", \"tierra\", \"tigre\", \"tigre\", \"tigres\", \"timoshenko\", \"tipo\", \"tipo\", \"tipo\", \"tipo\", \"tipo\", \"tipo\", \"tipo\", \"tipo\", \"tipo\", \"tipo\", \"tipo\", \"tipo\", \"tiro\", \"tiro\", \"tiro\", \"tiro\", \"tiro\", \"tiro\", \"tiro\", \"tiroteo\", \"tiroteo\", \"toneladas\", \"toneladas\", \"toneladas\", \"toneladas\", \"toneladas\", \"toneladas\", \"toneladas\", \"toneladas\", \"toneladas\", \"tormenta\", \"tormenta\", \"tormenta\", \"tormenta\", \"tormenta\", \"tormenta\", \"tormenta\", \"tormenta\", \"tormenta\", \"tortura\", \"tortura\", \"tortura\", \"tortura\", \"tortura\", \"torturas\", \"torturas\", \"torturas\", \"torturas\", \"torturas\", \"torturas\", \"toulouse\", \"toulouse\", \"trabajadores\", \"trabajadores\", \"trabajadores\", \"trabajadores\", \"trabajadores\", \"trabajadores\", \"trabajadores\", \"trabajadores\", \"trabajadores\", \"trabajadores\", \"trabajadores\", \"trabajadores\", \"trabajo\", \"trabajo\", \"trabajo\", \"trabajo\", \"trabajo\", \"trabajo\", \"trabajo\", \"trabajo\", \"trabajo\", \"trabajo\", \"trabajo\", \"trabajo\", \"tragedias\", \"transbordador\", \"transicion\", \"transicion\", \"transicion\", \"transicion\", \"transicion\", \"transicion\", \"transicion\", \"transicion\", \"transicion\", \"transmitio\", \"transporte\", \"transporte\", \"transporte\", \"transporte\", \"transporte\", \"transporte\", \"transporte\", \"transporte\", \"transporte\", \"transporte\", \"transporte\", \"transporte\", \"transportes\", \"transportes\", \"transportes\", \"transportes\", \"transportes\", \"transportes\", \"tren\", \"tren\", \"tren\", \"tren\", \"tren\", \"tren\", \"tren\", \"trenes\", \"trenes\", \"trenes\", \"trenes\", \"trenes\", \"triangulo\", \"tribunal\", \"tribunal\", \"tribunal\", \"tribunal\", \"tribunal\", \"tribunal\", \"tribunal\", \"tribunal\", \"tribunal\", \"tribunal\", \"trimestre\", \"trimestre\", \"trimestre\", \"trimestre\", \"triunfo\", \"triunfo\", \"triunfo\", \"triunfo\", \"triunfo\", \"triunfo\", \"triunfo\", \"trump\", \"trump\", \"trump\", \"trump\", \"trump\", \"trump\", \"trump\", \"trump\", \"trump\", \"trump\", \"trump\", \"trump\", \"tsunami\", \"tuberculosis\", \"tumor\", \"turcos\", \"turistas\", \"turistas\", \"turistas\", \"turistas\", \"turistas\", \"turistas\", \"turistas\", \"turistas\", \"turistas\", \"unicef\", \"unicef\", \"unicef\", \"unicef\", \"unicef\", \"union\", \"union\", \"union\", \"union\", \"union\", \"union\", \"union\", \"union\", \"union\", \"union\", \"union\", \"union\", \"uniones\", \"uniones\", \"universidad\", \"universidad\", \"universidad\", \"universidad\", \"universidad\", \"universidad\", \"universidad\", \"universidad\", \"universidad\", \"universidad\", \"universidad\", \"universidad\", \"uralde\", \"urna\", \"urnas\", \"urnas\", \"urnas\", \"urnas\", \"vacunas\", \"vagones\", \"valle\", \"vargas\", \"vargas\", \"vargas\", \"veces\", \"veces\", \"veces\", \"veces\", \"veces\", \"veces\", \"veces\", \"veces\", \"veces\", \"veces\", \"veces\", \"veces\", \"vegas\", \"vegas\", \"vegas\", \"velasco\", \"velo\", \"velo\", \"velocidad\", \"velocidad\", \"velocidad\", \"velocidad\", \"velocidad\", \"velocidad\", \"velocidad\", \"velocidad\", \"velocidad\", \"velocidad\", \"vencedor\", \"vencedor\", \"vendedor\", \"venezuela\", \"venezuela\", \"venezuela\", \"venezuela\", \"venezuela\", \"venezuela\", \"venezuela\", \"venezuela\", \"venezuela\", \"vertido\", \"vez\", \"vez\", \"vez\", \"vez\", \"vez\", \"vez\", \"vez\", \"vez\", \"vez\", \"vez\", \"vez\", \"vez\", \"viajeros\", \"vicepresidente\", \"vicepresidente\", \"vicepresidente\", \"vicepresidente\", \"vicepresidente\", \"vicepresidente\", \"vicepresidente\", \"vicepresidente\", \"vicepresidente\", \"vicepresidente\", \"vicepresidente\", \"vicepresidente\", \"victoria\", \"victoria\", \"victoria\", \"victoria\", \"victoria\", \"victoria\", \"victoria\", \"victoria\", \"victoria\", \"victoria\", \"victoria\", \"victoria\", \"vida\", \"vida\", \"vida\", \"vida\", \"vida\", \"vida\", \"vida\", \"vida\", \"vida\", \"vida\", \"vida\", \"vida\", \"videla\", \"video\", \"video\", \"video\", \"video\", \"video\", \"video\", \"video\", \"video\", \"video\", \"video\", \"video\", \"video\", \"viernes\", \"viernes\", \"viernes\", \"viernes\", \"viernes\", \"viernes\", \"viernes\", \"viernes\", \"viernes\", \"viernes\", \"viernes\", \"viernes\", \"vih\", \"vih\", \"violaciones\", \"violaciones\", \"violaciones\", \"violaciones\", \"violaciones\", \"violaciones\", \"violaciones\", \"violaciones\", \"violaciones\", \"violencia\", \"violencia\", \"violencia\", \"violencia\", \"violencia\", \"violencia\", \"violencia\", \"violencia\", \"violencia\", \"violencia\", \"violencia\", \"virus\", \"virus\", \"virus\", \"virus\", \"virus\", \"viviendas\", \"viviendas\", \"viviendas\", \"viviendas\", \"viviendas\", \"viviendas\", \"viviendas\", \"viviendas\", \"viviendas\", \"viviendas\", \"votaciones\", \"votaciones\", \"votantes\", \"votantes\", \"votantes\", \"voto\", \"voto\", \"voto\", \"voto\", \"voto\", \"votos\", \"votos\", \"votos\", \"votos\", \"votos\", \"votos\", \"vuelo\", \"vuelo\", \"vuelo\", \"vuelo\", \"vuelos\", \"vuelos\", \"vuelos\", \"vuelta\", \"vuelta\", \"vuelta\", \"vuelta\", \"vuelta\", \"vuelta\", \"vuelta\", \"vuelta\", \"vuelta\", \"vuelta\", \"vuelta\", \"vuelta\", \"webs\", \"wen\", \"wikileaks\", \"wikileaks\", \"wikileaks\", \"wikileaks\", \"wikileaks\", \"wulff\", \"xvi\", \"xvi\", \"yacimiento\", \"yacimiento\", \"yihad\", \"yihad\", \"yihad\", \"yihad\", \"zapata\", \"zawahiri\", \"zelaya\", \"zona\", \"zona\", \"zona\", \"zona\", \"zona\", \"zona\", \"zona\", \"zona\", \"zona\", \"zona\", \"zona\", \"zona\", \"zonas\", \"zonas\", \"zonas\", \"zonas\", \"zonas\", \"zonas\", \"zonas\", \"zonas\", \"zonas\", \"zonas\", \"zonas\", \"zonas\"]}, \"R\": 30, \"lambda.step\": 0.01, \"plot.opts\": {\"xlab\": \"PC1\", \"ylab\": \"PC2\"}, \"topic.order\": [11, 8, 9, 7, 3, 5, 1, 4, 6, 10, 2, 12]};\n",
              "\n",
              "function LDAvis_load_lib(url, callback){\n",
              "  var s = document.createElement('script');\n",
              "  s.src = url;\n",
              "  s.async = true;\n",
              "  s.onreadystatechange = s.onload = callback;\n",
              "  s.onerror = function(){console.warn(\"failed to load library \" + url);};\n",
              "  document.getElementsByTagName(\"head\")[0].appendChild(s);\n",
              "}\n",
              "\n",
              "if(typeof(LDAvis) !== \"undefined\"){\n",
              "   // already loaded: just create the visualization\n",
              "   !function(LDAvis){\n",
              "       new LDAvis(\"#\" + \"ldavis_el1411399036466159769594658638\", ldavis_el1411399036466159769594658638_data);\n",
              "   }(LDAvis);\n",
              "}else if(typeof define === \"function\" && define.amd){\n",
              "   // require.js is available: use it to load d3/LDAvis\n",
              "   require.config({paths: {d3: \"https://cdnjs.cloudflare.com/ajax/libs/d3/3.5.5/d3.min\"}});\n",
              "   require([\"d3\"], function(d3){\n",
              "      window.d3 = d3;\n",
              "      LDAvis_load_lib(\"https://cdn.rawgit.com/bmabey/pyLDAvis/files/ldavis.v1.0.0.js\", function(){\n",
              "        new LDAvis(\"#\" + \"ldavis_el1411399036466159769594658638\", ldavis_el1411399036466159769594658638_data);\n",
              "      });\n",
              "    });\n",
              "}else{\n",
              "    // require.js not available: dynamically load d3 & LDAvis\n",
              "    LDAvis_load_lib(\"https://cdnjs.cloudflare.com/ajax/libs/d3/3.5.5/d3.min.js\", function(){\n",
              "         LDAvis_load_lib(\"https://cdn.rawgit.com/bmabey/pyLDAvis/files/ldavis.v1.0.0.js\", function(){\n",
              "                 new LDAvis(\"#\" + \"ldavis_el1411399036466159769594658638\", ldavis_el1411399036466159769594658638_data);\n",
              "            })\n",
              "         });\n",
              "}\n",
              "</script>"
            ],
            "text/plain": [
              "PreparedData(topic_coordinates=              x         y  topics  cluster       Freq\n",
              "topic                                                \n",
              "10     0.164616 -0.039300       1        1  15.092861\n",
              "7     -0.094997  0.150723       2        1  11.203745\n",
              "8      0.081717 -0.172475       3        1  10.792636\n",
              "6      0.209895 -0.029190       4        1   9.424135\n",
              "2     -0.046365  0.175446       5        1   9.155202\n",
              "4      0.050707  0.041558       6        1   7.767630\n",
              "0      0.053810  0.083899       7        1   7.560819\n",
              "3      0.150874  0.095943       8        1   7.209678\n",
              "5     -0.188604 -0.003763       9        1   6.290334\n",
              "9     -0.150967 -0.077836      10        1   5.600895\n",
              "1     -0.067910 -0.221784      11        1   5.066353\n",
              "11    -0.162777 -0.003220      12        1   4.835713, topic_info=      Category          Freq         Term         Total  loglift  logprob\n",
              "44     Default  37172.000000   presidente  37172.000000  30.0000  30.0000\n",
              "42     Default  15402.000000      partido  15402.000000  29.0000  29.0000\n",
              "38     Default  21162.000000     millones  21162.000000  28.0000  28.0000\n",
              "87     Default  10230.000000   elecciones  10230.000000  27.0000  27.0000\n",
              "172    Default  30382.000000     personas  30382.000000  26.0000  26.0000\n",
              "278    Default  13790.000000      policia  13790.000000  25.0000  25.0000\n",
              "207    Default  10019.000000        euros  10019.000000  24.0000  24.0000\n",
              "691    Default  13704.000000      fuerzas  13704.000000  23.0000  23.0000\n",
              "25     Default  39332.000000     gobierno  39332.000000  22.0000  22.0000\n",
              "275    Default   7521.000000      mujeres   7521.000000  21.0000  21.0000\n",
              "911    Default   7960.000000     derechos   7960.000000  20.0000  20.0000\n",
              "357    Default  21484.000000    seguridad  21484.000000  19.0000  19.0000\n",
              "491    Default  15885.000000       ciudad  15885.000000  18.0000  18.0000\n",
              "1361   Default   4092.000000   aeropuerto   4092.000000  17.0000  17.0000\n",
              "274    Default   7686.000000        mujer   7686.000000  16.0000  16.0000\n",
              "215    Default  23000.000000     ministro  23000.000000  15.0000  15.0000\n",
              "1697   Default   4611.000000        votos   4611.000000  14.0000  14.0000\n",
              "1364   Default   3319.000000        avion   3319.000000  13.0000  13.0000\n",
              "476    Default  10630.000000         zona  10630.000000  12.0000  12.0000\n",
              "577    Default   7389.000000       ataque   7389.000000  11.0000  11.0000\n",
              "917    Default   4632.000000      humanos   4632.000000  10.0000  10.0000\n",
              "624    Default   3431.000000    accidente   3431.000000   9.0000   9.0000\n",
              "169    Default  10689.000000       muerte  10689.000000   8.0000   8.0000\n",
              "142    Default  15894.000000  autoridades  15894.000000   7.0000   7.0000\n",
              "78     Default   9437.000000      consejo   9437.000000   6.0000   6.0000\n",
              "2052   Default   4979.000000      rescate   4979.000000   5.0000   5.0000\n",
              "955    Default   5137.000000         agua   5137.000000   4.0000   4.0000\n",
              "73     Default   3646.000000    candidato   3646.000000   3.0000   3.0000\n",
              "2246   Default   3213.000000         papa   3213.000000   2.0000   2.0000\n",
              "456    Default   6633.000000       hombre   6633.000000   1.0000   1.0000\n",
              "...        ...           ...          ...           ...      ...      ...\n",
              "9232   Topic12    348.048676      subasta    362.547974   2.9883  -6.3464\n",
              "771    Topic12   1318.559082   transporte   1921.118286   2.6528  -5.0145\n",
              "1667   Topic12    454.936066  transportes    549.985474   2.8394  -6.0786\n",
              "2633   Topic12    461.461609   accidentes    564.017700   2.8285  -6.0644\n",
              "2486   Topic12   1398.079102      aviones   2365.981201   2.5030  -4.9559\n",
              "256    Topic12    629.338440    velocidad    858.888550   2.7182  -5.7541\n",
              "217    Topic12    652.947327    pacientes    969.692871   2.6337  -5.7173\n",
              "6194   Topic12    333.069916     billetes    387.221069   2.8785  -6.3904\n",
              "205    Topic12   1040.928467   enfermedad   2021.097900   2.3656  -5.2509\n",
              "11876  Topic12    605.434998    reactores    960.900635   2.5672  -5.7928\n",
              "430    Topic12   2399.885254        horas  13028.529297   1.3374  -4.4156\n",
              "685    Topic12    737.532043      destino   1557.528564   2.2816  -5.5955\n",
              "790    Topic12   1732.141113         hora   8920.253906   1.3902  -4.7417\n",
              "412    Topic12   1096.909180     servicio   3785.522705   1.7905  -5.1985\n",
              "6024   Topic12    908.554688       huelga   2667.220215   1.9522  -5.3869\n",
              "687    Topic12    814.348083      espacio   2245.567139   2.0148  -5.4964\n",
              "142    Topic12   1876.375977  autoridades  15894.876953   0.8925  -4.6617\n",
              "357    Topic12   2104.732178    seguridad  21484.742188   0.7060  -4.5468\n",
              "147    Topic12   1133.463013        casos   5537.052734   1.4430  -5.1658\n",
              "172    Topic12   1792.283203     personas  30382.035156   0.1988  -4.7075\n",
              "381    Topic12   1279.273682     portavoz  10978.126953   0.8795  -5.0447\n",
              "39     Topic12   1092.715332      momento  12531.386719   0.5896  -5.2024\n",
              "507    Topic12   1052.605713        lunes  13369.967773   0.4874  -5.2398\n",
              "434    Topic12   1020.556702       martes  12580.921875   0.5173  -5.2707\n",
              "1163   Topic12    876.556702      control   5599.719727   1.1747  -5.4228\n",
              "97     Topic12    957.235046      fuentes  12520.166016   0.4581  -5.3347\n",
              "121    Topic12    948.487915        parte  23174.248047  -0.1668  -5.3439\n",
              "837    Topic12    823.979492      agencia   6219.051270   1.0079  -5.4846\n",
              "225    Topic12    859.214722      viernes  12762.820312   0.3309  -5.4428\n",
              "491    Topic12    819.328613       ciudad  15885.941406   0.0644  -5.4903\n",
              "\n",
              "[997 rows x 6 columns], token_table=       Topic      Freq      Term\n",
              "term                            \n",
              "16103      5  0.017058     aaiun\n",
              "16103      9  0.980819     aaiun\n",
              "1577       1  0.991733      abas\n",
              "1577       4  0.002624      abas\n",
              "1577       7  0.003935      abas\n",
              "3040       2  0.996585    abdala\n",
              "295        1  0.003774   abogado\n",
              "295        3  0.008177   abogado\n",
              "295        4  0.020758   abogado\n",
              "295        5  0.203801   abogado\n",
              "295        6  0.067305   abogado\n",
              "295        7  0.548502   abogado\n",
              "295        8  0.146561   abogado\n",
              "295        9  0.001258   abogado\n",
              "477        3  0.021531  abogados\n",
              "477        4  0.005556  abogados\n",
              "477        5  0.043062  abogados\n",
              "477        6  0.060426  abogados\n",
              "477        7  0.677183  abogados\n",
              "477        8  0.191000  abogados\n",
              "477        9  0.000695  abogados\n",
              "477       12  0.000695  abogados\n",
              "4687       1  0.001995    aborto\n",
              "4687       3  0.003991    aborto\n",
              "4687       4  0.011973    aborto\n",
              "4687       5  0.005986    aborto\n",
              "4687       6  0.971781    aborto\n",
              "4687       7  0.001995    aborto\n",
              "4687       8  0.001995    aborto\n",
              "479        1  0.002243    abusos\n",
              "...      ...       ...       ...\n",
              "5941       2  0.975144     yihad\n",
              "5941       5  0.004600     yihad\n",
              "5941       8  0.004600     yihad\n",
              "27914      8  0.996079    zapata\n",
              "13985      2  0.991592  zawahiri\n",
              "24705      4  0.992423    zelaya\n",
              "476        1  0.062086      zona\n",
              "476        2  0.331971      zona\n",
              "476        3  0.046564      zona\n",
              "476        4  0.000282      zona\n",
              "476        5  0.017403      zona\n",
              "476        6  0.000658      zona\n",
              "476        7  0.017403      zona\n",
              "476        8  0.000564      zona\n",
              "476        9  0.267722      zona\n",
              "476       10  0.170642      zona\n",
              "476       11  0.017591      zona\n",
              "476       12  0.066978      zona\n",
              "193        1  0.018545     zonas\n",
              "193        2  0.208765     zonas\n",
              "193        3  0.012187     zonas\n",
              "193        4  0.001590     zonas\n",
              "193        5  0.000530     zonas\n",
              "193        6  0.001325     zonas\n",
              "193        7  0.099084     zonas\n",
              "193        8  0.000265     zonas\n",
              "193        9  0.056430     zonas\n",
              "193       10  0.504692     zonas\n",
              "193       11  0.070207     zonas\n",
              "193       12  0.026493     zonas\n",
              "\n",
              "[4573 rows x 3 columns], R=30, lambda_step=0.01, plot_opts={'xlab': 'PC1', 'ylab': 'PC2'}, topic_order=[11, 8, 9, 7, 3, 5, 1, 4, 6, 10, 2, 12])"
            ]
          },
          "metadata": {
            "tags": []
          },
          "execution_count": 78
        }
      ]
    }
  ]
}